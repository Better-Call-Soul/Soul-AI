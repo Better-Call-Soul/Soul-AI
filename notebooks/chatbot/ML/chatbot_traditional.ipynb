{
  "cells": [
    {
      "cell_type": "code",
      "execution_count": 39,
      "metadata": {
        "_cell_guid": "b1076dfc-b9ad-4769-8c92-a6c4dae69d19",
        "_uuid": "8f2839f25d086af736a60e9eeb907d3b93b6e0e5",
        "id": "LJRGUVQNGmj1",
        "trusted": true
      },
      "outputs": [],
      "source": [
        "import numpy as np\n",
        "import pandas as pd\n",
        "import json\n",
        "from sklearn.feature_extraction.text import CountVectorizer\n",
        "from scipy.spatial import distance\n",
        "import random"
      ]
    },
    {
      "cell_type": "markdown",
      "metadata": {
        "id": "hnZG3A-HMpG3"
      },
      "source": [
        "# Importing Dataset"
      ]
    },
    {
      "cell_type": "code",
      "execution_count": 18,
      "metadata": {
        "_cell_guid": "79c7e3d0-c299-4dcb-8224-4455121ee9b0",
        "_uuid": "d629ff2d2480ee46fbb7e2d37f6b5fab8052498a",
        "id": "4clxJGEKGmj2",
        "trusted": true
      },
      "outputs": [],
      "source": [
        "import warnings\n",
        "warnings.filterwarnings('ignore')\n",
        "\n",
        "with open('/content/input.json', 'r') as f:\n",
        "    data = json.load(f)\n",
        "\n",
        "df = pd.DataFrame(data['intents'])"
      ]
    },
    {
      "cell_type": "markdown",
      "metadata": {
        "id": "Cy8DHRNdGmj3"
      },
      "source": [
        "# Mapping Dataset"
      ]
    },
    {
      "cell_type": "code",
      "execution_count": 19,
      "metadata": {
        "id": "3oGci6gnGmj3",
        "trusted": true
      },
      "outputs": [],
      "source": [
        "def map_tag_pattern(df, tag_col, text_col, res_col):\n",
        "  dic = {tag_col:[], text_col:[], res_col:[]}\n",
        "\n",
        "  for index, item in df.iterrows():\n",
        "      ptrns = item[text_col]\n",
        "      rspns = item[res_col]\n",
        "      tag = item[tag_col]\n",
        "      for j in range(len(ptrns)):\n",
        "          dic[tag_col].append(tag)\n",
        "          dic[text_col].append(ptrns[j])\n",
        "          dic[res_col].append(rspns)\n",
        "\n",
        "  return pd.DataFrame.from_dict(dic)\n",
        "\n",
        "dataset = map_tag_pattern(df, \"tag\", \"patterns\", \"responses\")"
      ]
    },
    {
      "cell_type": "markdown",
      "metadata": {
        "id": "V5F38oZpGmj3"
      },
      "source": [
        "# Cosine Distance for Similarity of Texts"
      ]
    },
    {
      "cell_type": "code",
      "execution_count": 20,
      "metadata": {
        "id": "niG6-meRGmj3",
        "trusted": true
      },
      "outputs": [],
      "source": [
        "def cosine_distance_countvectorizer_method(s1, s2):\n",
        "    # sentences to list\n",
        "    allsentences = [s1 , s2]\n",
        "\n",
        "    # text to vector\n",
        "    vectorizer = CountVectorizer()\n",
        "    all_sentences_to_vector = vectorizer.fit_transform(allsentences)\n",
        "    text_to_vector_v1 = all_sentences_to_vector.toarray()[0].tolist()\n",
        "    text_to_vector_v2 = all_sentences_to_vector.toarray()[1].tolist()\n",
        "\n",
        "    # distance of similarity\n",
        "    cosine = distance.cosine(text_to_vector_v1, text_to_vector_v2)\n",
        "    return round((1-cosine),2)"
      ]
    },
    {
      "cell_type": "markdown",
      "metadata": {
        "id": "HcG5yIWUGmj3"
      },
      "source": [
        "# Finding Response"
      ]
    },
    {
      "cell_type": "code",
      "execution_count": 36,
      "metadata": {
        "id": "xm7H-hwCGmj4",
        "trusted": true
      },
      "outputs": [],
      "source": [
        "# def respond(text):\n",
        "#     maximum = float('-inf')\n",
        "#     responses = []\n",
        "#     closest = \"\"\n",
        "#     closest_response = \"\"\n",
        "#     for i in dataset.iterrows():\n",
        "#         sim = cosine_distance_countvectorizer_method(text, i[1]['patterns'])\n",
        "#         if sim > maximum:\n",
        "#             maximum = sim\n",
        "#             response_maximum = float('-inf')\n",
        "#             responses = i[1]['responses']\n",
        "#             for response in responses:\n",
        "#                 response_sim = cosine_distance_countvectorizer_method(text, response)\n",
        "#                 if response_sim > response_maximum:\n",
        "#                   response_maximum = response_sim\n",
        "#                   closest_response = response\n",
        "#             closest = i[1]['patterns']\n",
        "#     return closest_response"
      ]
    },
    {
      "cell_type": "code",
      "execution_count": 40,
      "metadata": {
        "id": "FUV4ZfcjOVZs"
      },
      "outputs": [],
      "source": [
        "def respond(text):\n",
        "    maximum = float('-inf')\n",
        "    responses = []\n",
        "    for i in dataset.iterrows():\n",
        "        sim = cosine_distance_countvectorizer_method(text, i[1]['patterns'])\n",
        "        if sim > maximum:\n",
        "            maximum = sim\n",
        "            responses = i[1]['responses']\n",
        "            response = random.choice(responses)\n",
        "            closest = i[1]['patterns']\n",
        "    return response"
      ]
    },
    {
      "cell_type": "markdown",
      "metadata": {
        "id": "P8glJKVcGmj4"
      },
      "source": [
        "# Chat"
      ]
    },
    {
      "cell_type": "code",
      "execution_count": 45,
      "metadata": {
        "colab": {
          "base_uri": "https://localhost:8080/"
        },
        "id": "-KkSxbjmGmj4",
        "outputId": "0e8356b6-c669-4ec6-ae8c-495e2fe88014",
        "trusted": true
      },
      "outputs": [
        {
          "name": "stdout",
          "output_type": "stream",
          "text": [
            "Input: (press 'q' to quit) hi\n",
            "Response: Hi there. How are you feeling today?\n",
            "Input: (press 'q' to quit) good morning\n",
            "Response: Good morning. I hope you had a good night's sleep. How are you feeling today? \n",
            "Input: (press 'q' to quit) who are you?\n",
            "Response: Please don't hesitate to talk to me.\n",
            "Input: (press 'q' to quit) tell me your name\n",
            "Response: Not sure I understand that.\n",
            "Input: (press 'q' to quit) i'm feeling so sad lately\n",
            "Response: Sorry, I didn't understand you.\n",
            "Input: (press 'q' to quit) shut up\n",
            "Response: Sorry, I didn't understand you.\n",
            "Input: (press 'q' to quit) shhhhh\n",
            "Response: Sorry, I didn't understand you.\n",
            "Input: (press 'q' to quit) q\n",
            "Response: Exiting.....\n"
          ]
        }
      ],
      "source": [
        "while True:\n",
        "    text = str(input(\"Input: (press 'q' to quit) \"))\n",
        "    if text.lower() == \"q\":\n",
        "        print(\"Response: Exiting.....\")\n",
        "        break\n",
        "    print(\"Response:\",respond(text))"
      ]
    },
    {
      "cell_type": "code",
      "execution_count": null,
      "metadata": {
        "id": "3Yi-YCm3OioE"
      },
      "outputs": [],
      "source": []
    }
  ],
  "metadata": {
    "colab": {
      "provenance": []
    },
    "kaggle": {
      "accelerator": "none",
      "dataSources": [
        {
          "datasetId": 935560,
          "sourceId": 1582026,
          "sourceType": "datasetVersion"
        }
      ],
      "dockerImageVersionId": 30035,
      "isGpuEnabled": false,
      "isInternetEnabled": true,
      "language": "python",
      "sourceType": "notebook"
    },
    "kernelspec": {
      "display_name": "Python 3",
      "language": "python",
      "name": "python3"
    },
    "language_info": {
      "codemirror_mode": {
        "name": "ipython",
        "version": 3
      },
      "file_extension": ".py",
      "mimetype": "text/x-python",
      "name": "python",
      "nbconvert_exporter": "python",
      "pygments_lexer": "ipython3",
      "version": "3.6.4"
    }
  },
  "nbformat": 4,
  "nbformat_minor": 0
}
