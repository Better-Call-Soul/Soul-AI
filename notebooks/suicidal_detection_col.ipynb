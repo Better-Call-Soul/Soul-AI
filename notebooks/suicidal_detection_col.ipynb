{
  "cells": [
    {
      "cell_type": "code",
      "execution_count": 1,
      "metadata": {
        "colab": {
          "base_uri": "https://localhost:8080/"
        },
        "id": "5EUi9GNFs0Xk",
        "outputId": "e8f6a3dd-e77b-4bf0-fa68-2b00476a5424"
      },
      "outputs": [
        {
          "output_type": "stream",
          "name": "stdout",
          "text": [
            "Drive not mounted, so nothing to flush and unmount.\n",
            "Mounted at /content/drive\n",
            "Mounted at /content/drive\n",
            "Mounted at /content/drive\n",
            "Mounted at /content/drive\n",
            "Mounted at /content/drive\n",
            "Mounted at /content/drive\n",
            "Mounted at /content/drive\n",
            "Mounted at /content/drive\n",
            "Mounted at /content/drive\n",
            "Mounted at /content/drive\n",
            "Mounted at /content/drive\n"
          ]
        }
      ],
      "source": [
        "from google.colab import drive\n",
        "drive.flush_and_unmount()\n",
        "drive.mount('/content/drive', force_remount=True)\n",
        "n=10\n",
        "for i in range(0,n):\n",
        "  try:\n",
        "    drive.mount('/content/drive', force_remount=True)\n",
        "  except:\n",
        "    pass"
      ]
    },
    {
      "cell_type": "markdown",
      "metadata": {
        "id": "PsUX_m52quF4"
      },
      "source": [
        "# Define the location for the data set and Glove for embedding\n"
      ]
    },
    {
      "cell_type": "code",
      "execution_count": 2,
      "metadata": {
        "id": "kuH_hu9hquF5"
      },
      "outputs": [],
      "source": [
        "# The folder of the data set\n",
        "dataset_path = '/content/drive/MyDrive/Graduation-Project/Phase 2/suicidal_detection'\n",
        "# The folder for the models\n",
        "model_path = '/content/drive/MyDrive/Graduation-Project/Phase 2/suicidal_detection/models'\n",
        "# The folder where Glove is installed\n",
        "TORCHNLP_CACHEDIR = f'{model_path}/Glove/pytorch-nlp_data'"
      ]
    },
    {
      "cell_type": "markdown",
      "metadata": {
        "id": "-oQH9bvuquF6"
      },
      "source": [
        "# Define the Global Variables\n"
      ]
    },
    {
      "cell_type": "code",
      "execution_count": 3,
      "metadata": {
        "id": "gbRYPMOFquF7"
      },
      "outputs": [],
      "source": [
        "isTrain = True\n",
        "split_seed = 10\n",
        "seed = 2\n",
        "data_path = f\"{dataset_path}/Suicide_Detection_Reddit.csv\"\n",
        "\n",
        "train_preprocess = f\"{dataset_path}/train/dialogues_train_preprocess.pkl\"\n",
        "\n",
        "dev_preprocess = f\"{dataset_path}/validation/dialogues_validation_preprocess.pkl\"\n",
        "\n",
        "test_preprocess = f\"{dataset_path}/test/dialogues_test_preprocess.pkl\"\n",
        "\n",
        "model_save_path = f\"{model_path}/model_20E_final.pt\"\n",
        "\n",
        "batch_size = 64\n",
        "\n",
        "embedding_size = 300\n",
        "lstm_hidden_size = 20\n",
        "hidden_layer_size = 256\n",
        "cnn_layer_size = 1\n",
        "class_layer = 1\n",
        "\n",
        "classification_threshold = 0.4\n",
        "\n",
        "learning_rate = 0.1\n",
        "epochs = 10\n",
        "num_classes = 2\n",
        "\n",
        "momentum = 0.09"
      ]
    },
    {
      "cell_type": "markdown",
      "metadata": {
        "id": "-NAchKqlquF7"
      },
      "source": [
        "# Imports\n"
      ]
    },
    {
      "cell_type": "code",
      "execution_count": 4,
      "metadata": {
        "id": "kYfAtrTVquF7",
        "colab": {
          "base_uri": "https://localhost:8080/"
        },
        "outputId": "da8186a7-a8a2-453c-fdef-e657a4aa43ba"
      },
      "outputs": [
        {
          "output_type": "stream",
          "name": "stdout",
          "text": [
            "\u001b[2K     \u001b[90m━━━━━━━━━━━━━━━━━━━━━━━━━━━━━━━━━━━━━━━━\u001b[0m \u001b[32m90.1/90.1 kB\u001b[0m \u001b[31m3.5 MB/s\u001b[0m eta \u001b[36m0:00:00\u001b[0m\n",
            "\u001b[2K     \u001b[90m━━━━━━━━━━━━━━━━━━━━━━━━━━━━━━━━━━━━━━━━\u001b[0m \u001b[32m23.7/23.7 MB\u001b[0m \u001b[31m64.4 MB/s\u001b[0m eta \u001b[36m0:00:00\u001b[0m\n",
            "\u001b[2K     \u001b[90m━━━━━━━━━━━━━━━━━━━━━━━━━━━━━━━━━━━━━━━━\u001b[0m \u001b[32m823.6/823.6 kB\u001b[0m \u001b[31m60.3 MB/s\u001b[0m eta \u001b[36m0:00:00\u001b[0m\n",
            "\u001b[2K     \u001b[90m━━━━━━━━━━━━━━━━━━━━━━━━━━━━━━━━━━━━━━━━\u001b[0m \u001b[32m14.1/14.1 MB\u001b[0m \u001b[31m99.4 MB/s\u001b[0m eta \u001b[36m0:00:00\u001b[0m\n",
            "\u001b[2K     \u001b[90m━━━━━━━━━━━━━━━━━━━━━━━━━━━━━━━━━━━━━━━━\u001b[0m \u001b[32m731.7/731.7 MB\u001b[0m \u001b[31m1.2 MB/s\u001b[0m eta \u001b[36m0:00:00\u001b[0m\n",
            "\u001b[2K     \u001b[90m━━━━━━━━━━━━━━━━━━━━━━━━━━━━━━━━━━━━━━━━\u001b[0m \u001b[32m410.6/410.6 MB\u001b[0m \u001b[31m3.3 MB/s\u001b[0m eta \u001b[36m0:00:00\u001b[0m\n",
            "\u001b[2K     \u001b[90m━━━━━━━━━━━━━━━━━━━━━━━━━━━━━━━━━━━━━━━━\u001b[0m \u001b[32m121.6/121.6 MB\u001b[0m \u001b[31m8.3 MB/s\u001b[0m eta \u001b[36m0:00:00\u001b[0m\n",
            "\u001b[2K     \u001b[90m━━━━━━━━━━━━━━━━━━━━━━━━━━━━━━━━━━━━━━━━\u001b[0m \u001b[32m56.5/56.5 MB\u001b[0m \u001b[31m12.1 MB/s\u001b[0m eta \u001b[36m0:00:00\u001b[0m\n",
            "\u001b[2K     \u001b[90m━━━━━━━━━━━━━━━━━━━━━━━━━━━━━━━━━━━━━━━━\u001b[0m \u001b[32m124.2/124.2 MB\u001b[0m \u001b[31m8.3 MB/s\u001b[0m eta \u001b[36m0:00:00\u001b[0m\n",
            "\u001b[2K     \u001b[90m━━━━━━━━━━━━━━━━━━━━━━━━━━━━━━━━━━━━━━━━\u001b[0m \u001b[32m196.0/196.0 MB\u001b[0m \u001b[31m6.5 MB/s\u001b[0m eta \u001b[36m0:00:00\u001b[0m\n",
            "\u001b[2K     \u001b[90m━━━━━━━━━━━━━━━━━━━━━━━━━━━━━━━━━━━━━━━━\u001b[0m \u001b[32m166.0/166.0 MB\u001b[0m \u001b[31m6.1 MB/s\u001b[0m eta \u001b[36m0:00:00\u001b[0m\n",
            "\u001b[2K     \u001b[90m━━━━━━━━━━━━━━━━━━━━━━━━━━━━━━━━━━━━━━━━\u001b[0m \u001b[32m99.1/99.1 kB\u001b[0m \u001b[31m15.3 MB/s\u001b[0m eta \u001b[36m0:00:00\u001b[0m\n",
            "\u001b[2K     \u001b[90m━━━━━━━━━━━━━━━━━━━━━━━━━━━━━━━━━━━━━━━━\u001b[0m \u001b[32m19.8/19.8 MB\u001b[0m \u001b[31m87.9 MB/s\u001b[0m eta \u001b[36m0:00:00\u001b[0m\n",
            "\u001b[2K     \u001b[90m━━━━━━━━━━━━━━━━━━━━━━━━━━━━━━━━━━━━━━━━\u001b[0m \u001b[32m6.8/6.8 MB\u001b[0m \u001b[31m20.7 MB/s\u001b[0m eta \u001b[36m0:00:00\u001b[0m\n",
            "\u001b[2K     \u001b[90m━━━━━━━━━━━━━━━━━━━━━━━━━━━━━━━━━━━━━━━━\u001b[0m \u001b[32m289.9/289.9 kB\u001b[0m \u001b[31m10.0 MB/s\u001b[0m eta \u001b[36m0:00:00\u001b[0m\n",
            "\u001b[2K     \u001b[90m━━━━━━━━━━━━━━━━━━━━━━━━━━━━━━━━━━━━━━━━\u001b[0m \u001b[32m110.7/110.7 kB\u001b[0m \u001b[31m11.1 MB/s\u001b[0m eta \u001b[36m0:00:00\u001b[0m\n",
            "\u001b[2K     \u001b[90m━━━━━━━━━━━━━━━━━━━━━━━━━━━━━━━━━━━━━━━━\u001b[0m \u001b[32m433.8/433.8 kB\u001b[0m \u001b[31m7.8 MB/s\u001b[0m eta \u001b[36m0:00:00\u001b[0m\n",
            "\u001b[?25h"
          ]
        }
      ],
      "source": [
        "!pip install pytorch-nlp --quiet\n",
        "!pip3 install torch torchvision torchaudio --index-url https://download.pytorch.org/whl/cu121 --quiet\n",
        "!pip install scikit-learn --quiet\n",
        "!pip install pyspellchecker --quiet\n",
        "!pip install contractions --quiet\n",
        "!pip install beautifulsoup4 --quiet\n",
        "!pip install emoji --quiet\n",
        "!pip install matplotlib --quiet"
      ]
    },
    {
      "cell_type": "code",
      "execution_count": 5,
      "metadata": {
        "id": "TK8CixHBquF7"
      },
      "outputs": [],
      "source": [
        "from typing import List, Tuple, Callable, Dict\n",
        "import random\n",
        "import nltk\n",
        "from nltk.corpus import stopwords\n",
        "from nltk.stem import WordNetLemmatizer\n",
        "from nltk import pos_tag\n",
        "import torch.autograd\n",
        "from sklearn.metrics import (accuracy_score, f1_score, precision_score,\n",
        "                             recall_score, classification_report, confusion_matrix, precision_recall_curve)\n",
        "from sklearn.model_selection import train_test_split\n",
        "from torch.utils.data import DataLoader\n",
        "import numpy as np\n",
        "import torch\n",
        "import torch.nn as nn\n",
        "import torch.nn.functional as F\n",
        "from torch.nn.utils.rnn import pad_sequence\n",
        "from torch.utils.data import Dataset\n",
        "from torchnlp.word_to_vector import GloVe\n",
        "import contractions\n",
        "import unicodedata\n",
        "from bs4 import BeautifulSoup\n",
        "import emoji\n",
        "import re\n",
        "from spellchecker import SpellChecker\n",
        "import pickle\n",
        "import os\n",
        "import matplotlib.pyplot as plt\n",
        "import pandas as pd\n",
        "from tqdm import tqdm"
      ]
    },
    {
      "cell_type": "code",
      "execution_count": 6,
      "metadata": {
        "colab": {
          "base_uri": "https://localhost:8080/"
        },
        "id": "GFqH2GahquF8",
        "outputId": "0e81ef87-8c31-4b5b-de59-305e661f0da6"
      },
      "outputs": [
        {
          "output_type": "stream",
          "name": "stderr",
          "text": [
            "[nltk_data] Downloading package punkt to /root/nltk_data...\n",
            "[nltk_data]   Unzipping tokenizers/punkt.zip.\n",
            "[nltk_data] Downloading package stopwords to /root/nltk_data...\n",
            "[nltk_data]   Unzipping corpora/stopwords.zip.\n",
            "[nltk_data] Downloading package wordnet to /root/nltk_data...\n",
            "[nltk_data] Downloading package averaged_perceptron_tagger to\n",
            "[nltk_data]     /root/nltk_data...\n",
            "[nltk_data]   Unzipping taggers/averaged_perceptron_tagger.zip.\n"
          ]
        },
        {
          "output_type": "execute_result",
          "data": {
            "text/plain": [
              "True"
            ]
          },
          "metadata": {},
          "execution_count": 6
        }
      ],
      "source": [
        "# Download NLTK resources\n",
        "nltk.download('punkt')\n",
        "nltk.download('stopwords')\n",
        "nltk.download('wordnet')\n",
        "nltk.download('averaged_perceptron_tagger')"
      ]
    },
    {
      "cell_type": "code",
      "execution_count": 7,
      "metadata": {
        "id": "FlF89xKdquF9"
      },
      "outputs": [],
      "source": [
        "\n",
        "# define Device\n",
        "DEVICE = torch.device(\"cuda\" if torch.cuda.is_available() else \"cpu\")\n",
        "# define Glove\n",
        "pretrained_wv = GloVe(cache=TORCHNLP_CACHEDIR)\n",
        "# Stopword removal\n",
        "stop_words = set(stopwords.words('english'))\n",
        "# Initialize the WordNet lemmatizer\n",
        "lemmatizer = WordNetLemmatizer()"
      ]
    },
    {
      "cell_type": "code",
      "execution_count": 8,
      "metadata": {
        "colab": {
          "base_uri": "https://localhost:8080/"
        },
        "id": "e6y2XUTnquF9",
        "outputId": "bd962c9d-8732-42b0-a49d-0bf8eebf2d2d"
      },
      "outputs": [
        {
          "output_type": "stream",
          "name": "stdout",
          "text": [
            "cuda\n"
          ]
        }
      ],
      "source": [
        "print(DEVICE)"
      ]
    },
    {
      "cell_type": "markdown",
      "metadata": {
        "id": "mqbtQqiLquF9"
      },
      "source": [
        "# Helper functions\n"
      ]
    },
    {
      "cell_type": "code",
      "execution_count": 9,
      "metadata": {
        "id": "LaynSpEDquF-"
      },
      "outputs": [],
      "source": [
        "def dump_tuple(filename: str, data: tuple) -> None:\n",
        "    '''\n",
        "    Dump the tuple to a file.\n",
        "    :param filename: The name of the file to dump the tuple to.\n",
        "    :type filename: str\n",
        "    :param data: The tuple to dump.\n",
        "    :type data: tuple\n",
        "    '''\n",
        "    with open(filename, 'wb') as file:\n",
        "        pickle.dump(data, file)\n",
        "\n",
        "\n",
        "def load_tuple(filename: str) -> tuple:\n",
        "    '''\n",
        "    Load the tuple from the file.\n",
        "    :param filename: The name of the file to load the tuple from.\n",
        "    :type filename: str\n",
        "    :return: The loaded tuple.\n",
        "    :rtype: tuple\n",
        "    '''\n",
        "    with open(filename, 'rb') as file:\n",
        "        return pickle.load(file)\n",
        "\n",
        "\n",
        "def dump_var(filename: str, data: List[List[torch.Tensor]]) -> None:\n",
        "    '''\n",
        "    Dump the data to a file.\n",
        "    :param filename: The name of the file to dump the data to.\n",
        "    :type filename: str\n",
        "    :param data: The data dump.\n",
        "    '''\n",
        "    torch.save(data, filename)\n",
        "\n",
        "\n",
        "def load_var(filename: str) -> List[List[torch.Tensor]]:\n",
        "    '''\n",
        "    Load the data from the file.\n",
        "    :param filename: The name of the file to load the data from.\n",
        "    :type filename: str\n",
        "    :return: The loaded data.\n",
        "    :rtype: Any\n",
        "    '''\n",
        "    return torch.load(filename)"
      ]
    },
    {
      "cell_type": "markdown",
      "metadata": {
        "id": "8F_7p59OquF-"
      },
      "source": [
        "# Preparing the Data set\n"
      ]
    },
    {
      "cell_type": "code",
      "execution_count": 10,
      "metadata": {
        "id": "Ak5gazLGquF-"
      },
      "outputs": [],
      "source": [
        "def lower_sentence(sentence: str) -> str:\n",
        "    '''\n",
        "    Lowercase the sentence.\n",
        "    :param data: The sentence to lowercase.\n",
        "    :return: The lowercased sentence\n",
        "    :rtype: str\n",
        "    '''\n",
        "    return sentence.lower()"
      ]
    },
    {
      "cell_type": "code",
      "execution_count": 11,
      "metadata": {
        "id": "SVnOGQ80quF-"
      },
      "outputs": [],
      "source": [
        "def remove_emails(sentence: str) -> str:\n",
        "    '''\n",
        "    Remove emails from the sentence.\n",
        "    :param sentence: The sentence to remove emails from.\n",
        "    :type sentence: str\n",
        "    :return: The sentence without emails.\n",
        "    :rtype: str\n",
        "    '''\n",
        "    return re.sub(r\"\\S*@\\S*\\s?\", \"\", sentence)"
      ]
    },
    {
      "cell_type": "code",
      "execution_count": 12,
      "metadata": {
        "id": "MmYE9kY1quF_"
      },
      "outputs": [],
      "source": [
        "def remove_nonascii_diacritic(sentence: str) -> str:\n",
        "    '''\n",
        "\n",
        "    Remove diacritics from the sentence.\n",
        "\n",
        "    :param sentence: The sentence to remove diacritics from.\n",
        "\n",
        "    :type sentence: str\n",
        "\n",
        "    :return: The sentence without diacritics.\n",
        "\n",
        "    :rtype: str\n",
        "    '''\n",
        "\n",
        "    return unicodedata.normalize(\"NFKD\", sentence).encode(\"ascii\", \"ignore\").decode(\"utf-8\", \"ignore\")"
      ]
    },
    {
      "cell_type": "code",
      "execution_count": 13,
      "metadata": {
        "id": "qi6hJiZSquF_"
      },
      "outputs": [],
      "source": [
        "def clean_html(sentence: str) -> str:\n",
        "    '''\n",
        "    Remove HTML tags from the sentence.\n",
        "    :param sentence: The sentence to remove HTML tags from.\n",
        "    :type sentence: str\n",
        "    :return: The sentence without HTML tags.\n",
        "    :rtype: str\n",
        "    '''\n",
        "    return BeautifulSoup(sentence, \"html.parser\").get_text()"
      ]
    },
    {
      "cell_type": "code",
      "execution_count": 14,
      "metadata": {
        "id": "8FMhiNMBquF_"
      },
      "outputs": [],
      "source": [
        "def replace_repeated_chars(sentence: str) -> str:\n",
        "    '''\n",
        "    Replace repeated characters in the sentence.\n",
        "    :param sentence: The sentence to replace repeated characters in.\n",
        "    :type sentence: str\n",
        "    :return: The sentence with replaced repeated characters.\n",
        "    :rtype: str\n",
        "    '''\n",
        "    # Replace consecutive occurrences of ',', '!', '.', and '?' with a single occurrence\n",
        "    return re.sub(r'([,!?.])\\1+', r'\\1', sentence)"
      ]
    },
    {
      "cell_type": "code",
      "execution_count": 15,
      "metadata": {
        "id": "APAJXhAOquF_"
      },
      "outputs": [],
      "source": [
        "def translate_emojis_to_text(sentence: str) -> str:\n",
        "    '''\n",
        "    Translate emojis in the sentence to text.\n",
        "    :param sentence: The sentence to translate emojis to text.\n",
        "    :type sentence: str\n",
        "    :return: The sentence with translated emojis to text.\n",
        "    :rtype: str\n",
        "    '''\n",
        "    # Translate emojis to text codes\n",
        "    translated_text = emoji.demojize(sentence)\n",
        "    # Remove colons from the translated text\n",
        "    translated_text = re.sub(r':', '', translated_text)\n",
        "    return translated_text"
      ]
    },
    {
      "cell_type": "code",
      "execution_count": 16,
      "metadata": {
        "id": "DKapJEpFquF_"
      },
      "outputs": [],
      "source": [
        "def expand_sentence(sentence: str) -> str:\n",
        "    '''\n",
        "    Expand the contractions in the sentence.\n",
        "    :param sentence: The sentence to expand contractions in.\n",
        "    :type sentence: str\n",
        "    :return: The sentence with expanded contractions.\n",
        "    :rtype: str\n",
        "    '''\n",
        "    return contractions.fix(sentence)"
      ]
    },
    {
      "cell_type": "code",
      "execution_count": 17,
      "metadata": {
        "id": "s6QyvBxBquGA"
      },
      "outputs": [],
      "source": [
        "def remove_url(sentence: str) -> str:\n",
        "    '''\n",
        "    Remove URLs from the sentence.\n",
        "    :param sentence: The sentence to remove URLs from.\n",
        "    :type sentence: str\n",
        "    :return: The sentence without URLs.\n",
        "    :rtype: str\n",
        "    '''\n",
        "    return re.sub(\"((http\\://|https\\://|ftp\\://)|(www.))+(([a-zA-Z0-9\\.-]+\\.[a-zA-Z]{2,4})|([0-9]{1,3}\\.[0-9]{1,3}\\.[0-9]{1,3}\\.[0-9]{1,3}))(/[a-zA-Z0-9%:/-_\\?\\.'~]*)?\", '', sentence)"
      ]
    },
    {
      "cell_type": "code",
      "execution_count": 18,
      "metadata": {
        "id": "TxBiya47quGA"
      },
      "outputs": [],
      "source": [
        "def remove_possessives(sentence: str) -> str:\n",
        "    '''\n",
        "    Strip possessives from the sentence.\n",
        "    :param sentence: The sentence to strip possessives from.\n",
        "    :type sentence: str\n",
        "    :return: The sentence without possessives.\n",
        "    :rtype: str\n",
        "    '''\n",
        "    # Stripping the possessives\n",
        "    sentence = sentence.replace(\"'s\", '')\n",
        "    sentence = sentence.replace('’s', '')\n",
        "    sentence = sentence.replace('s’', 's')\n",
        "    sentence = sentence.replace(\"s'\", 's')\n",
        "    return sentence"
      ]
    },
    {
      "cell_type": "code",
      "execution_count": 19,
      "metadata": {
        "id": "XbvcwI47quGA"
      },
      "outputs": [],
      "source": [
        "def remove_extra_space(sentence: str) -> str:\n",
        "    '''\n",
        "    Remove extra spaces from the sentence.\n",
        "    :param sentence: The sentence to remove extra spaces from.\n",
        "    :type sentence: str\n",
        "    :return: The sentence without extra spaces.\n",
        "    :rtype: str\n",
        "    '''\n",
        "    return re.sub(r'\\s+', ' ', sentence).strip()"
      ]
    },
    {
      "cell_type": "code",
      "execution_count": 20,
      "metadata": {
        "id": "G3jcnh8gquGA"
      },
      "outputs": [],
      "source": [
        "def check_sentence_spelling(sentence: list[str]) -> list[str]:\n",
        "    '''\n",
        "    Check the spelling of the words in the sentence.\n",
        "    :param sentence: The sentence to check the spelling of.\n",
        "    :type sentence: list\n",
        "    :return: The sentence with corrected spelling.\n",
        "    :rtype: list\n",
        "    '''\n",
        "    spell = SpellChecker()\n",
        "    corrected_sentence = []\n",
        "    for word in sentence:\n",
        "        if word != '':\n",
        "            correction = spell.correction(word)\n",
        "            if correction is not None:\n",
        "                corrected_sentence.append(correction)\n",
        "            else:\n",
        "                corrected_sentence.append(word)\n",
        "        else:\n",
        "            corrected_sentence.append('')\n",
        "    return corrected_sentence"
      ]
    },
    {
      "cell_type": "code",
      "execution_count": 21,
      "metadata": {
        "id": "b7I_ZfLPquGB"
      },
      "outputs": [],
      "source": [
        "def tokenize_sentence(sentence: str) -> list[str]:\n",
        "    '''\n",
        "    Tokenize the sentence.\n",
        "    :param sentence: The sentence to tokenize.\n",
        "    :type sentence: str\n",
        "    :return: The tokenized sentence.\n",
        "    :rtype: str\n",
        "    '''\n",
        "    return nltk.word_tokenize(sentence)"
      ]
    },
    {
      "cell_type": "code",
      "execution_count": 22,
      "metadata": {
        "id": "3L7r1B99quGB"
      },
      "outputs": [],
      "source": [
        "def remove_stop_words(sentence: list[str]) -> list[str]:\n",
        "    '''\n",
        "    Remove stop words from the sentence.\n",
        "    :param sentence: The sentence to remove stop words from.\n",
        "    :type sentence: list[str]\n",
        "    :return: The sentence without stop words.\n",
        "    :rtype: list[str]\n",
        "    '''\n",
        "    return [word for word in sentence if word not in stop_words]"
      ]
    },
    {
      "cell_type": "code",
      "execution_count": 23,
      "metadata": {
        "id": "cYbseWHjquGB"
      },
      "outputs": [],
      "source": [
        "def lemm_sentence(sentence: list[str]) -> list[str]:\n",
        "    '''\n",
        "    Lemmatize the sentence.\n",
        "    :param sentence: The sentence to lemmatize.\n",
        "    :type sentence: list[str]\n",
        "    :return: The lemmatized sentence.\n",
        "    :rtype: list[str]\n",
        "    '''\n",
        "    # Perform POS tagging\n",
        "    pos_tags = pos_tag(sentence)\n",
        "    # Lemmatize each word based on its POS tag\n",
        "    lemmatized_words = []\n",
        "    for word, pos in pos_tags:\n",
        "        # Map Penn Treebank POS tags to WordNet POS tags\n",
        "        if pos.startswith('N'):  # Nouns\n",
        "            pos = 'n'\n",
        "        elif pos.startswith('V'):  # Verbs\n",
        "            pos = 'v'\n",
        "        elif pos.startswith('J'):  # Adjectives\n",
        "            pos = 'a'\n",
        "        elif pos.startswith('R'):  # Adverbs\n",
        "            pos = 'r'\n",
        "        else:\n",
        "            pos = 'n'  # Default to noun if POS tag not found\n",
        "\n",
        "        # Lemmatize the word using the appropriate POS tag\n",
        "        lemma = lemmatizer.lemmatize(word, pos=pos)\n",
        "        lemmatized_words.append(lemma)\n",
        "    return lemmatized_words"
      ]
    },
    {
      "cell_type": "code",
      "execution_count": 24,
      "metadata": {
        "id": "WrbBayK9quGB"
      },
      "outputs": [],
      "source": [
        "def clean_train(line: str) -> list[str]:\n",
        "    '''\n",
        "    Clean the line and return it as a list of tokens\n",
        "    :param line: the line to clean\n",
        "    :type line: str\n",
        "    :return: the cleaned line as a list of tokens\n",
        "    :rtype: list\n",
        "    '''\n",
        "    # translate emojis\n",
        "    line = translate_emojis_to_text(line)\n",
        "    # lower the line\n",
        "    line = lower_sentence(line)\n",
        "    # remove non ascii\n",
        "    line = remove_nonascii_diacritic(line)\n",
        "    # remove emails\n",
        "    line = remove_emails(line)\n",
        "    # remove html\n",
        "    line = clean_html(line)\n",
        "    # remove urls\n",
        "    line = remove_url(line)\n",
        "    # replace repeated chars\n",
        "    line = replace_repeated_chars(line)\n",
        "    # expand\n",
        "    line = expand_sentence(line)\n",
        "    # remove possessives\n",
        "    line = remove_possessives(line)\n",
        "    # remove extra spaces\n",
        "    line = remove_extra_space(line)\n",
        "    # tekonize\n",
        "    line = tokenize_sentence(line)\n",
        "    # remove stopwords\n",
        "    # line = remove_stop_words(line)\n",
        "    # lemmetization\n",
        "    # line = lemm_sentence(line)\n",
        "    if len(line) == 0:\n",
        "        return ['Normal']\n",
        "    return line"
      ]
    },
    {
      "cell_type": "code",
      "execution_count": 25,
      "metadata": {
        "id": "V1Gzp7mYquGC"
      },
      "outputs": [],
      "source": [
        "def clean_steps(line: str) -> list[str]:\n",
        "    '''\n",
        "    Clean the line and return it as a list of tokens\n",
        "    :param line: the line to clean\n",
        "    :type line: str\n",
        "    :return: the cleaned line as a list of tokens\n",
        "    :rtype: list\n",
        "    '''\n",
        "    print('-------------------------------')\n",
        "    # translate emojis\n",
        "    line = translate_emojis_to_text(line)\n",
        "    print(\"After translate --> \", line)\n",
        "    # lower the line\n",
        "    line = lower_sentence(line)\n",
        "    print(\"After lower --> \", line)\n",
        "    # remove non ascii\n",
        "    line = remove_nonascii_diacritic(line)\n",
        "    print(\"After remoeve non ascii --> \", line)\n",
        "    line = remove_emails(line)\n",
        "    print(\"After remove email --> \", line)\n",
        "    # remove html\n",
        "    line = clean_html(line)\n",
        "    print(\"After remove html --> \", line)\n",
        "    # remove urls\n",
        "    line = remove_url(line)\n",
        "    print(\"After remove url --> \", line)\n",
        "    # replace repeated chars\n",
        "    line = replace_repeated_chars(line)\n",
        "    print(\"replace repeated chars --> \", line)\n",
        "    # expand\n",
        "    line = expand_sentence(line)\n",
        "    print(\"After expand --> \", line)\n",
        "    # remove possessives\n",
        "    line = remove_possessives(line)\n",
        "    print(\"After remove possessives --> \", line)\n",
        "    # remove extra spaces\n",
        "    line = remove_extra_space(line)\n",
        "    print(\"After remove extra space --> \", line)\n",
        "    # tekonize\n",
        "    line = tokenize_sentence(line)\n",
        "    print(\"After tokenize --> \", line)\n",
        "    # check spelling\n",
        "    line = check_sentence_spelling(line)\n",
        "    print(\"After spelling check --> \", line)\n",
        "    # remove stopwords\n",
        "    # line = remove_stop_words(line)\n",
        "    # print(\"After remove stop words --> \", line)\n",
        "    # lemmetization\n",
        "    # line = lemm_sentence(line)\n",
        "    # print(\"After lemmatization --> \", line)\n",
        "    print('-------------------------------')\n",
        "    if len(line) == 0:\n",
        "        print(['Normal'])\n",
        "        return ['Normal']\n",
        "    return line"
      ]
    },
    {
      "cell_type": "code",
      "execution_count": 26,
      "metadata": {
        "id": "fn3n6JLYquGC"
      },
      "outputs": [],
      "source": [
        "def clean(line: str) -> list[str]:\n",
        "    '''\n",
        "    Clean the line and return it as a list of tokens\n",
        "    :param line: the line to clean\n",
        "    :type line: str\n",
        "    :return: the cleaned line as a list of tokens\n",
        "    :rtype: list\n",
        "    '''\n",
        "    # translate emojis\n",
        "    line = translate_emojis_to_text(line)\n",
        "    # lower the line\n",
        "    line = lower_sentence(line)\n",
        "    # remove non ascii\n",
        "    line = remove_nonascii_diacritic(line)\n",
        "    # remove emails\n",
        "    line = remove_emails(line)\n",
        "    # remove html\n",
        "    line = clean_html(line)\n",
        "    # remove urls\n",
        "    line = remove_url(line)\n",
        "    # replace repeated chars\n",
        "    line = replace_repeated_chars(line)\n",
        "    # expand\n",
        "    line = expand_sentence(line)\n",
        "    # remove possessives\n",
        "    line = remove_possessives(line)\n",
        "    # remove extra spaces\n",
        "    line = remove_extra_space(line)\n",
        "    # tekonize\n",
        "    line = tokenize_sentence(line)\n",
        "    # check spelling\n",
        "    line = check_sentence_spelling(line)\n",
        "    # remove stopwords\n",
        "    # line = remove_stop_words(line)\n",
        "    # lemmetization\n",
        "    # line = lemm_sentence(line)\n",
        "    if len(line) == 0:\n",
        "        return ['Normal']\n",
        "    return line"
      ]
    },
    {
      "cell_type": "code",
      "execution_count": 27,
      "metadata": {
        "id": "qcuBjke8quGC"
      },
      "outputs": [],
      "source": [
        "# define the mapping from 's' to 1 and 'u' to 0\n",
        "forward_label_mapping = {'suicide': 1, 'non-suicide': 0}\n",
        "\n",
        "# define the reverse mapping from 0 to 'u' and 1 to 's'\n",
        "reverse_label_mapping = {0: 'non-suicide', 1: 'suicide'}"
      ]
    },
    {
      "cell_type": "code",
      "execution_count": 28,
      "metadata": {
        "colab": {
          "base_uri": "https://localhost:8080/"
        },
        "id": "aW5bVnvequGC",
        "outputId": "9a4fae38-80fe-42b5-fa9a-5445069d09d8"
      },
      "outputs": [
        {
          "output_type": "stream",
          "name": "stdout",
          "text": [
            "Number of Unique Values:\n",
            "Unnamed: 0    232074\n",
            "text          232074\n",
            "class              2\n",
            "dtype: int64\n",
            "unique target classes ['suicide' 'non-suicide']\n",
            "Number of Dialogues:  232074\n",
            "First 5 elements: \n",
            "   Unnamed: 0                                               text        class\n",
            "0           2  Ex Wife Threatening SuicideRecently I left my ...      suicide\n",
            "1           3  Am I weird I don't get affected by compliments...  non-suicide\n",
            "2           4  Finally 2020 is almost over... So I can never ...  non-suicide\n",
            "3           8          i need helpjust help me im crying so hard      suicide\n",
            "4           9  I’m so lostHello, my name is Adam (16) and I’v...      suicide\n"
          ]
        }
      ],
      "source": [
        "# Read CSV file into DataFrame\n",
        "df = pd.read_csv(data_path)\n",
        "# Count unique values in each column\n",
        "unique_counts = df.nunique()\n",
        "# Display the count of unique values\n",
        "print('Number of Unique Values:')\n",
        "print(unique_counts)\n",
        "# print the unique values of emotion\n",
        "print('unique target classes', df['class'].unique())\n",
        "# get the number of dialogue\n",
        "num_Dialogues = len(df['class'])\n",
        "# print the number of dialogues\n",
        "print('Number of Dialogues: ', num_Dialogues)\n",
        "print('First 5 elements: ')\n",
        "print(df.head())"
      ]
    },
    {
      "cell_type": "code",
      "execution_count": 29,
      "metadata": {
        "colab": {
          "base_uri": "https://localhost:8080/"
        },
        "id": "Sr7Ds5T2quGD",
        "outputId": "8c871687-7d9d-4e52-fd09-f2f4f89f50c6"
      },
      "outputs": [
        {
          "output_type": "stream",
          "name": "stdout",
          "text": [
            "Check for missing values in the dataset\n",
            "Unnamed: 0    0\n",
            "text          0\n",
            "class         0\n",
            "dtype: int64\n"
          ]
        }
      ],
      "source": [
        "print(\"Check for missing values in the dataset\")\n",
        "null_check = df.isnull().sum()\n",
        "print(null_check)"
      ]
    },
    {
      "cell_type": "code",
      "execution_count": 30,
      "metadata": {
        "colab": {
          "base_uri": "https://localhost:8080/"
        },
        "id": "sVQ4sfYUquGD",
        "outputId": "45f27dd8-0d71-4259-cb41-5af293a843af"
      },
      "outputs": [
        {
          "output_type": "stream",
          "name": "stdout",
          "text": [
            "Number of duplicate rows: 0\n",
            "Duplicate rows:\n",
            "Empty DataFrame\n",
            "Columns: [Unnamed: 0, text, class]\n",
            "Index: []\n"
          ]
        }
      ],
      "source": [
        "# Check for duplicate rows in the entire DataFrame\n",
        "duplicate_rows = df.duplicated()\n",
        "\n",
        "# Count the number of duplicate rows\n",
        "num_duplicates = duplicate_rows.sum()\n",
        "\n",
        "# Display the duplicate rows\n",
        "duplicate_data = df[duplicate_rows]\n",
        "\n",
        "print(f\"Number of duplicate rows: {num_duplicates}\")\n",
        "print(\"Duplicate rows:\")\n",
        "print(duplicate_data)"
      ]
    },
    {
      "cell_type": "code",
      "execution_count": 31,
      "metadata": {
        "colab": {
          "base_uri": "https://localhost:8080/",
          "height": 584
        },
        "id": "GC79Tbt2quGD",
        "outputId": "1f4d782a-6c9c-4f88-fd7a-543e3a9f2891"
      },
      "outputs": [
        {
          "output_type": "stream",
          "name": "stdout",
          "text": [
            "class\n",
            "suicide        116037\n",
            "non-suicide    116037\n",
            "Name: count, dtype: int64\n"
          ]
        },
        {
          "output_type": "display_data",
          "data": {
            "text/plain": [
              "<Figure size 640x480 with 1 Axes>"
            ],
            "image/png": "[encoded data removed]"
          },
          "metadata": {}
        }
      ],
      "source": [
        "if isTrain:\n",
        "    # check the distrubution of the data\n",
        "    # check how many suicidal and how many non-suicidal\n",
        "    print(df['class'].value_counts())\n",
        "    # plot a graph\n",
        "    df['class'].value_counts().plot(kind='bar')"
      ]
    },
    {
      "cell_type": "code",
      "execution_count": 32,
      "metadata": {
        "id": "P04l2GVuquGE"
      },
      "outputs": [],
      "source": [
        "def read_dataset_suicidal_detection(data_path: str, split_seed: int) -> Tuple[Tuple[List[str], List[int]], Tuple[List[str], List[int]], Tuple[List[str], List[int]]]:\n",
        "    '''\n",
        "    Read the dataset for the suicidal detection task.\n",
        "    :param data_path: The path to the dataset.\n",
        "    :type data_path: str\n",
        "    :param split_seed: The seed to use for splitting the dataset.\n",
        "    :type split_seed: int\n",
        "    :return: The training, validation, and test sets.\n",
        "    :rtype: Tuple[Tuple[List[str], List[int]], Tuple[List[str], List[int]], Tuple[List[str], List[int]]]\n",
        "    '''\n",
        "    data = pd.read_csv(data_path)\n",
        "    # extract the dialogues and their corresponding labels\n",
        "    dialogues = data['text'].tolist()\n",
        "    labels = data['class'].apply(lambda x: forward_label_mapping[x]).tolist()\n",
        "\n",
        "    # split the data into training and temporary sets (70% training, 30% temporary)\n",
        "    dialogues_train, dialogues_temp, labels_train, labels_temp = train_test_split(\n",
        "        dialogues, labels, test_size=0.3, random_state=split_seed)\n",
        "\n",
        "    # split the temporary set into validation and test sets (66.67% validation, 33.33% test)\n",
        "    dialogues_val, dialogues_test, labels_val, labels_test = train_test_split(\n",
        "        dialogues_temp, labels_temp, test_size=0.33, random_state=split_seed)\n",
        "\n",
        "    return (dialogues_train, labels_train), (dialogues_val, labels_val), (dialogues_test, labels_test)"
      ]
    },
    {
      "cell_type": "code",
      "execution_count": 33,
      "metadata": {
        "colab": {
          "base_uri": "https://localhost:8080/"
        },
        "id": "Js8slpWYquGE",
        "outputId": "6ac72d85-c935-4f46-f8fe-fb4ab63f7419"
      },
      "outputs": [
        {
          "output_type": "stream",
          "name": "stdout",
          "text": [
            "Number of dialogues in training set: 162451 (0.70%)\n",
            "Number of dialogues in validation set: 46647 (0.20%)\n",
            "Number of dialogues in test set: 22976 (0.10%)\n"
          ]
        }
      ],
      "source": [
        "# read the data set\n",
        "(dialogues_train, labels_train), (dialogues_val, labels_val), (dialogues_test,\n",
        "                                                               labels_test) = read_dataset_suicidal_detection(data_path, split_seed)\n",
        "# print the number of dialogues in each set and percentage of total data\n",
        "print(\n",
        "    f\"Number of dialogues in training set: {len(dialogues_train)} ({len(dialogues_train) / num_Dialogues:.2f}%)\")\n",
        "print(\n",
        "    f\"Number of dialogues in validation set: {len(dialogues_val)} ({len(dialogues_val) / num_Dialogues:.2f}%)\")\n",
        "print(\n",
        "    f\"Number of dialogues in test set: {len(dialogues_test)} ({len(dialogues_test) / num_Dialogues:.2f}%)\")"
      ]
    },
    {
      "cell_type": "code",
      "execution_count": 34,
      "metadata": {
        "id": "t_HfLMa_quGE"
      },
      "outputs": [],
      "source": [
        "# plot the percentage of each class in each set\n",
        "def plot_class_distribution(labels: List[int], title: str) -> None:\n",
        "    '''\n",
        "    Plot the class distribution.\n",
        "    :param labels: The labels of the dialogues.\n",
        "    :type labels: List[int]\n",
        "    :param title: The title of the plot.\n",
        "    :type title: str\n",
        "    '''\n",
        "    # Count the number of dialogues in each class\n",
        "    class_counts = np.bincount(labels)\n",
        "    # Define the class labels\n",
        "    class_labels = [reverse_label_mapping[label]\n",
        "                    for label in range(len(class_counts))]\n",
        "    # Plot the class distribution\n",
        "    plt.figure()\n",
        "\n",
        "    plt.bar(class_labels, class_counts, color=['skyblue', 'cyan'])\n",
        "    plt.xlabel('Class')\n",
        "    plt.ylabel('Number of Dialogues')\n",
        "    plt.title(title)\n",
        "    plt.show()"
      ]
    },
    {
      "cell_type": "code",
      "execution_count": 35,
      "metadata": {
        "colab": {
          "base_uri": "https://localhost:8080/",
          "height": 1000
        },
        "id": "msY5mohWquGF",
        "outputId": "d01ac65e-0518-4177-b854-d6830d7cb1a3"
      },
      "outputs": [
        {
          "output_type": "display_data",
          "data": {
            "text/plain": [
              "<Figure size 640x480 with 1 Axes>"
            ],
            "image/png": "[encoded data removed]"
          },
          "metadata": {}
        },
        {
          "output_type": "display_data",
          "data": {
            "text/plain": [
              "<Figure size 640x480 with 1 Axes>"
            ],
            "image/png": "[encoded data removed]"
          },
          "metadata": {}
        },
        {
          "output_type": "display_data",
          "data": {
            "text/plain": [
              "<Figure size 640x480 with 1 Axes>"
            ],
            "image/png": "[encoded data removed]"
          },
          "metadata": {}
        }
      ],
      "source": [
        "if isTrain:\n",
        "    plot_class_distribution(labels_train, 'Training Set Class Distribution')\n",
        "    plot_class_distribution(labels_val, 'Validation Set Class Distribution')\n",
        "    plot_class_distribution(labels_test, 'Test Set Class Distribution')"
      ]
    },
    {
      "cell_type": "code",
      "execution_count": 36,
      "metadata": {
        "colab": {
          "base_uri": "https://localhost:8080/"
        },
        "id": "smhDBRwFquGK",
        "outputId": "0085829d-e728-4609-fe5e-ae831d3154d0"
      },
      "outputs": [
        {
          "output_type": "stream",
          "name": "stdout",
          "text": [
            "Example from training set:\n",
            "-------------------------------------\n",
            "i’m so stupid i’m so fucking dumb dude. i literally thought las vegas was new vegas for 7 years until now. i’m gonna die\n",
            "prediction: 0\n",
            "-------------------------------------\n",
            "Example from validation set:\n",
            "-------------------------------------\n",
            "No hope, but don't want to hurt my familyMy desire to die is, to me, pretty rational. I have nothing to contribute to the world don't anticipate being able to enjoy life for myself at any time in the future. There are only 4 people in the world who would be noticeably saddened at my passing, and I'm certain 3 of them would be tangibly better off without me, but they all want me to stick around.\n",
            "\n",
            "When I say I'm not worth the space I take up, it's not a passing moment of angst. I have no particular practical skills, and zero social skills. I can hold down a \"warm body\" job, but don't have any abilities or passions that would translate into a job that paid enough that I'd be financially stable. I already have a [worthless, liberal arts] Bachelor's, so going back to school to re-train means racking up serious debt, as there's little to no aid for students who already have a B.A. I'm pushing 30 and still live with my parents, on the premise that I'll go back to school for a high-need job once I have a little money saved. Spoiler alert: I couldn't even finish the broad-base engineering physics series at the local community college, I can't code elementary-school-level Java even when I have explicit instructions,  and even if I suddenly got hit with the social-skills stick over-night (I'm reasonably sure I have Asperger's), I just failed my state Certified Nursing Assistant (CNA) exam. A.K.A., I'm too incompetent to get licensed to change adult diapers. I did well in and comparatively enjoyed biology classes at school, so I thought maybe I could translate that to working in an operating room, where I could be useful to the world and make a decent wage even though I have inadequate social skills. However, if I can't get my CNA, I can't go to nursing school, which seemed by far the best route in terms of being a program I could get into, afford, and be able to get a job from. (It seems like a lot of these healthcare specialties get listed as high-need jobs even though there's not very many openings, so it comes down again to networking, which both I and the four people who are close to me suck at.) The same difficulty/cost problems apply to veterinary school, plus difficulty getting a job. I've looked into those government-repayment programs for vets who work in rural areas, but it seems even the people who initially take advantage of them leave, because there's not enough customers who are able to pay -- that's why they were under-served in the first place. My mental processing and physical moments appear slower than average, too, so I'm not even very good at menial work. At my current job, I'll clock out at the expected time, but stay up to 2 hours late because that's just how long it takes me to do all the normal work tasks. I know this is illegal and most of the time I don't care, because I just want to do a half-way decent job and not get fired for being \"lazy.\" (I'm aware this technically puts the company at risk, but since I'm the only one there during those hours, there's no cameras to prove anything, and I have no intention of outting myself, I don't think the broken law would amount to anything serious against the company.)\n",
            "\n",
            "\"Gee,\" you say, \"it sounds like you're putting an awful lot of stock in a job. There's more to life than that!\" Sure, I say, so long as you have the social skills to connect with people. The four people who would be affected for more than a hot minute at my passing are my parents, my brother, and the friend I've had since I was 5. I have not managed to make any lasting, meaningful connections during the 23 years since then; and I've never had anything that could in the vaguest sense be considered a romantic relationship. The closest I've come to approximating social connections is people who share an interest or hobby, but those connections either are (a) through the internet, or (b) in classes or at events that require money. So, if I want to try to connect face-to-face, I'm back to the money part from the previous paragraph.\n",
            "\n",
            "I know I've been really privileged in a lot of life circumstances, and I'm incredibly lucky to have those four people. I try to contribute what I can through doing volunteer work, random acts of kindness, and occasional monetary donations (after all, at least I have a safe, dry place to sleep at night, which is more than some people). But my conclusion is that existence isn't really worth it for me; I don't enjoy it and I can't see how I can \"make things better.\" The idea of planning out an effective suicide, then spending the rest of my pathetic savings on a weekend of fun before I tap out is really, really appealing. My family's managed to make me understand, though, that even though I think I'm a waste of resources and life is not something I feel is worth continuing, they are desperate for me to stick around, and much as I suck, it'd be worse for them if I committed suicide. I'm a little frustrated with them, a lot frustrated with and hating myself, and just want to lose consciousness and not regain it.\n",
            "prediction: 1\n",
            "-------------------------------------\n",
            "Example from test set:\n",
            "-------------------------------------\n",
            "my family makes me so irrationally annoyed sometimes like stop fucking talking to me YOURE FUCKING ANNOYING AND I DONT GIVE A FUCK ABOUT ANYTHING YOURE SAYING LEAVE ME TF ALONE\n",
            "prediction: 0\n",
            "-------------------------------------\n"
          ]
        }
      ],
      "source": [
        "if isTrain:\n",
        "    # print example from each set\n",
        "    print('Example from training set:')\n",
        "    print('-------------------------------------')\n",
        "    print(dialogues_train[0])\n",
        "    print(f'prediction: {labels_train[0]}')\n",
        "    print('-------------------------------------')\n",
        "    print('Example from validation set:')\n",
        "    print('-------------------------------------')\n",
        "    print(dialogues_val[0])\n",
        "    print(f'prediction: {labels_val[0]}')\n",
        "    print('-------------------------------------')\n",
        "    print('Example from test set:')\n",
        "    print('-------------------------------------')\n",
        "    print(dialogues_test[0])\n",
        "    print(f'prediction: {labels_test[0]}')\n",
        "    print('-------------------------------------')"
      ]
    },
    {
      "cell_type": "code",
      "execution_count": 37,
      "metadata": {
        "id": "t21QCwqUquGK"
      },
      "outputs": [],
      "source": [
        "def clean_data(data: List[str]) -> List[List[str]]:\n",
        "    '''\n",
        "    Clean the data.\n",
        "    :param data: The data to clean.\n",
        "    :type data: List[str]\n",
        "    :return: The cleaned data.\n",
        "    :rtype: List[List[str]]\n",
        "    '''\n",
        "    cleaned_data = []\n",
        "    for line in tqdm(data):\n",
        "        cleaned_line = clean_train(line)\n",
        "        cleaned_data.append(cleaned_line)\n",
        "    return cleaned_data"
      ]
    },
    {
      "cell_type": "code",
      "execution_count": 38,
      "metadata": {
        "colab": {
          "base_uri": "https://localhost:8080/"
        },
        "id": "POFb31VWquGL",
        "outputId": "7cce3b77-0084-45b5-d7cd-49926e59fbdb"
      },
      "outputs": [
        {
          "output_type": "stream",
          "name": "stderr",
          "text": [
            "100%|██████████| 2/2 [00:00<00:00, 54.85it/s]"
          ]
        },
        {
          "output_type": "stream",
          "name": "stdout",
          "text": [
            "Example from cleaned val set:\n",
            "['no', 'hope', ',', 'but', 'do', 'not', 'want', 'to', 'hurt', 'my', 'familymy', 'desire', 'to', 'die', 'is', ',', 'to', 'me', ',', 'pretty', 'rational', '.', 'i', 'have', 'nothing', 'to', 'contribute', 'to', 'the', 'world', 'do', 'not', 'anticipate', 'being', 'able', 'to', 'enjoy', 'life', 'for', 'myself', 'at', 'any', 'time', 'in', 'the', 'future', '.', 'there', 'are', 'only', '4', 'people', 'in', 'the', 'world', 'who', 'would', 'be', 'noticeably', 'saddened', 'at', 'my', 'passing', ',', 'and', 'i', 'am', 'certain', '3', 'of', 'them', 'would', 'be', 'tangibly', 'better', 'off', 'without', 'me', ',', 'but', 'they', 'all', 'want', 'me', 'to', 'stick', 'around', '.', 'when', 'i', 'say', 'i', 'am', 'not', 'worth', 'the', 'space', 'i', 'take', 'up', ',', 'it', 'is', 'not', 'a', 'passing', 'moment', 'of', 'angst', '.', 'i', 'have', 'no', 'particular', 'practical', 'skills', ',', 'and', 'zero', 'social', 'skills', '.', 'i', 'can', 'hold', 'down', 'a', '``', 'warm', 'body', \"''\", 'job', ',', 'but', 'do', 'not', 'have', 'any', 'abilities', 'or', 'passions', 'that', 'would', 'translate', 'into', 'a', 'job', 'that', 'paid', 'enough', 'that', 'i', 'would', 'be', 'financially', 'stable', '.', 'i', 'already', 'have', 'a', '[', 'worthless', ',', 'liberal', 'arts', ']', 'bachelor', ',', 'so', 'going', 'back', 'to', 'school', 'to', 're-train', 'means', 'racking', 'up', 'serious', 'debt', ',', 'as', 'there', 'is', 'little', 'to', 'no', 'aid', 'for', 'students', 'who', 'already', 'have', 'a', 'b.a', '.', 'i', 'am', 'pushing', '30', 'and', 'still', 'live', 'with', 'my', 'parents', ',', 'on', 'the', 'premise', 'that', 'i', 'will', 'go', 'back', 'to', 'school', 'for', 'a', 'high-need', 'job', 'once', 'i', 'have', 'a', 'little', 'money', 'saved', '.', 'spoiler', 'alert', 'i', 'could', 'not', 'even', 'finish', 'the', 'broad-base', 'engineering', 'physics', 'series', 'at', 'the', 'local', 'community', 'college', ',', 'i', 'can', 'not', 'code', 'elementary-school-level', 'java', 'even', 'when', 'i', 'have', 'explicit', 'instructions', ',', 'and', 'even', 'if', 'i', 'suddenly', 'got', 'hit', 'with', 'the', 'social-skills', 'stick', 'over-night', '(', 'i', 'am', 'reasonably', 'sure', 'i', 'have', 'asperger', ')', ',', 'i', 'just', 'failed', 'my', 'state', 'certified', 'nursing', 'assistant', '(', 'cna', ')', 'exam', '.', 'a.k.a.', ',', 'i', 'am', 'too', 'incompetent', 'to', 'get', 'licensed', 'to', 'change', 'adult', 'diapers', '.', 'i', 'did', 'well', 'in', 'and', 'comparatively', 'enjoyed', 'biology', 'classes', 'at', 'school', ',', 'so', 'i', 'thought', 'maybe', 'i', 'could', 'translate', 'that', 'to', 'working', 'in', 'an', 'operating', 'room', ',', 'where', 'i', 'could', 'be', 'useful', 'to', 'the', 'world', 'and', 'make', 'a', 'decent', 'wage', 'even', 'though', 'i', 'have', 'inadequate', 'social', 'skills', '.', 'however', ',', 'if', 'i', 'can', 'not', 'get', 'my', 'cna', ',', 'i', 'can', 'not', 'go', 'to', 'nursing', 'school', ',', 'which', 'seemed', 'by', 'far', 'the', 'best', 'route', 'in', 'terms', 'of', 'being', 'a', 'program', 'i', 'could', 'get', 'into', ',', 'afford', ',', 'and', 'be', 'able', 'to', 'get', 'a', 'job', 'from', '.', '(', 'it', 'seems', 'like', 'a', 'lot', 'of', 'these', 'healthcare', 'specialties', 'get', 'listed', 'as', 'high-need', 'jobs', 'even', 'though', 'there', 'is', 'not', 'very', 'many', 'openings', ',', 'so', 'it', 'comes', 'down', 'again', 'to', 'networking', ',', 'which', 'both', 'i', 'and', 'the', 'four', 'people', 'who', 'are', 'close', 'to', 'me', 'suck', 'at', '.', ')', 'the', 'same', 'difficulty/cost', 'problems', 'apply', 'to', 'veterinary', 'school', ',', 'plus', 'difficulty', 'getting', 'a', 'job', '.', 'i', 'have', 'looked', 'into', 'those', 'government-repayment', 'programs', 'for', 'vets', 'who', 'work', 'in', 'rural', 'areas', ',', 'but', 'it', 'seems', 'even', 'the', 'people', 'who', 'initially', 'take', 'advantage', 'of', 'them', 'leave', ',', 'because', 'there', 'is', 'not', 'enough', 'customers', 'who', 'are', 'able', 'to', 'pay', '--', 'that', 'is', 'why', 'they', 'were', 'under-served', 'in', 'the', 'first', 'place', '.', 'my', 'mental', 'processing', 'and', 'physical', 'moments', 'appear', 'slower', 'than', 'average', ',', 'too', ',', 'so', 'i', 'am', 'not', 'even', 'very', 'good', 'at', 'menial', 'work', '.', 'at', 'my', 'current', 'job', ',', 'i', 'will', 'clock', 'out', 'at', 'the', 'expected', 'time', ',', 'but', 'stay', 'up', 'to', '2', 'hours', 'late', 'because', 'that', 'is', 'just', 'how', 'long', 'it', 'takes', 'me', 'to', 'do', 'all', 'the', 'normal', 'work', 'tasks', '.', 'i', 'know', 'this', 'is', 'illegal', 'and', 'most', 'of', 'the', 'time', 'i', 'do', 'not', 'care', ',', 'because', 'i', 'just', 'want', 'to', 'do', 'a', 'half-way', 'decent', 'job', 'and', 'not', 'get', 'fired', 'for', 'being', '``', 'lazy', '.', \"''\", '(', 'i', 'am', 'aware', 'this', 'technically', 'puts', 'the', 'company', 'at', 'risk', ',', 'but', 'since', 'i', 'am', 'the', 'only', 'one', 'there', 'during', 'those', 'hours', ',', 'there', 'is', 'no', 'cameras', 'to', 'prove', 'anything', ',', 'and', 'i', 'have', 'no', 'intention', 'of', 'outting', 'myself', ',', 'i', 'do', 'not', 'think', 'the', 'broken', 'law', 'would', 'amount', 'to', 'anything', 'serious', 'against', 'the', 'company', '.', ')', '``', 'gee', ',', \"''\", 'you', 'say', ',', '``', 'it', 'sounds', 'like', 'you', 'are', 'putting', 'an', 'awful', 'lot', 'of', 'stock', 'in', 'a', 'job', '.', 'there', 'is', 'more', 'to', 'life', 'than', 'that', '!', \"''\", 'sure', ',', 'i', 'say', ',', 'so', 'long', 'as', 'you', 'have', 'the', 'social', 'skills', 'to', 'connect', 'with', 'people', '.', 'the', 'four', 'people', 'who', 'would', 'be', 'affected', 'for', 'more', 'than', 'a', 'hot', 'minute', 'at', 'my', 'passing', 'are', 'my', 'parents', ',', 'my', 'brother', ',', 'and', 'the', 'friend', 'i', 'have', 'had', 'since', 'i', 'was', '5.', 'i', 'have', 'not', 'managed', 'to', 'make', 'any', 'lasting', ',', 'meaningful', 'connections', 'during', 'the', '23', 'years', 'since', 'then', ';', 'and', 'i', 'have', 'never', 'had', 'anything', 'that', 'could', 'in', 'the', 'vaguest', 'sense', 'be', 'considered', 'a', 'romantic', 'relationship', '.', 'the', 'closest', 'i', 'have', 'come', 'to', 'approximating', 'social', 'connections', 'is', 'people', 'who', 'share', 'an', 'interest', 'or', 'hobby', ',', 'but', 'those', 'connections', 'either', 'are', '(', 'a', ')', 'through', 'the', 'internet', ',', 'or', '(', 'b', ')', 'in', 'classes', 'or', 'at', 'events', 'that', 'require', 'money', '.', 'so', ',', 'if', 'i', 'want', 'to', 'try', 'to', 'connect', 'face-to-face', ',', 'i', 'am', 'back', 'to', 'the', 'money', 'part', 'from', 'the', 'previous', 'paragraph', '.', 'i', 'know', 'i', 'have', 'been', 'really', 'privileged', 'in', 'a', 'lot', 'of', 'life', 'circumstances', ',', 'and', 'i', 'am', 'incredibly', 'lucky', 'to', 'have', 'those', 'four', 'people', '.', 'i', 'try', 'to', 'contribute', 'what', 'i', 'can', 'through', 'doing', 'volunteer', 'work', ',', 'random', 'acts', 'of', 'kindness', ',', 'and', 'occasional', 'monetary', 'donations', '(', 'after', 'all', ',', 'at', 'least', 'i', 'have', 'a', 'safe', ',', 'dry', 'place', 'to', 'sleep', 'at', 'night', ',', 'which', 'is', 'more', 'than', 'some', 'people', ')', '.', 'but', 'my', 'conclusion', 'is', 'that', 'existence', 'is', 'not', 'really', 'worth', 'it', 'for', 'me', ';', 'i', 'do', 'not', 'enjoy', 'it', 'and', 'i', 'can', 'not', 'see', 'how', 'i', 'can', '``', 'make', 'things', 'better', '.', \"''\", 'the', 'idea', 'of', 'planning', 'out', 'an', 'effective', 'suicide', ',', 'then', 'spending', 'the', 'rest', 'of', 'my', 'pathetic', 'savings', 'on', 'a', 'weekend', 'of', 'fun', 'before', 'i', 'tap', 'out', 'is', 'really', ',', 'really', 'appealing', '.', 'my', 'family', 'managed', 'to', 'make', 'me', 'understand', ',', 'though', ',', 'that', 'even', 'though', 'i', 'think', 'i', 'am', 'a', 'waste', 'of', 'resources', 'and', 'life', 'is', 'not', 'something', 'i', 'feel', 'is', 'worth', 'continuing', ',', 'they', 'are', 'desperate', 'for', 'me', 'to', 'stick', 'around', ',', 'and', 'much', 'as', 'i', 'suck', ',', 'it', 'would', 'be', 'worse', 'for', 'them', 'if', 'i', 'committed', 'suicide', '.', 'i', 'am', 'a', 'little', 'frustrated', 'with', 'them', ',', 'a', 'lot', 'frustrated', 'with', 'and', 'hating', 'myself', ',', 'and', 'just', 'want', 'to', 'lose', 'consciousness', 'and', 'not', 'regain', 'it', '.']\n",
            "-------------------------------\n",
            "After translate -->  No hope, but don't want to hurt my familyMy desire to die is, to me, pretty rational. I have nothing to contribute to the world don't anticipate being able to enjoy life for myself at any time in the future. There are only 4 people in the world who would be noticeably saddened at my passing, and I'm certain 3 of them would be tangibly better off without me, but they all want me to stick around.\n",
            "\n",
            "When I say I'm not worth the space I take up, it's not a passing moment of angst. I have no particular practical skills, and zero social skills. I can hold down a \"warm body\" job, but don't have any abilities or passions that would translate into a job that paid enough that I'd be financially stable. I already have a [worthless, liberal arts] Bachelor's, so going back to school to re-train means racking up serious debt, as there's little to no aid for students who already have a B.A. I'm pushing 30 and still live with my parents, on the premise that I'll go back to school for a high-need job once I have a little money saved. Spoiler alert I couldn't even finish the broad-base engineering physics series at the local community college, I can't code elementary-school-level Java even when I have explicit instructions,  and even if I suddenly got hit with the social-skills stick over-night (I'm reasonably sure I have Asperger's), I just failed my state Certified Nursing Assistant (CNA) exam. A.K.A., I'm too incompetent to get licensed to change adult diapers. I did well in and comparatively enjoyed biology classes at school, so I thought maybe I could translate that to working in an operating room, where I could be useful to the world and make a decent wage even though I have inadequate social skills. However, if I can't get my CNA, I can't go to nursing school, which seemed by far the best route in terms of being a program I could get into, afford, and be able to get a job from. (It seems like a lot of these healthcare specialties get listed as high-need jobs even though there's not very many openings, so it comes down again to networking, which both I and the four people who are close to me suck at.) The same difficulty/cost problems apply to veterinary school, plus difficulty getting a job. I've looked into those government-repayment programs for vets who work in rural areas, but it seems even the people who initially take advantage of them leave, because there's not enough customers who are able to pay -- that's why they were under-served in the first place. My mental processing and physical moments appear slower than average, too, so I'm not even very good at menial work. At my current job, I'll clock out at the expected time, but stay up to 2 hours late because that's just how long it takes me to do all the normal work tasks. I know this is illegal and most of the time I don't care, because I just want to do a half-way decent job and not get fired for being \"lazy.\" (I'm aware this technically puts the company at risk, but since I'm the only one there during those hours, there's no cameras to prove anything, and I have no intention of outting myself, I don't think the broken law would amount to anything serious against the company.)\n",
            "\n",
            "\"Gee,\" you say, \"it sounds like you're putting an awful lot of stock in a job. There's more to life than that!\" Sure, I say, so long as you have the social skills to connect with people. The four people who would be affected for more than a hot minute at my passing are my parents, my brother, and the friend I've had since I was 5. I have not managed to make any lasting, meaningful connections during the 23 years since then; and I've never had anything that could in the vaguest sense be considered a romantic relationship. The closest I've come to approximating social connections is people who share an interest or hobby, but those connections either are (a) through the internet, or (b) in classes or at events that require money. So, if I want to try to connect face-to-face, I'm back to the money part from the previous paragraph.\n",
            "\n",
            "I know I've been really privileged in a lot of life circumstances, and I'm incredibly lucky to have those four people. I try to contribute what I can through doing volunteer work, random acts of kindness, and occasional monetary donations (after all, at least I have a safe, dry place to sleep at night, which is more than some people). But my conclusion is that existence isn't really worth it for me; I don't enjoy it and I can't see how I can \"make things better.\" The idea of planning out an effective suicide, then spending the rest of my pathetic savings on a weekend of fun before I tap out is really, really appealing. My family's managed to make me understand, though, that even though I think I'm a waste of resources and life is not something I feel is worth continuing, they are desperate for me to stick around, and much as I suck, it'd be worse for them if I committed suicide. I'm a little frustrated with them, a lot frustrated with and hating myself, and just want to lose consciousness and not regain it.I'm absolutely nothing but an inconvenience to everyoneFirst of all, I'm 98% sure I am autistic. Yes, I know, nowadays, seemingly **everyone** self-\"diagnoses\" themselves with ASD or whatever else, but hear me out\n",
            "\n",
            "I have had 3 adults in the past, all of whom have had previous experience working with autistic people, that they strongly suspect that I am on the spectrum. My motor skills are so poor that I can barely even work retail jobs. Whenever I'm told to mop the floor, fix a machine, change something, or do basically **anything** that involves coordination, I'm completely hopeless despite giving my absolute best effort (an then there's the whole customer service thing). It took me until age 13, age fucking 13, to be able to sufficiently tie a shoe. Believe me, I try so damn hard at all of those things -- all of them, but I just can't ever, ever, ever get it.\n",
            "\n",
            "In the past 3 years, I have had **one** friend, and by \"friend\", I mean acquaintance that I spoke to every time I saw him between classes. I can't interact with anyone, I can't perform my job correctly, I can't make friends, I can't give out social cues, I can't do shit. However, I have never been officially diagnosed because whenever I talked to my parents about it when I was younger, they assured me that I was not \"different\" or \"odd\" in anyway.\n",
            "\n",
            "And as the title says, I'm just starting to feel like I'm nothing but an inconvenient waste of space to everyone around me. I'm absolutely useless at performing tasks, I have to rely on others to do them for me, I always accidentally say the wrong things to people, I always chase away potential friends with my apparent (but nonexistent) \"lack of empathy\", I have no independence, and I just feel like I do nothing but make the lives of everyone around me worse. I compared myself to a mosquito; nobody wants to have me around, and I'm just an annoyance. I feel like I'm that person that they roll their eyes when they see or that they want to avoid, and frankly, I don't even see the purpose of even being around at all if that's all my entire existence is.\n",
            "\n",
            "I've tried to put these thoughts behind me, and for a while, I was doing good. But recently, I was curious so started to browse the internet for what non-autistic people think about those on the spectrum, and it really confirmed my belief that it would just be better if I disappeared. The responses I found right here on Reddit\n",
            "\n",
            "&gt;It's an entitlement thing, imho. Autistic people are often praised for their intelligence (real or imagined) so they don't feel too bad about themselves, but it can also make them really full of themselves. Yeah, maybe I don't know shit about trains, but at least I can figure out how put on deodorant. [+11]\n",
            "\n",
            ".\n",
            "\n",
            "&gt;TBH, I've never met an autistic guy that wasn't a giant fucking weirdo with awful hygiene. [+14]\n",
            "\n",
            ".\n",
            "\n",
            "&gt;My brother is on the spectrum and I don't think I have the patience for a romantic relationship with a man who was. I would get so irritated so quickly at his outbursts, I'd get embarrassed when he'd act out in front of my friends (he has twitches/compulsive moment and he will still sometimes throw tantrums.) [+15]\n",
            "\n",
            ".\n",
            "\n",
            "&gt;Difficulty is not inability, and I find most men on the spectrum are not, actually, hopelessly incapable - they just throw their hands up and quit when things are hard instead of knuckling down and working on their social skills as skills. [+41]\n",
            "\n",
            "So there you have it. It was back to feeling like a mosquito again. I honestly don't know how I'm supposed to go on anymore, and I feel truly, sincerely feel more and more helpless each day.\n",
            "After lower -->  no hope, but don't want to hurt my familymy desire to die is, to me, pretty rational. i have nothing to contribute to the world don't anticipate being able to enjoy life for myself at any time in the future. there are only 4 people in the world who would be noticeably saddened at my passing, and i'm certain 3 of them would be tangibly better off without me, but they all want me to stick around.\n",
            "\n",
            "when i say i'm not worth the space i take up, it's not a passing moment of angst. i have no particular practical skills, and zero social skills. i can hold down a \"warm body\" job, but don't have any abilities or passions that would translate into a job that paid enough that i'd be financially stable. i already have a [worthless, liberal arts] bachelor's, so going back to school to re-train means racking up serious debt, as there's little to no aid for students who already have a b.a. i'm pushing 30 and still live with my parents, on the premise that i'll go back to school for a high-need job once i have a little money saved. spoiler alert i couldn't even finish the broad-base engineering physics series at the local community college, i can't code elementary-school-level java even when i have explicit instructions,  and even if i suddenly got hit with the social-skills stick over-night (i'm reasonably sure i have asperger's), i just failed my state certified nursing assistant (cna) exam. a.k.a., i'm too incompetent to get licensed to change adult diapers. i did well in and comparatively enjoyed biology classes at school, so i thought maybe i could translate that to working in an operating room, where i could be useful to the world and make a decent wage even though i have inadequate social skills. however, if i can't get my cna, i can't go to nursing school, which seemed by far the best route in terms of being a program i could get into, afford, and be able to get a job from. (it seems like a lot of these healthcare specialties get listed as high-need jobs even though there's not very many openings, so it comes down again to networking, which both i and the four people who are close to me suck at.) the same difficulty/cost problems apply to veterinary school, plus difficulty getting a job. i've looked into those government-repayment programs for vets who work in rural areas, but it seems even the people who initially take advantage of them leave, because there's not enough customers who are able to pay -- that's why they were under-served in the first place. my mental processing and physical moments appear slower than average, too, so i'm not even very good at menial work. at my current job, i'll clock out at the expected time, but stay up to 2 hours late because that's just how long it takes me to do all the normal work tasks. i know this is illegal and most of the time i don't care, because i just want to do a half-way decent job and not get fired for being \"lazy.\" (i'm aware this technically puts the company at risk, but since i'm the only one there during those hours, there's no cameras to prove anything, and i have no intention of outting myself, i don't think the broken law would amount to anything serious against the company.)\n",
            "\n",
            "\"gee,\" you say, \"it sounds like you're putting an awful lot of stock in a job. there's more to life than that!\" sure, i say, so long as you have the social skills to connect with people. the four people who would be affected for more than a hot minute at my passing are my parents, my brother, and the friend i've had since i was 5. i have not managed to make any lasting, meaningful connections during the 23 years since then; and i've never had anything that could in the vaguest sense be considered a romantic relationship. the closest i've come to approximating social connections is people who share an interest or hobby, but those connections either are (a) through the internet, or (b) in classes or at events that require money. so, if i want to try to connect face-to-face, i'm back to the money part from the previous paragraph.\n",
            "\n",
            "i know i've been really privileged in a lot of life circumstances, and i'm incredibly lucky to have those four people. i try to contribute what i can through doing volunteer work, random acts of kindness, and occasional monetary donations (after all, at least i have a safe, dry place to sleep at night, which is more than some people). but my conclusion is that existence isn't really worth it for me; i don't enjoy it and i can't see how i can \"make things better.\" the idea of planning out an effective suicide, then spending the rest of my pathetic savings on a weekend of fun before i tap out is really, really appealing. my family's managed to make me understand, though, that even though i think i'm a waste of resources and life is not something i feel is worth continuing, they are desperate for me to stick around, and much as i suck, it'd be worse for them if i committed suicide. i'm a little frustrated with them, a lot frustrated with and hating myself, and just want to lose consciousness and not regain it.i'm absolutely nothing but an inconvenience to everyonefirst of all, i'm 98% sure i am autistic. yes, i know, nowadays, seemingly **everyone** self-\"diagnoses\" themselves with asd or whatever else, but hear me out\n",
            "\n",
            "i have had 3 adults in the past, all of whom have had previous experience working with autistic people, that they strongly suspect that i am on the spectrum. my motor skills are so poor that i can barely even work retail jobs. whenever i'm told to mop the floor, fix a machine, change something, or do basically **anything** that involves coordination, i'm completely hopeless despite giving my absolute best effort (an then there's the whole customer service thing). it took me until age 13, age fucking 13, to be able to sufficiently tie a shoe. believe me, i try so damn hard at all of those things -- all of them, but i just can't ever, ever, ever get it.\n",
            "\n",
            "in the past 3 years, i have had **one** friend, and by \"friend\", i mean acquaintance that i spoke to every time i saw him between classes. i can't interact with anyone, i can't perform my job correctly, i can't make friends, i can't give out social cues, i can't do shit. however, i have never been officially diagnosed because whenever i talked to my parents about it when i was younger, they assured me that i was not \"different\" or \"odd\" in anyway.\n",
            "\n",
            "and as the title says, i'm just starting to feel like i'm nothing but an inconvenient waste of space to everyone around me. i'm absolutely useless at performing tasks, i have to rely on others to do them for me, i always accidentally say the wrong things to people, i always chase away potential friends with my apparent (but nonexistent) \"lack of empathy\", i have no independence, and i just feel like i do nothing but make the lives of everyone around me worse. i compared myself to a mosquito; nobody wants to have me around, and i'm just an annoyance. i feel like i'm that person that they roll their eyes when they see or that they want to avoid, and frankly, i don't even see the purpose of even being around at all if that's all my entire existence is.\n",
            "\n",
            "i've tried to put these thoughts behind me, and for a while, i was doing good. but recently, i was curious so started to browse the internet for what non-autistic people think about those on the spectrum, and it really confirmed my belief that it would just be better if i disappeared. the responses i found right here on reddit\n",
            "\n",
            "&gt;it's an entitlement thing, imho. autistic people are often praised for their intelligence (real or imagined) so they don't feel too bad about themselves, but it can also make them really full of themselves. yeah, maybe i don't know shit about trains, but at least i can figure out how put on deodorant. [+11]\n",
            "\n",
            ".\n",
            "\n",
            "&gt;tbh, i've never met an autistic guy that wasn't a giant fucking weirdo with awful hygiene. [+14]\n",
            "\n",
            ".\n",
            "\n",
            "&gt;my brother is on the spectrum and i don't think i have the patience for a romantic relationship with a man who was. i would get so irritated so quickly at his outbursts, i'd get embarrassed when he'd act out in front of my friends (he has twitches/compulsive moment and he will still sometimes throw tantrums.) [+15]\n",
            "\n",
            ".\n",
            "\n",
            "&gt;difficulty is not inability, and i find most men on the spectrum are not, actually, hopelessly incapable - they just throw their hands up and quit when things are hard instead of knuckling down and working on their social skills as skills. [+41]\n",
            "\n",
            "so there you have it. it was back to feeling like a mosquito again. i honestly don't know how i'm supposed to go on anymore, and i feel truly, sincerely feel more and more helpless each day.\n",
            "After remoeve non ascii -->  no hope, but don't want to hurt my familymy desire to die is, to me, pretty rational. i have nothing to contribute to the world don't anticipate being able to enjoy life for myself at any time in the future. there are only 4 people in the world who would be noticeably saddened at my passing, and i'm certain 3 of them would be tangibly better off without me, but they all want me to stick around.\n",
            "\n",
            "when i say i'm not worth the space i take up, it's not a passing moment of angst. i have no particular practical skills, and zero social skills. i can hold down a \"warm body\" job, but don't have any abilities or passions that would translate into a job that paid enough that i'd be financially stable. i already have a [worthless, liberal arts] bachelor's, so going back to school to re-train means racking up serious debt, as there's little to no aid for students who already have a b.a. i'm pushing 30 and still live with my parents, on the premise that i'll go back to school for a high-need job once i have a little money saved. spoiler alert i couldn't even finish the broad-base engineering physics series at the local community college, i can't code elementary-school-level java even when i have explicit instructions,  and even if i suddenly got hit with the social-skills stick over-night (i'm reasonably sure i have asperger's), i just failed my state certified nursing assistant (cna) exam. a.k.a., i'm too incompetent to get licensed to change adult diapers. i did well in and comparatively enjoyed biology classes at school, so i thought maybe i could translate that to working in an operating room, where i could be useful to the world and make a decent wage even though i have inadequate social skills. however, if i can't get my cna, i can't go to nursing school, which seemed by far the best route in terms of being a program i could get into, afford, and be able to get a job from. (it seems like a lot of these healthcare specialties get listed as high-need jobs even though there's not very many openings, so it comes down again to networking, which both i and the four people who are close to me suck at.) the same difficulty/cost problems apply to veterinary school, plus difficulty getting a job. i've looked into those government-repayment programs for vets who work in rural areas, but it seems even the people who initially take advantage of them leave, because there's not enough customers who are able to pay -- that's why they were under-served in the first place. my mental processing and physical moments appear slower than average, too, so i'm not even very good at menial work. at my current job, i'll clock out at the expected time, but stay up to 2 hours late because that's just how long it takes me to do all the normal work tasks. i know this is illegal and most of the time i don't care, because i just want to do a half-way decent job and not get fired for being \"lazy.\" (i'm aware this technically puts the company at risk, but since i'm the only one there during those hours, there's no cameras to prove anything, and i have no intention of outting myself, i don't think the broken law would amount to anything serious against the company.)\n",
            "\n",
            "\"gee,\" you say, \"it sounds like you're putting an awful lot of stock in a job. there's more to life than that!\" sure, i say, so long as you have the social skills to connect with people. the four people who would be affected for more than a hot minute at my passing are my parents, my brother, and the friend i've had since i was 5. i have not managed to make any lasting, meaningful connections during the 23 years since then; and i've never had anything that could in the vaguest sense be considered a romantic relationship. the closest i've come to approximating social connections is people who share an interest or hobby, but those connections either are (a) through the internet, or (b) in classes or at events that require money. so, if i want to try to connect face-to-face, i'm back to the money part from the previous paragraph.\n",
            "\n",
            "i know i've been really privileged in a lot of life circumstances, and i'm incredibly lucky to have those four people. i try to contribute what i can through doing volunteer work, random acts of kindness, and occasional monetary donations (after all, at least i have a safe, dry place to sleep at night, which is more than some people). but my conclusion is that existence isn't really worth it for me; i don't enjoy it and i can't see how i can \"make things better.\" the idea of planning out an effective suicide, then spending the rest of my pathetic savings on a weekend of fun before i tap out is really, really appealing. my family's managed to make me understand, though, that even though i think i'm a waste of resources and life is not something i feel is worth continuing, they are desperate for me to stick around, and much as i suck, it'd be worse for them if i committed suicide. i'm a little frustrated with them, a lot frustrated with and hating myself, and just want to lose consciousness and not regain it.i'm absolutely nothing but an inconvenience to everyonefirst of all, i'm 98% sure i am autistic. yes, i know, nowadays, seemingly **everyone** self-\"diagnoses\" themselves with asd or whatever else, but hear me out\n",
            "\n",
            "i have had 3 adults in the past, all of whom have had previous experience working with autistic people, that they strongly suspect that i am on the spectrum. my motor skills are so poor that i can barely even work retail jobs. whenever i'm told to mop the floor, fix a machine, change something, or do basically **anything** that involves coordination, i'm completely hopeless despite giving my absolute best effort (an then there's the whole customer service thing). it took me until age 13, age fucking 13, to be able to sufficiently tie a shoe. believe me, i try so damn hard at all of those things -- all of them, but i just can't ever, ever, ever get it.\n",
            "\n",
            "in the past 3 years, i have had **one** friend, and by \"friend\", i mean acquaintance that i spoke to every time i saw him between classes. i can't interact with anyone, i can't perform my job correctly, i can't make friends, i can't give out social cues, i can't do shit. however, i have never been officially diagnosed because whenever i talked to my parents about it when i was younger, they assured me that i was not \"different\" or \"odd\" in anyway.\n",
            "\n",
            "and as the title says, i'm just starting to feel like i'm nothing but an inconvenient waste of space to everyone around me. i'm absolutely useless at performing tasks, i have to rely on others to do them for me, i always accidentally say the wrong things to people, i always chase away potential friends with my apparent (but nonexistent) \"lack of empathy\", i have no independence, and i just feel like i do nothing but make the lives of everyone around me worse. i compared myself to a mosquito; nobody wants to have me around, and i'm just an annoyance. i feel like i'm that person that they roll their eyes when they see or that they want to avoid, and frankly, i don't even see the purpose of even being around at all if that's all my entire existence is.\n",
            "\n",
            "i've tried to put these thoughts behind me, and for a while, i was doing good. but recently, i was curious so started to browse the internet for what non-autistic people think about those on the spectrum, and it really confirmed my belief that it would just be better if i disappeared. the responses i found right here on reddit\n",
            "\n",
            "&gt;it's an entitlement thing, imho. autistic people are often praised for their intelligence (real or imagined) so they don't feel too bad about themselves, but it can also make them really full of themselves. yeah, maybe i don't know shit about trains, but at least i can figure out how put on deodorant. [+11]\n",
            "\n",
            ".\n",
            "\n",
            "&gt;tbh, i've never met an autistic guy that wasn't a giant fucking weirdo with awful hygiene. [+14]\n",
            "\n",
            ".\n",
            "\n",
            "&gt;my brother is on the spectrum and i don't think i have the patience for a romantic relationship with a man who was. i would get so irritated so quickly at his outbursts, i'd get embarrassed when he'd act out in front of my friends (he has twitches/compulsive moment and he will still sometimes throw tantrums.) [+15]\n",
            "\n",
            ".\n",
            "\n",
            "&gt;difficulty is not inability, and i find most men on the spectrum are not, actually, hopelessly incapable - they just throw their hands up and quit when things are hard instead of knuckling down and working on their social skills as skills. [+41]\n",
            "\n",
            "so there you have it. it was back to feeling like a mosquito again. i honestly don't know how i'm supposed to go on anymore, and i feel truly, sincerely feel more and more helpless each day.\n",
            "After remove email -->  no hope, but don't want to hurt my familymy desire to die is, to me, pretty rational. i have nothing to contribute to the world don't anticipate being able to enjoy life for myself at any time in the future. there are only 4 people in the world who would be noticeably saddened at my passing, and i'm certain 3 of them would be tangibly better off without me, but they all want me to stick around.\n",
            "\n",
            "when i say i'm not worth the space i take up, it's not a passing moment of angst. i have no particular practical skills, and zero social skills. i can hold down a \"warm body\" job, but don't have any abilities or passions that would translate into a job that paid enough that i'd be financially stable. i already have a [worthless, liberal arts] bachelor's, so going back to school to re-train means racking up serious debt, as there's little to no aid for students who already have a b.a. i'm pushing 30 and still live with my parents, on the premise that i'll go back to school for a high-need job once i have a little money saved. spoiler alert i couldn't even finish the broad-base engineering physics series at the local community college, i can't code elementary-school-level java even when i have explicit instructions,  and even if i suddenly got hit with the social-skills stick over-night (i'm reasonably sure i have asperger's), i just failed my state certified nursing assistant (cna) exam. a.k.a., i'm too incompetent to get licensed to change adult diapers. i did well in and comparatively enjoyed biology classes at school, so i thought maybe i could translate that to working in an operating room, where i could be useful to the world and make a decent wage even though i have inadequate social skills. however, if i can't get my cna, i can't go to nursing school, which seemed by far the best route in terms of being a program i could get into, afford, and be able to get a job from. (it seems like a lot of these healthcare specialties get listed as high-need jobs even though there's not very many openings, so it comes down again to networking, which both i and the four people who are close to me suck at.) the same difficulty/cost problems apply to veterinary school, plus difficulty getting a job. i've looked into those government-repayment programs for vets who work in rural areas, but it seems even the people who initially take advantage of them leave, because there's not enough customers who are able to pay -- that's why they were under-served in the first place. my mental processing and physical moments appear slower than average, too, so i'm not even very good at menial work. at my current job, i'll clock out at the expected time, but stay up to 2 hours late because that's just how long it takes me to do all the normal work tasks. i know this is illegal and most of the time i don't care, because i just want to do a half-way decent job and not get fired for being \"lazy.\" (i'm aware this technically puts the company at risk, but since i'm the only one there during those hours, there's no cameras to prove anything, and i have no intention of outting myself, i don't think the broken law would amount to anything serious against the company.)\n",
            "\n",
            "\"gee,\" you say, \"it sounds like you're putting an awful lot of stock in a job. there's more to life than that!\" sure, i say, so long as you have the social skills to connect with people. the four people who would be affected for more than a hot minute at my passing are my parents, my brother, and the friend i've had since i was 5. i have not managed to make any lasting, meaningful connections during the 23 years since then; and i've never had anything that could in the vaguest sense be considered a romantic relationship. the closest i've come to approximating social connections is people who share an interest or hobby, but those connections either are (a) through the internet, or (b) in classes or at events that require money. so, if i want to try to connect face-to-face, i'm back to the money part from the previous paragraph.\n",
            "\n",
            "i know i've been really privileged in a lot of life circumstances, and i'm incredibly lucky to have those four people. i try to contribute what i can through doing volunteer work, random acts of kindness, and occasional monetary donations (after all, at least i have a safe, dry place to sleep at night, which is more than some people). but my conclusion is that existence isn't really worth it for me; i don't enjoy it and i can't see how i can \"make things better.\" the idea of planning out an effective suicide, then spending the rest of my pathetic savings on a weekend of fun before i tap out is really, really appealing. my family's managed to make me understand, though, that even though i think i'm a waste of resources and life is not something i feel is worth continuing, they are desperate for me to stick around, and much as i suck, it'd be worse for them if i committed suicide. i'm a little frustrated with them, a lot frustrated with and hating myself, and just want to lose consciousness and not regain it.i'm absolutely nothing but an inconvenience to everyonefirst of all, i'm 98% sure i am autistic. yes, i know, nowadays, seemingly **everyone** self-\"diagnoses\" themselves with asd or whatever else, but hear me out\n",
            "\n",
            "i have had 3 adults in the past, all of whom have had previous experience working with autistic people, that they strongly suspect that i am on the spectrum. my motor skills are so poor that i can barely even work retail jobs. whenever i'm told to mop the floor, fix a machine, change something, or do basically **anything** that involves coordination, i'm completely hopeless despite giving my absolute best effort (an then there's the whole customer service thing). it took me until age 13, age fucking 13, to be able to sufficiently tie a shoe. believe me, i try so damn hard at all of those things -- all of them, but i just can't ever, ever, ever get it.\n",
            "\n",
            "in the past 3 years, i have had **one** friend, and by \"friend\", i mean acquaintance that i spoke to every time i saw him between classes. i can't interact with anyone, i can't perform my job correctly, i can't make friends, i can't give out social cues, i can't do shit. however, i have never been officially diagnosed because whenever i talked to my parents about it when i was younger, they assured me that i was not \"different\" or \"odd\" in anyway.\n",
            "\n",
            "and as the title says, i'm just starting to feel like i'm nothing but an inconvenient waste of space to everyone around me. i'm absolutely useless at performing tasks, i have to rely on others to do them for me, i always accidentally say the wrong things to people, i always chase away potential friends with my apparent (but nonexistent) \"lack of empathy\", i have no independence, and i just feel like i do nothing but make the lives of everyone around me worse. i compared myself to a mosquito; nobody wants to have me around, and i'm just an annoyance. i feel like i'm that person that they roll their eyes when they see or that they want to avoid, and frankly, i don't even see the purpose of even being around at all if that's all my entire existence is.\n",
            "\n",
            "i've tried to put these thoughts behind me, and for a while, i was doing good. but recently, i was curious so started to browse the internet for what non-autistic people think about those on the spectrum, and it really confirmed my belief that it would just be better if i disappeared. the responses i found right here on reddit\n",
            "\n",
            "&gt;it's an entitlement thing, imho. autistic people are often praised for their intelligence (real or imagined) so they don't feel too bad about themselves, but it can also make them really full of themselves. yeah, maybe i don't know shit about trains, but at least i can figure out how put on deodorant. [+11]\n",
            "\n",
            ".\n",
            "\n",
            "&gt;tbh, i've never met an autistic guy that wasn't a giant fucking weirdo with awful hygiene. [+14]\n",
            "\n",
            ".\n",
            "\n",
            "&gt;my brother is on the spectrum and i don't think i have the patience for a romantic relationship with a man who was. i would get so irritated so quickly at his outbursts, i'd get embarrassed when he'd act out in front of my friends (he has twitches/compulsive moment and he will still sometimes throw tantrums.) [+15]\n",
            "\n",
            ".\n",
            "\n",
            "&gt;difficulty is not inability, and i find most men on the spectrum are not, actually, hopelessly incapable - they just throw their hands up and quit when things are hard instead of knuckling down and working on their social skills as skills. [+41]\n",
            "\n",
            "so there you have it. it was back to feeling like a mosquito again. i honestly don't know how i'm supposed to go on anymore, and i feel truly, sincerely feel more and more helpless each day.\n",
            "After remove html -->  no hope, but don't want to hurt my familymy desire to die is, to me, pretty rational. i have nothing to contribute to the world don't anticipate being able to enjoy life for myself at any time in the future. there are only 4 people in the world who would be noticeably saddened at my passing, and i'm certain 3 of them would be tangibly better off without me, but they all want me to stick around.\n",
            "\n",
            "when i say i'm not worth the space i take up, it's not a passing moment of angst. i have no particular practical skills, and zero social skills. i can hold down a \"warm body\" job, but don't have any abilities or passions that would translate into a job that paid enough that i'd be financially stable. i already have a [worthless, liberal arts] bachelor's, so going back to school to re-train means racking up serious debt, as there's little to no aid for students who already have a b.a. i'm pushing 30 and still live with my parents, on the premise that i'll go back to school for a high-need job once i have a little money saved. spoiler alert i couldn't even finish the broad-base engineering physics series at the local community college, i can't code elementary-school-level java even when i have explicit instructions,  and even if i suddenly got hit with the social-skills stick over-night (i'm reasonably sure i have asperger's), i just failed my state certified nursing assistant (cna) exam. a.k.a., i'm too incompetent to get licensed to change adult diapers. i did well in and comparatively enjoyed biology classes at school, so i thought maybe i could translate that to working in an operating room, where i could be useful to the world and make a decent wage even though i have inadequate social skills. however, if i can't get my cna, i can't go to nursing school, which seemed by far the best route in terms of being a program i could get into, afford, and be able to get a job from. (it seems like a lot of these healthcare specialties get listed as high-need jobs even though there's not very many openings, so it comes down again to networking, which both i and the four people who are close to me suck at.) the same difficulty/cost problems apply to veterinary school, plus difficulty getting a job. i've looked into those government-repayment programs for vets who work in rural areas, but it seems even the people who initially take advantage of them leave, because there's not enough customers who are able to pay -- that's why they were under-served in the first place. my mental processing and physical moments appear slower than average, too, so i'm not even very good at menial work. at my current job, i'll clock out at the expected time, but stay up to 2 hours late because that's just how long it takes me to do all the normal work tasks. i know this is illegal and most of the time i don't care, because i just want to do a half-way decent job and not get fired for being \"lazy.\" (i'm aware this technically puts the company at risk, but since i'm the only one there during those hours, there's no cameras to prove anything, and i have no intention of outting myself, i don't think the broken law would amount to anything serious against the company.)\n",
            "\n",
            "\"gee,\" you say, \"it sounds like you're putting an awful lot of stock in a job. there's more to life than that!\" sure, i say, so long as you have the social skills to connect with people. the four people who would be affected for more than a hot minute at my passing are my parents, my brother, and the friend i've had since i was 5. i have not managed to make any lasting, meaningful connections during the 23 years since then; and i've never had anything that could in the vaguest sense be considered a romantic relationship. the closest i've come to approximating social connections is people who share an interest or hobby, but those connections either are (a) through the internet, or (b) in classes or at events that require money. so, if i want to try to connect face-to-face, i'm back to the money part from the previous paragraph.\n",
            "\n",
            "i know i've been really privileged in a lot of life circumstances, and i'm incredibly lucky to have those four people. i try to contribute what i can through doing volunteer work, random acts of kindness, and occasional monetary donations (after all, at least i have a safe, dry place to sleep at night, which is more than some people). but my conclusion is that existence isn't really worth it for me; i don't enjoy it and i can't see how i can \"make things better.\" the idea of planning out an effective suicide, then spending the rest of my pathetic savings on a weekend of fun before i tap out is really, really appealing. my family's managed to make me understand, though, that even though i think i'm a waste of resources and life is not something i feel is worth continuing, they are desperate for me to stick around, and much as i suck, it'd be worse for them if i committed suicide. i'm a little frustrated with them, a lot frustrated with and hating myself, and just want to lose consciousness and not regain it.i'm absolutely nothing but an inconvenience to everyonefirst of all, i'm 98% sure i am autistic. yes, i know, nowadays, seemingly **everyone** self-\"diagnoses\" themselves with asd or whatever else, but hear me out\n",
            "\n",
            "i have had 3 adults in the past, all of whom have had previous experience working with autistic people, that they strongly suspect that i am on the spectrum. my motor skills are so poor that i can barely even work retail jobs. whenever i'm told to mop the floor, fix a machine, change something, or do basically **anything** that involves coordination, i'm completely hopeless despite giving my absolute best effort (an then there's the whole customer service thing). it took me until age 13, age fucking 13, to be able to sufficiently tie a shoe. believe me, i try so damn hard at all of those things -- all of them, but i just can't ever, ever, ever get it.\n",
            "\n",
            "in the past 3 years, i have had **one** friend, and by \"friend\", i mean acquaintance that i spoke to every time i saw him between classes. i can't interact with anyone, i can't perform my job correctly, i can't make friends, i can't give out social cues, i can't do shit. however, i have never been officially diagnosed because whenever i talked to my parents about it when i was younger, they assured me that i was not \"different\" or \"odd\" in anyway.\n",
            "\n",
            "and as the title says, i'm just starting to feel like i'm nothing but an inconvenient waste of space to everyone around me. i'm absolutely useless at performing tasks, i have to rely on others to do them for me, i always accidentally say the wrong things to people, i always chase away potential friends with my apparent (but nonexistent) \"lack of empathy\", i have no independence, and i just feel like i do nothing but make the lives of everyone around me worse. i compared myself to a mosquito; nobody wants to have me around, and i'm just an annoyance. i feel like i'm that person that they roll their eyes when they see or that they want to avoid, and frankly, i don't even see the purpose of even being around at all if that's all my entire existence is.\n",
            "\n",
            "i've tried to put these thoughts behind me, and for a while, i was doing good. but recently, i was curious so started to browse the internet for what non-autistic people think about those on the spectrum, and it really confirmed my belief that it would just be better if i disappeared. the responses i found right here on reddit\n",
            "\n",
            ">it's an entitlement thing, imho. autistic people are often praised for their intelligence (real or imagined) so they don't feel too bad about themselves, but it can also make them really full of themselves. yeah, maybe i don't know shit about trains, but at least i can figure out how put on deodorant. [+11]\n",
            "\n",
            ".\n",
            "\n",
            ">tbh, i've never met an autistic guy that wasn't a giant fucking weirdo with awful hygiene. [+14]\n",
            "\n",
            ".\n",
            "\n",
            ">my brother is on the spectrum and i don't think i have the patience for a romantic relationship with a man who was. i would get so irritated so quickly at his outbursts, i'd get embarrassed when he'd act out in front of my friends (he has twitches/compulsive moment and he will still sometimes throw tantrums.) [+15]\n",
            "\n",
            ".\n",
            "\n",
            ">difficulty is not inability, and i find most men on the spectrum are not, actually, hopelessly incapable - they just throw their hands up and quit when things are hard instead of knuckling down and working on their social skills as skills. [+41]\n",
            "\n",
            "so there you have it. it was back to feeling like a mosquito again. i honestly don't know how i'm supposed to go on anymore, and i feel truly, sincerely feel more and more helpless each day.\n",
            "After remove url -->  no hope, but don't want to hurt my familymy desire to die is, to me, pretty rational. i have nothing to contribute to the world don't anticipate being able to enjoy life for myself at any time in the future. there are only 4 people in the world who would be noticeably saddened at my passing, and i'm certain 3 of them would be tangibly better off without me, but they all want me to stick around.\n",
            "\n",
            "when i say i'm not worth the space i take up, it's not a passing moment of angst. i have no particular practical skills, and zero social skills. i can hold down a \"warm body\" job, but don't have any abilities or passions that would translate into a job that paid enough that i'd be financially stable. i already have a [worthless, liberal arts] bachelor's, so going back to school to re-train means racking up serious debt, as there's little to no aid for students who already have a b.a. i'm pushing 30 and still live with my parents, on the premise that i'll go back to school for a high-need job once i have a little money saved. spoiler alert i couldn't even finish the broad-base engineering physics series at the local community college, i can't code elementary-school-level java even when i have explicit instructions,  and even if i suddenly got hit with the social-skills stick over-night (i'm reasonably sure i have asperger's), i just failed my state certified nursing assistant (cna) exam. a.k.a., i'm too incompetent to get licensed to change adult diapers. i did well in and comparatively enjoyed biology classes at school, so i thought maybe i could translate that to working in an operating room, where i could be useful to the world and make a decent wage even though i have inadequate social skills. however, if i can't get my cna, i can't go to nursing school, which seemed by far the best route in terms of being a program i could get into, afford, and be able to get a job from. (it seems like a lot of these healthcare specialties get listed as high-need jobs even though there's not very many openings, so it comes down again to networking, which both i and the four people who are close to me suck at.) the same difficulty/cost problems apply to veterinary school, plus difficulty getting a job. i've looked into those government-repayment programs for vets who work in rural areas, but it seems even the people who initially take advantage of them leave, because there's not enough customers who are able to pay -- that's why they were under-served in the first place. my mental processing and physical moments appear slower than average, too, so i'm not even very good at menial work. at my current job, i'll clock out at the expected time, but stay up to 2 hours late because that's just how long it takes me to do all the normal work tasks. i know this is illegal and most of the time i don't care, because i just want to do a half-way decent job and not get fired for being \"lazy.\" (i'm aware this technically puts the company at risk, but since i'm the only one there during those hours, there's no cameras to prove anything, and i have no intention of outting myself, i don't think the broken law would amount to anything serious against the company.)\n",
            "\n",
            "\"gee,\" you say, \"it sounds like you're putting an awful lot of stock in a job. there's more to life than that!\" sure, i say, so long as you have the social skills to connect with people. the four people who would be affected for more than a hot minute at my passing are my parents, my brother, and the friend i've had since i was 5. i have not managed to make any lasting, meaningful connections during the 23 years since then; and i've never had anything that could in the vaguest sense be considered a romantic relationship. the closest i've come to approximating social connections is people who share an interest or hobby, but those connections either are (a) through the internet, or (b) in classes or at events that require money. so, if i want to try to connect face-to-face, i'm back to the money part from the previous paragraph.\n",
            "\n",
            "i know i've been really privileged in a lot of life circumstances, and i'm incredibly lucky to have those four people. i try to contribute what i can through doing volunteer work, random acts of kindness, and occasional monetary donations (after all, at least i have a safe, dry place to sleep at night, which is more than some people). but my conclusion is that existence isn't really worth it for me; i don't enjoy it and i can't see how i can \"make things better.\" the idea of planning out an effective suicide, then spending the rest of my pathetic savings on a weekend of fun before i tap out is really, really appealing. my family's managed to make me understand, though, that even though i think i'm a waste of resources and life is not something i feel is worth continuing, they are desperate for me to stick around, and much as i suck, it'd be worse for them if i committed suicide. i'm a little frustrated with them, a lot frustrated with and hating myself, and just want to lose consciousness and not regain it.i'm absolutely nothing but an inconvenience to everyonefirst of all, i'm 98% sure i am autistic. yes, i know, nowadays, seemingly **everyone** self-\"diagnoses\" themselves with asd or whatever else, but hear me out\n",
            "\n",
            "i have had 3 adults in the past, all of whom have had previous experience working with autistic people, that they strongly suspect that i am on the spectrum. my motor skills are so poor that i can barely even work retail jobs. whenever i'm told to mop the floor, fix a machine, change something, or do basically **anything** that involves coordination, i'm completely hopeless despite giving my absolute best effort (an then there's the whole customer service thing). it took me until age 13, age fucking 13, to be able to sufficiently tie a shoe. believe me, i try so damn hard at all of those things -- all of them, but i just can't ever, ever, ever get it.\n",
            "\n",
            "in the past 3 years, i have had **one** friend, and by \"friend\", i mean acquaintance that i spoke to every time i saw him between classes. i can't interact with anyone, i can't perform my job correctly, i can't make friends, i can't give out social cues, i can't do shit. however, i have never been officially diagnosed because whenever i talked to my parents about it when i was younger, they assured me that i was not \"different\" or \"odd\" in anyway.\n",
            "\n",
            "and as the title says, i'm just starting to feel like i'm nothing but an inconvenient waste of space to everyone around me. i'm absolutely useless at performing tasks, i have to rely on others to do them for me, i always accidentally say the wrong things to people, i always chase away potential friends with my apparent (but nonexistent) \"lack of empathy\", i have no independence, and i just feel like i do nothing but make the lives of everyone around me worse. i compared myself to a mosquito; nobody wants to have me around, and i'm just an annoyance. i feel like i'm that person that they roll their eyes when they see or that they want to avoid, and frankly, i don't even see the purpose of even being around at all if that's all my entire existence is.\n",
            "\n",
            "i've tried to put these thoughts behind me, and for a while, i was doing good. but recently, i was curious so started to browse the internet for what non-autistic people think about those on the spectrum, and it really confirmed my belief that it would just be better if i disappeared. the responses i found right here on reddit\n",
            "\n",
            ">it's an entitlement thing, imho. autistic people are often praised for their intelligence (real or imagined) so they don't feel too bad about themselves, but it can also make them really full of themselves. yeah, maybe i don't know shit about trains, but at least i can figure out how put on deodorant. [+11]\n",
            "\n",
            ".\n",
            "\n",
            ">tbh, i've never met an autistic guy that wasn't a giant fucking weirdo with awful hygiene. [+14]\n",
            "\n",
            ".\n",
            "\n",
            ">my brother is on the spectrum and i don't think i have the patience for a romantic relationship with a man who was. i would get so irritated so quickly at his outbursts, i'd get embarrassed when he'd act out in front of my friends (he has twitches/compulsive moment and he will still sometimes throw tantrums.) [+15]\n",
            "\n",
            ".\n",
            "\n",
            ">difficulty is not inability, and i find most men on the spectrum are not, actually, hopelessly incapable - they just throw their hands up and quit when things are hard instead of knuckling down and working on their social skills as skills. [+41]\n",
            "\n",
            "so there you have it. it was back to feeling like a mosquito again. i honestly don't know how i'm supposed to go on anymore, and i feel truly, sincerely feel more and more helpless each day.\n",
            "replace repeated chars -->  no hope, but don't want to hurt my familymy desire to die is, to me, pretty rational. i have nothing to contribute to the world don't anticipate being able to enjoy life for myself at any time in the future. there are only 4 people in the world who would be noticeably saddened at my passing, and i'm certain 3 of them would be tangibly better off without me, but they all want me to stick around.\n",
            "\n",
            "when i say i'm not worth the space i take up, it's not a passing moment of angst. i have no particular practical skills, and zero social skills. i can hold down a \"warm body\" job, but don't have any abilities or passions that would translate into a job that paid enough that i'd be financially stable. i already have a [worthless, liberal arts] bachelor's, so going back to school to re-train means racking up serious debt, as there's little to no aid for students who already have a b.a. i'm pushing 30 and still live with my parents, on the premise that i'll go back to school for a high-need job once i have a little money saved. spoiler alert i couldn't even finish the broad-base engineering physics series at the local community college, i can't code elementary-school-level java even when i have explicit instructions,  and even if i suddenly got hit with the social-skills stick over-night (i'm reasonably sure i have asperger's), i just failed my state certified nursing assistant (cna) exam. a.k.a., i'm too incompetent to get licensed to change adult diapers. i did well in and comparatively enjoyed biology classes at school, so i thought maybe i could translate that to working in an operating room, where i could be useful to the world and make a decent wage even though i have inadequate social skills. however, if i can't get my cna, i can't go to nursing school, which seemed by far the best route in terms of being a program i could get into, afford, and be able to get a job from. (it seems like a lot of these healthcare specialties get listed as high-need jobs even though there's not very many openings, so it comes down again to networking, which both i and the four people who are close to me suck at.) the same difficulty/cost problems apply to veterinary school, plus difficulty getting a job. i've looked into those government-repayment programs for vets who work in rural areas, but it seems even the people who initially take advantage of them leave, because there's not enough customers who are able to pay -- that's why they were under-served in the first place. my mental processing and physical moments appear slower than average, too, so i'm not even very good at menial work. at my current job, i'll clock out at the expected time, but stay up to 2 hours late because that's just how long it takes me to do all the normal work tasks. i know this is illegal and most of the time i don't care, because i just want to do a half-way decent job and not get fired for being \"lazy.\" (i'm aware this technically puts the company at risk, but since i'm the only one there during those hours, there's no cameras to prove anything, and i have no intention of outting myself, i don't think the broken law would amount to anything serious against the company.)\n",
            "\n",
            "\"gee,\" you say, \"it sounds like you're putting an awful lot of stock in a job. there's more to life than that!\" sure, i say, so long as you have the social skills to connect with people. the four people who would be affected for more than a hot minute at my passing are my parents, my brother, and the friend i've had since i was 5. i have not managed to make any lasting, meaningful connections during the 23 years since then; and i've never had anything that could in the vaguest sense be considered a romantic relationship. the closest i've come to approximating social connections is people who share an interest or hobby, but those connections either are (a) through the internet, or (b) in classes or at events that require money. so, if i want to try to connect face-to-face, i'm back to the money part from the previous paragraph.\n",
            "\n",
            "i know i've been really privileged in a lot of life circumstances, and i'm incredibly lucky to have those four people. i try to contribute what i can through doing volunteer work, random acts of kindness, and occasional monetary donations (after all, at least i have a safe, dry place to sleep at night, which is more than some people). but my conclusion is that existence isn't really worth it for me; i don't enjoy it and i can't see how i can \"make things better.\" the idea of planning out an effective suicide, then spending the rest of my pathetic savings on a weekend of fun before i tap out is really, really appealing. my family's managed to make me understand, though, that even though i think i'm a waste of resources and life is not something i feel is worth continuing, they are desperate for me to stick around, and much as i suck, it'd be worse for them if i committed suicide. i'm a little frustrated with them, a lot frustrated with and hating myself, and just want to lose consciousness and not regain it.i'm absolutely nothing but an inconvenience to everyonefirst of all, i'm 98% sure i am autistic. yes, i know, nowadays, seemingly **everyone** self-\"diagnoses\" themselves with asd or whatever else, but hear me out\n",
            "\n",
            "i have had 3 adults in the past, all of whom have had previous experience working with autistic people, that they strongly suspect that i am on the spectrum. my motor skills are so poor that i can barely even work retail jobs. whenever i'm told to mop the floor, fix a machine, change something, or do basically **anything** that involves coordination, i'm completely hopeless despite giving my absolute best effort (an then there's the whole customer service thing). it took me until age 13, age fucking 13, to be able to sufficiently tie a shoe. believe me, i try so damn hard at all of those things -- all of them, but i just can't ever, ever, ever get it.\n",
            "\n",
            "in the past 3 years, i have had **one** friend, and by \"friend\", i mean acquaintance that i spoke to every time i saw him between classes. i can't interact with anyone, i can't perform my job correctly, i can't make friends, i can't give out social cues, i can't do shit. however, i have never been officially diagnosed because whenever i talked to my parents about it when i was younger, they assured me that i was not \"different\" or \"odd\" in anyway.\n",
            "\n",
            "and as the title says, i'm just starting to feel like i'm nothing but an inconvenient waste of space to everyone around me. i'm absolutely useless at performing tasks, i have to rely on others to do them for me, i always accidentally say the wrong things to people, i always chase away potential friends with my apparent (but nonexistent) \"lack of empathy\", i have no independence, and i just feel like i do nothing but make the lives of everyone around me worse. i compared myself to a mosquito; nobody wants to have me around, and i'm just an annoyance. i feel like i'm that person that they roll their eyes when they see or that they want to avoid, and frankly, i don't even see the purpose of even being around at all if that's all my entire existence is.\n",
            "\n",
            "i've tried to put these thoughts behind me, and for a while, i was doing good. but recently, i was curious so started to browse the internet for what non-autistic people think about those on the spectrum, and it really confirmed my belief that it would just be better if i disappeared. the responses i found right here on reddit\n",
            "\n",
            ">it's an entitlement thing, imho. autistic people are often praised for their intelligence (real or imagined) so they don't feel too bad about themselves, but it can also make them really full of themselves. yeah, maybe i don't know shit about trains, but at least i can figure out how put on deodorant. [+11]\n",
            "\n",
            ".\n",
            "\n",
            ">tbh, i've never met an autistic guy that wasn't a giant fucking weirdo with awful hygiene. [+14]\n",
            "\n",
            ".\n",
            "\n",
            ">my brother is on the spectrum and i don't think i have the patience for a romantic relationship with a man who was. i would get so irritated so quickly at his outbursts, i'd get embarrassed when he'd act out in front of my friends (he has twitches/compulsive moment and he will still sometimes throw tantrums.) [+15]\n",
            "\n",
            ".\n",
            "\n",
            ">difficulty is not inability, and i find most men on the spectrum are not, actually, hopelessly incapable - they just throw their hands up and quit when things are hard instead of knuckling down and working on their social skills as skills. [+41]\n",
            "\n",
            "so there you have it. it was back to feeling like a mosquito again. i honestly don't know how i'm supposed to go on anymore, and i feel truly, sincerely feel more and more helpless each day.\n",
            "After expand -->  no hope, but do not want to hurt my familymy desire to die is, to me, pretty rational. i have nothing to contribute to the world do not anticipate being able to enjoy life for myself at any time in the future. there are only 4 people in the world who would be noticeably saddened at my passing, and i am certain 3 of them would be tangibly better off without me, but they all want me to stick around.\n",
            "\n",
            "when i say i am not worth the space i take up, it is not a passing moment of angst. i have no particular practical skills, and zero social skills. i can hold down a \"warm body\" job, but do not have any abilities or passions that would translate into a job that paid enough that i would be financially stable. i already have a [worthless, liberal arts] bachelor's, so going back to school to re-train means racking up serious debt, as there is little to no aid for students who already have a b.a. i am pushing 30 and still live with my parents, on the premise that i will go back to school for a high-need job once i have a little money saved. spoiler alert i could not even finish the broad-base engineering physics series at the local community college, i cannot code elementary-school-level java even when i have explicit instructions,  and even if i suddenly got hit with the social-skills stick over-night (i am reasonably sure i have asperger's), i just failed my state certified nursing assistant (cna) exam. a.k.a., i am too incompetent to get licensed to change adult diapers. i did well in and comparatively enjoyed biology classes at school, so i thought maybe i could translate that to working in an operating room, where i could be useful to the world and make a decent wage even though i have inadequate social skills. however, if i cannot get my cna, i cannot go to nursing school, which seemed by far the best route in terms of being a program i could get into, afford, and be able to get a job from. (it seems like a lot of these healthcare specialties get listed as high-need jobs even though there is not very many openings, so it comes down again to networking, which both i and the four people who are close to me suck at.) the same difficulty/cost problems apply to veterinary school, plus difficulty getting a job. i have looked into those government-repayment programs for vets who work in rural areas, but it seems even the people who initially take advantage of them leave, because there is not enough customers who are able to pay -- that is why they were under-served in the first place. my mental processing and physical moments appear slower than average, too, so i am not even very good at menial work. at my current job, i will clock out at the expected time, but stay up to 2 hours late because that is just how long it takes me to do all the normal work tasks. i know this is illegal and most of the time i do not care, because i just want to do a half-way decent job and not get fired for being \"lazy.\" (i am aware this technically puts the company at risk, but since i am the only one there during those hours, there is no cameras to prove anything, and i have no intention of outting myself, i do not think the broken law would amount to anything serious against the company.)\n",
            "\n",
            "\"gee,\" you say, \"it sounds like you are putting an awful lot of stock in a job. there is more to life than that!\" sure, i say, so long as you have the social skills to connect with people. the four people who would be affected for more than a hot minute at my passing are my parents, my brother, and the friend i have had since i was 5. i have not managed to make any lasting, meaningful connections during the 23 years since then; and i have never had anything that could in the vaguest sense be considered a romantic relationship. the closest i have come to approximating social connections is people who share an interest or hobby, but those connections either are (a) through the internet, or (b) in classes or at events that require money. so, if i want to try to connect face-to-face, i am back to the money part from the previous paragraph.\n",
            "\n",
            "i know i have been really privileged in a lot of life circumstances, and i am incredibly lucky to have those four people. i try to contribute what i can through doing volunteer work, random acts of kindness, and occasional monetary donations (after all, at least i have a safe, dry place to sleep at night, which is more than some people). but my conclusion is that existence is not really worth it for me; i do not enjoy it and i cannot see how i can \"make things better.\" the idea of planning out an effective suicide, then spending the rest of my pathetic savings on a weekend of fun before i tap out is really, really appealing. my family's managed to make me understand, though, that even though i think i am a waste of resources and life is not something i feel is worth continuing, they are desperate for me to stick around, and much as i suck, it would be worse for them if i committed suicide. i am a little frustrated with them, a lot frustrated with and hating myself, and just want to lose consciousness and not regain it.i am absolutely nothing but an inconvenience to everyonefirst of all, i am 98% sure i am autistic. yes, i know, nowadays, seemingly **everyone** self-\"diagnoses\" themselves with asd or whatever else, but hear me out\n",
            "\n",
            "i have had 3 adults in the past, all of whom have had previous experience working with autistic people, that they strongly suspect that i am on the spectrum. my motor skills are so poor that i can barely even work retail jobs. whenever i am told to mop the floor, fix a machine, change something, or do basically **anything** that involves coordination, i am completely hopeless despite giving my absolute best effort (an then there is the whole customer service thing). it took me until age 13, age fucking 13, to be able to sufficiently tie a shoe. believe me, i try so damn hard at all of those things -- all of them, but i just cannot ever, ever, ever get it.\n",
            "\n",
            "in the past 3 years, i have had **one** friend, and by \"friend\", i mean acquaintance that i spoke to every time i saw him between classes. i cannot interact with anyone, i cannot perform my job correctly, i cannot make friends, i cannot give out social cues, i cannot do shit. however, i have never been officially diagnosed because whenever i talked to my parents about it when i was younger, they assured me that i was not \"different\" or \"odd\" in anyway.\n",
            "\n",
            "and as the title says, i am just starting to feel like i am nothing but an inconvenient waste of space to everyone around me. i am absolutely useless at performing tasks, i have to rely on others to do them for me, i always accidentally say the wrong things to people, i always chase away potential friends with my apparent (but nonexistent) \"lack of empathy\", i have no independence, and i just feel like i do nothing but make the lives of everyone around me worse. i compared myself to a mosquito; nobody wants to have me around, and i am just an annoyance. i feel like i am that person that they roll their eyes when they see or that they want to avoid, and frankly, i do not even see the purpose of even being around at all if that is all my entire existence is.\n",
            "\n",
            "i have tried to put these thoughts behind me, and for a while, i was doing good. but recently, i was curious so started to browse the internet for what non-autistic people think about those on the spectrum, and it really confirmed my belief that it would just be better if i disappeared. the responses i found right here on reddit\n",
            "\n",
            ">it is an entitlement thing, imho. autistic people are often praised for their intelligence (real or imagined) so they do not feel too bad about themselves, but it can also make them really full of themselves. yeah, maybe i do not know shit about trains, but at least i can figure out how put on deodorant. [+11]\n",
            "\n",
            ".\n",
            "\n",
            ">to be honest, i have never met an autistic guy that was not a giant fucking weirdo with awful hygiene. [+14]\n",
            "\n",
            ".\n",
            "\n",
            ">my brother is on the spectrum and i do not think i have the patience for a romantic relationship with a man who was. i would get so irritated so quickly at his outbursts, i would get embarrassed when he would act out in front of my friends (he has twitches/compulsive moment and he will still sometimes throw tantrums.) [+15]\n",
            "\n",
            ".\n",
            "\n",
            ">difficulty is not inability, and i find most men on the spectrum are not, actually, hopelessly incapable - they just throw their hands up and quit when things are hard instead of knuckling down and working on their social skills as skills. [+41]\n",
            "\n",
            "so there you have it. it was back to feeling like a mosquito again. i honestly do not know how i am supposed to go on anymore, and i feel truly, sincerely feel more and more helpless each day.\n",
            "After remove possessives -->  no hope, but do not want to hurt my familymy desire to die is, to me, pretty rational. i have nothing to contribute to the world do not anticipate being able to enjoy life for myself at any time in the future. there are only 4 people in the world who would be noticeably saddened at my passing, and i am certain 3 of them would be tangibly better off without me, but they all want me to stick around.\n",
            "\n",
            "when i say i am not worth the space i take up, it is not a passing moment of angst. i have no particular practical skills, and zero social skills. i can hold down a \"warm body\" job, but do not have any abilities or passions that would translate into a job that paid enough that i would be financially stable. i already have a [worthless, liberal arts] bachelor, so going back to school to re-train means racking up serious debt, as there is little to no aid for students who already have a b.a. i am pushing 30 and still live with my parents, on the premise that i will go back to school for a high-need job once i have a little money saved. spoiler alert i could not even finish the broad-base engineering physics series at the local community college, i cannot code elementary-school-level java even when i have explicit instructions,  and even if i suddenly got hit with the social-skills stick over-night (i am reasonably sure i have asperger), i just failed my state certified nursing assistant (cna) exam. a.k.a., i am too incompetent to get licensed to change adult diapers. i did well in and comparatively enjoyed biology classes at school, so i thought maybe i could translate that to working in an operating room, where i could be useful to the world and make a decent wage even though i have inadequate social skills. however, if i cannot get my cna, i cannot go to nursing school, which seemed by far the best route in terms of being a program i could get into, afford, and be able to get a job from. (it seems like a lot of these healthcare specialties get listed as high-need jobs even though there is not very many openings, so it comes down again to networking, which both i and the four people who are close to me suck at.) the same difficulty/cost problems apply to veterinary school, plus difficulty getting a job. i have looked into those government-repayment programs for vets who work in rural areas, but it seems even the people who initially take advantage of them leave, because there is not enough customers who are able to pay -- that is why they were under-served in the first place. my mental processing and physical moments appear slower than average, too, so i am not even very good at menial work. at my current job, i will clock out at the expected time, but stay up to 2 hours late because that is just how long it takes me to do all the normal work tasks. i know this is illegal and most of the time i do not care, because i just want to do a half-way decent job and not get fired for being \"lazy.\" (i am aware this technically puts the company at risk, but since i am the only one there during those hours, there is no cameras to prove anything, and i have no intention of outting myself, i do not think the broken law would amount to anything serious against the company.)\n",
            "\n",
            "\"gee,\" you say, \"it sounds like you are putting an awful lot of stock in a job. there is more to life than that!\" sure, i say, so long as you have the social skills to connect with people. the four people who would be affected for more than a hot minute at my passing are my parents, my brother, and the friend i have had since i was 5. i have not managed to make any lasting, meaningful connections during the 23 years since then; and i have never had anything that could in the vaguest sense be considered a romantic relationship. the closest i have come to approximating social connections is people who share an interest or hobby, but those connections either are (a) through the internet, or (b) in classes or at events that require money. so, if i want to try to connect face-to-face, i am back to the money part from the previous paragraph.\n",
            "\n",
            "i know i have been really privileged in a lot of life circumstances, and i am incredibly lucky to have those four people. i try to contribute what i can through doing volunteer work, random acts of kindness, and occasional monetary donations (after all, at least i have a safe, dry place to sleep at night, which is more than some people). but my conclusion is that existence is not really worth it for me; i do not enjoy it and i cannot see how i can \"make things better.\" the idea of planning out an effective suicide, then spending the rest of my pathetic savings on a weekend of fun before i tap out is really, really appealing. my family managed to make me understand, though, that even though i think i am a waste of resources and life is not something i feel is worth continuing, they are desperate for me to stick around, and much as i suck, it would be worse for them if i committed suicide. i am a little frustrated with them, a lot frustrated with and hating myself, and just want to lose consciousness and not regain it.i am absolutely nothing but an inconvenience to everyonefirst of all, i am 98% sure i am autistic. yes, i know, nowadays, seemingly **everyone** self-\"diagnoses\" themselves with asd or whatever else, but hear me out\n",
            "\n",
            "i have had 3 adults in the past, all of whom have had previous experience working with autistic people, that they strongly suspect that i am on the spectrum. my motor skills are so poor that i can barely even work retail jobs. whenever i am told to mop the floor, fix a machine, change something, or do basically **anything** that involves coordination, i am completely hopeless despite giving my absolute best effort (an then there is the whole customer service thing). it took me until age 13, age fucking 13, to be able to sufficiently tie a shoe. believe me, i try so damn hard at all of those things -- all of them, but i just cannot ever, ever, ever get it.\n",
            "\n",
            "in the past 3 years, i have had **one** friend, and by \"friend\", i mean acquaintance that i spoke to every time i saw him between classes. i cannot interact with anyone, i cannot perform my job correctly, i cannot make friends, i cannot give out social cues, i cannot do shit. however, i have never been officially diagnosed because whenever i talked to my parents about it when i was younger, they assured me that i was not \"different\" or \"odd\" in anyway.\n",
            "\n",
            "and as the title says, i am just starting to feel like i am nothing but an inconvenient waste of space to everyone around me. i am absolutely useless at performing tasks, i have to rely on others to do them for me, i always accidentally say the wrong things to people, i always chase away potential friends with my apparent (but nonexistent) \"lack of empathy\", i have no independence, and i just feel like i do nothing but make the lives of everyone around me worse. i compared myself to a mosquito; nobody wants to have me around, and i am just an annoyance. i feel like i am that person that they roll their eyes when they see or that they want to avoid, and frankly, i do not even see the purpose of even being around at all if that is all my entire existence is.\n",
            "\n",
            "i have tried to put these thoughts behind me, and for a while, i was doing good. but recently, i was curious so started to browse the internet for what non-autistic people think about those on the spectrum, and it really confirmed my belief that it would just be better if i disappeared. the responses i found right here on reddit\n",
            "\n",
            ">it is an entitlement thing, imho. autistic people are often praised for their intelligence (real or imagined) so they do not feel too bad about themselves, but it can also make them really full of themselves. yeah, maybe i do not know shit about trains, but at least i can figure out how put on deodorant. [+11]\n",
            "\n",
            ".\n",
            "\n",
            ">to be honest, i have never met an autistic guy that was not a giant fucking weirdo with awful hygiene. [+14]\n",
            "\n",
            ".\n",
            "\n",
            ">my brother is on the spectrum and i do not think i have the patience for a romantic relationship with a man who was. i would get so irritated so quickly at his outbursts, i would get embarrassed when he would act out in front of my friends (he has twitches/compulsive moment and he will still sometimes throw tantrums.) [+15]\n",
            "\n",
            ".\n",
            "\n",
            ">difficulty is not inability, and i find most men on the spectrum are not, actually, hopelessly incapable - they just throw their hands up and quit when things are hard instead of knuckling down and working on their social skills as skills. [+41]\n",
            "\n",
            "so there you have it. it was back to feeling like a mosquito again. i honestly do not know how i am supposed to go on anymore, and i feel truly, sincerely feel more and more helpless each day.\n",
            "After remove extra space -->  no hope, but do not want to hurt my familymy desire to die is, to me, pretty rational. i have nothing to contribute to the world do not anticipate being able to enjoy life for myself at any time in the future. there are only 4 people in the world who would be noticeably saddened at my passing, and i am certain 3 of them would be tangibly better off without me, but they all want me to stick around. when i say i am not worth the space i take up, it is not a passing moment of angst. i have no particular practical skills, and zero social skills. i can hold down a \"warm body\" job, but do not have any abilities or passions that would translate into a job that paid enough that i would be financially stable. i already have a [worthless, liberal arts] bachelor, so going back to school to re-train means racking up serious debt, as there is little to no aid for students who already have a b.a. i am pushing 30 and still live with my parents, on the premise that i will go back to school for a high-need job once i have a little money saved. spoiler alert i could not even finish the broad-base engineering physics series at the local community college, i cannot code elementary-school-level java even when i have explicit instructions, and even if i suddenly got hit with the social-skills stick over-night (i am reasonably sure i have asperger), i just failed my state certified nursing assistant (cna) exam. a.k.a., i am too incompetent to get licensed to change adult diapers. i did well in and comparatively enjoyed biology classes at school, so i thought maybe i could translate that to working in an operating room, where i could be useful to the world and make a decent wage even though i have inadequate social skills. however, if i cannot get my cna, i cannot go to nursing school, which seemed by far the best route in terms of being a program i could get into, afford, and be able to get a job from. (it seems like a lot of these healthcare specialties get listed as high-need jobs even though there is not very many openings, so it comes down again to networking, which both i and the four people who are close to me suck at.) the same difficulty/cost problems apply to veterinary school, plus difficulty getting a job. i have looked into those government-repayment programs for vets who work in rural areas, but it seems even the people who initially take advantage of them leave, because there is not enough customers who are able to pay -- that is why they were under-served in the first place. my mental processing and physical moments appear slower than average, too, so i am not even very good at menial work. at my current job, i will clock out at the expected time, but stay up to 2 hours late because that is just how long it takes me to do all the normal work tasks. i know this is illegal and most of the time i do not care, because i just want to do a half-way decent job and not get fired for being \"lazy.\" (i am aware this technically puts the company at risk, but since i am the only one there during those hours, there is no cameras to prove anything, and i have no intention of outting myself, i do not think the broken law would amount to anything serious against the company.) \"gee,\" you say, \"it sounds like you are putting an awful lot of stock in a job. there is more to life than that!\" sure, i say, so long as you have the social skills to connect with people. the four people who would be affected for more than a hot minute at my passing are my parents, my brother, and the friend i have had since i was 5. i have not managed to make any lasting, meaningful connections during the 23 years since then; and i have never had anything that could in the vaguest sense be considered a romantic relationship. the closest i have come to approximating social connections is people who share an interest or hobby, but those connections either are (a) through the internet, or (b) in classes or at events that require money. so, if i want to try to connect face-to-face, i am back to the money part from the previous paragraph. i know i have been really privileged in a lot of life circumstances, and i am incredibly lucky to have those four people. i try to contribute what i can through doing volunteer work, random acts of kindness, and occasional monetary donations (after all, at least i have a safe, dry place to sleep at night, which is more than some people). but my conclusion is that existence is not really worth it for me; i do not enjoy it and i cannot see how i can \"make things better.\" the idea of planning out an effective suicide, then spending the rest of my pathetic savings on a weekend of fun before i tap out is really, really appealing. my family managed to make me understand, though, that even though i think i am a waste of resources and life is not something i feel is worth continuing, they are desperate for me to stick around, and much as i suck, it would be worse for them if i committed suicide. i am a little frustrated with them, a lot frustrated with and hating myself, and just want to lose consciousness and not regain it.i am absolutely nothing but an inconvenience to everyonefirst of all, i am 98% sure i am autistic. yes, i know, nowadays, seemingly **everyone** self-\"diagnoses\" themselves with asd or whatever else, but hear me out i have had 3 adults in the past, all of whom have had previous experience working with autistic people, that they strongly suspect that i am on the spectrum. my motor skills are so poor that i can barely even work retail jobs. whenever i am told to mop the floor, fix a machine, change something, or do basically **anything** that involves coordination, i am completely hopeless despite giving my absolute best effort (an then there is the whole customer service thing). it took me until age 13, age fucking 13, to be able to sufficiently tie a shoe. believe me, i try so damn hard at all of those things -- all of them, but i just cannot ever, ever, ever get it. in the past 3 years, i have had **one** friend, and by \"friend\", i mean acquaintance that i spoke to every time i saw him between classes. i cannot interact with anyone, i cannot perform my job correctly, i cannot make friends, i cannot give out social cues, i cannot do shit. however, i have never been officially diagnosed because whenever i talked to my parents about it when i was younger, they assured me that i was not \"different\" or \"odd\" in anyway. and as the title says, i am just starting to feel like i am nothing but an inconvenient waste of space to everyone around me. i am absolutely useless at performing tasks, i have to rely on others to do them for me, i always accidentally say the wrong things to people, i always chase away potential friends with my apparent (but nonexistent) \"lack of empathy\", i have no independence, and i just feel like i do nothing but make the lives of everyone around me worse. i compared myself to a mosquito; nobody wants to have me around, and i am just an annoyance. i feel like i am that person that they roll their eyes when they see or that they want to avoid, and frankly, i do not even see the purpose of even being around at all if that is all my entire existence is. i have tried to put these thoughts behind me, and for a while, i was doing good. but recently, i was curious so started to browse the internet for what non-autistic people think about those on the spectrum, and it really confirmed my belief that it would just be better if i disappeared. the responses i found right here on reddit >it is an entitlement thing, imho. autistic people are often praised for their intelligence (real or imagined) so they do not feel too bad about themselves, but it can also make them really full of themselves. yeah, maybe i do not know shit about trains, but at least i can figure out how put on deodorant. [+11] . >to be honest, i have never met an autistic guy that was not a giant fucking weirdo with awful hygiene. [+14] . >my brother is on the spectrum and i do not think i have the patience for a romantic relationship with a man who was. i would get so irritated so quickly at his outbursts, i would get embarrassed when he would act out in front of my friends (he has twitches/compulsive moment and he will still sometimes throw tantrums.) [+15] . >difficulty is not inability, and i find most men on the spectrum are not, actually, hopelessly incapable - they just throw their hands up and quit when things are hard instead of knuckling down and working on their social skills as skills. [+41] so there you have it. it was back to feeling like a mosquito again. i honestly do not know how i am supposed to go on anymore, and i feel truly, sincerely feel more and more helpless each day.\n",
            "After tokenize -->  ['no', 'hope', ',', 'but', 'do', 'not', 'want', 'to', 'hurt', 'my', 'familymy', 'desire', 'to', 'die', 'is', ',', 'to', 'me', ',', 'pretty', 'rational', '.', 'i', 'have', 'nothing', 'to', 'contribute', 'to', 'the', 'world', 'do', 'not', 'anticipate', 'being', 'able', 'to', 'enjoy', 'life', 'for', 'myself', 'at', 'any', 'time', 'in', 'the', 'future', '.', 'there', 'are', 'only', '4', 'people', 'in', 'the', 'world', 'who', 'would', 'be', 'noticeably', 'saddened', 'at', 'my', 'passing', ',', 'and', 'i', 'am', 'certain', '3', 'of', 'them', 'would', 'be', 'tangibly', 'better', 'off', 'without', 'me', ',', 'but', 'they', 'all', 'want', 'me', 'to', 'stick', 'around', '.', 'when', 'i', 'say', 'i', 'am', 'not', 'worth', 'the', 'space', 'i', 'take', 'up', ',', 'it', 'is', 'not', 'a', 'passing', 'moment', 'of', 'angst', '.', 'i', 'have', 'no', 'particular', 'practical', 'skills', ',', 'and', 'zero', 'social', 'skills', '.', 'i', 'can', 'hold', 'down', 'a', '``', 'warm', 'body', \"''\", 'job', ',', 'but', 'do', 'not', 'have', 'any', 'abilities', 'or', 'passions', 'that', 'would', 'translate', 'into', 'a', 'job', 'that', 'paid', 'enough', 'that', 'i', 'would', 'be', 'financially', 'stable', '.', 'i', 'already', 'have', 'a', '[', 'worthless', ',', 'liberal', 'arts', ']', 'bachelor', ',', 'so', 'going', 'back', 'to', 'school', 'to', 're-train', 'means', 'racking', 'up', 'serious', 'debt', ',', 'as', 'there', 'is', 'little', 'to', 'no', 'aid', 'for', 'students', 'who', 'already', 'have', 'a', 'b.a', '.', 'i', 'am', 'pushing', '30', 'and', 'still', 'live', 'with', 'my', 'parents', ',', 'on', 'the', 'premise', 'that', 'i', 'will', 'go', 'back', 'to', 'school', 'for', 'a', 'high-need', 'job', 'once', 'i', 'have', 'a', 'little', 'money', 'saved', '.', 'spoiler', 'alert', 'i', 'could', 'not', 'even', 'finish', 'the', 'broad-base', 'engineering', 'physics', 'series', 'at', 'the', 'local', 'community', 'college', ',', 'i', 'can', 'not', 'code', 'elementary-school-level', 'java', 'even', 'when', 'i', 'have', 'explicit', 'instructions', ',', 'and', 'even', 'if', 'i', 'suddenly', 'got', 'hit', 'with', 'the', 'social-skills', 'stick', 'over-night', '(', 'i', 'am', 'reasonably', 'sure', 'i', 'have', 'asperger', ')', ',', 'i', 'just', 'failed', 'my', 'state', 'certified', 'nursing', 'assistant', '(', 'cna', ')', 'exam', '.', 'a.k.a.', ',', 'i', 'am', 'too', 'incompetent', 'to', 'get', 'licensed', 'to', 'change', 'adult', 'diapers', '.', 'i', 'did', 'well', 'in', 'and', 'comparatively', 'enjoyed', 'biology', 'classes', 'at', 'school', ',', 'so', 'i', 'thought', 'maybe', 'i', 'could', 'translate', 'that', 'to', 'working', 'in', 'an', 'operating', 'room', ',', 'where', 'i', 'could', 'be', 'useful', 'to', 'the', 'world', 'and', 'make', 'a', 'decent', 'wage', 'even', 'though', 'i', 'have', 'inadequate', 'social', 'skills', '.', 'however', ',', 'if', 'i', 'can', 'not', 'get', 'my', 'cna', ',', 'i', 'can', 'not', 'go', 'to', 'nursing', 'school', ',', 'which', 'seemed', 'by', 'far', 'the', 'best', 'route', 'in', 'terms', 'of', 'being', 'a', 'program', 'i', 'could', 'get', 'into', ',', 'afford', ',', 'and', 'be', 'able', 'to', 'get', 'a', 'job', 'from', '.', '(', 'it', 'seems', 'like', 'a', 'lot', 'of', 'these', 'healthcare', 'specialties', 'get', 'listed', 'as', 'high-need', 'jobs', 'even', 'though', 'there', 'is', 'not', 'very', 'many', 'openings', ',', 'so', 'it', 'comes', 'down', 'again', 'to', 'networking', ',', 'which', 'both', 'i', 'and', 'the', 'four', 'people', 'who', 'are', 'close', 'to', 'me', 'suck', 'at', '.', ')', 'the', 'same', 'difficulty/cost', 'problems', 'apply', 'to', 'veterinary', 'school', ',', 'plus', 'difficulty', 'getting', 'a', 'job', '.', 'i', 'have', 'looked', 'into', 'those', 'government-repayment', 'programs', 'for', 'vets', 'who', 'work', 'in', 'rural', 'areas', ',', 'but', 'it', 'seems', 'even', 'the', 'people', 'who', 'initially', 'take', 'advantage', 'of', 'them', 'leave', ',', 'because', 'there', 'is', 'not', 'enough', 'customers', 'who', 'are', 'able', 'to', 'pay', '--', 'that', 'is', 'why', 'they', 'were', 'under-served', 'in', 'the', 'first', 'place', '.', 'my', 'mental', 'processing', 'and', 'physical', 'moments', 'appear', 'slower', 'than', 'average', ',', 'too', ',', 'so', 'i', 'am', 'not', 'even', 'very', 'good', 'at', 'menial', 'work', '.', 'at', 'my', 'current', 'job', ',', 'i', 'will', 'clock', 'out', 'at', 'the', 'expected', 'time', ',', 'but', 'stay', 'up', 'to', '2', 'hours', 'late', 'because', 'that', 'is', 'just', 'how', 'long', 'it', 'takes', 'me', 'to', 'do', 'all', 'the', 'normal', 'work', 'tasks', '.', 'i', 'know', 'this', 'is', 'illegal', 'and', 'most', 'of', 'the', 'time', 'i', 'do', 'not', 'care', ',', 'because', 'i', 'just', 'want', 'to', 'do', 'a', 'half-way', 'decent', 'job', 'and', 'not', 'get', 'fired', 'for', 'being', '``', 'lazy', '.', \"''\", '(', 'i', 'am', 'aware', 'this', 'technically', 'puts', 'the', 'company', 'at', 'risk', ',', 'but', 'since', 'i', 'am', 'the', 'only', 'one', 'there', 'during', 'those', 'hours', ',', 'there', 'is', 'no', 'cameras', 'to', 'prove', 'anything', ',', 'and', 'i', 'have', 'no', 'intention', 'of', 'outting', 'myself', ',', 'i', 'do', 'not', 'think', 'the', 'broken', 'law', 'would', 'amount', 'to', 'anything', 'serious', 'against', 'the', 'company', '.', ')', '``', 'gee', ',', \"''\", 'you', 'say', ',', '``', 'it', 'sounds', 'like', 'you', 'are', 'putting', 'an', 'awful', 'lot', 'of', 'stock', 'in', 'a', 'job', '.', 'there', 'is', 'more', 'to', 'life', 'than', 'that', '!', \"''\", 'sure', ',', 'i', 'say', ',', 'so', 'long', 'as', 'you', 'have', 'the', 'social', 'skills', 'to', 'connect', 'with', 'people', '.', 'the', 'four', 'people', 'who', 'would', 'be', 'affected', 'for', 'more', 'than', 'a', 'hot', 'minute', 'at', 'my', 'passing', 'are', 'my', 'parents', ',', 'my', 'brother', ',', 'and', 'the', 'friend', 'i', 'have', 'had', 'since', 'i', 'was', '5.', 'i', 'have', 'not', 'managed', 'to', 'make', 'any', 'lasting', ',', 'meaningful', 'connections', 'during', 'the', '23', 'years', 'since', 'then', ';', 'and', 'i', 'have', 'never', 'had', 'anything', 'that', 'could', 'in', 'the', 'vaguest', 'sense', 'be', 'considered', 'a', 'romantic', 'relationship', '.', 'the', 'closest', 'i', 'have', 'come', 'to', 'approximating', 'social', 'connections', 'is', 'people', 'who', 'share', 'an', 'interest', 'or', 'hobby', ',', 'but', 'those', 'connections', 'either', 'are', '(', 'a', ')', 'through', 'the', 'internet', ',', 'or', '(', 'b', ')', 'in', 'classes', 'or', 'at', 'events', 'that', 'require', 'money', '.', 'so', ',', 'if', 'i', 'want', 'to', 'try', 'to', 'connect', 'face-to-face', ',', 'i', 'am', 'back', 'to', 'the', 'money', 'part', 'from', 'the', 'previous', 'paragraph', '.', 'i', 'know', 'i', 'have', 'been', 'really', 'privileged', 'in', 'a', 'lot', 'of', 'life', 'circumstances', ',', 'and', 'i', 'am', 'incredibly', 'lucky', 'to', 'have', 'those', 'four', 'people', '.', 'i', 'try', 'to', 'contribute', 'what', 'i', 'can', 'through', 'doing', 'volunteer', 'work', ',', 'random', 'acts', 'of', 'kindness', ',', 'and', 'occasional', 'monetary', 'donations', '(', 'after', 'all', ',', 'at', 'least', 'i', 'have', 'a', 'safe', ',', 'dry', 'place', 'to', 'sleep', 'at', 'night', ',', 'which', 'is', 'more', 'than', 'some', 'people', ')', '.', 'but', 'my', 'conclusion', 'is', 'that', 'existence', 'is', 'not', 'really', 'worth', 'it', 'for', 'me', ';', 'i', 'do', 'not', 'enjoy', 'it', 'and', 'i', 'can', 'not', 'see', 'how', 'i', 'can', '``', 'make', 'things', 'better', '.', \"''\", 'the', 'idea', 'of', 'planning', 'out', 'an', 'effective', 'suicide', ',', 'then', 'spending', 'the', 'rest', 'of', 'my', 'pathetic', 'savings', 'on', 'a', 'weekend', 'of', 'fun', 'before', 'i', 'tap', 'out', 'is', 'really', ',', 'really', 'appealing', '.', 'my', 'family', 'managed', 'to', 'make', 'me', 'understand', ',', 'though', ',', 'that', 'even', 'though', 'i', 'think', 'i', 'am', 'a', 'waste', 'of', 'resources', 'and', 'life', 'is', 'not', 'something', 'i', 'feel', 'is', 'worth', 'continuing', ',', 'they', 'are', 'desperate', 'for', 'me', 'to', 'stick', 'around', ',', 'and', 'much', 'as', 'i', 'suck', ',', 'it', 'would', 'be', 'worse', 'for', 'them', 'if', 'i', 'committed', 'suicide', '.', 'i', 'am', 'a', 'little', 'frustrated', 'with', 'them', ',', 'a', 'lot', 'frustrated', 'with', 'and', 'hating', 'myself', ',', 'and', 'just', 'want', 'to', 'lose', 'consciousness', 'and', 'not', 'regain', 'it.i', 'am', 'absolutely', 'nothing', 'but', 'an', 'inconvenience', 'to', 'everyonefirst', 'of', 'all', ',', 'i', 'am', '98', '%', 'sure', 'i', 'am', 'autistic', '.', 'yes', ',', 'i', 'know', ',', 'nowadays', ',', 'seemingly', '*', '*', 'everyone', '*', '*', 'self-', \"''\", 'diagnoses', \"''\", 'themselves', 'with', 'asd', 'or', 'whatever', 'else', ',', 'but', 'hear', 'me', 'out', 'i', 'have', 'had', '3', 'adults', 'in', 'the', 'past', ',', 'all', 'of', 'whom', 'have', 'had', 'previous', 'experience', 'working', 'with', 'autistic', 'people', ',', 'that', 'they', 'strongly', 'suspect', 'that', 'i', 'am', 'on', 'the', 'spectrum', '.', 'my', 'motor', 'skills', 'are', 'so', 'poor', 'that', 'i', 'can', 'barely', 'even', 'work', 'retail', 'jobs', '.', 'whenever', 'i', 'am', 'told', 'to', 'mop', 'the', 'floor', ',', 'fix', 'a', 'machine', ',', 'change', 'something', ',', 'or', 'do', 'basically', '*', '*', 'anything', '*', '*', 'that', 'involves', 'coordination', ',', 'i', 'am', 'completely', 'hopeless', 'despite', 'giving', 'my', 'absolute', 'best', 'effort', '(', 'an', 'then', 'there', 'is', 'the', 'whole', 'customer', 'service', 'thing', ')', '.', 'it', 'took', 'me', 'until', 'age', '13', ',', 'age', 'fucking', '13', ',', 'to', 'be', 'able', 'to', 'sufficiently', 'tie', 'a', 'shoe', '.', 'believe', 'me', ',', 'i', 'try', 'so', 'damn', 'hard', 'at', 'all', 'of', 'those', 'things', '--', 'all', 'of', 'them', ',', 'but', 'i', 'just', 'can', 'not', 'ever', ',', 'ever', ',', 'ever', 'get', 'it', '.', 'in', 'the', 'past', '3', 'years', ',', 'i', 'have', 'had', '*', '*', 'one', '*', '*', 'friend', ',', 'and', 'by', '``', 'friend', \"''\", ',', 'i', 'mean', 'acquaintance', 'that', 'i', 'spoke', 'to', 'every', 'time', 'i', 'saw', 'him', 'between', 'classes', '.', 'i', 'can', 'not', 'interact', 'with', 'anyone', ',', 'i', 'can', 'not', 'perform', 'my', 'job', 'correctly', ',', 'i', 'can', 'not', 'make', 'friends', ',', 'i', 'can', 'not', 'give', 'out', 'social', 'cues', ',', 'i', 'can', 'not', 'do', 'shit', '.', 'however', ',', 'i', 'have', 'never', 'been', 'officially', 'diagnosed', 'because', 'whenever', 'i', 'talked', 'to', 'my', 'parents', 'about', 'it', 'when', 'i', 'was', 'younger', ',', 'they', 'assured', 'me', 'that', 'i', 'was', 'not', '``', 'different', \"''\", 'or', '``', 'odd', \"''\", 'in', 'anyway', '.', 'and', 'as', 'the', 'title', 'says', ',', 'i', 'am', 'just', 'starting', 'to', 'feel', 'like', 'i', 'am', 'nothing', 'but', 'an', 'inconvenient', 'waste', 'of', 'space', 'to', 'everyone', 'around', 'me', '.', 'i', 'am', 'absolutely', 'useless', 'at', 'performing', 'tasks', ',', 'i', 'have', 'to', 'rely', 'on', 'others', 'to', 'do', 'them', 'for', 'me', ',', 'i', 'always', 'accidentally', 'say', 'the', 'wrong', 'things', 'to', 'people', ',', 'i', 'always', 'chase', 'away', 'potential', 'friends', 'with', 'my', 'apparent', '(', 'but', 'nonexistent', ')', '``', 'lack', 'of', 'empathy', \"''\", ',', 'i', 'have', 'no', 'independence', ',', 'and', 'i', 'just', 'feel', 'like', 'i', 'do', 'nothing', 'but', 'make', 'the', 'lives', 'of', 'everyone', 'around', 'me', 'worse', '.', 'i', 'compared', 'myself', 'to', 'a', 'mosquito', ';', 'nobody', 'wants', 'to', 'have', 'me', 'around', ',', 'and', 'i', 'am', 'just', 'an', 'annoyance', '.', 'i', 'feel', 'like', 'i', 'am', 'that', 'person', 'that', 'they', 'roll', 'their', 'eyes', 'when', 'they', 'see', 'or', 'that', 'they', 'want', 'to', 'avoid', ',', 'and', 'frankly', ',', 'i', 'do', 'not', 'even', 'see', 'the', 'purpose', 'of', 'even', 'being', 'around', 'at', 'all', 'if', 'that', 'is', 'all', 'my', 'entire', 'existence', 'is', '.', 'i', 'have', 'tried', 'to', 'put', 'these', 'thoughts', 'behind', 'me', ',', 'and', 'for', 'a', 'while', ',', 'i', 'was', 'doing', 'good', '.', 'but', 'recently', ',', 'i', 'was', 'curious', 'so', 'started', 'to', 'browse', 'the', 'internet', 'for', 'what', 'non-autistic', 'people', 'think', 'about', 'those', 'on', 'the', 'spectrum', ',', 'and', 'it', 'really', 'confirmed', 'my', 'belief', 'that', 'it', 'would', 'just', 'be', 'better', 'if', 'i', 'disappeared', '.', 'the', 'responses', 'i', 'found', 'right', 'here', 'on', 'reddit', '>', 'it', 'is', 'an', 'entitlement', 'thing', ',', 'imho', '.', 'autistic', 'people', 'are', 'often', 'praised', 'for', 'their', 'intelligence', '(', 'real', 'or', 'imagined', ')', 'so', 'they', 'do', 'not', 'feel', 'too', 'bad', 'about', 'themselves', ',', 'but', 'it', 'can', 'also', 'make', 'them', 'really', 'full', 'of', 'themselves', '.', 'yeah', ',', 'maybe', 'i', 'do', 'not', 'know', 'shit', 'about', 'trains', ',', 'but', 'at', 'least', 'i', 'can', 'figure', 'out', 'how', 'put', 'on', 'deodorant', '.', '[', '+11', ']', '.', '>', 'to', 'be', 'honest', ',', 'i', 'have', 'never', 'met', 'an', 'autistic', 'guy', 'that', 'was', 'not', 'a', 'giant', 'fucking', 'weirdo', 'with', 'awful', 'hygiene', '.', '[', '+14', ']', '.', '>', 'my', 'brother', 'is', 'on', 'the', 'spectrum', 'and', 'i', 'do', 'not', 'think', 'i', 'have', 'the', 'patience', 'for', 'a', 'romantic', 'relationship', 'with', 'a', 'man', 'who', 'was', '.', 'i', 'would', 'get', 'so', 'irritated', 'so', 'quickly', 'at', 'his', 'outbursts', ',', 'i', 'would', 'get', 'embarrassed', 'when', 'he', 'would', 'act', 'out', 'in', 'front', 'of', 'my', 'friends', '(', 'he', 'has', 'twitches/compulsive', 'moment', 'and', 'he', 'will', 'still', 'sometimes', 'throw', 'tantrums', '.', ')', '[', '+15', ']', '.', '>', 'difficulty', 'is', 'not', 'inability', ',', 'and', 'i', 'find', 'most', 'men', 'on', 'the', 'spectrum', 'are', 'not', ',', 'actually', ',', 'hopelessly', 'incapable', '-', 'they', 'just', 'throw', 'their', 'hands', 'up', 'and', 'quit', 'when', 'things', 'are', 'hard', 'instead', 'of', 'knuckling', 'down', 'and', 'working', 'on', 'their', 'social', 'skills', 'as', 'skills', '.', '[', '+41', ']', 'so', 'there', 'you', 'have', 'it', '.', 'it', 'was', 'back', 'to', 'feeling', 'like', 'a', 'mosquito', 'again', '.', 'i', 'honestly', 'do', 'not', 'know', 'how', 'i', 'am', 'supposed', 'to', 'go', 'on', 'anymore', ',', 'and', 'i', 'feel', 'truly', ',', 'sincerely', 'feel', 'more', 'and', 'more', 'helpless', 'each', 'day', '.']\n"
          ]
        },
        {
          "output_type": "stream",
          "name": "stderr",
          "text": [
            "\n"
          ]
        },
        {
          "output_type": "stream",
          "name": "stdout",
          "text": [
            "After spelling check -->  ['no', 'hope', ',', 'but', 'do', 'not', 'want', 'to', 'hurt', 'my', 'family', 'desire', 'to', 'die', 'is', ',', 'to', 'me', ',', 'pretty', 'rational', '.', 'i', 'have', 'nothing', 'to', 'contribute', 'to', 'the', 'world', 'do', 'not', 'anticipate', 'being', 'able', 'to', 'enjoy', 'life', 'for', 'myself', 'at', 'any', 'time', 'in', 'the', 'future', '.', 'there', 'are', 'only', '4', 'people', 'in', 'the', 'world', 'who', 'would', 'be', 'noticeably', 'saddened', 'at', 'my', 'passing', ',', 'and', 'i', 'am', 'certain', '3', 'of', 'them', 'would', 'be', 'tangibly', 'better', 'off', 'without', 'me', ',', 'but', 'they', 'all', 'want', 'me', 'to', 'stick', 'around', '.', 'when', 'i', 'say', 'i', 'am', 'not', 'worth', 'the', 'space', 'i', 'take', 'up', ',', 'it', 'is', 'not', 'a', 'passing', 'moment', 'of', 'angst', '.', 'i', 'have', 'no', 'particular', 'practical', 'skills', ',', 'and', 'zero', 'social', 'skills', '.', 'i', 'can', 'hold', 'down', 'a', 'i', 'warm', 'body', 'i', 'job', ',', 'but', 'do', 'not', 'have', 'any', 'abilities', 'or', 'passions', 'that', 'would', 'translate', 'into', 'a', 'job', 'that', 'paid', 'enough', 'that', 'i', 'would', 'be', 'financially', 'stable', '.', 'i', 'already', 'have', 'a', '[', 'worthless', ',', 'liberal', 'arts', ']', 'bachelor', ',', 'so', 'going', 'back', 'to', 'school', 'to', 'restrain', 'means', 'racking', 'up', 'serious', 'debt', ',', 'as', 'there', 'is', 'little', 'to', 'no', 'aid', 'for', 'students', 'who', 'already', 'have', 'a', 'bra', '.', 'i', 'am', 'pushing', '30', 'and', 'still', 'live', 'with', 'my', 'parents', ',', 'on', 'the', 'premise', 'that', 'i', 'will', 'go', 'back', 'to', 'school', 'for', 'a', 'high-need', 'job', 'once', 'i', 'have', 'a', 'little', 'money', 'saved', '.', 'spoiler', 'alert', 'i', 'could', 'not', 'even', 'finish', 'the', 'broad-base', 'engineering', 'physics', 'series', 'at', 'the', 'local', 'community', 'college', ',', 'i', 'can', 'not', 'code', 'elementary-school-level', 'java', 'even', 'when', 'i', 'have', 'explicit', 'instructions', ',', 'and', 'even', 'if', 'i', 'suddenly', 'got', 'hit', 'with', 'the', 'social-skills', 'stick', 'overnight', '(', 'i', 'am', 'reasonably', 'sure', 'i', 'have', 'asperse', ')', ',', 'i', 'just', 'failed', 'my', 'state', 'certified', 'nursing', 'assistant', '(', 'can', ')', 'exam', '.', 'a.k.a.', ',', 'i', 'am', 'too', 'incompetent', 'to', 'get', 'licensed', 'to', 'change', 'adult', 'diapers', '.', 'i', 'did', 'well', 'in', 'and', 'comparatively', 'enjoyed', 'biology', 'classes', 'at', 'school', ',', 'so', 'i', 'thought', 'maybe', 'i', 'could', 'translate', 'that', 'to', 'working', 'in', 'an', 'operating', 'room', ',', 'where', 'i', 'could', 'be', 'useful', 'to', 'the', 'world', 'and', 'make', 'a', 'decent', 'wage', 'even', 'though', 'i', 'have', 'inadequate', 'social', 'skills', '.', 'however', ',', 'if', 'i', 'can', 'not', 'get', 'my', 'can', ',', 'i', 'can', 'not', 'go', 'to', 'nursing', 'school', ',', 'which', 'seemed', 'by', 'far', 'the', 'best', 'route', 'in', 'terms', 'of', 'being', 'a', 'program', 'i', 'could', 'get', 'into', ',', 'afford', ',', 'and', 'be', 'able', 'to', 'get', 'a', 'job', 'from', '.', '(', 'it', 'seems', 'like', 'a', 'lot', 'of', 'these', 'healthcare', 'specialties', 'get', 'listed', 'as', 'high-need', 'jobs', 'even', 'though', 'there', 'is', 'not', 'very', 'many', 'openings', ',', 'so', 'it', 'comes', 'down', 'again', 'to', 'networking', ',', 'which', 'both', 'i', 'and', 'the', 'four', 'people', 'who', 'are', 'close', 'to', 'me', 'suck', 'at', '.', ')', 'the', 'same', 'difficulty/cost', 'problems', 'apply', 'to', 'veterinary', 'school', ',', 'plus', 'difficulty', 'getting', 'a', 'job', '.', 'i', 'have', 'looked', 'into', 'those', 'government-repayment', 'programs', 'for', 'vets', 'who', 'work', 'in', 'rural', 'areas', ',', 'but', 'it', 'seems', 'even', 'the', 'people', 'who', 'initially', 'take', 'advantage', 'of', 'them', 'leave', ',', 'because', 'there', 'is', 'not', 'enough', 'customers', 'who', 'are', 'able', 'to', 'pay', 'i', 'that', 'is', 'why', 'they', 'were', 'undeserved', 'in', 'the', 'first', 'place', '.', 'my', 'mental', 'processing', 'and', 'physical', 'moments', 'appear', 'slower', 'than', 'average', ',', 'too', ',', 'so', 'i', 'am', 'not', 'even', 'very', 'good', 'at', 'menial', 'work', '.', 'at', 'my', 'current', 'job', ',', 'i', 'will', 'clock', 'out', 'at', 'the', 'expected', 'time', ',', 'but', 'stay', 'up', 'to', '2', 'hours', 'late', 'because', 'that', 'is', 'just', 'how', 'long', 'it', 'takes', 'me', 'to', 'do', 'all', 'the', 'normal', 'work', 'tasks', '.', 'i', 'know', 'this', 'is', 'illegal', 'and', 'most', 'of', 'the', 'time', 'i', 'do', 'not', 'care', ',', 'because', 'i', 'just', 'want', 'to', 'do', 'a', 'halfway', 'decent', 'job', 'and', 'not', 'get', 'fired', 'for', 'being', 'i', 'lazy', '.', 'i', '(', 'i', 'am', 'aware', 'this', 'technically', 'puts', 'the', 'company', 'at', 'risk', ',', 'but', 'since', 'i', 'am', 'the', 'only', 'one', 'there', 'during', 'those', 'hours', ',', 'there', 'is', 'no', 'cameras', 'to', 'prove', 'anything', ',', 'and', 'i', 'have', 'no', 'intention', 'of', 'putting', 'myself', ',', 'i', 'do', 'not', 'think', 'the', 'broken', 'law', 'would', 'amount', 'to', 'anything', 'serious', 'against', 'the', 'company', '.', ')', 'i', 'gee', ',', 'i', 'you', 'say', ',', 'i', 'it', 'sounds', 'like', 'you', 'are', 'putting', 'an', 'awful', 'lot', 'of', 'stock', 'in', 'a', 'job', '.', 'there', 'is', 'more', 'to', 'life', 'than', 'that', '!', 'i', 'sure', ',', 'i', 'say', ',', 'so', 'long', 'as', 'you', 'have', 'the', 'social', 'skills', 'to', 'connect', 'with', 'people', '.', 'the', 'four', 'people', 'who', 'would', 'be', 'affected', 'for', 'more', 'than', 'a', 'hot', 'minute', 'at', 'my', 'passing', 'are', 'my', 'parents', ',', 'my', 'brother', ',', 'and', 'the', 'friend', 'i', 'have', 'had', 'since', 'i', 'was', '5.', 'i', 'have', 'not', 'managed', 'to', 'make', 'any', 'lasting', ',', 'meaningful', 'connections', 'during', 'the', '23', 'years', 'since', 'then', ';', 'and', 'i', 'have', 'never', 'had', 'anything', 'that', 'could', 'in', 'the', 'vaguest', 'sense', 'be', 'considered', 'a', 'romantic', 'relationship', '.', 'the', 'closest', 'i', 'have', 'come', 'to', 'approximating', 'social', 'connections', 'is', 'people', 'who', 'share', 'an', 'interest', 'or', 'hobby', ',', 'but', 'those', 'connections', 'either', 'are', '(', 'a', ')', 'through', 'the', 'internet', ',', 'or', '(', 'b', ')', 'in', 'classes', 'or', 'at', 'events', 'that', 'require', 'money', '.', 'so', ',', 'if', 'i', 'want', 'to', 'try', 'to', 'connect', 'face-to-face', ',', 'i', 'am', 'back', 'to', 'the', 'money', 'part', 'from', 'the', 'previous', 'paragraph', '.', 'i', 'know', 'i', 'have', 'been', 'really', 'privileged', 'in', 'a', 'lot', 'of', 'life', 'circumstances', ',', 'and', 'i', 'am', 'incredibly', 'lucky', 'to', 'have', 'those', 'four', 'people', '.', 'i', 'try', 'to', 'contribute', 'what', 'i', 'can', 'through', 'doing', 'volunteer', 'work', ',', 'random', 'acts', 'of', 'kindness', ',', 'and', 'occasional', 'monetary', 'donations', '(', 'after', 'all', ',', 'at', 'least', 'i', 'have', 'a', 'safe', ',', 'dry', 'place', 'to', 'sleep', 'at', 'night', ',', 'which', 'is', 'more', 'than', 'some', 'people', ')', '.', 'but', 'my', 'conclusion', 'is', 'that', 'existence', 'is', 'not', 'really', 'worth', 'it', 'for', 'me', ';', 'i', 'do', 'not', 'enjoy', 'it', 'and', 'i', 'can', 'not', 'see', 'how', 'i', 'can', 'i', 'make', 'things', 'better', '.', 'i', 'the', 'idea', 'of', 'planning', 'out', 'an', 'effective', 'suicide', ',', 'then', 'spending', 'the', 'rest', 'of', 'my', 'pathetic', 'savings', 'on', 'a', 'weekend', 'of', 'fun', 'before', 'i', 'tap', 'out', 'is', 'really', ',', 'really', 'appealing', '.', 'my', 'family', 'managed', 'to', 'make', 'me', 'understand', ',', 'though', ',', 'that', 'even', 'though', 'i', 'think', 'i', 'am', 'a', 'waste', 'of', 'resources', 'and', 'life', 'is', 'not', 'something', 'i', 'feel', 'is', 'worth', 'continuing', ',', 'they', 'are', 'desperate', 'for', 'me', 'to', 'stick', 'around', ',', 'and', 'much', 'as', 'i', 'suck', ',', 'it', 'would', 'be', 'worse', 'for', 'them', 'if', 'i', 'committed', 'suicide', '.', 'i', 'am', 'a', 'little', 'frustrated', 'with', 'them', ',', 'a', 'lot', 'frustrated', 'with', 'and', 'hating', 'myself', ',', 'and', 'just', 'want', 'to', 'lose', 'consciousness', 'and', 'not', 'regain', 'it', 'am', 'absolutely', 'nothing', 'but', 'an', 'inconvenience', 'to', 'everyonefirst', 'of', 'all', ',', 'i', 'am', '98', '%', 'sure', 'i', 'am', 'autistic', '.', 'yes', ',', 'i', 'know', ',', 'nowadays', ',', 'seemingly', '*', '*', 'everyone', '*', '*', 'self', 'i', 'diagnoses', 'i', 'themselves', 'with', 'and', 'or', 'whatever', 'else', ',', 'but', 'hear', 'me', 'out', 'i', 'have', 'had', '3', 'adults', 'in', 'the', 'past', ',', 'all', 'of', 'whom', 'have', 'had', 'previous', 'experience', 'working', 'with', 'autistic', 'people', ',', 'that', 'they', 'strongly', 'suspect', 'that', 'i', 'am', 'on', 'the', 'spectrum', '.', 'my', 'motor', 'skills', 'are', 'so', 'poor', 'that', 'i', 'can', 'barely', 'even', 'work', 'retail', 'jobs', '.', 'whenever', 'i', 'am', 'told', 'to', 'mop', 'the', 'floor', ',', 'fix', 'a', 'machine', ',', 'change', 'something', ',', 'or', 'do', 'basically', '*', '*', 'anything', '*', '*', 'that', 'involves', 'coordination', ',', 'i', 'am', 'completely', 'hopeless', 'despite', 'giving', 'my', 'absolute', 'best', 'effort', '(', 'an', 'then', 'there', 'is', 'the', 'whole', 'customer', 'service', 'thing', ')', '.', 'it', 'took', 'me', 'until', 'age', '13', ',', 'age', 'fucking', '13', ',', 'to', 'be', 'able', 'to', 'sufficiently', 'tie', 'a', 'shoe', '.', 'believe', 'me', ',', 'i', 'try', 'so', 'damn', 'hard', 'at', 'all', 'of', 'those', 'things', 'i', 'all', 'of', 'them', ',', 'but', 'i', 'just', 'can', 'not', 'ever', ',', 'ever', ',', 'ever', 'get', 'it', '.', 'in', 'the', 'past', '3', 'years', ',', 'i', 'have', 'had', '*', '*', 'one', '*', '*', 'friend', ',', 'and', 'by', 'i', 'friend', 'i', ',', 'i', 'mean', 'acquaintance', 'that', 'i', 'spoke', 'to', 'every', 'time', 'i', 'saw', 'him', 'between', 'classes', '.', 'i', 'can', 'not', 'interact', 'with', 'anyone', ',', 'i', 'can', 'not', 'perform', 'my', 'job', 'correctly', ',', 'i', 'can', 'not', 'make', 'friends', ',', 'i', 'can', 'not', 'give', 'out', 'social', 'cues', ',', 'i', 'can', 'not', 'do', 'shit', '.', 'however', ',', 'i', 'have', 'never', 'been', 'officially', 'diagnosed', 'because', 'whenever', 'i', 'talked', 'to', 'my', 'parents', 'about', 'it', 'when', 'i', 'was', 'younger', ',', 'they', 'assured', 'me', 'that', 'i', 'was', 'not', 'i', 'different', 'i', 'or', 'i', 'odd', 'i', 'in', 'anyway', '.', 'and', 'as', 'the', 'title', 'says', ',', 'i', 'am', 'just', 'starting', 'to', 'feel', 'like', 'i', 'am', 'nothing', 'but', 'an', 'inconvenient', 'waste', 'of', 'space', 'to', 'everyone', 'around', 'me', '.', 'i', 'am', 'absolutely', 'useless', 'at', 'performing', 'tasks', ',', 'i', 'have', 'to', 'rely', 'on', 'others', 'to', 'do', 'them', 'for', 'me', ',', 'i', 'always', 'accidentally', 'say', 'the', 'wrong', 'things', 'to', 'people', ',', 'i', 'always', 'chase', 'away', 'potential', 'friends', 'with', 'my', 'apparent', '(', 'but', 'nonexistent', ')', 'i', 'lack', 'of', 'empathy', 'i', ',', 'i', 'have', 'no', 'independence', ',', 'and', 'i', 'just', 'feel', 'like', 'i', 'do', 'nothing', 'but', 'make', 'the', 'lives', 'of', 'everyone', 'around', 'me', 'worse', '.', 'i', 'compared', 'myself', 'to', 'a', 'mosquito', ';', 'nobody', 'wants', 'to', 'have', 'me', 'around', ',', 'and', 'i', 'am', 'just', 'an', 'annoyance', '.', 'i', 'feel', 'like', 'i', 'am', 'that', 'person', 'that', 'they', 'roll', 'their', 'eyes', 'when', 'they', 'see', 'or', 'that', 'they', 'want', 'to', 'avoid', ',', 'and', 'frankly', ',', 'i', 'do', 'not', 'even', 'see', 'the', 'purpose', 'of', 'even', 'being', 'around', 'at', 'all', 'if', 'that', 'is', 'all', 'my', 'entire', 'existence', 'is', '.', 'i', 'have', 'tried', 'to', 'put', 'these', 'thoughts', 'behind', 'me', ',', 'and', 'for', 'a', 'while', ',', 'i', 'was', 'doing', 'good', '.', 'but', 'recently', ',', 'i', 'was', 'curious', 'so', 'started', 'to', 'browse', 'the', 'internet', 'for', 'what', 'non-autistic', 'people', 'think', 'about', 'those', 'on', 'the', 'spectrum', ',', 'and', 'it', 'really', 'confirmed', 'my', 'belief', 'that', 'it', 'would', 'just', 'be', 'better', 'if', 'i', 'disappeared', '.', 'the', 'responses', 'i', 'found', 'right', 'here', 'on', 'geddit', '>', 'it', 'is', 'an', 'entitlement', 'thing', ',', 'mho', '.', 'autistic', 'people', 'are', 'often', 'praised', 'for', 'their', 'intelligence', '(', 'real', 'or', 'imagined', ')', 'so', 'they', 'do', 'not', 'feel', 'too', 'bad', 'about', 'themselves', ',', 'but', 'it', 'can', 'also', 'make', 'them', 'really', 'full', 'of', 'themselves', '.', 'yeah', ',', 'maybe', 'i', 'do', 'not', 'know', 'shit', 'about', 'trains', ',', 'but', 'at', 'least', 'i', 'can', 'figure', 'out', 'how', 'put', 'on', 'deodorant', '.', '[', '+11', ']', '.', '>', 'to', 'be', 'honest', ',', 'i', 'have', 'never', 'met', 'an', 'autistic', 'guy', 'that', 'was', 'not', 'a', 'giant', 'fucking', 'weirdo', 'with', 'awful', 'hygiene', '.', '[', '+14', ']', '.', '>', 'my', 'brother', 'is', 'on', 'the', 'spectrum', 'and', 'i', 'do', 'not', 'think', 'i', 'have', 'the', 'patience', 'for', 'a', 'romantic', 'relationship', 'with', 'a', 'man', 'who', 'was', '.', 'i', 'would', 'get', 'so', 'irritated', 'so', 'quickly', 'at', 'his', 'outbursts', ',', 'i', 'would', 'get', 'embarrassed', 'when', 'he', 'would', 'act', 'out', 'in', 'front', 'of', 'my', 'friends', '(', 'he', 'has', 'twitches/compulsive', 'moment', 'and', 'he', 'will', 'still', 'sometimes', 'throw', 'tantrums', '.', ')', '[', '+15', ']', '.', '>', 'difficulty', 'is', 'not', 'inability', ',', 'and', 'i', 'find', 'most', 'men', 'on', 'the', 'spectrum', 'are', 'not', ',', 'actually', ',', 'hopelessly', 'incapable', '-', 'they', 'just', 'throw', 'their', 'hands', 'up', 'and', 'quit', 'when', 'things', 'are', 'hard', 'instead', 'of', 'knuckling', 'down', 'and', 'working', 'on', 'their', 'social', 'skills', 'as', 'skills', '.', '[', '+41', ']', 'so', 'there', 'you', 'have', 'it', '.', 'it', 'was', 'back', 'to', 'feeling', 'like', 'a', 'mosquito', 'again', '.', 'i', 'honestly', 'do', 'not', 'know', 'how', 'i', 'am', 'supposed', 'to', 'go', 'on', 'anymore', ',', 'and', 'i', 'feel', 'truly', ',', 'sincerely', 'feel', 'more', 'and', 'more', 'helpless', 'each', 'day', '.']\n",
            "-------------------------------\n",
            "Example from cleaned val set:\n",
            "no\n"
          ]
        }
      ],
      "source": [
        "\n",
        "if isTrain:\n",
        "    # test clean data\n",
        "    cleaned_train = clean_data(dialogues_val[0:2])\n",
        "    print('Example from cleaned val set:')\n",
        "    print(cleaned_train[0])\n",
        "\n",
        "    # test clean data\n",
        "    cleaned_train = clean_steps(dialogues_val[0:2])\n",
        "    print('Example from cleaned val set:')\n",
        "    print(cleaned_train[0])"
      ]
    },
    {
      "cell_type": "markdown",
      "metadata": {
        "id": "ZO2140anquGL"
      },
      "source": [
        "# preprocess the data set (Train, Validation, Test) if not preprocessed\n"
      ]
    },
    {
      "cell_type": "code",
      "source": [
        "!ls '/content/drive/MyDrive/Graduation-Project/Phase 2/suicidal_detection/train'"
      ],
      "metadata": {
        "id": "ZXaK-Rq0-fj6"
      },
      "execution_count": 46,
      "outputs": []
    },
    {
      "cell_type": "code",
      "execution_count": 40,
      "metadata": {
        "colab": {
          "base_uri": "https://localhost:8080/"
        },
        "id": "DM7DFFHqquGL",
        "outputId": "f81809a9-b904-45b6-d96c-949ec5106c6d"
      },
      "outputs": [
        {
          "output_type": "stream",
          "name": "stdout",
          "text": [
            "Preprocessing the training data\n"
          ]
        },
        {
          "output_type": "stream",
          "name": "stderr",
          "text": [
            "  0%|          | 0/162451 [00:00<?, ?it/s]<ipython-input-13-2d1d7d07ee10>:9: MarkupResemblesLocatorWarning: The input looks more like a filename than markup. You may want to open this file and pass the filehandle into Beautiful Soup.\n",
            "  return BeautifulSoup(sentence, \"html.parser\").get_text()\n",
            "100%|██████████| 162451/162451 [08:28<00:00, 319.78it/s]\n"
          ]
        }
      ],
      "source": [
        "if isTrain:\n",
        "    if not os.path.exists(train_preprocess):\n",
        "        print(\"Preprocessing the training data\")\n",
        "        dialogues_train_proccessed = clean_data(dialogues_train)\n",
        "        dump_tuple(train_preprocess,\n",
        "                   (dialogues_train_proccessed, labels_train))\n",
        "    else:\n",
        "        print(\"The preprocessed train data already exists\")"
      ]
    },
    {
      "cell_type": "code",
      "execution_count": 41,
      "metadata": {
        "colab": {
          "base_uri": "https://localhost:8080/"
        },
        "id": "aD0Sppe1quGL",
        "outputId": "74b3b79c-b9ef-4e47-ade1-4060b84c29af"
      },
      "outputs": [
        {
          "output_type": "stream",
          "name": "stdout",
          "text": [
            "Preprocessing the validation data\n"
          ]
        },
        {
          "output_type": "stream",
          "name": "stderr",
          "text": [
            "  0%|          | 39/46647 [00:00<02:02, 381.88it/s]<ipython-input-13-2d1d7d07ee10>:9: MarkupResemblesLocatorWarning: The input looks more like a filename than markup. You may want to open this file and pass the filehandle into Beautiful Soup.\n",
            "  return BeautifulSoup(sentence, \"html.parser\").get_text()\n",
            "100%|██████████| 46647/46647 [02:47<00:00, 278.99it/s]\n"
          ]
        }
      ],
      "source": [
        "if isTrain:\n",
        "    if not os.path.exists(dev_preprocess):\n",
        "        print(\"Preprocessing the validation data\")\n",
        "        dialogues_val_proccessed = clean_data(dialogues_val)\n",
        "        dump_tuple(dev_preprocess, (dialogues_val_proccessed, labels_val))\n",
        "    else:\n",
        "        print(\"The preprocessed dev data already exists\")"
      ]
    },
    {
      "cell_type": "code",
      "execution_count": 42,
      "metadata": {
        "colab": {
          "base_uri": "https://localhost:8080/"
        },
        "id": "RDGO--AqquGM",
        "outputId": "9abec39c-e0b9-45a7-be70-fd2547230147"
      },
      "outputs": [
        {
          "output_type": "stream",
          "name": "stdout",
          "text": [
            "Preprocessing the testing data\n"
          ]
        },
        {
          "output_type": "stream",
          "name": "stderr",
          "text": [
            "  0%|          | 0/22976 [00:00<?, ?it/s]<ipython-input-13-2d1d7d07ee10>:9: MarkupResemblesLocatorWarning: The input looks more like a filename than markup. You may want to open this file and pass the filehandle into Beautiful Soup.\n",
            "  return BeautifulSoup(sentence, \"html.parser\").get_text()\n",
            "100%|██████████| 22976/22976 [01:54<00:00, 201.44it/s]\n"
          ]
        }
      ],
      "source": [
        "if not os.path.exists(test_preprocess):\n",
        "    print(\"Preprocessing the testing data\")\n",
        "    dialogues_test_proccessed = clean_data(dialogues_test)\n",
        "    dump_tuple(test_preprocess, (dialogues_test_proccessed, labels_test))\n",
        "else:\n",
        "    print(\"The preprocessed test data already exists\")"
      ]
    },
    {
      "cell_type": "markdown",
      "metadata": {
        "id": "NrH6iNioquGM"
      },
      "source": [
        "# load the data (train, val, test)\n"
      ]
    },
    {
      "cell_type": "code",
      "execution_count": 45,
      "metadata": {
        "colab": {
          "base_uri": "https://localhost:8080/",
          "height": 332
        },
        "id": "dlVMatuZquGM",
        "outputId": "1145f3de-75b8-4434-eaff-89142e21595f"
      },
      "outputs": [
        {
          "output_type": "error",
          "ename": "FileNotFoundError",
          "evalue": "[Errno 2] No such file or directory: '/content/drive/MyDrive/Graduation-Project/Phase 2/suicidal_detection/train/dialogues_train_preprocess.pkl'",
          "traceback": [
            "\u001b[0;31m---------------------------------------------------------------------------\u001b[0m",
            "\u001b[0;31mFileNotFoundError\u001b[0m                         Traceback (most recent call last)",
            "\u001b[0;32m<ipython-input-45-c85f58c60a94>\u001b[0m in \u001b[0;36m<cell line: 1>\u001b[0;34m()\u001b[0m\n\u001b[1;32m      1\u001b[0m \u001b[0;32mif\u001b[0m \u001b[0misTrain\u001b[0m\u001b[0;34m:\u001b[0m\u001b[0;34m\u001b[0m\u001b[0;34m\u001b[0m\u001b[0m\n\u001b[1;32m      2\u001b[0m     \u001b[0;31m# load data (train, dev, test)\u001b[0m\u001b[0;34m\u001b[0m\u001b[0;34m\u001b[0m\u001b[0m\n\u001b[0;32m----> 3\u001b[0;31m     \u001b[0mdialogues_train_proccessed\u001b[0m\u001b[0;34m,\u001b[0m \u001b[0mlabels_train\u001b[0m \u001b[0;34m=\u001b[0m \u001b[0mload_tuple\u001b[0m\u001b[0;34m(\u001b[0m\u001b[0mtrain_preprocess\u001b[0m\u001b[0;34m)\u001b[0m\u001b[0;34m\u001b[0m\u001b[0;34m\u001b[0m\u001b[0m\n\u001b[0m\u001b[1;32m      4\u001b[0m     \u001b[0mdialogues_val_proccessed\u001b[0m\u001b[0;34m,\u001b[0m \u001b[0mlabels_val\u001b[0m \u001b[0;34m=\u001b[0m \u001b[0mload_tuple\u001b[0m\u001b[0;34m(\u001b[0m\u001b[0mdev_preprocess\u001b[0m\u001b[0;34m)\u001b[0m\u001b[0;34m\u001b[0m\u001b[0;34m\u001b[0m\u001b[0m\n\u001b[1;32m      5\u001b[0m \u001b[0mdialogues_test_proccessed\u001b[0m\u001b[0;34m,\u001b[0m \u001b[0mlabels_test\u001b[0m \u001b[0;34m=\u001b[0m \u001b[0mload_tuple\u001b[0m\u001b[0;34m(\u001b[0m\u001b[0mtest_preprocess\u001b[0m\u001b[0;34m)\u001b[0m\u001b[0;34m\u001b[0m\u001b[0;34m\u001b[0m\u001b[0m\n",
            "\u001b[0;32m<ipython-input-9-b22aad074851>\u001b[0m in \u001b[0;36mload_tuple\u001b[0;34m(filename)\u001b[0m\n\u001b[1;32m     19\u001b[0m     \u001b[0;34m:\u001b[0m\u001b[0mrtype\u001b[0m\u001b[0;34m:\u001b[0m \u001b[0mtuple\u001b[0m\u001b[0;34m\u001b[0m\u001b[0;34m\u001b[0m\u001b[0m\n\u001b[1;32m     20\u001b[0m     '''\n\u001b[0;32m---> 21\u001b[0;31m     \u001b[0;32mwith\u001b[0m \u001b[0mopen\u001b[0m\u001b[0;34m(\u001b[0m\u001b[0mfilename\u001b[0m\u001b[0;34m,\u001b[0m \u001b[0;34m'rb'\u001b[0m\u001b[0;34m)\u001b[0m \u001b[0;32mas\u001b[0m \u001b[0mfile\u001b[0m\u001b[0;34m:\u001b[0m\u001b[0;34m\u001b[0m\u001b[0;34m\u001b[0m\u001b[0m\n\u001b[0m\u001b[1;32m     22\u001b[0m         \u001b[0;32mreturn\u001b[0m \u001b[0mpickle\u001b[0m\u001b[0;34m.\u001b[0m\u001b[0mload\u001b[0m\u001b[0;34m(\u001b[0m\u001b[0mfile\u001b[0m\u001b[0;34m)\u001b[0m\u001b[0;34m\u001b[0m\u001b[0;34m\u001b[0m\u001b[0m\n\u001b[1;32m     23\u001b[0m \u001b[0;34m\u001b[0m\u001b[0m\n",
            "\u001b[0;31mFileNotFoundError\u001b[0m: [Errno 2] No such file or directory: '/content/drive/MyDrive/Graduation-Project/Phase 2/suicidal_detection/train/dialogues_train_preprocess.pkl'"
          ]
        }
      ],
      "source": [
        "if isTrain:\n",
        "    # load data (train, dev, test)\n",
        "    dialogues_train_proccessed, labels_train = load_tuple(train_preprocess)\n",
        "    dialogues_val_proccessed, labels_val = load_tuple(dev_preprocess)\n",
        "dialogues_test_proccessed, labels_test = load_tuple(test_preprocess)\n",
        "if isTrain:\n",
        "    # print length of each\n",
        "    print(\"train data length: \", len(\n",
        "        dialogues_train_proccessed), len(labels_train))\n",
        "    print(\"dev data length: \", len(dialogues_val_proccessed), len(labels_val))\n",
        "print(\"test data length: \", len(dialogues_test_proccessed), len(labels_test))"
      ]
    },
    {
      "cell_type": "markdown",
      "metadata": {
        "id": "k7yIOnwdquGM"
      },
      "source": [
        "# define the dataset\n"
      ]
    },
    {
      "cell_type": "code",
      "execution_count": 44,
      "metadata": {
        "id": "noYfo-UvquGN"
      },
      "outputs": [],
      "source": [
        "def glove(word: str) -> torch.Tensor:\n",
        "    \"\"\"\n",
        "    Retrieves the word embedding vector for a given word.\n",
        "\n",
        "    :param word: The word for which the embedding vector is retrieved.\n",
        "    :type word: str\n",
        "    :return: The word embedding vector for the given word.\n",
        "    :rtype: torch.Tensor\n",
        "    \"\"\"\n",
        "    return pretrained_wv[word]"
      ]
    },
    {
      "cell_type": "code",
      "execution_count": 47,
      "metadata": {
        "colab": {
          "base_uri": "https://localhost:8080/"
        },
        "id": "uSXLpqoEquGN",
        "outputId": "a5d77026-ea09-4713-901c-e16342cd6a9a"
      },
      "outputs": [
        {
          "output_type": "stream",
          "name": "stdout",
          "text": [
            "tensor([ 0.2523,  0.1018, -0.6748,  0.2112,  0.4349,  0.1654,  0.4826, -0.8122,\n",
            "         0.0413,  0.7850, -0.0779, -0.6632,  0.1464, -0.2929, -0.2549,  0.0193,\n",
            "        -0.2026,  0.9823,  0.0283, -0.0813, -0.1214,  0.1313, -0.1765,  0.1356,\n",
            "        -0.1636, -0.2257,  0.0550, -0.2031,  0.2072,  0.0958,  0.2248,  0.2154,\n",
            "        -0.3298, -0.1224, -0.4003, -0.0794, -0.1996, -0.0151, -0.0791, -0.1813,\n",
            "         0.2068, -0.3620, -0.3074, -0.2442, -0.2311,  0.0980,  0.1463, -0.0627,\n",
            "         0.4293, -0.0780, -0.1963,  0.6509, -0.2281, -0.3031, -0.1248, -0.1757,\n",
            "        -0.1465,  0.1536, -0.2952,  0.1510, -0.5173, -0.0336, -0.2311, -0.7833,\n",
            "         0.0180, -0.1572,  0.0229,  0.4964,  0.0292,  0.0567,  0.1462, -0.1919,\n",
            "         0.1624,  0.2390,  0.3643,  0.4526,  0.2456,  0.2380,  0.3140,  0.3487,\n",
            "        -0.0358,  0.5611, -0.2535,  0.0520, -0.1062, -0.3096,  1.0585, -0.4202,\n",
            "         0.1822, -0.1126,  0.4058,  0.1178, -0.1971, -0.0753,  0.0807, -0.0278,\n",
            "        -0.1562, -0.4468, -0.1516,  0.1692,  0.0983, -0.0319,  0.0871,  0.2608,\n",
            "         0.0027,  0.1319,  0.3444, -0.3789, -0.4114,  0.0816, -0.1167, -0.4371,\n",
            "         0.0111,  0.0994,  0.2661,  0.4002,  0.1890, -0.1844, -0.3036, -0.2725,\n",
            "         0.2247, -0.4061,  0.1562, -0.1604,  0.4715,  0.0080,  0.5686,  0.2193,\n",
            "        -0.1118,  0.7993,  0.1071, -0.5015,  0.0636,  0.0695,  0.1529, -0.2747,\n",
            "        -0.2099,  0.2074, -0.1068,  0.4065, -2.6438, -0.3114, -0.3216, -0.2646,\n",
            "        -0.3562,  0.0700, -0.1884,  0.4877, -0.2617, -0.0208,  0.1782,  0.1576,\n",
            "        -0.1375,  0.0565,  0.3077, -0.0661,  0.4748, -0.2734,  0.0973, -0.2083,\n",
            "         0.0039,  0.3460, -0.0870, -0.5492, -0.1876, -0.1717,  0.0603, -0.1352,\n",
            "         0.1042,  0.3016,  0.0580,  0.2187, -0.0736, -0.2042, -0.2528, -0.1047,\n",
            "        -0.3216,  0.1252, -0.3128,  0.0097, -0.2678, -0.6112, -0.1109, -0.1365,\n",
            "         0.0351, -0.4939,  0.0849, -0.1549, -0.0635, -0.2394,  0.2827,  0.1085,\n",
            "        -0.3365, -0.6076,  0.3858, -0.0095,  0.1750, -0.5272,  0.6221,  0.1954,\n",
            "        -0.4898,  0.0366, -0.1280, -0.0168,  0.2565, -0.3170,  0.4826, -0.1418,\n",
            "         0.1105, -0.3098, -0.6314, -0.3727,  0.2318, -0.1427, -0.0234,  0.0223,\n",
            "        -0.0447, -0.1640, -0.2585,  0.1629,  0.0248,  0.2335,  0.2793,  0.3900,\n",
            "        -0.0590,  0.1135,  0.1567,  0.1858, -0.1981, -0.4812, -0.0351,  0.0785,\n",
            "        -0.4983,  0.1085, -0.2013,  0.0529, -0.1158, -0.1601,  0.1677,  0.4236,\n",
            "        -0.2311,  0.0825,  0.2430, -0.1679,  0.0080,  0.0859,  0.3803,  0.0730,\n",
            "         0.1633,  0.2470, -0.1109,  0.1512, -0.2207, -0.0619, -0.0371, -0.0879,\n",
            "        -0.2318,  0.1504, -0.1909, -0.1911, -0.1189,  0.0949, -0.0043,  0.1536,\n",
            "        -0.4120, -0.3073,  0.1838,  0.4021, -0.0035, -0.1092, -0.6952,  0.1016,\n",
            "        -0.0793,  0.4033,  0.2228, -0.1937, -0.1331,  0.0732,  0.0998,  0.1169,\n",
            "        -0.2164, -0.1108,  0.1034,  0.0973,  0.1120, -0.3894, -0.0089,  0.2881,\n",
            "        -0.1079,  0.0288,  0.3255,  0.2605, -0.0389,  0.0752,  0.4603, -0.0629,\n",
            "         0.2166,  0.1787, -0.5192,  0.3359])\n",
            "300\n"
          ]
        }
      ],
      "source": [
        "if isTrain:\n",
        "    # test glove\n",
        "    embedding_test = glove('hello')\n",
        "    print(embedding_test)\n",
        "    print(len(embedding_test))"
      ]
    },
    {
      "cell_type": "markdown",
      "metadata": {
        "id": "ZThx5MT1quGN"
      },
      "source": [
        "# Define Dataest\n"
      ]
    },
    {
      "cell_type": "code",
      "execution_count": 48,
      "metadata": {
        "id": "O76cGLkKquGN"
      },
      "outputs": [],
      "source": [
        "class SUIDataset(Dataset):\n",
        "    def __init__(self, inputs: list, targets: list, word2vec: Callable[[str], torch.Tensor]):\n",
        "        '''\n",
        "        Initialize the EDCDataset.\n",
        "\n",
        "        :param inputs: List of conversations, where each conversation is a list of sentences,\n",
        "                       and each sentence is a list of words.\n",
        "        :type inputs: list\n",
        "        :param targets: List of labels for each conversation.\n",
        "        :type targets: list\n",
        "        '''\n",
        "        self.inputs = inputs\n",
        "        self.targets = targets\n",
        "        self.word2vec = word2vec\n",
        "\n",
        "    def __getitem__(self, index: int) -> tuple:\n",
        "        '''\n",
        "        Get the item at the specified index.\n",
        "\n",
        "        :param index: The index of the item to get.\n",
        "        :type index: int\n",
        "        :return: The conversation and its label at the specified index.\n",
        "        :rtype: tuple\n",
        "        '''\n",
        "        return [self.word2vec(word) for word in self.inputs[index]], self.targets[index]\n",
        "\n",
        "    def __len__(self) -> int:\n",
        "        '''\n",
        "        Get the length of the dataset.\n",
        "\n",
        "        :return: The number of samples in the dataset.\n",
        "        :rtype: int\n",
        "        '''\n",
        "        return len(self.inputs)"
      ]
    },
    {
      "cell_type": "code",
      "execution_count": 49,
      "metadata": {
        "colab": {
          "base_uri": "https://localhost:8080/"
        },
        "id": "iKoT41FjquGN",
        "outputId": "fcd8622c-1b87-41b7-ca35-23c98a711740"
      },
      "outputs": [
        {
          "output_type": "stream",
          "name": "stdout",
          "text": [
            "Inputs: [tensor([ 0.2523,  0.1018, -0.6748,  0.2112,  0.4349,  0.1654,  0.4826, -0.8122,\n",
            "         0.0413,  0.7850, -0.0779, -0.6632,  0.1464, -0.2929, -0.2549,  0.0193,\n",
            "        -0.2026,  0.9823,  0.0283, -0.0813, -0.1214,  0.1313, -0.1765,  0.1356,\n",
            "        -0.1636, -0.2257,  0.0550, -0.2031,  0.2072,  0.0958,  0.2248,  0.2154,\n",
            "        -0.3298, -0.1224, -0.4003, -0.0794, -0.1996, -0.0151, -0.0791, -0.1813,\n",
            "         0.2068, -0.3620, -0.3074, -0.2442, -0.2311,  0.0980,  0.1463, -0.0627,\n",
            "         0.4293, -0.0780, -0.1963,  0.6509, -0.2281, -0.3031, -0.1248, -0.1757,\n",
            "        -0.1465,  0.1536, -0.2952,  0.1510, -0.5173, -0.0336, -0.2311, -0.7833,\n",
            "         0.0180, -0.1572,  0.0229,  0.4964,  0.0292,  0.0567,  0.1462, -0.1919,\n",
            "         0.1624,  0.2390,  0.3643,  0.4526,  0.2456,  0.2380,  0.3140,  0.3487,\n",
            "        -0.0358,  0.5611, -0.2535,  0.0520, -0.1062, -0.3096,  1.0585, -0.4202,\n",
            "         0.1822, -0.1126,  0.4058,  0.1178, -0.1971, -0.0753,  0.0807, -0.0278,\n",
            "        -0.1562, -0.4468, -0.1516,  0.1692,  0.0983, -0.0319,  0.0871,  0.2608,\n",
            "         0.0027,  0.1319,  0.3444, -0.3789, -0.4114,  0.0816, -0.1167, -0.4371,\n",
            "         0.0111,  0.0994,  0.2661,  0.4002,  0.1890, -0.1844, -0.3036, -0.2725,\n",
            "         0.2247, -0.4061,  0.1562, -0.1604,  0.4715,  0.0080,  0.5686,  0.2193,\n",
            "        -0.1118,  0.7993,  0.1071, -0.5015,  0.0636,  0.0695,  0.1529, -0.2747,\n",
            "        -0.2099,  0.2074, -0.1068,  0.4065, -2.6438, -0.3114, -0.3216, -0.2646,\n",
            "        -0.3562,  0.0700, -0.1884,  0.4877, -0.2617, -0.0208,  0.1782,  0.1576,\n",
            "        -0.1375,  0.0565,  0.3077, -0.0661,  0.4748, -0.2734,  0.0973, -0.2083,\n",
            "         0.0039,  0.3460, -0.0870, -0.5492, -0.1876, -0.1717,  0.0603, -0.1352,\n",
            "         0.1042,  0.3016,  0.0580,  0.2187, -0.0736, -0.2042, -0.2528, -0.1047,\n",
            "        -0.3216,  0.1252, -0.3128,  0.0097, -0.2678, -0.6112, -0.1109, -0.1365,\n",
            "         0.0351, -0.4939,  0.0849, -0.1549, -0.0635, -0.2394,  0.2827,  0.1085,\n",
            "        -0.3365, -0.6076,  0.3858, -0.0095,  0.1750, -0.5272,  0.6221,  0.1954,\n",
            "        -0.4898,  0.0366, -0.1280, -0.0168,  0.2565, -0.3170,  0.4826, -0.1418,\n",
            "         0.1105, -0.3098, -0.6314, -0.3727,  0.2318, -0.1427, -0.0234,  0.0223,\n",
            "        -0.0447, -0.1640, -0.2585,  0.1629,  0.0248,  0.2335,  0.2793,  0.3900,\n",
            "        -0.0590,  0.1135,  0.1567,  0.1858, -0.1981, -0.4812, -0.0351,  0.0785,\n",
            "        -0.4983,  0.1085, -0.2013,  0.0529, -0.1158, -0.1601,  0.1677,  0.4236,\n",
            "        -0.2311,  0.0825,  0.2430, -0.1679,  0.0080,  0.0859,  0.3803,  0.0730,\n",
            "         0.1633,  0.2470, -0.1109,  0.1512, -0.2207, -0.0619, -0.0371, -0.0879,\n",
            "        -0.2318,  0.1504, -0.1909, -0.1911, -0.1189,  0.0949, -0.0043,  0.1536,\n",
            "        -0.4120, -0.3073,  0.1838,  0.4021, -0.0035, -0.1092, -0.6952,  0.1016,\n",
            "        -0.0793,  0.4033,  0.2228, -0.1937, -0.1331,  0.0732,  0.0998,  0.1169,\n",
            "        -0.2164, -0.1108,  0.1034,  0.0973,  0.1120, -0.3894, -0.0089,  0.2881,\n",
            "        -0.1079,  0.0288,  0.3255,  0.2605, -0.0389,  0.0752,  0.4603, -0.0629,\n",
            "         0.2166,  0.1787, -0.5192,  0.3359]), tensor([ 5.6092e-02,  3.1474e-02, -3.4864e-01, -3.8571e-01, -1.6293e-01,\n",
            "         1.5308e-01,  1.3734e-01, -3.9205e-01,  1.0636e-01,  2.2199e+00,\n",
            "         1.7040e-01, -2.1442e-01, -2.3341e-01, -2.5225e-01, -3.1974e-01,\n",
            "        -1.9818e-01,  8.5989e-05,  2.9326e-01, -1.3340e-01,  8.2403e-02,\n",
            "        -7.3577e-02, -1.1333e-01, -1.3407e-01, -8.5128e-02, -5.1696e-02,\n",
            "        -9.6711e-02, -9.4822e-02, -6.9858e-01,  5.3655e-01, -3.3401e-01,\n",
            "        -3.9311e-01, -7.1572e-02, -1.4650e-01, -4.6495e-01,  3.4755e-01,\n",
            "         3.0724e-01,  2.2852e-01,  1.0867e-01, -2.1425e-01,  2.4625e-01,\n",
            "        -3.6332e-02, -2.8385e-01, -2.3584e-01,  2.6121e-01, -1.9975e-01,\n",
            "         8.9078e-02,  3.6982e-02,  7.6851e-02, -3.5117e-02,  7.2501e-02,\n",
            "        -3.3588e-01, -5.8660e-02, -5.7270e-02, -1.0544e-01, -3.0504e-01,\n",
            "         3.1350e-01, -3.2516e-01, -4.0009e-01,  2.8284e-01,  8.4439e-02,\n",
            "        -1.1352e-01, -8.0880e-02, -4.6039e-02, -3.5867e-01, -2.0361e-01,\n",
            "        -1.5147e-01,  3.3175e-01, -6.6175e-02,  4.3899e-02,  2.3504e-01,\n",
            "        -8.2496e-02, -3.0432e-02,  4.7158e-01, -6.8322e-03,  5.1975e-01,\n",
            "         5.3812e-01, -4.1739e-03,  4.5349e-01, -2.2538e-01, -7.2995e-02,\n",
            "         6.5999e-02, -6.1472e-02, -4.5848e-03, -2.7590e-01, -1.4415e-01,\n",
            "        -1.4189e-01,  5.2667e-01, -3.5759e-01,  3.0357e-01, -1.0593e-01,\n",
            "        -2.0865e-01,  1.7805e-01, -3.4517e-01,  7.0901e-02,  7.7463e-03,\n",
            "         2.0144e-01, -1.6092e-01,  1.0720e-01, -1.5126e-02, -2.6855e-01,\n",
            "        -4.1289e-02, -3.1814e-01, -3.3603e-01, -6.5097e-01,  4.9753e-01,\n",
            "        -8.4349e-01,  3.3095e-01, -3.8238e-01,  3.8738e-01,  2.8379e-01,\n",
            "         1.9755e-01, -4.8907e-01,  5.4235e-01, -3.7829e-01, -4.8310e-01,\n",
            "        -2.8940e-01, -1.3644e-01, -4.7602e-01,  2.6825e-01, -2.8336e-02,\n",
            "         2.2079e-01,  1.9356e-01, -2.2124e-01,  3.4929e-01, -3.5165e-02,\n",
            "        -1.3824e-01,  2.1024e-01, -1.9618e-02,  3.2100e-01, -6.1261e-02,\n",
            "        -1.3477e-01, -9.2172e-02, -2.1601e-02,  1.1956e-02,  1.8361e-01,\n",
            "        -3.2550e-01, -1.9186e-01, -1.1051e-01, -4.2457e-01, -2.9811e-01,\n",
            "        -2.6431e+00,  1.1522e-01, -3.4640e-01, -3.2786e-01,  1.0788e-01,\n",
            "         4.2170e-01, -2.0061e-01,  2.4027e-01,  5.2349e-02, -2.4346e-01,\n",
            "         2.6873e-01,  4.3233e-01,  1.8950e-01,  8.8914e-02, -1.9916e-01,\n",
            "         2.3118e-01,  4.0364e-01, -9.6912e-02,  5.6473e-02, -3.4168e-01,\n",
            "        -5.1213e-01, -3.5166e-01, -2.9471e-02,  1.8372e-01,  4.4845e-01,\n",
            "        -4.5558e-01,  2.2600e-01,  1.6964e-02, -3.3493e-01, -5.1329e-01,\n",
            "        -3.0006e-01, -3.2479e-01, -3.8836e-01, -3.2749e-01,  1.6472e-01,\n",
            "        -1.1727e-01, -1.7201e-01, -7.5098e-02, -1.3585e-01,  2.4702e-01,\n",
            "        -5.2070e-01, -7.3067e-01, -4.3787e-01,  3.2675e-01,  3.0966e-01,\n",
            "         2.7567e-01,  1.4192e-01, -1.0351e-01,  4.8462e-01,  1.9128e-01,\n",
            "         2.5919e-01, -7.5522e-02, -1.1287e-01,  1.7554e-01,  3.7290e-01,\n",
            "        -2.3517e-02,  2.9849e-01, -2.4291e-01, -5.1923e-01, -1.8171e-01,\n",
            "        -1.7766e-01,  5.4384e-02, -2.3120e-01,  3.4029e-01, -3.7590e-01,\n",
            "         9.4569e-02, -9.7260e-02, -1.3816e-01,  3.1219e-01, -1.6363e-01,\n",
            "         1.0895e-01,  2.0875e-01,  2.7651e-01, -6.1277e-02,  2.2614e-01,\n",
            "        -1.0845e-01,  9.1051e-02, -8.3752e-03, -7.0553e-01, -1.9354e-01,\n",
            "         1.8921e-02, -2.1099e-01, -1.0612e-01,  1.0076e-01,  7.6506e-03,\n",
            "        -1.2689e-01, -7.4790e-02,  2.6766e-01, -1.4584e-01, -3.5127e-01,\n",
            "        -2.9627e-01,  4.9500e-01,  1.5659e-01, -2.0078e-01,  7.1278e-01,\n",
            "         2.6569e-02,  2.1058e-01, -5.8731e-01, -2.8914e-01,  3.5219e-01,\n",
            "        -9.6484e-02, -2.2427e-01, -1.7927e-01,  4.8644e-01, -6.6206e-01,\n",
            "         2.7302e-01, -2.1742e-01, -1.7531e-01,  2.0908e-01,  6.6835e-01,\n",
            "        -1.9391e-01, -1.4431e-01,  1.5426e-01,  1.7694e-01,  3.0727e-01,\n",
            "         5.6812e-02, -1.2533e-01,  1.0250e-01, -1.2361e-01,  5.8475e-01,\n",
            "        -1.6784e-01,  3.8472e-02,  2.3616e-01,  5.0564e-02,  2.5584e-01,\n",
            "         1.7693e-02, -3.6084e-01, -3.2636e-01,  3.6460e-01,  2.7051e-01,\n",
            "         1.0687e-01, -1.4712e-01, -6.8322e-01, -1.6606e-01,  7.0455e-02,\n",
            "        -3.4894e-01,  7.2453e-02, -1.6967e-01, -5.3971e-02,  8.0585e-01,\n",
            "        -1.0221e-01, -1.0289e-01, -9.4785e-03,  1.5739e-01,  1.1497e-01,\n",
            "         2.8789e-01, -9.2302e-02, -5.3496e-01, -5.2407e-02,  6.0821e-01,\n",
            "         2.9065e-01, -1.7153e-01,  1.7786e-01, -2.1605e-01,  2.7505e-01,\n",
            "         2.9199e-01,  1.4067e-01,  3.9613e-01, -1.5076e-01, -1.7061e-01])]\n",
            "Target: 0\n"
          ]
        }
      ],
      "source": [
        "if isTrain:\n",
        "    # test\n",
        "    conversations = [\n",
        "        [\n",
        "            'hello',\n",
        "            'tired'\n",
        "        ],\n",
        "        [\n",
        "            'sad',\n",
        "            'ill'\n",
        "        ]\n",
        "    ]\n",
        "\n",
        "    labels = [\n",
        "        0,\n",
        "        1\n",
        "    ]\n",
        "\n",
        "    dataset = SUIDataset(conversations, labels, glove)\n",
        "\n",
        "    inputs, target = dataset[0]\n",
        "\n",
        "    print(\"Inputs:\", inputs)\n",
        "    print(\"Target:\", target)"
      ]
    },
    {
      "cell_type": "code",
      "execution_count": 50,
      "metadata": {
        "id": "BUf8w_5qquGO"
      },
      "outputs": [],
      "source": [
        "def collate_fn(batch: List[Tuple[torch.Tensor, torch.Tensor]]) -> Tuple[torch.Tensor, torch.Tensor]:\n",
        "    '''\n",
        "    Collate function to be used with DataLoader.\n",
        "    :param batch: The batch to collate.\n",
        "    :type batch: List[Tuple[torch.Tensor, torch.Tensor]]\n",
        "    :return: The padded inputs and targets.\n",
        "    :rtype: Tuple[torch.Tensor, torch.Tensor]\n",
        "    '''\n",
        "    # Unzip the batch\n",
        "    inputs, targets = zip(*batch)\n",
        "\n",
        "    # Convert inputs to tensors and pad them\n",
        "    inputs_padded = pad_sequence([torch.stack(seq)\n",
        "                                 for seq in inputs], batch_first=True)\n",
        "\n",
        "    # Convert targets to tensor\n",
        "    targets = torch.tensor(targets)\n",
        "\n",
        "    return inputs_padded, targets"
      ]
    },
    {
      "cell_type": "code",
      "execution_count": 51,
      "metadata": {
        "colab": {
          "base_uri": "https://localhost:8080/"
        },
        "id": "aN1mB5S_quGO",
        "outputId": "0d2494c7-f616-4270-e6bc-702696a2fd86"
      },
      "outputs": [
        {
          "output_type": "stream",
          "name": "stdout",
          "text": [
            "tensor([[[ 0,  0],\n",
            "         [ 0,  0],\n",
            "         [ 0,  0]],\n",
            "\n",
            "        [[ 7,  8],\n",
            "         [ 9, 10],\n",
            "         [11, 12]],\n",
            "\n",
            "        [[13, 14],\n",
            "         [ 0,  0],\n",
            "         [ 0,  0]]])\n",
            "tensor([0, 1, 0])\n"
          ]
        }
      ],
      "source": [
        "if isTrain:\n",
        "    batch = [\n",
        "        # sentence with 2 words, target 0\n",
        "        ([torch.tensor([0, 0]), torch.tensor([0, 0])], 0),\n",
        "        # sentence with 3 words, target 1\n",
        "        ([torch.tensor([7, 8]), torch.tensor([9, 10]), torch.tensor([11, 12])], 1),\n",
        "        ([torch.tensor([13, 14])], 0)  # sentence with 1 word, target 0\n",
        "    ]\n",
        "    inputs_padded, targets = collate_fn(batch)\n",
        "\n",
        "    print(inputs_padded)\n",
        "    # tensor([[[ 1,  2,  3],\n",
        "    #          [ 4,  5,  6],\n",
        "    #          [ 0,  0,  0]],\n",
        "    #\n",
        "    #         [[ 7,  8,  9],\n",
        "    #          [10, 11, 12],\n",
        "    #          [13, 14,  0]],\n",
        "    #\n",
        "    #         [[15, 16,  0],\n",
        "    #          [ 0,  0,  0],\n",
        "    #          [ 0,  0,  0]]])\n",
        "\n",
        "    print(targets)\n",
        "    # tensor([0, 1, 0])"
      ]
    },
    {
      "cell_type": "markdown",
      "metadata": {
        "id": "M3oVSf9iquGO"
      },
      "source": [
        "# Model\n"
      ]
    },
    {
      "cell_type": "code",
      "execution_count": 105,
      "metadata": {
        "id": "-jvZxfqFquGP"
      },
      "outputs": [],
      "source": [
        "class Model(nn.Module):\n",
        "    '''\n",
        "    Model class for the Suicidal Detection and Classification model.\n",
        "    '''\n",
        "\n",
        "    def __init__(self, embedding_size: int, lstm_hidden_size: int, hidden_layer_size: int, cnn_layer_size: int, class_layer: int):\n",
        "        '''\n",
        "        Initialize the Suicidal Detection and Classification model.\n",
        "        :param embedding_size: The size of the word embeddings.\n",
        "        :type embedding_size: int\n",
        "        :param lstm_hidden_size: The size of the hidden layer in the LSTM.\n",
        "        :type lstm_hidden_size: int\n",
        "        :param hidden_layer_size: The size of the hidden layer in the feedforward neural network.\n",
        "        :type hidden_layer_size: int\n",
        "        :param cnn_layer_size: The size of the CNN layer.\n",
        "        :type cnn_layer_size: int\n",
        "        :param class_layer: The number of classes.\n",
        "        :type class_layer: int\n",
        "        '''\n",
        "        super(Model, self).__init__()\n",
        "\n",
        "        self.lstm = nn.LSTM(embedding_size, lstm_hidden_size, batch_first=True)\n",
        "        self.gmp = nn.AdaptiveMaxPool1d(cnn_layer_size)\n",
        "        self.fc1 = nn.Linear(lstm_hidden_size, hidden_layer_size)\n",
        "        self.fc2 = nn.Linear(hidden_layer_size, class_layer)\n",
        "\n",
        "    def forward(self, x: torch.Tensor) -> torch.Tensor:\n",
        "        '''\n",
        "        Forward pass of the model.\n",
        "        :param x: The input to the model.\n",
        "        :type x: torch.Tensor\n",
        "        :return: The output of the model.\n",
        "        :rtype: torch.Tensor\n",
        "        '''\n",
        "        x, _ = self.lstm(x)\n",
        "        x = self.gmp(x.transpose(1, 2)).squeeze(2)\n",
        "        x = F.relu(self.fc1(x))\n",
        "        x = torch.sigmoid(self.fc2(x))\n",
        "        return x"
      ]
    },
    {
      "cell_type": "code",
      "execution_count": 106,
      "metadata": {
        "id": "mVCDnvGZquGP"
      },
      "outputs": [],
      "source": [
        "def calculate_evaluation_scores(y_true: List[int], y_pred: List[int]) -> Tuple[float, float, float, float, str]:\n",
        "    '''\n",
        "    Evaluate the model using accuracy, precision, recall, and F1 score. NOTE -->  (Macro averaging)\n",
        "    :param y_true: The true labels.\n",
        "    :type y_true: list\n",
        "    :param y_pred: The predicted labels.\n",
        "    :type y_pred: list\n",
        "    :return: A tuple containing the accuracy, precision, recall, F1 score , and a string describing the metrics.\n",
        "    :rtype: tuple\n",
        "    '''\n",
        "    accuracy = accuracy_score(y_true, y_pred)\n",
        "    percision = precision_score(\n",
        "        y_true, y_pred, average=\"macro\", zero_division=1)\n",
        "    recall = recall_score(y_true, y_pred, average=\"macro\", zero_division=1)\n",
        "    f1 = f1_score(y_true, y_pred, average=\"macro\", zero_division=1)\n",
        "    report = classification_report(y_true, y_pred, zero_division=1)\n",
        "    matrix = confusion_matrix(y_true, y_pred)\n",
        "    # format confusion matrix for printing\n",
        "    matrix_str = \"Confusion Matrix:\\n\"\n",
        "    matrix_str += \"      Predicted\\n\"\n",
        "    matrix_str += \"       \" + \" \".join([str(i)\n",
        "                                       for i in range(len(matrix))]) + \"\\n\"\n",
        "    matrix_str += \"True\\n\"\n",
        "    matrix_str += \"\\n\".join([f\"{i:<6} {row}\" for i, row in enumerate(matrix)])\n",
        "\n",
        "    # Append confusion matrix to the report\n",
        "    report_with_matrix = report + \"\\n\\n\" + matrix_str\n",
        "\n",
        "    return (accuracy, percision, recall, f1, report_with_matrix)"
      ]
    },
    {
      "cell_type": "code",
      "execution_count": 107,
      "metadata": {
        "colab": {
          "base_uri": "https://localhost:8080/"
        },
        "id": "5AFsFn5BquGP",
        "outputId": "abd7e068-175b-4a4f-9296-86b70c51f893"
      },
      "outputs": [
        {
          "output_type": "stream",
          "name": "stdout",
          "text": [
            "Accuracy: 0.3333333333333333\n",
            "Precision: 0.2222222222222222\n",
            "Recall: 0.3333333333333333\n",
            "F1 Score: 0.26666666666666666\n",
            "Report:               precision    recall  f1-score   support\n",
            "\n",
            "           0       0.67      1.00      0.80         2\n",
            "           1       0.00      0.00      0.00         2\n",
            "           2       0.00      0.00      0.00         2\n",
            "\n",
            "    accuracy                           0.33         6\n",
            "   macro avg       0.22      0.33      0.27         6\n",
            "weighted avg       0.22      0.33      0.27         6\n",
            "\n",
            "\n",
            "Confusion Matrix:\n",
            "      Predicted\n",
            "       0 1 2\n",
            "True\n",
            "0      [2 0 0]\n",
            "1      [1 0 1]\n",
            "2      [0 2 0]\n"
          ]
        }
      ],
      "source": [
        "if isTrain:\n",
        "    # test\n",
        "    y_true = [0, 1, 2, 0, 1, 2]\n",
        "    y_pred = [0, 2, 1, 0, 0, 1]\n",
        "    accuracy, precision, recall, f1, report = calculate_evaluation_scores(\n",
        "        y_true, y_pred)\n",
        "    print(\"Accuracy:\", accuracy)\n",
        "    print(\"Precision:\", precision)\n",
        "    print(\"Recall:\", recall)\n",
        "    print(\"F1 Score:\", f1)\n",
        "    print(\"Report:\", report)"
      ]
    },
    {
      "cell_type": "code",
      "execution_count": 112,
      "metadata": {
        "id": "z9FkVGExquGP"
      },
      "outputs": [],
      "source": [
        "def train_model(model: nn.Module, train_data_loader: DataLoader, loss_criterion: nn.Module, optimizer: torch.optim.Optimizer) -> Tuple[float, float, float, float, float, str]:\n",
        "    '''\n",
        "    Train the model using the training data.\n",
        "    :param model: The model to train.\n",
        "    :type model: nn.Module\n",
        "    :param train_data_loader: The DataLoader for the training data.\n",
        "    :type train_data_loader: DataLoader\n",
        "    :param loss_criterion: The loss criterion.\n",
        "    :type loss_criterion: nn.Module\n",
        "    :param optimizer: The optimizer.\n",
        "    :type optimizer: torch.optim.Optimizer\n",
        "    :return: A tuple containing the loss, accuracy, precision, recall, F1 score, and the report.\n",
        "    :rtype: tuple\n",
        "    '''\n",
        "    model.train()\n",
        "    loss_values = []\n",
        "    predicted_labels_list = []\n",
        "    true_labels_list = []\n",
        "\n",
        "    for input_data, target_labels in train_data_loader:\n",
        "\n",
        "        # Move data and labels to device\n",
        "        input_data = input_data.to(DEVICE)\n",
        "        target_labels = target_labels.to(DEVICE).float()\n",
        "\n",
        "        optimizer.zero_grad()\n",
        "        model_output = model(input_data)\n",
        "\n",
        "\n",
        "\n",
        "        # Flatten model_output\n",
        "        model_output_flat = model_output.view(-1)\n",
        "        target_labels_flat = target_labels.view(-1)\n",
        "\n",
        "\n",
        "        # print(model_output_flat)\n",
        "        # print(model_output_flat.shape)\n",
        "        # break\n",
        "\n",
        "\n",
        "        # Calculate loss\n",
        "        loss = loss_criterion(model_output_flat, target_labels)\n",
        "\n",
        "        # Backpropagation\n",
        "        loss.backward()\n",
        "        optimizer.step()\n",
        "\n",
        "        loss_values.append(loss.item())\n",
        "        predicted_labels_list.append(\n",
        "            (model_output_flat > classification_threshold).float().cpu().numpy())\n",
        "        true_labels_list.append(target_labels.cpu().numpy())\n",
        "\n",
        "    predicted_labels = np.concatenate(predicted_labels_list)\n",
        "    true_labels = np.concatenate(true_labels_list)\n",
        "\n",
        "    average_loss = np.mean(loss_values)\n",
        "    evaluation_scores = calculate_evaluation_scores(\n",
        "        true_labels, predicted_labels)\n",
        "\n",
        "    return (average_loss, *evaluation_scores)"
      ]
    },
    {
      "cell_type": "code",
      "execution_count": 113,
      "metadata": {
        "id": "Pg25ZG42quGQ"
      },
      "outputs": [],
      "source": [
        "def evaluate_model(model: nn.Module, eval_data_loader: DataLoader, loss_criterion: nn.Module) -> Tuple[float, float, float, float, float, str]:\n",
        "    '''\n",
        "    Evaluate the model using the evaluation data.\n",
        "    :param model: The model to evaluate.\n",
        "    :type model: nn.Module\n",
        "    :param eval_data_loader: The DataLoader for the evaluation data.\n",
        "    :type eval_data_loader: DataLoader\n",
        "    :param loss_criterion: The loss criterion.\n",
        "    :type loss_criterion: nn.Module\n",
        "    :return: A tuple containing the loss, accuracy, precision, recall, F1 score, and the report.\n",
        "    :rtype: tuple\n",
        "    '''\n",
        "    model.eval()\n",
        "    loss_values = []\n",
        "    predicted_labels_list = []\n",
        "    true_labels_list = []\n",
        "\n",
        "    with torch.no_grad():\n",
        "        for input_data, target_labels in eval_data_loader:\n",
        "\n",
        "            # Move data and labels to device\n",
        "            input_data = input_data.to(DEVICE)\n",
        "            target_labels = target_labels.to(DEVICE)\n",
        "\n",
        "            model_output = model(input_data)\n",
        "\n",
        "            # Flatten model_output\n",
        "            model_output_flat = model_output.view(-1)\n",
        "\n",
        "            # Flatten target_labels and cast to Float\n",
        "            target_labels_flat = target_labels.view(-1).float()\n",
        "\n",
        "            loss = loss_criterion(model_output_flat, target_labels_flat)\n",
        "\n",
        "            loss_values.append(loss.item())\n",
        "            predicted_labels_list.append(\n",
        "                (model_output_flat > classification_threshold).float().cpu().numpy())\n",
        "            true_labels_list.append(target_labels_flat.cpu().numpy())\n",
        "\n",
        "    predicted_labels = np.concatenate(predicted_labels_list)\n",
        "    true_labels = np.concatenate(true_labels_list)\n",
        "\n",
        "    average_loss = np.mean(loss_values)\n",
        "    evaluation_scores = calculate_evaluation_scores(\n",
        "        true_labels, predicted_labels)\n",
        "\n",
        "    return (average_loss, *evaluation_scores)"
      ]
    },
    {
      "cell_type": "code",
      "source": [
        "def test_model(model: nn.Module, eval_data_loader: DataLoader, loss_criterion: nn.Module) -> Tuple[float, float, float, float, float, str]:\n",
        "    '''\n",
        "    Test the model using the test data.\n",
        "    :param model: The model to evaluate.\n",
        "    :type model: nn.Module\n",
        "    :param eval_data_loader: The DataLoader for the evaluation data.\n",
        "    :type eval_data_loader: DataLoader\n",
        "    :param loss_criterion: The loss criterion.\n",
        "    :type loss_criterion: nn.Module\n",
        "    :return: A tuple containing the loss, accuracy, precision, recall, F1 score, percision recall threshould and the report.\n",
        "    :rtype: tuple\n",
        "    '''\n",
        "    model.eval()\n",
        "    loss_values = []\n",
        "    predicted_labels_list = []\n",
        "    true_labels_list = []\n",
        "\n",
        "    with torch.no_grad():\n",
        "        for input_data, target_labels in eval_data_loader:\n",
        "\n",
        "            # Move data and labels to device\n",
        "            input_data = input_data.to(DEVICE)\n",
        "            target_labels = target_labels.to(DEVICE)\n",
        "\n",
        "            model_output = model(input_data)\n",
        "\n",
        "            # Flatten model_output\n",
        "            model_output_flat = model_output.view(-1)\n",
        "\n",
        "            # Flatten target_labels and cast to Float\n",
        "            target_labels_flat = target_labels.view(-1).float()\n",
        "\n",
        "            loss = loss_criterion(model_output_flat, target_labels_flat)\n",
        "\n",
        "            loss_values.append(loss.item())\n",
        "            predicted_labels_list.append(\n",
        "                (model_output_flat > classification_threshold).float().cpu().numpy())\n",
        "            true_labels_list.append(target_labels_flat.cpu().numpy())\n",
        "\n",
        "    predicted_labels = np.concatenate(predicted_labels_list)\n",
        "    true_labels = np.concatenate(true_labels_list)\n",
        "\n",
        "    average_loss = np.mean(loss_values)\n",
        "    evaluation_scores = calculate_evaluation_scores(\n",
        "        true_labels, predicted_labels)\n",
        "\n",
        "    precision, recall, thresholds = precision_recall_curve(true_labels, predicted_labels)\n",
        "\n",
        "    return (average_loss, *evaluation_scores, precision, recall, thresholds)"
      ],
      "metadata": {
        "id": "bQ_DHEyuI_tr"
      },
      "execution_count": 114,
      "outputs": []
    },
    {
      "cell_type": "code",
      "execution_count": 115,
      "metadata": {
        "id": "qvI-tEaYquGQ"
      },
      "outputs": [],
      "source": [
        "# fix random seeds\n",
        "random.seed(seed)\n",
        "np.random.seed(seed)\n",
        "torch.manual_seed(seed)\n",
        "torch.cuda.manual_seed(seed)"
      ]
    },
    {
      "cell_type": "code",
      "execution_count": 126,
      "metadata": {
        "colab": {
          "base_uri": "https://localhost:8080/",
          "height": 1000
        },
        "id": "14hrW_V3quGQ",
        "outputId": "f8212f5a-8983-4600-bda6-7d089f685958"
      },
      "outputs": [
        {
          "metadata": {
            "tags": null
          },
          "name": "stdout",
          "output_type": "stream",
          "text": [
            "Epoch: 0\n",
            "Train Loss: 0.2692 Acc: 0.8716 F1: 0.8709(0.8805/0.8717)\n",
            "Dev   Loss: 0.2284 Acc: 0.9248 F1: 0.9248(0.9252/0.9249)\n",
            "Found Best :)\n",
            "--------------------------------------------\n",
            "Epoch: 1\n",
            "Train Loss: 0.1654 Acc: 0.9311 F1: 0.9310(0.9328/0.9311)\n",
            "Dev   Loss: 0.1373 Acc: 0.9451 F1: 0.9450(0.9463/0.9450)\n",
            "Found Best :)\n",
            "--------------------------------------------\n",
            "Epoch: 2\n",
            "Train Loss: 0.1271 Acc: 0.9477 F1: 0.9477(0.9488/0.9477)\n",
            "Dev   Loss: 0.1200 Acc: 0.9538 F1: 0.9538(0.9545/0.9537)\n",
            "Found Best :)\n",
            "--------------------------------------------\n",
            "Epoch: 3\n",
            "Train Loss: 0.1120 Acc: 0.9540 F1: 0.9540(0.9549/0.9541)\n",
            "Dev   Loss: 0.1123 Acc: 0.9546 F1: 0.9545(0.9557/0.9544)\n",
            "Found Best :)\n",
            "--------------------------------------------\n",
            "Epoch: 4\n"
          ]
        },
        {
          "output_type": "error",
          "ename": "KeyboardInterrupt",
          "evalue": "",
          "traceback": [
            "\u001b[0;31m---------------------------------------------------------------------------\u001b[0m",
            "\u001b[0;31mKeyboardInterrupt\u001b[0m                         Traceback (most recent call last)",
            "\u001b[0;32m<ipython-input-126-fff768dd15d7>\u001b[0m in \u001b[0;36m<cell line: 31>\u001b[0;34m()\u001b[0m\n\u001b[1;32m     33\u001b[0m     \u001b[0;32mfor\u001b[0m \u001b[0mi\u001b[0m \u001b[0;32min\u001b[0m \u001b[0mrange\u001b[0m\u001b[0;34m(\u001b[0m\u001b[0mepochs\u001b[0m\u001b[0;34m)\u001b[0m\u001b[0;34m:\u001b[0m\u001b[0;34m\u001b[0m\u001b[0;34m\u001b[0m\u001b[0m\n\u001b[1;32m     34\u001b[0m         \u001b[0mprint\u001b[0m\u001b[0;34m(\u001b[0m\u001b[0;34mf'Epoch: {i}'\u001b[0m\u001b[0;34m)\u001b[0m\u001b[0;34m\u001b[0m\u001b[0;34m\u001b[0m\u001b[0m\n\u001b[0;32m---> 35\u001b[0;31m         train_loss, train_acc, train_p, train_r, train_f1, _ = train_model(\n\u001b[0m\u001b[1;32m     36\u001b[0m             model, train_data_loader, loss_criterion, optimizer)\n\u001b[1;32m     37\u001b[0m         dev_loss, dev_acc, dev_p, dev_r, dev_f1, _ = evaluate_model(\n",
            "\u001b[0;32m<ipython-input-112-2d4cb03ecdd2>\u001b[0m in \u001b[0;36mtrain_model\u001b[0;34m(model, train_data_loader, loss_criterion, optimizer)\u001b[0m\n\u001b[1;32m     21\u001b[0m \u001b[0;34m\u001b[0m\u001b[0m\n\u001b[1;32m     22\u001b[0m         \u001b[0;31m# Move data and labels to device\u001b[0m\u001b[0;34m\u001b[0m\u001b[0;34m\u001b[0m\u001b[0m\n\u001b[0;32m---> 23\u001b[0;31m         \u001b[0minput_data\u001b[0m \u001b[0;34m=\u001b[0m \u001b[0minput_data\u001b[0m\u001b[0;34m.\u001b[0m\u001b[0mto\u001b[0m\u001b[0;34m(\u001b[0m\u001b[0mDEVICE\u001b[0m\u001b[0;34m)\u001b[0m\u001b[0;34m\u001b[0m\u001b[0;34m\u001b[0m\u001b[0m\n\u001b[0m\u001b[1;32m     24\u001b[0m         \u001b[0mtarget_labels\u001b[0m \u001b[0;34m=\u001b[0m \u001b[0mtarget_labels\u001b[0m\u001b[0;34m.\u001b[0m\u001b[0mto\u001b[0m\u001b[0;34m(\u001b[0m\u001b[0mDEVICE\u001b[0m\u001b[0;34m)\u001b[0m\u001b[0;34m.\u001b[0m\u001b[0mfloat\u001b[0m\u001b[0;34m(\u001b[0m\u001b[0;34m)\u001b[0m\u001b[0;34m\u001b[0m\u001b[0;34m\u001b[0m\u001b[0m\n\u001b[1;32m     25\u001b[0m \u001b[0;34m\u001b[0m\u001b[0m\n",
            "\u001b[0;31mKeyboardInterrupt\u001b[0m: "
          ]
        },
        {
          "output_type": "error",
          "ename": "KeyboardInterrupt",
          "evalue": "",
          "traceback": [
            "\u001b[0;31m---------------------------------------------------------------------------\u001b[0m",
            "\u001b[0;31mKeyboardInterrupt\u001b[0m                         Traceback (most recent call last)",
            "\u001b[0;32m<ipython-input-126-fff768dd15d7>\u001b[0m in \u001b[0;36m<cell line: 31>\u001b[0;34m()\u001b[0m\n\u001b[1;32m     33\u001b[0m     \u001b[0;32mfor\u001b[0m \u001b[0mi\u001b[0m \u001b[0;32min\u001b[0m \u001b[0mrange\u001b[0m\u001b[0;34m(\u001b[0m\u001b[0mepochs\u001b[0m\u001b[0;34m)\u001b[0m\u001b[0;34m:\u001b[0m\u001b[0;34m\u001b[0m\u001b[0;34m\u001b[0m\u001b[0m\n\u001b[1;32m     34\u001b[0m         \u001b[0mprint\u001b[0m\u001b[0;34m(\u001b[0m\u001b[0;34mf'Epoch: {i}'\u001b[0m\u001b[0;34m)\u001b[0m\u001b[0;34m\u001b[0m\u001b[0;34m\u001b[0m\u001b[0m\n\u001b[0;32m---> 35\u001b[0;31m         train_loss, train_acc, train_p, train_r, train_f1, _ = train_model(\n\u001b[0m\u001b[1;32m     36\u001b[0m             model, train_data_loader, loss_criterion, optimizer)\n\u001b[1;32m     37\u001b[0m         dev_loss, dev_acc, dev_p, dev_r, dev_f1, _ = evaluate_model(\n",
            "\u001b[0;32m<ipython-input-112-2d4cb03ecdd2>\u001b[0m in \u001b[0;36mtrain_model\u001b[0;34m(model, train_data_loader, loss_criterion, optimizer)\u001b[0m\n\u001b[1;32m     21\u001b[0m \u001b[0;34m\u001b[0m\u001b[0m\n\u001b[1;32m     22\u001b[0m         \u001b[0;31m# Move data and labels to device\u001b[0m\u001b[0;34m\u001b[0m\u001b[0;34m\u001b[0m\u001b[0m\n\u001b[0;32m---> 23\u001b[0;31m         \u001b[0minput_data\u001b[0m \u001b[0;34m=\u001b[0m \u001b[0minput_data\u001b[0m\u001b[0;34m.\u001b[0m\u001b[0mto\u001b[0m\u001b[0;34m(\u001b[0m\u001b[0mDEVICE\u001b[0m\u001b[0;34m)\u001b[0m\u001b[0;34m\u001b[0m\u001b[0;34m\u001b[0m\u001b[0m\n\u001b[0m\u001b[1;32m     24\u001b[0m         \u001b[0mtarget_labels\u001b[0m \u001b[0;34m=\u001b[0m \u001b[0mtarget_labels\u001b[0m\u001b[0;34m.\u001b[0m\u001b[0mto\u001b[0m\u001b[0;34m(\u001b[0m\u001b[0mDEVICE\u001b[0m\u001b[0;34m)\u001b[0m\u001b[0;34m.\u001b[0m\u001b[0mfloat\u001b[0m\u001b[0;34m(\u001b[0m\u001b[0;34m)\u001b[0m\u001b[0;34m\u001b[0m\u001b[0;34m\u001b[0m\u001b[0m\n\u001b[1;32m     25\u001b[0m \u001b[0;34m\u001b[0m\u001b[0m\n",
            "\u001b[0;31mKeyboardInterrupt\u001b[0m: "
          ]
        }
      ],
      "source": [
        "# build dataset\n",
        "if isTrain:\n",
        "    # train and dev data set\n",
        "    train_dataset = SUIDataset(dialogues_train_proccessed, labels_train, glove)\n",
        "    dev_dataset = SUIDataset(dialogues_val_proccessed, labels_val, glove)\n",
        "    # train and dev data loader\n",
        "    train_data_loader = DataLoader(\n",
        "        dataset=train_dataset, batch_size=batch_size, collate_fn=collate_fn, shuffle=True)\n",
        "    dev_data_loader = DataLoader(\n",
        "        dataset=dev_dataset, batch_size=batch_size, collate_fn=collate_fn, shuffle=False)\n",
        "\n",
        "# test data set and data loader\n",
        "test_dataset = SUIDataset(dialogues_test_proccessed, labels_test, glove)\n",
        "test_data_loader = DataLoader(\n",
        "    dataset=test_dataset, batch_size=batch_size, collate_fn=collate_fn, shuffle=False)\n",
        "\n",
        "# build model\n",
        "model = Model(embedding_size, lstm_hidden_size, hidden_layer_size,\n",
        "              cnn_layer_size, class_layer).to(DEVICE)\n",
        "\n",
        "# Use binary cross-entropy loss\n",
        "# loss_criterion = nn.BCELoss()\n",
        "# loss_criterion = nn.BCEWithLogitsLoss()\n",
        "loss_criterion = nn.BCELoss()\n",
        "\n",
        "# optimizer = optim.Adam(model.parameters(), learning_rate, momentum=momentum)\n",
        "# Define the optimizer\n",
        "optimizer = torch.optim.SGD(\n",
        "    model.parameters(), lr=learning_rate, momentum=momentum)\n",
        "\n",
        "if isTrain:\n",
        "    best_f1 = 0\n",
        "    for i in range(epochs):\n",
        "        print(f'Epoch: {i}')\n",
        "        train_loss, train_acc, train_p, train_r, train_f1, _ = train_model(\n",
        "            model, train_data_loader, loss_criterion, optimizer)\n",
        "        dev_loss, dev_acc, dev_p, dev_r, dev_f1, _ = evaluate_model(\n",
        "            model, dev_data_loader, loss_criterion)\n",
        "        print(\"Train Loss: {:.4f} Acc: {:.4f} F1: {:.4f}({:.4f}/{:.4f})\".format(\n",
        "            train_loss, train_acc, train_f1, train_p, train_r))\n",
        "        print(\"Dev   Loss: {:.4f} Acc: {:.4f} F1: {:.4f}({:.4f}/{:.4f})\".format(\n",
        "            dev_loss, dev_acc, dev_f1, dev_p, dev_r))\n",
        "        if dev_f1 > best_f1:\n",
        "            print('Found Best :)')\n",
        "            best_f1 = dev_f1\n",
        "            torch.save(model.state_dict(), model_save_path)\n",
        "        print('--------------------------------------------')"
      ]
    },
    {
      "cell_type": "code",
      "source": [
        "model.load_state_dict(torch.load(model_save_path, map_location=DEVICE))\n",
        "model = model.to(DEVICE)"
      ],
      "metadata": {
        "id": "n02iY-X3pxEW",
        "colab": {
          "base_uri": "https://localhost:8080/",
          "height": 304
        },
        "outputId": "555c1f91-c583-4cba-e4ef-5fab17b576fa"
      },
      "execution_count": 60,
      "outputs": [
        {
          "output_type": "error",
          "ename": "FileNotFoundError",
          "evalue": "[Errno 2] No such file or directory: '/content/drive/MyDrive/Graduation-Project/Phase 2/suicidal_detection/models/model_20E_final.pt'",
          "traceback": [
            "\u001b[0;31m---------------------------------------------------------------------------\u001b[0m",
            "\u001b[0;31mFileNotFoundError\u001b[0m                         Traceback (most recent call last)",
            "\u001b[0;32m<ipython-input-60-905645cb84fd>\u001b[0m in \u001b[0;36m<cell line: 1>\u001b[0;34m()\u001b[0m\n\u001b[0;32m----> 1\u001b[0;31m \u001b[0mmodel\u001b[0m\u001b[0;34m.\u001b[0m\u001b[0mload_state_dict\u001b[0m\u001b[0;34m(\u001b[0m\u001b[0mtorch\u001b[0m\u001b[0;34m.\u001b[0m\u001b[0mload\u001b[0m\u001b[0;34m(\u001b[0m\u001b[0mmodel_save_path\u001b[0m\u001b[0;34m,\u001b[0m \u001b[0mmap_location\u001b[0m\u001b[0;34m=\u001b[0m\u001b[0mDEVICE\u001b[0m\u001b[0;34m)\u001b[0m\u001b[0;34m)\u001b[0m\u001b[0;34m\u001b[0m\u001b[0;34m\u001b[0m\u001b[0m\n\u001b[0m\u001b[1;32m      2\u001b[0m \u001b[0mmodel\u001b[0m \u001b[0;34m=\u001b[0m \u001b[0mmodel\u001b[0m\u001b[0;34m.\u001b[0m\u001b[0mto\u001b[0m\u001b[0;34m(\u001b[0m\u001b[0mDEVICE\u001b[0m\u001b[0;34m)\u001b[0m\u001b[0;34m\u001b[0m\u001b[0;34m\u001b[0m\u001b[0m\n",
            "\u001b[0;32m/usr/local/lib/python3.10/dist-packages/torch/serialization.py\u001b[0m in \u001b[0;36mload\u001b[0;34m(f, map_location, pickle_module, weights_only, mmap, **pickle_load_args)\u001b[0m\n\u001b[1;32m    996\u001b[0m         \u001b[0mpickle_load_args\u001b[0m\u001b[0;34m[\u001b[0m\u001b[0;34m'encoding'\u001b[0m\u001b[0;34m]\u001b[0m \u001b[0;34m=\u001b[0m \u001b[0;34m'utf-8'\u001b[0m\u001b[0;34m\u001b[0m\u001b[0;34m\u001b[0m\u001b[0m\n\u001b[1;32m    997\u001b[0m \u001b[0;34m\u001b[0m\u001b[0m\n\u001b[0;32m--> 998\u001b[0;31m     \u001b[0;32mwith\u001b[0m \u001b[0m_open_file_like\u001b[0m\u001b[0;34m(\u001b[0m\u001b[0mf\u001b[0m\u001b[0;34m,\u001b[0m \u001b[0;34m'rb'\u001b[0m\u001b[0;34m)\u001b[0m \u001b[0;32mas\u001b[0m \u001b[0mopened_file\u001b[0m\u001b[0;34m:\u001b[0m\u001b[0;34m\u001b[0m\u001b[0;34m\u001b[0m\u001b[0m\n\u001b[0m\u001b[1;32m    999\u001b[0m         \u001b[0;32mif\u001b[0m \u001b[0m_is_zipfile\u001b[0m\u001b[0;34m(\u001b[0m\u001b[0mopened_file\u001b[0m\u001b[0;34m)\u001b[0m\u001b[0;34m:\u001b[0m\u001b[0;34m\u001b[0m\u001b[0;34m\u001b[0m\u001b[0m\n\u001b[1;32m   1000\u001b[0m             \u001b[0;31m# The zipfile reader is going to advance the current file position.\u001b[0m\u001b[0;34m\u001b[0m\u001b[0;34m\u001b[0m\u001b[0m\n",
            "\u001b[0;32m/usr/local/lib/python3.10/dist-packages/torch/serialization.py\u001b[0m in \u001b[0;36m_open_file_like\u001b[0;34m(name_or_buffer, mode)\u001b[0m\n\u001b[1;32m    443\u001b[0m \u001b[0;32mdef\u001b[0m \u001b[0m_open_file_like\u001b[0m\u001b[0;34m(\u001b[0m\u001b[0mname_or_buffer\u001b[0m\u001b[0;34m,\u001b[0m \u001b[0mmode\u001b[0m\u001b[0;34m)\u001b[0m\u001b[0;34m:\u001b[0m\u001b[0;34m\u001b[0m\u001b[0;34m\u001b[0m\u001b[0m\n\u001b[1;32m    444\u001b[0m     \u001b[0;32mif\u001b[0m \u001b[0m_is_path\u001b[0m\u001b[0;34m(\u001b[0m\u001b[0mname_or_buffer\u001b[0m\u001b[0;34m)\u001b[0m\u001b[0;34m:\u001b[0m\u001b[0;34m\u001b[0m\u001b[0;34m\u001b[0m\u001b[0m\n\u001b[0;32m--> 445\u001b[0;31m         \u001b[0;32mreturn\u001b[0m \u001b[0m_open_file\u001b[0m\u001b[0;34m(\u001b[0m\u001b[0mname_or_buffer\u001b[0m\u001b[0;34m,\u001b[0m \u001b[0mmode\u001b[0m\u001b[0;34m)\u001b[0m\u001b[0;34m\u001b[0m\u001b[0;34m\u001b[0m\u001b[0m\n\u001b[0m\u001b[1;32m    446\u001b[0m     \u001b[0;32melse\u001b[0m\u001b[0;34m:\u001b[0m\u001b[0;34m\u001b[0m\u001b[0;34m\u001b[0m\u001b[0m\n\u001b[1;32m    447\u001b[0m         \u001b[0;32mif\u001b[0m \u001b[0;34m'w'\u001b[0m \u001b[0;32min\u001b[0m \u001b[0mmode\u001b[0m\u001b[0;34m:\u001b[0m\u001b[0;34m\u001b[0m\u001b[0;34m\u001b[0m\u001b[0m\n",
            "\u001b[0;32m/usr/local/lib/python3.10/dist-packages/torch/serialization.py\u001b[0m in \u001b[0;36m__init__\u001b[0;34m(self, name, mode)\u001b[0m\n\u001b[1;32m    424\u001b[0m \u001b[0;32mclass\u001b[0m \u001b[0m_open_file\u001b[0m\u001b[0;34m(\u001b[0m\u001b[0m_opener\u001b[0m\u001b[0;34m)\u001b[0m\u001b[0;34m:\u001b[0m\u001b[0;34m\u001b[0m\u001b[0;34m\u001b[0m\u001b[0m\n\u001b[1;32m    425\u001b[0m     \u001b[0;32mdef\u001b[0m \u001b[0m__init__\u001b[0m\u001b[0;34m(\u001b[0m\u001b[0mself\u001b[0m\u001b[0;34m,\u001b[0m \u001b[0mname\u001b[0m\u001b[0;34m,\u001b[0m \u001b[0mmode\u001b[0m\u001b[0;34m)\u001b[0m\u001b[0;34m:\u001b[0m\u001b[0;34m\u001b[0m\u001b[0;34m\u001b[0m\u001b[0m\n\u001b[0;32m--> 426\u001b[0;31m         \u001b[0msuper\u001b[0m\u001b[0;34m(\u001b[0m\u001b[0;34m)\u001b[0m\u001b[0;34m.\u001b[0m\u001b[0m__init__\u001b[0m\u001b[0;34m(\u001b[0m\u001b[0mopen\u001b[0m\u001b[0;34m(\u001b[0m\u001b[0mname\u001b[0m\u001b[0;34m,\u001b[0m \u001b[0mmode\u001b[0m\u001b[0;34m)\u001b[0m\u001b[0;34m)\u001b[0m\u001b[0;34m\u001b[0m\u001b[0;34m\u001b[0m\u001b[0m\n\u001b[0m\u001b[1;32m    427\u001b[0m \u001b[0;34m\u001b[0m\u001b[0m\n\u001b[1;32m    428\u001b[0m     \u001b[0;32mdef\u001b[0m \u001b[0m__exit__\u001b[0m\u001b[0;34m(\u001b[0m\u001b[0mself\u001b[0m\u001b[0;34m,\u001b[0m \u001b[0;34m*\u001b[0m\u001b[0margs\u001b[0m\u001b[0;34m)\u001b[0m\u001b[0;34m:\u001b[0m\u001b[0;34m\u001b[0m\u001b[0;34m\u001b[0m\u001b[0m\n",
            "\u001b[0;31mFileNotFoundError\u001b[0m: [Errno 2] No such file or directory: '/content/drive/MyDrive/Graduation-Project/Phase 2/suicidal_detection/models/model_20E_final.pt'"
          ]
        }
      ]
    },
    {
      "cell_type": "code",
      "source": [
        "test_loss, test_accuracy, test_percision, test_recall, test_f1, result_report, precision, recall, thresholds = test_model(model, test_data_loader, loss_criterion)\n",
        "print(\"Test   Loss: {:.4f} Acc: {:.4f} F1: {:.4f}({:.4f}/{:.4f})\".format(\n",
        "    test_loss, test_accuracy, test_f1, test_percision, test_recall))\n",
        "print(result_report)"
      ],
      "metadata": {
        "id": "pTpqQQwdgFSQ",
        "colab": {
          "base_uri": "https://localhost:8080/"
        },
        "outputId": "c88d87a0-021e-4fae-9c17-ff94f1904b93"
      },
      "execution_count": 128,
      "outputs": [
        {
          "output_type": "stream",
          "name": "stdout",
          "text": [
            "Test   Loss: 0.1152 Acc: 0.9570 F1: 0.9570(0.9572/0.9570)\n",
            "              precision    recall  f1-score   support\n",
            "\n",
            "         0.0       0.95      0.97      0.96     11499\n",
            "         1.0       0.97      0.95      0.96     11477\n",
            "\n",
            "    accuracy                           0.96     22976\n",
            "   macro avg       0.96      0.96      0.96     22976\n",
            "weighted avg       0.96      0.96      0.96     22976\n",
            "\n",
            "\n",
            "Confusion Matrix:\n",
            "      Predicted\n",
            "       0 1\n",
            "True\n",
            "0      [11122   377]\n",
            "1      [  610 10867]\n"
          ]
        }
      ]
    },
    {
      "cell_type": "code",
      "source": [
        "# Plot precision-recall curve with thresholds\n",
        "plt.plot(thresholds, precision[:-1], label='Precision')\n",
        "plt.plot(thresholds, recall[:-1], label='Recall')\n",
        "plt.xlabel('Threshold')\n",
        "plt.ylabel('Score')\n",
        "plt.title('Precision-Recall Curve with Thresholds')\n",
        "plt.legend()\n",
        "plt.grid(True)\n",
        "plt.show()"
      ],
      "metadata": {
        "id": "OcRfmPu3K-0C",
        "colab": {
          "base_uri": "https://localhost:8080/",
          "height": 472
        },
        "outputId": "4e58e50f-9d31-4e0f-eb29-630530f17822"
      },
      "execution_count": 129,
      "outputs": [
        {
          "output_type": "display_data",
          "data": {
            "text/plain": [
              "<Figure size 640x480 with 1 Axes>"
            ],
            "image/png": "[encoded data removed]"
          },
          "metadata": {}
        }
      ]
    },
    {
      "cell_type": "code",
      "source": [
        "# Find threshold where recall equals precision or is closest to it\n",
        "idx = np.argmin(np.abs(precision[:-1] - recall[:-1]))\n",
        "equal_threshold = thresholds[idx]\n",
        "print(\"Threshold where recall equals precision:\", equal_threshold)"
      ],
      "metadata": {
        "id": "Dq_HqL977bub",
        "colab": {
          "base_uri": "https://localhost:8080/"
        },
        "outputId": "b28712d0-fd66-4c4b-a252-a7a6cd02ac11"
      },
      "execution_count": 130,
      "outputs": [
        {
          "output_type": "stream",
          "name": "stdout",
          "text": [
            "Threshold where recall equals precision: 1.0\n"
          ]
        }
      ]
    },
    {
      "cell_type": "code",
      "execution_count": null,
      "metadata": {
        "id": "I193ftIVquGQ"
      },
      "outputs": [],
      "source": [
        "# Load the trained model\n",
        "model = Model(embedding_size, lstm_hidden_size, hidden_layer_size,\n",
        "              cnn_layer_size, class_layer)\n",
        "model.load_state_dict(torch.load(model_save_path, map_location=DEVICE))\n",
        "model.eval()\n",
        "model.to(DEVICE)\n",
        "model = model.to(DEVICE)"
      ]
    },
    {
      "cell_type": "code",
      "execution_count": 131,
      "metadata": {
        "id": "o0fZhg9PquGR"
      },
      "outputs": [],
      "source": [
        "def preprocess(sentence: str, clean: Callable[[str], List[str]], word2vec: Callable[[str], torch.Tensor]) -> torch.Tensor:\n",
        "    '''\n",
        "    Preprocess a single sentence.\n",
        "    :param sentence: The sentence to preprocess.\n",
        "    :type sentence: str\n",
        "    :param clean: The cleaning function.\n",
        "    :type clean: Callable[[str], List[str]]\n",
        "    :param word2vec: The word to vector function.\n",
        "    :type word2vec: Callable[[str], torch.Tensor]\n",
        "    :return: The preprocessed sentence.\n",
        "    :rtype: torch.Tensor\n",
        "    '''\n",
        "    # Tokenize the sentence into words and convert to embeddings\n",
        "    words = clean(sentence)\n",
        "    sentence_tokens = [word2vec(word) for word in words]\n",
        "\n",
        "    # Convert to the required format for input to the model\n",
        "    sentence_tensor = torch.stack(sentence_tokens).to(DEVICE)\n",
        "\n",
        "    return sentence_tensor"
      ]
    },
    {
      "cell_type": "code",
      "execution_count": 132,
      "metadata": {
        "id": "EMsB2bhGquGR",
        "colab": {
          "base_uri": "https://localhost:8080/"
        },
        "outputId": "82abedce-e82f-4dc5-a5bb-932748d6a109"
      },
      "outputs": [
        {
          "output_type": "stream",
          "name": "stdout",
          "text": [
            "torch.Size([5, 300])\n"
          ]
        }
      ],
      "source": [
        "# test\n",
        "if isTrain:\n",
        "    sentence = \"I want to kill myself\"\n",
        "    sentence_tensor = preprocess(sentence, clean, glove)\n",
        "    print(sentence_tensor.shape)"
      ]
    },
    {
      "cell_type": "code",
      "execution_count": 133,
      "metadata": {
        "id": "TAOUUDdvquGR"
      },
      "outputs": [],
      "source": [
        "def suicidal_detection(sentence: str, model: nn.Module) -> Tuple[str, Dict[str, float]]:\n",
        "    \"\"\"\n",
        "    Predict the class of the sentence using the model.\n",
        "\n",
        "    Args:\n",
        "        sentence (str): The sentence.\n",
        "        model (nn.Module): The model.\n",
        "\n",
        "    Returns:\n",
        "        Tuple[str, Dict[str, float]]: The name of the class with the highest probability and a dictionary mapping class names to probabilities.\n",
        "    \"\"\"\n",
        "    model.eval()\n",
        "\n",
        "    # Preprocess the sentence to get the input data\n",
        "    input_data = preprocess(sentence, clean, glove)\n",
        "\n",
        "    with torch.no_grad():\n",
        "        output = model(input_data.unsqueeze(0))\n",
        "\n",
        "    probabilities = output\n",
        "    print(probabilities)\n",
        "\n",
        "    # Threshold probabilities at 0.5 to make binary predictions\n",
        "    predicted_class = (probabilities > classification_threshold).float()\n",
        "\n",
        "    # Map the class index to the class name\n",
        "    predicted_class_name = reverse_label_mapping[int(predicted_class.item())]\n",
        "\n",
        "    # Map the probabilities to the class names\n",
        "    sui_prob = probabilities.tolist()[0][0]\n",
        "    sui_prob = round((sui_prob * 100), 3)\n",
        "    non_prob = 100 - sui_prob\n",
        "    class_probabilities = {\n",
        "        reverse_label_mapping[0]:  non_prob,\n",
        "        reverse_label_mapping[1]:  sui_prob\n",
        "        }\n",
        "\n",
        "    return predicted_class_name, class_probabilities"
      ]
    },
    {
      "cell_type": "code",
      "execution_count": 136,
      "metadata": {
        "id": "BfZteBPMquGR",
        "colab": {
          "base_uri": "https://localhost:8080/"
        },
        "outputId": "803fe950-4c21-4539-dfb0-e77040d065e9"
      },
      "outputs": [
        {
          "output_type": "stream",
          "name": "stdout",
          "text": [
            "tensor([[0.0080]], device='cuda:0')\n",
            "Sentence: Hello, how are you?\n",
            "Predicted class: non-suicide\n",
            "\n",
            "Class probabilities:\n",
            "non-suicide: 99.199\n",
            "suicide: 0.801\n",
            "----------------------------------------------\n",
            "tensor([[0.4296]], device='cuda:0')\n",
            "Sentence: I will kill my self\n",
            "Predicted class: suicide\n",
            "\n",
            "Class probabilities:\n",
            "non-suicide: 57.037\n",
            "suicide: 42.963\n",
            "----------------------------------------------\n",
            "tensor([[0.0889]], device='cuda:0')\n",
            "Sentence: I am sad\n",
            "Predicted class: non-suicide\n",
            "\n",
            "Class probabilities:\n",
            "non-suicide: 91.113\n",
            "suicide: 8.887\n",
            "----------------------------------------------\n",
            "tensor([[0.0259]], device='cuda:0')\n",
            "Sentence: I'm good, thanks! How about you?\n",
            "Predicted class: non-suicide\n",
            "\n",
            "Class probabilities:\n",
            "non-suicide: 97.413\n",
            "suicide: 2.587\n",
            "----------------------------------------------\n",
            "tensor([[0.1286]], device='cuda:0')\n",
            "Sentence: I'm doing well, thank you.\n",
            "Predicted class: non-suicide\n",
            "\n",
            "Class probabilities:\n",
            "non-suicide: 87.142\n",
            "suicide: 12.858\n",
            "----------------------------------------------\n",
            "tensor([[0.0065]], device='cuda:0')\n",
            "Sentence: let me just take a moment to scream into the void because i need to\n",
            "Predicted class: non-suicide\n",
            "\n",
            "Class probabilities:\n",
            "non-suicide: 99.349\n",
            "suicide: 0.651\n",
            "----------------------------------------------\n",
            "non-suicide\n"
          ]
        }
      ],
      "source": [
        "random_num_test = 530\n",
        "dialogue = [\"Hello, how are you?\", \"I will kill my self\", 'I am sad',\n",
        "            \"I'm good, thanks! How about you?\", \"I'm doing well, thank you.\", ' '.join(dialogues_test_proccessed[random_num_test])]\n",
        "for sentence in dialogue:\n",
        "    predicted_class_name, class_probabilities = suicidal_detection(\n",
        "        sentence, model)\n",
        "    print(f\"Sentence: {sentence}\")\n",
        "    print(f\"Predicted class: {predicted_class_name}\")\n",
        "    print()\n",
        "    print(\"Class probabilities:\")\n",
        "    for class_name, probability in class_probabilities.items():\n",
        "        print(f\"{class_name}: {probability}\")\n",
        "    print('----------------------------------------------')\n",
        "\n",
        "print(reverse_label_mapping[labels_test[random_num_test]])"
      ]
    },
    {
      "cell_type": "code",
      "execution_count": 68,
      "metadata": {
        "id": "qYNB7HjRquGS"
      },
      "outputs": [],
      "source": []
    }
  ],
  "metadata": {
    "accelerator": "GPU",
    "colab": {
      "gpuType": "T4",
      "provenance": []
    },
    "kernelspec": {
      "display_name": "Python 3",
      "name": "python3"
    },
    "language_info": {
      "codemirror_mode": {
        "name": "ipython",
        "version": 3
      },
      "file_extension": ".py",
      "mimetype": "text/x-python",
      "name": "python",
      "nbconvert_exporter": "python",
      "pygments_lexer": "ipython3",
      "version": "3.11.4"
    }
  },
  "nbformat": 4,
  "nbformat_minor": 0
}