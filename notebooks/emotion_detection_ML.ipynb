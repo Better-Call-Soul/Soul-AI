{
 "cells": [
  {
   "cell_type": "code",
   "execution_count": 3,
   "metadata": {},
   "outputs": [
    {
     "name": "stderr",
     "output_type": "stream",
     "text": [
      "[nltk_data] Downloading package punkt to\n",
      "[nltk_data]     C:\\Users\\emans\\AppData\\Roaming\\nltk_data...\n",
      "[nltk_data]   Package punkt is already up-to-date!\n",
      "[nltk_data] Downloading package stopwords to\n",
      "[nltk_data]     C:\\Users\\emans\\AppData\\Roaming\\nltk_data...\n",
      "[nltk_data]   Package stopwords is already up-to-date!\n",
      "[nltk_data] Downloading package wordnet to\n",
      "[nltk_data]     C:\\Users\\emans\\AppData\\Roaming\\nltk_data...\n"
     ]
    },
    {
     "data": {
      "text/plain": [
       "True"
      ]
     },
     "execution_count": 3,
     "metadata": {},
     "output_type": "execute_result"
    }
   ],
   "source": [
    "import pandas as pd\n",
    "import torch\n",
    "from torch.utils.data import Dataset, DataLoader\n",
    "from sklearn.model_selection import train_test_split\n",
    "import nltk\n",
    "from nltk.tokenize import word_tokenize\n",
    "from nltk.corpus import stopwords\n",
    "from nltk.stem import WordNetLemmatizer\n",
    "import string\n",
    "import re\n",
    "from sklearn.feature_extraction.text import TfidfVectorizer\n",
    "from sklearn.feature_selection import SelectKBest, chi2\n",
    "from sklearn.pipeline import Pipeline\n",
    "from sklearn.svm import LinearSVC, SVC\n",
    "from sklearn.tree import DecisionTreeClassifier\n",
    "from sklearn.linear_model import LogisticRegression\n",
    "from sklearn.ensemble import VotingClassifier\n",
    "from sklearn.model_selection import cross_val_score\n",
    "\n",
    "# # Download NLTK resources\n",
    "# nltk.download('punkt')\n",
    "# nltk.download('stopwords')\n",
    "# nltk.download('wordnet')"
   ]
  },
  {
   "cell_type": "code",
   "execution_count": 4,
   "metadata": {},
   "outputs": [],
   "source": [
    "class MELDDataset(Dataset):\n",
    "    def __init__(self, csv_file, transform=None):\n",
    "        self.data = pd.read_csv(csv_file)\n",
    "        self.transform = transform\n",
    "        \n",
    "    def __len__(self):\n",
    "        return len(self.data)\n",
    "    \n",
    "    def __getitem__(self, idx):\n",
    "        text = self.data.iloc[idx]['Utterance']\n",
    "        emotion = self.data.iloc[idx]['Emotion']\n",
    "        \n",
    "        sample = {'text': text, 'emotion': emotion}\n",
    "        \n",
    "        if self.transform:\n",
    "            sample = self.transform(sample)\n",
    "        \n",
    "        return sample"
   ]
  },
  {
   "cell_type": "code",
   "execution_count": 5,
   "metadata": {},
   "outputs": [],
   "source": [
    "class TextPreprocessor:\n",
    "    def __init__(self):\n",
    "        self.lemmatizer = WordNetLemmatizer()\n",
    "        self.stop_words = set(stopwords.words('english'))\n",
    "\n",
    "    def __call__(self, sample):\n",
    "        text = sample['text']\n",
    "        # Tokenization\n",
    "        tokens = word_tokenize(text)\n",
    "        # Lowercasing\n",
    "        tokens = [token.lower() for token in tokens]\n",
    "        # Removing punctuation\n",
    "        tokens = [token for token in tokens if token not in string.punctuation]\n",
    "        # Removing stopwords\n",
    "        tokens = [token for token in tokens if token not in self.stop_words]\n",
    "        # Lemmatization\n",
    "        tokens = [self.lemmatizer.lemmatize(token) for token in tokens]\n",
    "        # Removing special characters and numbers\n",
    "        tokens = [re.sub(r'[^a-zA-Z]', '', token) for token in tokens if token]\n",
    "        # Join tokens back into a string\n",
    "        preprocessed_text = ' '.join(tokens)\n",
    "\n",
    "        return {'text': preprocessed_text, 'emotion': sample['emotion']}"
   ]
  },
  {
   "cell_type": "code",
   "execution_count": 45,
   "metadata": {},
   "outputs": [],
   "source": [
    "csv_file_path = r'D:\\College\\Fourth Year\\GP\\Meld\\train_sent_emo.csv'\n",
    "meld_dataset = MELDDataset(csv_file=csv_file_path)\n",
    "\n",
    "# Split the dataset into training and validation sets\n",
    "train_dataset, val_dataset = train_test_split(meld_dataset, test_size=0.2, random_state=42)\n",
    "\n",
    "# Create DataLoader instances for training and validation sets\n",
    "train_dataloader = DataLoader(train_dataset, batch_size=32, shuffle=True)\n",
    "val_dataloader = DataLoader(val_dataset, batch_size=32, shuffle=False)"
   ]
  },
  {
   "cell_type": "code",
   "execution_count": 28,
   "metadata": {},
   "outputs": [],
   "source": [
    "def get_preprocessing_pipeline(k=10000):\n",
    "    return Pipeline([\n",
    "        ('feature_extraction', TfidfVectorizer(ngram_range=(1, 2), stop_words=\"english\", sublinear_tf=True)),\n",
    "        ('feature_selection', SelectKBest(chi2, k=k))\n",
    "    ])\n",
    "\n",
    "# Functions to get different classifiers with specified k and class weights\n",
    "def get_linear_svm_classifier(k, class_weight=None):\n",
    "    return Pipeline([\n",
    "        ('preprocessing', get_preprocessing_pipeline(k)),\n",
    "        ('classifier', LinearSVC(C=1.0, penalty='l1', max_iter=3000, dual=False, class_weight=class_weight))\n",
    "    ])\n",
    "\n",
    "def get_svm_classifier(k, class_weight=None):\n",
    "    return Pipeline([\n",
    "        ('preprocessing', get_preprocessing_pipeline(k)),\n",
    "        ('classifier', SVC(kernel='rbf', probability=True, class_weight=class_weight))\n",
    "    ])\n",
    "\n",
    "def get_decision_tree_classifier(k, class_weight=None):\n",
    "    return Pipeline([\n",
    "        ('preprocessing', get_preprocessing_pipeline(k)),\n",
    "        ('classifier', DecisionTreeClassifier(random_state=0, class_weight=class_weight))\n",
    "    ])\n",
    "\n",
    "def get_logistic_regression_classifier(k, class_weight=None):\n",
    "    return Pipeline([\n",
    "        ('preprocessing', get_preprocessing_pipeline(k)),\n",
    "        ('classifier', LogisticRegression(random_state=0, max_iter=50, penalty='l2', class_weight=class_weight))\n",
    "    ])\n",
    "\n",
    "# Function to create ensemble classifier with specified k and class weights\n",
    "def ensemble_classifiers(k, class_weight=None):\n",
    "    linear_svm_classifier = get_linear_svm_classifier(k, class_weight=class_weight)\n",
    "    svm_classifier = get_svm_classifier(k, class_weight=class_weight)\n",
    "    decision_tree_classifier = get_decision_tree_classifier(k, class_weight=class_weight)\n",
    "    logistic_regression_classifier = get_logistic_regression_classifier(k, class_weight=class_weight)\n",
    "\n",
    "    return VotingClassifier(estimators=[\n",
    "        (\"linear_svm_classifier\", linear_svm_classifier),\n",
    "        (\"svm_classifier\", svm_classifier),\n",
    "        (\"decision_tree_classifier\", decision_tree_classifier),\n",
    "        (\"logistic_regression_classifier\", logistic_regression_classifier)\n",
    "    ])"
   ]
  },
  {
   "cell_type": "code",
   "execution_count": 49,
   "metadata": {},
   "outputs": [
    {
     "name": "stdout",
     "output_type": "stream",
     "text": [
      "Class Weights: {0: 0.3064621284755513, 1: 0.8090513313759239, 2: 1.1672509494595384, 3: 1.2928328749393303, 4: 2.060598246518824, 5: 5.28505291005291, 6: 5.096301020408164}\n",
      "Validation Accuracy: 0.4850\n"
     ]
    }
   ],
   "source": [
    "from sklearn.utils.class_weight import compute_class_weight\n",
    "from sklearn.preprocessing import LabelEncoder\n",
    "import numpy as np\n",
    "num_features = len(train_dataset[0]['text'].split())\n",
    "k = min(num_features, 10000)\n",
    "\n",
    "\n",
    "# Define the class labels\n",
    "class_labels = ['neutral', 'joy', 'surprise', 'anger', 'sadness', 'disgust', 'fear']\n",
    "\n",
    "# Map class labels to their corresponding indices\n",
    "class_indices = {label: index for index, label in enumerate(class_labels)}\n",
    "\n",
    "# Extract target emotions from the train_dataset\n",
    "emotions = [item['emotion'] for item in train_dataset]\n",
    "\n",
    "# Convert emotions to class indices\n",
    "class_indices_array = np.array([class_indices[emotion] for emotion in emotions])\n",
    "\n",
    "# Calculate class weights based on the inverse of class frequencies\n",
    "class_weights = compute_class_weight(class_weight='balanced', classes=np.unique(class_indices_array), y=class_indices_array)\n",
    "\n",
    "label_encoder = LabelEncoder()\n",
    "integer_labels = label_encoder.fit_transform(emotions)\n",
    "\n",
    "# class_weight_dict = {class_labels[i]: weight for i, weight in enumerate(class_weights)}\n",
    "class_weight_dict = {i: class_weights[i] for i in range(len(class_weights))}\n",
    "# Create a dictionary mapping class labels to class weights\n",
    "# class_weight_dict = dict(zip(class_labels, class_weights))\n",
    "\n",
    "print(\"Class Weights:\", class_weight_dict)\n",
    "\n",
    "\n",
    "model = ensemble_classifiers(k,class_weight = class_weight_dict)\n",
    "# Training loop\n",
    "for batch in train_dataloader:\n",
    "    texts = batch['text']\n",
    "    emotions = batch['emotion']\n",
    "    model.fit(texts, emotions)\n",
    "\n",
    "# Validation loop\n",
    "correct = 0\n",
    "total = 0\n",
    "with torch.no_grad():\n",
    "    for batch in val_dataloader:\n",
    "        texts = batch['text']\n",
    "        emotions = batch['emotion']\n",
    "        predicted_emotions = model.predict(texts)\n",
    "        correct += (predicted_emotions == emotions).sum().item()\n",
    "        total += len(emotions)\n",
    "\n",
    "accuracy = correct / total\n",
    "print(f'Validation Accuracy: {accuracy:.4f}')"
   ]
  },
  {
   "cell_type": "code",
   "execution_count": 50,
   "metadata": {},
   "outputs": [],
   "source": [
    "def predict_emotion(msgs):\n",
    "    emotion_label = model.predict(msgs)\n",
    "    return emotion_label"
   ]
  },
  {
   "cell_type": "code",
   "execution_count": 51,
   "metadata": {},
   "outputs": [
    {
     "name": "stdout",
     "output_type": "stream",
     "text": [
      "['neutral' 'neutral']\n"
     ]
    }
   ],
   "source": [
    "msgs = [\"I'm feeling happy today\", \"sad\"]\n",
    "predicted_emotions = predict_emotion(msgs)\n",
    "print(predicted_emotions)"
   ]
  },
  {
   "cell_type": "code",
   "execution_count": null,
   "metadata": {},
   "outputs": [],
   "source": []
  }
 ],
 "metadata": {
  "kernelspec": {
   "display_name": "Python 3",
   "language": "python",
   "name": "python3"
  },
  "language_info": {
   "codemirror_mode": {
    "name": "ipython",
    "version": 3
   },
   "file_extension": ".py",
   "mimetype": "text/x-python",
   "name": "python",
   "nbconvert_exporter": "python",
   "pygments_lexer": "ipython3",
   "version": "3.11.0"
  }
 },
 "nbformat": 4,
 "nbformat_minor": 2
}
