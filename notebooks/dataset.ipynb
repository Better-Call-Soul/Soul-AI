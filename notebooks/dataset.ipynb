{
 "cells": [
  {
   "cell_type": "code",
   "execution_count": 3,
   "metadata": {},
   "outputs": [],
   "source": [
    "import pandas as pd\n"
   ]
  },
  {
   "cell_type": "code",
   "execution_count": 4,
   "metadata": {},
   "outputs": [],
   "source": [
    "def readFile(path):\n",
    "    data = pd.read_csv(path)\n",
    "    \n",
    "    return data"
   ]
  },
  {
   "cell_type": "code",
   "execution_count": 5,
   "metadata": {},
   "outputs": [],
   "source": [
    "data= readFile('../data/raw/summarization/samsum/samsum/train.csv')"
   ]
  },
  {
   "cell_type": "code",
   "execution_count": 25,
   "metadata": {},
   "outputs": [
    {
     "name": "stdout",
     "output_type": "stream",
     "text": [
      "Amanda: I baked  cookies. Do you want some?\n",
      "Jerry: Sure!\n",
      "Amanda: I'll bring you tomorrow :-)\n"
     ]
    }
   ],
   "source": [
    "print(data[\"dialogue\"][0])"
   ]
  },
  {
   "cell_type": "code",
   "execution_count": 14,
   "metadata": {},
   "outputs": [
    {
     "name": "stdout",
     "output_type": "stream",
     "text": [
      "          id                                           dialogue  \\\n",
      "24  13818918  Jonas: I’m running 10 minutes late. Could you ...   \n",
      "\n",
      "                                              summary  \n",
      "24  Jonas will be 10 minutes late. Natalie will le...  \n"
     ]
    }
   ],
   "source": [
    "print(data[24:25])"
   ]
  },
  {
   "cell_type": "code",
   "execution_count": 130,
   "metadata": {},
   "outputs": [],
   "source": [
    "import re\n",
    "temp_data=[]\n",
    "def remove_emojis(text):\n",
    "    pattern = r\"\\([^A-Za-z\\s]+\\)\"\n",
    "\n",
    "    # Remove the pattern from the text using the regular expression\n",
    "    text = re.sub(pattern, '', text)\n",
    "    emoji_pattern = re.compile(\"[\"\n",
    "            u\"\\U0001F600-\\U0001F64F\"  # emoticons\n",
    "            u\"\\U0001F300-\\U0001F5FF\"  # symbols & pictographs\n",
    "            u\"\\U0001F680-\\U0001F6FF\"  # transport & map symbols\n",
    "            u\"\\U0001F1E0-\\U0001F1FF\"  # flags (iOS)\n",
    "            u\"\\U00002500-\\U00002BEF\"  # chinese char\n",
    "            u\"\\U00002700-\\U000027BF\"  # Dingbats\n",
    "            u\"\\U00002702-\\U000027B0\"\n",
    "            u\"\\U000024C2-\\U0001F251\"\n",
    "            u\"\\U0001f926-\\U0001f937\"\n",
    "            u\"\\U00010000-\\U0010ffff\"\n",
    "            u\"\\u2640-\\u2642\"\n",
    "            u\"\\u2600-\\u2B55\"\n",
    "            u\"\\u200d\"\n",
    "            u\"\\u23cf\"\n",
    "            u\"\\u23e9\"\n",
    "            u\"\\u231a\"\n",
    "            u\"\\ufe0f\"  # dingbats\n",
    "            u\"\\u3030\"\n",
    "            \"]+\", flags=re.UNICODE)\n",
    "    text = emoji_pattern.sub(r'', text)\n",
    "\n",
    "    return text\n",
    "\n",
    "def remove_emoticons(text):\n",
    "    # Define a regular expression pattern to match emoticons\n",
    "    emoticon_pattern = re.compile(r':(\\)+)|:-(\\))+|;(\\))+|:-(D)+|:(D)+|;-(D)+|x(D)+|X(D)+|:-(\\()+|:(\\()+|:-(/)+|:(/)+|:-(\\))+||:(\\))+||:-(O)+|:(O)+|:-(\\*)+|:(\\*)+|<(3)+|:(P)+|:-(P)+|;(P)+|;-(P)+|:(S)+|>:(O)+|8(\\))+|B-(\\))+|O:(\\))+', flags=re.IGNORECASE)\n",
    "    # Remove emoticons using the pattern\n",
    "    return emoticon_pattern.sub('', text)\n",
    "import re\n",
    "\n",
    "def expand_contractions(text):\n",
    "    # Define a dictionary of common contractions and their expanded forms\n",
    "    text = re.sub(r\"n\\'t\", \" not\", text)\n",
    "    text = re.sub(r\"\\'re\", \" are\", text)\n",
    "    text = re.sub(r\"\\'s\", \" is\", text)\n",
    "    text = re.sub(r\"\\'d\", \" would\", text)\n",
    "    text = re.sub(r\"\\'ll\", \" will\", text)\n",
    "    text = re.sub(r\"\\'t\", \" not\", text)\n",
    "    text = re.sub(r\"\\'ve\", \" have\", text)\n",
    "    text = re.sub(r\"\\'m\", \" am\", text)\n",
    "    text = re.sub(r\"\\'em\", \" them\", text)\n",
    "    text = re.sub(r\"ma’am\", \"madam\", text)\n",
    "    short_forms = [\n",
    "        (\"btw\", \"by the way\"),\n",
    "        (\"eg\", \"for example\"),\n",
    "        (\"etc\", \"et cetera\"),\n",
    "        (\"i.e.\", \"that is\"),\n",
    "        (\"imho\", \"in my humble opinion\"),\n",
    "        (\"lol\", \"laugh out loud\"),\n",
    "        (\"msg\", \"message\"),\n",
    "        (\"nsfw\", \"not safe for work\"),\n",
    "        (\"omg\", \"oh my god\"),\n",
    "        (\"plz\", \"please\"),\n",
    "        (\"qr\", \"quick reply\"),\n",
    "        (\"tbh\", \"to be honest\"),\n",
    "        (\"wtf\", \"what the f*ck\"),\n",
    "    ]\n",
    "    # Expand all short forms in the text.\n",
    "    for short_form, expansion in short_forms:\n",
    "        text = re.sub(r\"\\b{}\\b\".format(short_form), expansion, text)\n",
    "    return text\n",
    "\n",
    "def check_file_pattern(text):\n",
    "    # Define a regular expression pattern to match <file_...>\n",
    "    pattern = r'<file_\\w+>'\n",
    "    \n",
    "    # Search for the pattern in the text\n",
    "    match = re.search(pattern, text)\n",
    "    \n",
    "    # If a match is found, return an empty string, otherwise return the original text\n",
    "    return match\n",
    "\n",
    "def replace_repeated_chars(text):\n",
    "    # Replace consecutive occurrences of '!' with a single '!'\n",
    "    text = re.sub(r'!{2,}', '!', text)\n",
    "    # Replace consecutive occurrences of '.' with a single '.'\n",
    "    text = re.sub(r'\\.{2,}', '.', text)\n",
    "    # Replace consecutive occurrences of '?' with a single '?'\n",
    "    text = re.sub(r'\\?{2,}', '?', text)\n",
    "    return text\n",
    "def preprocess_data(data):\n",
    "    if(check_file_pattern(data)):\n",
    "        return \"\"\n",
    "    temp=data.split(\"\\n\")\n",
    "    temp=[re.sub(r\"\\s+\", \" \", expand_contractions(replace_repeated_chars(remove_emoticons(remove_emojis(i)))).lower()) for i in temp ]\n",
    "    temp=\"<s></s>\".join(temp)\n",
    "    temp=\"<s>\"+temp+\"</s>\"\n",
    "    temp_data.append(temp)\n",
    "    return temp_data\n"
   ]
  },
  {
   "cell_type": "code",
   "execution_count": 121,
   "metadata": {},
   "outputs": [
    {
     "name": "stdout",
     "output_type": "stream",
     "text": [
      "Ammalee: <file_photo>\n",
      "Ammalee: This lasted over a month.♪┏(・o･)┛♪┗ ( ･o･) ┓\n",
      "Ammalee: Could you recommend other styles? (?_?)\n",
      "Maryann: Ah! Hello Ma’am! Thank you for the good review! (＾▽＾)\n",
      "Maryann: Is there any style you want to do next time?\n",
      "Ammalee: Yes, I heard about Acrylic nails and Linen. Which one would be better? (´∀`)\n",
      "Maryann: If you want the nails to last longer I recommend you Acrylic rather than Linen. ✌️\n",
      "Maryann: If you have any design in your mind, send me pictures. ☺️☺️☺️\n",
      "Maryann: Then I could try them on your nails next time!!(^^)!!(^^)!!(^^)!\n",
      "Ammalee: Thanks, I will send you some pictures soon!\n"
     ]
    }
   ],
   "source": [
    "print(data[74:75][\"dialogue\"][74])\n"
   ]
  },
  {
   "cell_type": "code",
   "execution_count": 131,
   "metadata": {},
   "outputs": [
    {
     "name": "stdout",
     "output_type": "stream",
     "text": [
      "\n"
     ]
    }
   ],
   "source": [
    "print(preprocess_data(data[74:75][\"dialogue\"][74]))"
   ]
  },
  {
   "cell_type": "code",
   "execution_count": 132,
   "metadata": {},
   "outputs": [
    {
     "name": "stdout",
     "output_type": "stream",
     "text": [
      "['<s>olivia: hey taylor: whats up? olivia: i need your help with something haha taylor: yeah? olivia: i wanna post a pic on instagram and i have the pic but idk what to caption it laugh out loud taylor: yeah! what picture ? olivia: the one i sent yesterday by the lake? taylor: ahhhh yes i love that one its amazing olivia: yeah i really like it but idk what to say haah taylor: maybe something like summer days with the sun emoji olivia: but is that cheesy? or to basic ahaha taylor: nahh i think its ok, or maybe just the emoji and say nothing haha olivia: yeah i could do that hahah taylor: either way its a nice picture so whatever you say it will be fine olivia: trueeee thanks for the help taylor: anytime gurlll </s>']\n"
     ]
    }
   ],
   "source": [
    "print(preprocess_data(\"Olivia: hey Taylor: whats up? Olivia: I need your help with something haha Taylor: yeah? Olivia: I wanna post a pic on instagram and I have the pic but idk what to caption it lol Taylor: yeah! what picture ? Olivia: the one I sent yesterday by the lake? Taylor: ahhhh yes I love that one its amazing Olivia: yeah I really like it but Idk what to say haah Taylor: maybe something like  Summer Days with the sun emoji Olivia: but is that cheesy? or to basic ahaha Taylor: nahh I think its ok, or maybe just the emoji and say nothing haha Olivia: yeah I could do that hahah Taylor: either way its a nice picture so whatever you say it will be fine Olivia: trueeee thanks for the help :))) Taylor: anytime gurlll :DD\"))"
   ]
  },
  {
   "cell_type": "code",
   "execution_count": 14,
   "metadata": {},
   "outputs": [
    {
     "name": "stdout",
     "output_type": "stream",
     "text": [
      "Ammalee: <file_photo> This lasted over a month.♪┏(・o･)┛♪┗ ( ･o･) ┓ Could you recommend other styles? (?_?)\n",
      "Maryann: Ah! Hello Ma’am! Thank you for the good review! (＾▽＾) Is there any style you want to do next time?\n",
      "Ammalee: Yes, I heard about Acrylic nails and Linen. Which one would be better? (´∀`)\n",
      "Maryann: If you want the nails to last longer I recommend you Acrylic rather than Linen. ✌️ If you have any design in your mind, send me pictures. ☺️☺️☺️ Then I could try them on your nails next time!!(^^)!!(^^)!!(^^)!\n"
     ]
    }
   ],
   "source": [
    "import re\n",
    "\n",
    "def create_conversation(text):\n",
    "    # Initialize a dictionary to store messages for each speaker\n",
    "    speaker_messages = []\n",
    "    \n",
    "    # Iterate through each line\n",
    "    current_speaker = None\n",
    "    prev_speaker=None\n",
    "    temp_text=''\n",
    "    for line in text.split('\\n'):\n",
    "        if(line==\"\"):\n",
    "            continue\n",
    "        # Check if the line contains a speaker name\n",
    "        match = re.match(r'([A-Za-z]+):', line)\n",
    "        if match:\n",
    "            current_speaker = match.group(1)\n",
    "        if prev_speaker != None and current_speaker!=prev_speaker:\n",
    "            speaker_messages.append(temp_text)\n",
    "        \n",
    "        # Append the message to the current speaker's messages list\n",
    "        if current_speaker==prev_speaker:\n",
    "            temp_text = temp_text+ \" \"+line[len(current_speaker)+1:].strip()\n",
    "        else:\n",
    "            temp_text= line\n",
    "        prev_speaker=current_speaker\n",
    "    return speaker_messages\n",
    "\n",
    "# Test the function with the provided text\n",
    "text = \"\"\"\n",
    "Ammalee: <file_photo>\n",
    "Ammalee: This lasted over a month.♪┏(・o･)┛♪┗ ( ･o･) ┓\n",
    "Ammalee: Could you recommend other styles? (?_?)\n",
    "Maryann: Ah! Hello Ma’am! Thank you for the good review! (＾▽＾)\n",
    "Maryann: Is there any style you want to do next time?\n",
    "Ammalee: Yes, I heard about Acrylic nails and Linen. Which one would be better? (´∀`)\n",
    "Maryann: If you want the nails to last longer I recommend you Acrylic rather than Linen. ✌️\n",
    "Maryann: If you have any design in your mind, send me pictures. ☺️☺️☺️\n",
    "Maryann: Then I could try them on your nails next time!!(^^)!!(^^)!!(^^)!\n",
    "Ammalee: Thanks, I will send you some pictures soon!\n",
    "\"\"\"\n",
    "\n",
    "conversation = create_conversation(text)\n",
    "for turn in conversation:\n",
    "    print(f\"{turn}\")\n"
   ]
  },
  {
   "cell_type": "code",
   "execution_count": null,
   "metadata": {},
   "outputs": [],
   "source": []
  }
 ],
 "metadata": {
  "kernelspec": {
   "display_name": "Python 3",
   "language": "python",
   "name": "python3"
  },
  "language_info": {
   "codemirror_mode": {
    "name": "ipython",
    "version": 3
   },
   "file_extension": ".py",
   "mimetype": "text/x-python",
   "name": "python",
   "nbconvert_exporter": "python",
   "pygments_lexer": "ipython3",
   "version": "3.12.1"
  }
 },
 "nbformat": 4,
 "nbformat_minor": 2
}
