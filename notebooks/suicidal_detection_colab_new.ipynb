{
  "cells": [
    {
      "cell_type": "code",
      "execution_count": 1,
      "metadata": {
        "colab": {
          "base_uri": "https://localhost:8080/"
        },
        "id": "5EUi9GNFs0Xk",
        "outputId": "852e9660-c917-4bc3-d08b-c31da8fdcc76"
      },
      "outputs": [
        {
          "output_type": "stream",
          "name": "stdout",
          "text": [
            "Mounted at /content/drive\n"
          ]
        }
      ],
      "source": [
        "from google.colab import drive\n",
        "drive.mount('/content/drive')"
      ]
    },
    {
      "cell_type": "markdown",
      "metadata": {
        "id": "PsUX_m52quF4"
      },
      "source": [
        "# Define the location for the data set and Glove for embedding\n"
      ]
    },
    {
      "cell_type": "code",
      "execution_count": 2,
      "metadata": {
        "id": "kuH_hu9hquF5"
      },
      "outputs": [],
      "source": [
        "# The folder of the data set\n",
        "dataset_path = '/content/drive/MyDrive/Graduation-Project/Phase 2/suicidal_detection/new'\n",
        "# The folder for the models\n",
        "model_path = '/content/drive/MyDrive/Graduation-Project/Phase 2/suicidal_detection/new/models'\n",
        "# The folder where Glove is installed\n",
        "TORCHNLP_CACHEDIR = f'{model_path}/Glove/pytorch-nlp_data'"
      ]
    },
    {
      "cell_type": "markdown",
      "metadata": {
        "id": "-oQH9bvuquF6"
      },
      "source": [
        "# Define the Global Variables\n"
      ]
    },
    {
      "cell_type": "code",
      "execution_count": 3,
      "metadata": {
        "id": "gbRYPMOFquF7"
      },
      "outputs": [],
      "source": [
        "isTrain = True\n",
        "split_seed = 10\n",
        "seed = 2\n",
        "data_path = f\"{dataset_path}/Suicide_Detection_Reddit.csv\"\n",
        "\n",
        "train_preprocess = f\"{dataset_path}/train/dialogues_train_preprocess.pkl\"\n",
        "\n",
        "dev_preprocess = f\"{dataset_path}/validation/dialogues_validation_preprocess.pkl\"\n",
        "\n",
        "test_preprocess = f\"{dataset_path}/test/dialogues_test_preprocess.pkl\"\n",
        "\n",
        "model_save_path = f\"{model_path}/model_20E_round_new_f2.pt\"\n",
        "\n",
        "batch_size = 32\n",
        "\n",
        "embedding_size = 300\n",
        "lstm_hidden_size = 20\n",
        "hidden_layer_size = 256\n",
        "cnn_layer_size = 1\n",
        "class_layer = 1\n",
        "\n",
        "classification_threshold = 0.4\n",
        "\n",
        "learning_rate = 0.1\n",
        "epochs = 20\n",
        "num_classes = 2\n",
        "\n",
        "momentum = 0.09"
      ]
    },
    {
      "cell_type": "markdown",
      "metadata": {
        "id": "-NAchKqlquF7"
      },
      "source": [
        "# Imports\n"
      ]
    },
    {
      "cell_type": "code",
      "execution_count": 4,
      "metadata": {
        "id": "kYfAtrTVquF7",
        "colab": {
          "base_uri": "https://localhost:8080/"
        },
        "outputId": "5332723c-7f17-49b9-aba7-de574e77e99d"
      },
      "outputs": [
        {
          "output_type": "stream",
          "name": "stdout",
          "text": [
            "\u001b[2K     \u001b[90m━━━━━━━━━━━━━━━━━━━━━━━━━━━━━━━━━━━━━━━━\u001b[0m \u001b[32m90.1/90.1 kB\u001b[0m \u001b[31m3.3 MB/s\u001b[0m eta \u001b[36m0:00:00\u001b[0m\n",
            "\u001b[2K     \u001b[90m━━━━━━━━━━━━━━━━━━━━━━━━━━━━━━━━━━━━━━━━\u001b[0m \u001b[32m23.7/23.7 MB\u001b[0m \u001b[31m40.9 MB/s\u001b[0m eta \u001b[36m0:00:00\u001b[0m\n",
            "\u001b[2K     \u001b[90m━━━━━━━━━━━━━━━━━━━━━━━━━━━━━━━━━━━━━━━━\u001b[0m \u001b[32m823.6/823.6 kB\u001b[0m \u001b[31m55.0 MB/s\u001b[0m eta \u001b[36m0:00:00\u001b[0m\n",
            "\u001b[2K     \u001b[90m━━━━━━━━━━━━━━━━━━━━━━━━━━━━━━━━━━━━━━━━\u001b[0m \u001b[32m14.1/14.1 MB\u001b[0m \u001b[31m55.6 MB/s\u001b[0m eta \u001b[36m0:00:00\u001b[0m\n",
            "\u001b[2K     \u001b[90m━━━━━━━━━━━━━━━━━━━━━━━━━━━━━━━━━━━━━━━━\u001b[0m \u001b[32m731.7/731.7 MB\u001b[0m \u001b[31m1.4 MB/s\u001b[0m eta \u001b[36m0:00:00\u001b[0m\n",
            "\u001b[2K     \u001b[90m━━━━━━━━━━━━━━━━━━━━━━━━━━━━━━━━━━━━━━━━\u001b[0m \u001b[32m410.6/410.6 MB\u001b[0m \u001b[31m4.1 MB/s\u001b[0m eta \u001b[36m0:00:00\u001b[0m\n",
            "\u001b[2K     \u001b[90m━━━━━━━━━━━━━━━━━━━━━━━━━━━━━━━━━━━━━━━━\u001b[0m \u001b[32m121.6/121.6 MB\u001b[0m \u001b[31m8.2 MB/s\u001b[0m eta \u001b[36m0:00:00\u001b[0m\n",
            "\u001b[2K     \u001b[90m━━━━━━━━━━━━━━━━━━━━━━━━━━━━━━━━━━━━━━━━\u001b[0m \u001b[32m56.5/56.5 MB\u001b[0m \u001b[31m10.2 MB/s\u001b[0m eta \u001b[36m0:00:00\u001b[0m\n",
            "\u001b[2K     \u001b[90m━━━━━━━━━━━━━━━━━━━━━━━━━━━━━━━━━━━━━━━━\u001b[0m \u001b[32m124.2/124.2 MB\u001b[0m \u001b[31m9.6 MB/s\u001b[0m eta \u001b[36m0:00:00\u001b[0m\n",
            "\u001b[2K     \u001b[90m━━━━━━━━━━━━━━━━━━━━━━━━━━━━━━━━━━━━━━━━\u001b[0m \u001b[32m196.0/196.0 MB\u001b[0m \u001b[31m6.5 MB/s\u001b[0m eta \u001b[36m0:00:00\u001b[0m\n",
            "\u001b[2K     \u001b[90m━━━━━━━━━━━━━━━━━━━━━━━━━━━━━━━━━━━━━━━━\u001b[0m \u001b[32m176.2/176.2 MB\u001b[0m \u001b[31m7.1 MB/s\u001b[0m eta \u001b[36m0:00:00\u001b[0m\n",
            "\u001b[2K     \u001b[90m━━━━━━━━━━━━━━━━━━━━━━━━━━━━━━━━━━━━━━━━\u001b[0m \u001b[32m99.1/99.1 kB\u001b[0m \u001b[31m12.1 MB/s\u001b[0m eta \u001b[36m0:00:00\u001b[0m\n",
            "\u001b[2K     \u001b[90m━━━━━━━━━━━━━━━━━━━━━━━━━━━━━━━━━━━━━━━━\u001b[0m \u001b[32m19.8/19.8 MB\u001b[0m \u001b[31m69.7 MB/s\u001b[0m eta \u001b[36m0:00:00\u001b[0m\n",
            "\u001b[2K     \u001b[90m━━━━━━━━━━━━━━━━━━━━━━━━━━━━━━━━━━━━━━━━\u001b[0m \u001b[32m6.8/6.8 MB\u001b[0m \u001b[31m22.4 MB/s\u001b[0m eta \u001b[36m0:00:00\u001b[0m\n",
            "\u001b[2K     \u001b[90m━━━━━━━━━━━━━━━━━━━━━━━━━━━━━━━━━━━━━━━━\u001b[0m \u001b[32m289.9/289.9 kB\u001b[0m \u001b[31m6.7 MB/s\u001b[0m eta \u001b[36m0:00:00\u001b[0m\n",
            "\u001b[2K     \u001b[90m━━━━━━━━━━━━━━━━━━━━━━━━━━━━━━━━━━━━━━━━\u001b[0m \u001b[32m110.7/110.7 kB\u001b[0m \u001b[31m6.9 MB/s\u001b[0m eta \u001b[36m0:00:00\u001b[0m\n",
            "\u001b[2K     \u001b[90m━━━━━━━━━━━━━━━━━━━━━━━━━━━━━━━━━━━━━━━━\u001b[0m \u001b[32m431.4/431.4 kB\u001b[0m \u001b[31m6.6 MB/s\u001b[0m eta \u001b[36m0:00:00\u001b[0m\n",
            "\u001b[?25h"
          ]
        }
      ],
      "source": [
        "!pip install pytorch-nlp --quiet\n",
        "!pip3 install torch torchvision torchaudio --index-url https://download.pytorch.org/whl/cu121 --quiet\n",
        "!pip install scikit-learn --quiet\n",
        "!pip install pyspellchecker --quiet\n",
        "!pip install contractions --quiet\n",
        "!pip install beautifulsoup4 --quiet\n",
        "!pip install emoji --quiet\n",
        "!pip install matplotlib --quiet"
      ]
    },
    {
      "cell_type": "code",
      "execution_count": 5,
      "metadata": {
        "id": "TK8CixHBquF7"
      },
      "outputs": [],
      "source": [
        "from typing import List, Tuple, Callable, Dict\n",
        "import random\n",
        "import nltk\n",
        "from nltk.corpus import stopwords\n",
        "from nltk.stem import WordNetLemmatizer\n",
        "from nltk import pos_tag\n",
        "import torch.autograd\n",
        "from sklearn.metrics import (accuracy_score, f1_score, precision_score,\n",
        "                             recall_score, classification_report, confusion_matrix, precision_recall_curve, roc_curve, roc_auc_score)\n",
        "from sklearn.model_selection import train_test_split\n",
        "from torch.utils.data import DataLoader\n",
        "import numpy as np\n",
        "import torch\n",
        "import torch.nn as nn\n",
        "import torch.nn.functional as F\n",
        "from torch.nn.utils.rnn import pad_sequence\n",
        "from torch.utils.data import Dataset\n",
        "from torchnlp.word_to_vector import GloVe\n",
        "import contractions\n",
        "import unicodedata\n",
        "from bs4 import BeautifulSoup\n",
        "import emoji\n",
        "import re\n",
        "from spellchecker import SpellChecker\n",
        "import pickle\n",
        "import os\n",
        "import matplotlib.pyplot as plt\n",
        "import pandas as pd\n",
        "from tqdm import tqdm"
      ]
    },
    {
      "cell_type": "code",
      "execution_count": 6,
      "metadata": {
        "colab": {
          "base_uri": "https://localhost:8080/"
        },
        "id": "GFqH2GahquF8",
        "outputId": "ebd0a249-0c7d-4561-fce6-8e2d8dffd394"
      },
      "outputs": [
        {
          "output_type": "stream",
          "name": "stderr",
          "text": [
            "[nltk_data] Downloading package punkt to /root/nltk_data...\n",
            "[nltk_data]   Unzipping tokenizers/punkt.zip.\n",
            "[nltk_data] Downloading package stopwords to /root/nltk_data...\n",
            "[nltk_data]   Unzipping corpora/stopwords.zip.\n",
            "[nltk_data] Downloading package wordnet to /root/nltk_data...\n",
            "[nltk_data] Downloading package averaged_perceptron_tagger to\n",
            "[nltk_data]     /root/nltk_data...\n",
            "[nltk_data]   Unzipping taggers/averaged_perceptron_tagger.zip.\n"
          ]
        },
        {
          "output_type": "execute_result",
          "data": {
            "text/plain": [
              "True"
            ]
          },
          "metadata": {},
          "execution_count": 6
        }
      ],
      "source": [
        "# Download NLTK resources\n",
        "nltk.download('punkt')\n",
        "nltk.download('stopwords')\n",
        "nltk.download('wordnet')\n",
        "nltk.download('averaged_perceptron_tagger')"
      ]
    },
    {
      "cell_type": "code",
      "execution_count": 7,
      "metadata": {
        "id": "FlF89xKdquF9"
      },
      "outputs": [],
      "source": [
        "# define Device\n",
        "DEVICE = torch.device(\"cuda\" if torch.cuda.is_available() else \"cpu\")\n",
        "# define Glove\n",
        "pretrained_wv = GloVe(cache=TORCHNLP_CACHEDIR)\n",
        "# Stopword removal\n",
        "stop_words = set(stopwords.words('english'))\n",
        "# Initialize the WordNet lemmatizer\n",
        "lemmatizer = WordNetLemmatizer()"
      ]
    },
    {
      "cell_type": "code",
      "execution_count": 8,
      "metadata": {
        "id": "e6y2XUTnquF9",
        "colab": {
          "base_uri": "https://localhost:8080/"
        },
        "outputId": "70d234bf-4087-442c-d244-b8f82125de4e"
      },
      "outputs": [
        {
          "output_type": "stream",
          "name": "stdout",
          "text": [
            "cuda\n"
          ]
        }
      ],
      "source": [
        "print(DEVICE)"
      ]
    },
    {
      "cell_type": "markdown",
      "metadata": {
        "id": "mqbtQqiLquF9"
      },
      "source": [
        "# Helper functions\n"
      ]
    },
    {
      "cell_type": "code",
      "execution_count": 9,
      "metadata": {
        "id": "LaynSpEDquF-"
      },
      "outputs": [],
      "source": [
        "def dump_tuple(filename: str, data: tuple) -> None:\n",
        "    '''\n",
        "    Dump the tuple to a file.\n",
        "    :param filename: The name of the file to dump the tuple to.\n",
        "    :type filename: str\n",
        "    :param data: The tuple to dump.\n",
        "    :type data: tuple\n",
        "    '''\n",
        "    with open(filename, 'wb') as file:\n",
        "        pickle.dump(data, file)\n",
        "\n",
        "\n",
        "def load_tuple(filename: str) -> tuple:\n",
        "    '''\n",
        "    Load the tuple from the file.\n",
        "    :param filename: The name of the file to load the tuple from.\n",
        "    :type filename: str\n",
        "    :return: The loaded tuple.\n",
        "    :rtype: tuple\n",
        "    '''\n",
        "    with open(filename, 'rb') as file:\n",
        "        return pickle.load(file)\n",
        "\n",
        "\n",
        "def dump_var(filename: str, data: List[List[torch.Tensor]]) -> None:\n",
        "    '''\n",
        "    Dump the data to a file.\n",
        "    :param filename: The name of the file to dump the data to.\n",
        "    :type filename: str\n",
        "    :param data: The data dump.\n",
        "    '''\n",
        "    torch.save(data, filename)\n",
        "\n",
        "\n",
        "def load_var(filename: str) -> List[List[torch.Tensor]]:\n",
        "    '''\n",
        "    Load the data from the file.\n",
        "    :param filename: The name of the file to load the data from.\n",
        "    :type filename: str\n",
        "    :return: The loaded data.\n",
        "    :rtype: Any\n",
        "    '''\n",
        "    return torch.load(filename)"
      ]
    },
    {
      "cell_type": "markdown",
      "metadata": {
        "id": "8F_7p59OquF-"
      },
      "source": [
        "# Preparing the Data set\n"
      ]
    },
    {
      "cell_type": "code",
      "execution_count": 10,
      "metadata": {
        "id": "Ak5gazLGquF-"
      },
      "outputs": [],
      "source": [
        "def lower_sentence(sentence: str) -> str:\n",
        "    '''\n",
        "    Lowercase the sentence.\n",
        "    :param data: The sentence to lowercase.\n",
        "    :return: The lowercased sentence\n",
        "    :rtype: str\n",
        "    '''\n",
        "    return sentence.lower()"
      ]
    },
    {
      "cell_type": "code",
      "execution_count": 11,
      "metadata": {
        "id": "SVnOGQ80quF-"
      },
      "outputs": [],
      "source": [
        "def remove_emails(sentence: str) -> str:\n",
        "    '''\n",
        "    Remove emails from the sentence.\n",
        "    :param sentence: The sentence to remove emails from.\n",
        "    :type sentence: str\n",
        "    :return: The sentence without emails.\n",
        "    :rtype: str\n",
        "    '''\n",
        "    return re.sub(r\"\\S*@\\S*\\s?\", \"\", sentence)"
      ]
    },
    {
      "cell_type": "code",
      "execution_count": 12,
      "metadata": {
        "id": "MmYE9kY1quF_"
      },
      "outputs": [],
      "source": [
        "def remove_nonascii_diacritic(sentence: str) -> str:\n",
        "    '''\n",
        "\n",
        "    Remove diacritics from the sentence.\n",
        "\n",
        "    :param sentence: The sentence to remove diacritics from.\n",
        "\n",
        "    :type sentence: str\n",
        "\n",
        "    :return: The sentence without diacritics.\n",
        "\n",
        "    :rtype: str\n",
        "    '''\n",
        "\n",
        "    return unicodedata.normalize(\"NFKD\", sentence).encode(\"ascii\", \"ignore\").decode(\"utf-8\", \"ignore\")"
      ]
    },
    {
      "cell_type": "code",
      "execution_count": 13,
      "metadata": {
        "id": "qi6hJiZSquF_"
      },
      "outputs": [],
      "source": [
        "def clean_html(sentence: str) -> str:\n",
        "    '''\n",
        "    Remove HTML tags from the sentence.\n",
        "    :param sentence: The sentence to remove HTML tags from.\n",
        "    :type sentence: str\n",
        "    :return: The sentence without HTML tags.\n",
        "    :rtype: str\n",
        "    '''\n",
        "    return BeautifulSoup(sentence, \"html.parser\").get_text()"
      ]
    },
    {
      "cell_type": "code",
      "execution_count": 14,
      "metadata": {
        "id": "8FMhiNMBquF_"
      },
      "outputs": [],
      "source": [
        "def replace_repeated_chars(sentence: str) -> str:\n",
        "    '''\n",
        "    Replace repeated characters in the sentence.\n",
        "    :param sentence: The sentence to replace repeated characters in.\n",
        "    :type sentence: str\n",
        "    :return: The sentence with replaced repeated characters.\n",
        "    :rtype: str\n",
        "    '''\n",
        "    # Replace consecutive occurrences of ',', '!', '.', and '?' with a single occurrence\n",
        "    return re.sub(r'([,!?.])\\1+', r'\\1', sentence)"
      ]
    },
    {
      "cell_type": "code",
      "execution_count": 15,
      "metadata": {
        "id": "APAJXhAOquF_"
      },
      "outputs": [],
      "source": [
        "def translate_emojis_to_text(sentence: str) -> str:\n",
        "    '''\n",
        "    Translate emojis in the sentence to text.\n",
        "    :param sentence: The sentence to translate emojis to text.\n",
        "    :type sentence: str\n",
        "    :return: The sentence with translated emojis to text.\n",
        "    :rtype: str\n",
        "    '''\n",
        "    # Translate emojis to text codes\n",
        "    translated_text = emoji.demojize(sentence)\n",
        "    # Remove colons from the translated text\n",
        "    translated_text = re.sub(r':', '', translated_text)\n",
        "    return translated_text"
      ]
    },
    {
      "cell_type": "code",
      "execution_count": 16,
      "metadata": {
        "id": "DKapJEpFquF_"
      },
      "outputs": [],
      "source": [
        "def expand_sentence(sentence: str) -> str:\n",
        "    '''\n",
        "    Expand the contractions in the sentence.\n",
        "    :param sentence: The sentence to expand contractions in.\n",
        "    :type sentence: str\n",
        "    :return: The sentence with expanded contractions.\n",
        "    :rtype: str\n",
        "    '''\n",
        "    return contractions.fix(sentence)"
      ]
    },
    {
      "cell_type": "code",
      "execution_count": 17,
      "metadata": {
        "id": "s6QyvBxBquGA"
      },
      "outputs": [],
      "source": [
        "def remove_url(sentence: str) -> str:\n",
        "    '''\n",
        "    Remove URLs from the sentence.\n",
        "    :param sentence: The sentence to remove URLs from.\n",
        "    :type sentence: str\n",
        "    :return: The sentence without URLs.\n",
        "    :rtype: str\n",
        "    '''\n",
        "    return re.sub(\"((http\\://|https\\://|ftp\\://)|(www.))+(([a-zA-Z0-9\\.-]+\\.[a-zA-Z]{2,4})|([0-9]{1,3}\\.[0-9]{1,3}\\.[0-9]{1,3}\\.[0-9]{1,3}))(/[a-zA-Z0-9%:/-_\\?\\.'~]*)?\", '', sentence)"
      ]
    },
    {
      "cell_type": "code",
      "execution_count": 18,
      "metadata": {
        "id": "TxBiya47quGA"
      },
      "outputs": [],
      "source": [
        "def remove_possessives(sentence: str) -> str:\n",
        "    '''\n",
        "    Strip possessives from the sentence.\n",
        "    :param sentence: The sentence to strip possessives from.\n",
        "    :type sentence: str\n",
        "    :return: The sentence without possessives.\n",
        "    :rtype: str\n",
        "    '''\n",
        "    # Stripping the possessives\n",
        "    sentence = sentence.replace(\"'s\", '')\n",
        "    sentence = sentence.replace('’s', '')\n",
        "    sentence = sentence.replace('s’', 's')\n",
        "    sentence = sentence.replace(\"s'\", 's')\n",
        "    return sentence"
      ]
    },
    {
      "cell_type": "code",
      "execution_count": 19,
      "metadata": {
        "id": "XbvcwI47quGA"
      },
      "outputs": [],
      "source": [
        "def remove_extra_space(sentence: str) -> str:\n",
        "    '''\n",
        "    Remove extra spaces from the sentence.\n",
        "    :param sentence: The sentence to remove extra spaces from.\n",
        "    :type sentence: str\n",
        "    :return: The sentence without extra spaces.\n",
        "    :rtype: str\n",
        "    '''\n",
        "    return re.sub(r'\\s+', ' ', sentence).strip()"
      ]
    },
    {
      "cell_type": "code",
      "execution_count": 20,
      "metadata": {
        "id": "G3jcnh8gquGA"
      },
      "outputs": [],
      "source": [
        "def check_sentence_spelling(sentence: list[str]) -> list[str]:\n",
        "    '''\n",
        "    Check the spelling of the words in the sentence.\n",
        "    :param sentence: The sentence to check the spelling of.\n",
        "    :type sentence: list\n",
        "    :return: The sentence with corrected spelling.\n",
        "    :rtype: list\n",
        "    '''\n",
        "    spell = SpellChecker()\n",
        "    corrected_sentence = []\n",
        "    for word in sentence:\n",
        "        if word != '':\n",
        "            correction = spell.correction(word)\n",
        "            if correction is not None:\n",
        "                corrected_sentence.append(correction)\n",
        "            else:\n",
        "                corrected_sentence.append(word)\n",
        "        else:\n",
        "            corrected_sentence.append('')\n",
        "    return corrected_sentence"
      ]
    },
    {
      "cell_type": "code",
      "execution_count": 21,
      "metadata": {
        "id": "b7I_ZfLPquGB"
      },
      "outputs": [],
      "source": [
        "def tokenize_sentence(sentence: str) -> list[str]:\n",
        "    '''\n",
        "    Tokenize the sentence.\n",
        "    :param sentence: The sentence to tokenize.\n",
        "    :type sentence: str\n",
        "    :return: The tokenized sentence.\n",
        "    :rtype: str\n",
        "    '''\n",
        "    return nltk.word_tokenize(sentence)"
      ]
    },
    {
      "cell_type": "code",
      "execution_count": 22,
      "metadata": {
        "id": "3L7r1B99quGB"
      },
      "outputs": [],
      "source": [
        "def remove_stop_words(sentence: list[str]) -> list[str]:\n",
        "    '''\n",
        "    Remove stop words from the sentence.\n",
        "    :param sentence: The sentence to remove stop words from.\n",
        "    :type sentence: list[str]\n",
        "    :return: The sentence without stop words.\n",
        "    :rtype: list[str]\n",
        "    '''\n",
        "    return [word for word in sentence if word not in stop_words]"
      ]
    },
    {
      "cell_type": "code",
      "execution_count": 23,
      "metadata": {
        "id": "cYbseWHjquGB"
      },
      "outputs": [],
      "source": [
        "def lemm_sentence(sentence: list[str]) -> list[str]:\n",
        "    '''\n",
        "    Lemmatize the sentence.\n",
        "    :param sentence: The sentence to lemmatize.\n",
        "    :type sentence: list[str]\n",
        "    :return: The lemmatized sentence.\n",
        "    :rtype: list[str]\n",
        "    '''\n",
        "    # Perform POS tagging\n",
        "    pos_tags = pos_tag(sentence)\n",
        "    # Lemmatize each word based on its POS tag\n",
        "    lemmatized_words = []\n",
        "    for word, pos in pos_tags:\n",
        "        # Map Penn Treebank POS tags to WordNet POS tags\n",
        "        if pos.startswith('N'):  # Nouns\n",
        "            pos = 'n'\n",
        "        elif pos.startswith('V'):  # Verbs\n",
        "            pos = 'v'\n",
        "        elif pos.startswith('J'):  # Adjectives\n",
        "            pos = 'a'\n",
        "        elif pos.startswith('R'):  # Adverbs\n",
        "            pos = 'r'\n",
        "        else:\n",
        "            pos = 'n'  # Default to noun if POS tag not found\n",
        "\n",
        "        # Lemmatize the word using the appropriate POS tag\n",
        "        lemma = lemmatizer.lemmatize(word, pos=pos)\n",
        "        lemmatized_words.append(lemma)\n",
        "    return lemmatized_words"
      ]
    },
    {
      "cell_type": "code",
      "execution_count": 24,
      "metadata": {
        "id": "WrbBayK9quGB"
      },
      "outputs": [],
      "source": [
        "def clean_train(line: str) -> list[str]:\n",
        "    '''\n",
        "    Clean the line and return it as a list of tokens\n",
        "    :param line: the line to clean\n",
        "    :type line: str\n",
        "    :return: the cleaned line as a list of tokens\n",
        "    :rtype: list\n",
        "    '''\n",
        "    # translate emojis\n",
        "    line = translate_emojis_to_text(line)\n",
        "    # lower the line\n",
        "    line = lower_sentence(line)\n",
        "    # remove non ascii\n",
        "    line = remove_nonascii_diacritic(line)\n",
        "    # remove emails\n",
        "    line = remove_emails(line)\n",
        "    # remove html\n",
        "    line = clean_html(line)\n",
        "    # remove urls\n",
        "    line = remove_url(line)\n",
        "    # replace repeated chars\n",
        "    line = replace_repeated_chars(line)\n",
        "    # expand\n",
        "    line = expand_sentence(line)\n",
        "    # remove possessives\n",
        "    line = remove_possessives(line)\n",
        "    # remove extra spaces\n",
        "    line = remove_extra_space(line)\n",
        "    # tekonize\n",
        "    line = tokenize_sentence(line)\n",
        "    # remove stopwords\n",
        "    # line = remove_stop_words(line)\n",
        "    # lemmetization\n",
        "    # line = lemm_sentence(line)\n",
        "    if len(line) == 0:\n",
        "        return ['Normal']\n",
        "    return line"
      ]
    },
    {
      "cell_type": "code",
      "execution_count": 25,
      "metadata": {
        "id": "V1Gzp7mYquGC"
      },
      "outputs": [],
      "source": [
        "def clean_steps(line: str) -> list[str]:\n",
        "    '''\n",
        "    Clean the line and return it as a list of tokens\n",
        "    :param line: the line to clean\n",
        "    :type line: str\n",
        "    :return: the cleaned line as a list of tokens\n",
        "    :rtype: list\n",
        "    '''\n",
        "    print('-------------------------------')\n",
        "    # translate emojis\n",
        "    line = translate_emojis_to_text(line)\n",
        "    print(\"After translate --> \", line)\n",
        "    # lower the line\n",
        "    line = lower_sentence(line)\n",
        "    print(\"After lower --> \", line)\n",
        "    # remove non ascii\n",
        "    line = remove_nonascii_diacritic(line)\n",
        "    print(\"After remoeve non ascii --> \", line)\n",
        "    line = remove_emails(line)\n",
        "    print(\"After remove email --> \", line)\n",
        "    # remove html\n",
        "    line = clean_html(line)\n",
        "    print(\"After remove html --> \", line)\n",
        "    # remove urls\n",
        "    line = remove_url(line)\n",
        "    print(\"After remove url --> \", line)\n",
        "    # replace repeated chars\n",
        "    line = replace_repeated_chars(line)\n",
        "    print(\"replace repeated chars --> \", line)\n",
        "    # expand\n",
        "    line = expand_sentence(line)\n",
        "    print(\"After expand --> \", line)\n",
        "    # remove possessives\n",
        "    line = remove_possessives(line)\n",
        "    print(\"After remove possessives --> \", line)\n",
        "    # remove extra spaces\n",
        "    line = remove_extra_space(line)\n",
        "    print(\"After remove extra space --> \", line)\n",
        "    # tekonize\n",
        "    line = tokenize_sentence(line)\n",
        "    print(\"After tokenize --> \", line)\n",
        "    # check spelling\n",
        "    # line = check_sentence_spelling(line)\n",
        "    # print(\"After spelling check --> \", line)\n",
        "    # remove stopwords\n",
        "    # line = remove_stop_words(line)\n",
        "    # print(\"After remove stop words --> \", line)\n",
        "    # lemmetization\n",
        "    # line = lemm_sentence(line)\n",
        "    # print(\"After lemmatization --> \", line)\n",
        "    print('-------------------------------')\n",
        "    if len(line) == 0:\n",
        "        print(['Normal'])\n",
        "        return ['Normal']\n",
        "    return line"
      ]
    },
    {
      "cell_type": "code",
      "execution_count": 26,
      "metadata": {
        "id": "fn3n6JLYquGC"
      },
      "outputs": [],
      "source": [
        "def clean(line: str) -> list[str]:\n",
        "    '''\n",
        "    Clean the line and return it as a list of tokens\n",
        "    :param line: the line to clean\n",
        "    :type line: str\n",
        "    :return: the cleaned line as a list of tokens\n",
        "    :rtype: list\n",
        "    '''\n",
        "    # translate emojis\n",
        "    line = translate_emojis_to_text(line)\n",
        "    # lower the line\n",
        "    line = lower_sentence(line)\n",
        "    # remove non ascii\n",
        "    line = remove_nonascii_diacritic(line)\n",
        "    # remove emails\n",
        "    line = remove_emails(line)\n",
        "    # remove html\n",
        "    line = clean_html(line)\n",
        "    # remove urls\n",
        "    line = remove_url(line)\n",
        "    # replace repeated chars\n",
        "    line = replace_repeated_chars(line)\n",
        "    # expand\n",
        "    line = expand_sentence(line)\n",
        "    # remove possessives\n",
        "    line = remove_possessives(line)\n",
        "    # remove extra spaces\n",
        "    line = remove_extra_space(line)\n",
        "    # tekonize\n",
        "    line = tokenize_sentence(line)\n",
        "    # check spelling\n",
        "    # line = check_sentence_spelling(line)\n",
        "    # remove stopwords\n",
        "    # line = remove_stop_words(line)\n",
        "    # lemmetization\n",
        "    # line = lemm_sentence(line)\n",
        "    if len(line) == 0:\n",
        "        return ['Normal']\n",
        "    return line"
      ]
    },
    {
      "cell_type": "code",
      "execution_count": 27,
      "metadata": {
        "id": "qcuBjke8quGC"
      },
      "outputs": [],
      "source": [
        "# define the mapping from 's' to 1 and 'u' to 0\n",
        "forward_label_mapping = {'suicide': 1, 'non-suicide': 0}\n",
        "\n",
        "# define the reverse mapping from 0 to 'u' and 1 to 's'\n",
        "reverse_label_mapping = {0: 'non-suicide', 1: 'suicide'}"
      ]
    },
    {
      "cell_type": "code",
      "execution_count": 28,
      "metadata": {
        "id": "aW5bVnvequGC",
        "colab": {
          "base_uri": "https://localhost:8080/"
        },
        "outputId": "32dd6751-fe8a-40f1-d4c4-0971e02eb9d1"
      },
      "outputs": [
        {
          "output_type": "stream",
          "name": "stdout",
          "text": [
            "Number of Unique Values:\n",
            "Unnamed: 0    232074\n",
            "text          232074\n",
            "class              2\n",
            "dtype: int64\n",
            "unique target classes ['suicide' 'non-suicide']\n",
            "Number of Dialogues:  232074\n",
            "First 5 elements: \n",
            "   Unnamed: 0                                               text        class\n",
            "0           2  Ex Wife Threatening SuicideRecently I left my ...      suicide\n",
            "1           3  Am I weird I don't get affected by compliments...  non-suicide\n",
            "2           4  Finally 2020 is almost over... So I can never ...  non-suicide\n",
            "3           8          i need helpjust help me im crying so hard      suicide\n",
            "4           9  I’m so lostHello, my name is Adam (16) and I’v...      suicide\n"
          ]
        }
      ],
      "source": [
        "# Read CSV file into DataFrame\n",
        "df = pd.read_csv(data_path)\n",
        "# Count unique values in each column\n",
        "unique_counts = df.nunique()\n",
        "# Display the count of unique values\n",
        "print('Number of Unique Values:')\n",
        "print(unique_counts)\n",
        "# print the unique values of emotion\n",
        "print('unique target classes', df['class'].unique())\n",
        "# get the number of dialogue\n",
        "num_Dialogues = len(df['class'])\n",
        "# print the number of dialogues\n",
        "print('Number of Dialogues: ', num_Dialogues)\n",
        "print('First 5 elements: ')\n",
        "print(df.head())"
      ]
    },
    {
      "cell_type": "code",
      "execution_count": 29,
      "metadata": {
        "id": "Sr7Ds5T2quGD",
        "colab": {
          "base_uri": "https://localhost:8080/"
        },
        "outputId": "c5971666-753c-4f51-f4a8-d39b4ab77bc4"
      },
      "outputs": [
        {
          "output_type": "stream",
          "name": "stdout",
          "text": [
            "Check for missing values in the dataset\n",
            "Unnamed: 0    0\n",
            "text          0\n",
            "class         0\n",
            "dtype: int64\n"
          ]
        }
      ],
      "source": [
        "print(\"Check for missing values in the dataset\")\n",
        "null_check = df.isnull().sum()\n",
        "print(null_check)"
      ]
    },
    {
      "cell_type": "code",
      "execution_count": 30,
      "metadata": {
        "id": "sVQ4sfYUquGD",
        "colab": {
          "base_uri": "https://localhost:8080/"
        },
        "outputId": "a62b5ef0-cb94-4bb0-9dcf-91d1bdc1a2f1"
      },
      "outputs": [
        {
          "output_type": "stream",
          "name": "stdout",
          "text": [
            "Number of duplicate rows: 0\n",
            "Duplicate rows:\n",
            "Empty DataFrame\n",
            "Columns: [Unnamed: 0, text, class]\n",
            "Index: []\n"
          ]
        }
      ],
      "source": [
        "# Check for duplicate rows in the entire DataFrame\n",
        "duplicate_rows = df.duplicated()\n",
        "\n",
        "# Count the number of duplicate rows\n",
        "num_duplicates = duplicate_rows.sum()\n",
        "\n",
        "# Display the duplicate rows\n",
        "duplicate_data = df[duplicate_rows]\n",
        "\n",
        "print(f\"Number of duplicate rows: {num_duplicates}\")\n",
        "print(\"Duplicate rows:\")\n",
        "print(duplicate_data)"
      ]
    },
    {
      "cell_type": "code",
      "execution_count": 31,
      "metadata": {
        "id": "GC79Tbt2quGD",
        "colab": {
          "base_uri": "https://localhost:8080/",
          "height": 584
        },
        "outputId": "0e289faf-9a5d-41a3-ba75-272057ff53b7"
      },
      "outputs": [
        {
          "output_type": "stream",
          "name": "stdout",
          "text": [
            "class\n",
            "suicide        116037\n",
            "non-suicide    116037\n",
            "Name: count, dtype: int64\n"
          ]
        },
        {
          "output_type": "display_data",
          "data": {
            "text/plain": [
              "<Figure size 640x480 with 1 Axes>"
            ],
            "image/png": "[encoded data removed]"
          },
          "metadata": {}
        }
      ],
      "source": [
        "if isTrain:\n",
        "    # check the distrubution of the data\n",
        "    # check how many suicidal and how many non-suicidal\n",
        "    print(df['class'].value_counts())\n",
        "    # plot a graph\n",
        "    df['class'].value_counts().plot(kind='bar')"
      ]
    },
    {
      "cell_type": "code",
      "execution_count": 32,
      "metadata": {
        "id": "P04l2GVuquGE"
      },
      "outputs": [],
      "source": [
        "def read_dataset_suicidal_detection(data_path: str, split_seed: int) -> Tuple[Tuple[List[str], List[int]], Tuple[List[str], List[int]], Tuple[List[str], List[int]]]:\n",
        "    '''\n",
        "    Read the dataset for the suicidal detection task.\n",
        "    :param data_path: The path to the dataset.\n",
        "    :type data_path: str\n",
        "    :param split_seed: The seed to use for splitting the dataset.\n",
        "    :type split_seed: int\n",
        "    :return: The training, validation, and test sets.\n",
        "    :rtype: Tuple[Tuple[List[str], List[int]], Tuple[List[str], List[int]], Tuple[List[str], List[int]]]\n",
        "    '''\n",
        "    data = pd.read_csv(data_path)\n",
        "    # extract the dialogues and their corresponding labels\n",
        "    dialogues = data['text'].tolist()\n",
        "    labels = data['class'].apply(lambda x: forward_label_mapping[x]).tolist()\n",
        "\n",
        "    # split the data into training and temporary sets (70% training, 30% temporary)\n",
        "    dialogues_train, dialogues_temp, labels_train, labels_temp = train_test_split(\n",
        "        dialogues, labels, test_size=0.3, random_state=split_seed)\n",
        "\n",
        "    # split the temporary set into validation and test sets (66.67% validation, 33.33% test)\n",
        "    dialogues_val, dialogues_test, labels_val, labels_test = train_test_split(\n",
        "        dialogues_temp, labels_temp, test_size=0.33, random_state=split_seed)\n",
        "\n",
        "    return (dialogues_train, labels_train), (dialogues_val, labels_val), (dialogues_test, labels_test)"
      ]
    },
    {
      "cell_type": "code",
      "execution_count": 33,
      "metadata": {
        "id": "Js8slpWYquGE",
        "colab": {
          "base_uri": "https://localhost:8080/"
        },
        "outputId": "193be4ef-4a25-45f3-f013-d12996c60024"
      },
      "outputs": [
        {
          "output_type": "stream",
          "name": "stdout",
          "text": [
            "Number of dialogues in training set: 162451 (0.70%)\n",
            "Number of dialogues in validation set: 46647 (0.20%)\n",
            "Number of dialogues in test set: 22976 (0.10%)\n"
          ]
        }
      ],
      "source": [
        "# read the data set\n",
        "(dialogues_train, labels_train), (dialogues_val, labels_val), (dialogues_test,\n",
        "                                                               labels_test) = read_dataset_suicidal_detection(data_path, split_seed)\n",
        "# print the number of dialogues in each set and percentage of total data\n",
        "print(\n",
        "    f\"Number of dialogues in training set: {len(dialogues_train)} ({len(dialogues_train) / num_Dialogues:.2f}%)\")\n",
        "print(\n",
        "    f\"Number of dialogues in validation set: {len(dialogues_val)} ({len(dialogues_val) / num_Dialogues:.2f}%)\")\n",
        "print(\n",
        "    f\"Number of dialogues in test set: {len(dialogues_test)} ({len(dialogues_test) / num_Dialogues:.2f}%)\")"
      ]
    },
    {
      "cell_type": "code",
      "execution_count": 34,
      "metadata": {
        "id": "t_HfLMa_quGE"
      },
      "outputs": [],
      "source": [
        "# plot the percentage of each class in each set\n",
        "def plot_class_distribution(labels: List[int], title: str) -> None:\n",
        "    '''\n",
        "    Plot the class distribution.\n",
        "    :param labels: The labels of the dialogues.\n",
        "    :type labels: List[int]\n",
        "    :param title: The title of the plot.\n",
        "    :type title: str\n",
        "    '''\n",
        "    # Count the number of dialogues in each class\n",
        "    class_counts = np.bincount(labels)\n",
        "    # Define the class labels\n",
        "    class_labels = [reverse_label_mapping[label]\n",
        "                    for label in range(len(class_counts))]\n",
        "    # Plot the class distribution\n",
        "    plt.figure()\n",
        "\n",
        "    plt.bar(class_labels, class_counts, color=['skyblue', 'cyan'])\n",
        "    plt.xlabel('Class')\n",
        "    plt.ylabel('Number of Dialogues')\n",
        "    plt.title(title)\n",
        "    plt.show()"
      ]
    },
    {
      "cell_type": "code",
      "execution_count": 35,
      "metadata": {
        "id": "msY5mohWquGF",
        "colab": {
          "base_uri": "https://localhost:8080/",
          "height": 1000
        },
        "outputId": "8a2d59be-fd2a-460b-9ecf-6ca7802b3a83"
      },
      "outputs": [
        {
          "output_type": "display_data",
          "data": {
            "text/plain": [
              "<Figure size 640x480 with 1 Axes>"
            ],
            "image/png": "[encoded data removed]"
          },
          "metadata": {}
        },
        {
          "output_type": "display_data",
          "data": {
            "text/plain": [
              "<Figure size 640x480 with 1 Axes>"
            ],
            "image/png": "[encoded data removed]"
          },
          "metadata": {}
        },
        {
          "output_type": "display_data",
          "data": {
            "text/plain": [
              "<Figure size 640x480 with 1 Axes>"
            ],
            "image/png": "[encoded data removed]"
          },
          "metadata": {}
        }
      ],
      "source": [
        "if isTrain:\n",
        "    plot_class_distribution(labels_train, 'Training Set Class Distribution')\n",
        "    plot_class_distribution(labels_val, 'Validation Set Class Distribution')\n",
        "    plot_class_distribution(labels_test, 'Test Set Class Distribution')"
      ]
    },
    {
      "cell_type": "code",
      "execution_count": 36,
      "metadata": {
        "id": "smhDBRwFquGK",
        "colab": {
          "base_uri": "https://localhost:8080/"
        },
        "outputId": "c21babba-085e-4504-e9a4-e937adfc6565"
      },
      "outputs": [
        {
          "output_type": "stream",
          "name": "stdout",
          "text": [
            "Example from training set:\n",
            "i’m so stupid i’m so fucking dumb dude. i literally thought las vegas was new vegas for 7 years until now. i’m gonna die 0\n",
            "-------------------------------------\n",
            "Example from validation set:\n",
            "No hope, but don't want to hurt my familyMy desire to die is, to me, pretty rational. I have nothing to contribute to the world don't anticipate being able to enjoy life for myself at any time in the future. There are only 4 people in the world who would be noticeably saddened at my passing, and I'm certain 3 of them would be tangibly better off without me, but they all want me to stick around.\n",
            "\n",
            "When I say I'm not worth the space I take up, it's not a passing moment of angst. I have no particular practical skills, and zero social skills. I can hold down a \"warm body\" job, but don't have any abilities or passions that would translate into a job that paid enough that I'd be financially stable. I already have a [worthless, liberal arts] Bachelor's, so going back to school to re-train means racking up serious debt, as there's little to no aid for students who already have a B.A. I'm pushing 30 and still live with my parents, on the premise that I'll go back to school for a high-need job once I have a little money saved. Spoiler alert: I couldn't even finish the broad-base engineering physics series at the local community college, I can't code elementary-school-level Java even when I have explicit instructions,  and even if I suddenly got hit with the social-skills stick over-night (I'm reasonably sure I have Asperger's), I just failed my state Certified Nursing Assistant (CNA) exam. A.K.A., I'm too incompetent to get licensed to change adult diapers. I did well in and comparatively enjoyed biology classes at school, so I thought maybe I could translate that to working in an operating room, where I could be useful to the world and make a decent wage even though I have inadequate social skills. However, if I can't get my CNA, I can't go to nursing school, which seemed by far the best route in terms of being a program I could get into, afford, and be able to get a job from. (It seems like a lot of these healthcare specialties get listed as high-need jobs even though there's not very many openings, so it comes down again to networking, which both I and the four people who are close to me suck at.) The same difficulty/cost problems apply to veterinary school, plus difficulty getting a job. I've looked into those government-repayment programs for vets who work in rural areas, but it seems even the people who initially take advantage of them leave, because there's not enough customers who are able to pay -- that's why they were under-served in the first place. My mental processing and physical moments appear slower than average, too, so I'm not even very good at menial work. At my current job, I'll clock out at the expected time, but stay up to 2 hours late because that's just how long it takes me to do all the normal work tasks. I know this is illegal and most of the time I don't care, because I just want to do a half-way decent job and not get fired for being \"lazy.\" (I'm aware this technically puts the company at risk, but since I'm the only one there during those hours, there's no cameras to prove anything, and I have no intention of outting myself, I don't think the broken law would amount to anything serious against the company.)\n",
            "\n",
            "\"Gee,\" you say, \"it sounds like you're putting an awful lot of stock in a job. There's more to life than that!\" Sure, I say, so long as you have the social skills to connect with people. The four people who would be affected for more than a hot minute at my passing are my parents, my brother, and the friend I've had since I was 5. I have not managed to make any lasting, meaningful connections during the 23 years since then; and I've never had anything that could in the vaguest sense be considered a romantic relationship. The closest I've come to approximating social connections is people who share an interest or hobby, but those connections either are (a) through the internet, or (b) in classes or at events that require money. So, if I want to try to connect face-to-face, I'm back to the money part from the previous paragraph.\n",
            "\n",
            "I know I've been really privileged in a lot of life circumstances, and I'm incredibly lucky to have those four people. I try to contribute what I can through doing volunteer work, random acts of kindness, and occasional monetary donations (after all, at least I have a safe, dry place to sleep at night, which is more than some people). But my conclusion is that existence isn't really worth it for me; I don't enjoy it and I can't see how I can \"make things better.\" The idea of planning out an effective suicide, then spending the rest of my pathetic savings on a weekend of fun before I tap out is really, really appealing. My family's managed to make me understand, though, that even though I think I'm a waste of resources and life is not something I feel is worth continuing, they are desperate for me to stick around, and much as I suck, it'd be worse for them if I committed suicide. I'm a little frustrated with them, a lot frustrated with and hating myself, and just want to lose consciousness and not regain it. 1\n",
            "-------------------------------------\n",
            "Example from test set:\n",
            "my family makes me so irrationally annoyed sometimes like stop fucking talking to me YOURE FUCKING ANNOYING AND I DONT GIVE A FUCK ABOUT ANYTHING YOURE SAYING LEAVE ME TF ALONE 0\n",
            "-------------------------------------\n"
          ]
        }
      ],
      "source": [
        "if isTrain:\n",
        "    # print example from each set\n",
        "    print('Example from training set:')\n",
        "    print(dialogues_train[0], labels_train[0])\n",
        "    print('-------------------------------------')\n",
        "    print('Example from validation set:')\n",
        "    print(dialogues_val[0], labels_val[0])\n",
        "    print('-------------------------------------')\n",
        "    print('Example from test set:')\n",
        "    print(dialogues_test[0], labels_test[0])\n",
        "    print('-------------------------------------')"
      ]
    },
    {
      "cell_type": "code",
      "execution_count": 37,
      "metadata": {
        "id": "t21QCwqUquGK"
      },
      "outputs": [],
      "source": [
        "def clean_data(data: List[str]) -> List[List[str]]:\n",
        "    '''\n",
        "    Clean the data.\n",
        "    :param data: The data to clean.\n",
        "    :type data: List[str]\n",
        "    :return: The cleaned data.\n",
        "    :rtype: List[List[str]]\n",
        "    '''\n",
        "    cleaned_data = []\n",
        "    for line in tqdm(data):\n",
        "        cleaned_line = clean_train(line)\n",
        "        cleaned_data.append(cleaned_line)\n",
        "    return cleaned_data"
      ]
    },
    {
      "cell_type": "code",
      "execution_count": 38,
      "metadata": {
        "id": "POFb31VWquGL",
        "colab": {
          "base_uri": "https://localhost:8080/"
        },
        "outputId": "9252f129-8f92-445b-9d80-82796a1ffb6b"
      },
      "outputs": [
        {
          "output_type": "stream",
          "name": "stderr",
          "text": [
            "100%|██████████| 2/2 [00:00<00:00, 56.13it/s]"
          ]
        },
        {
          "output_type": "stream",
          "name": "stdout",
          "text": [
            "Example from cleaned val set:\n",
            "['no', 'hope', ',', 'but', 'do', 'not', 'want', 'to', 'hurt', 'my', 'familymy', 'desire', 'to', 'die', 'is', ',', 'to', 'me', ',', 'pretty', 'rational', '.', 'i', 'have', 'nothing', 'to', 'contribute', 'to', 'the', 'world', 'do', 'not', 'anticipate', 'being', 'able', 'to', 'enjoy', 'life', 'for', 'myself', 'at', 'any', 'time', 'in', 'the', 'future', '.', 'there', 'are', 'only', '4', 'people', 'in', 'the', 'world', 'who', 'would', 'be', 'noticeably', 'saddened', 'at', 'my', 'passing', ',', 'and', 'i', 'am', 'certain', '3', 'of', 'them', 'would', 'be', 'tangibly', 'better', 'off', 'without', 'me', ',', 'but', 'they', 'all', 'want', 'me', 'to', 'stick', 'around', '.', 'when', 'i', 'say', 'i', 'am', 'not', 'worth', 'the', 'space', 'i', 'take', 'up', ',', 'it', 'is', 'not', 'a', 'passing', 'moment', 'of', 'angst', '.', 'i', 'have', 'no', 'particular', 'practical', 'skills', ',', 'and', 'zero', 'social', 'skills', '.', 'i', 'can', 'hold', 'down', 'a', '``', 'warm', 'body', \"''\", 'job', ',', 'but', 'do', 'not', 'have', 'any', 'abilities', 'or', 'passions', 'that', 'would', 'translate', 'into', 'a', 'job', 'that', 'paid', 'enough', 'that', 'i', 'would', 'be', 'financially', 'stable', '.', 'i', 'already', 'have', 'a', '[', 'worthless', ',', 'liberal', 'arts', ']', 'bachelor', ',', 'so', 'going', 'back', 'to', 'school', 'to', 're-train', 'means', 'racking', 'up', 'serious', 'debt', ',', 'as', 'there', 'is', 'little', 'to', 'no', 'aid', 'for', 'students', 'who', 'already', 'have', 'a', 'b.a', '.', 'i', 'am', 'pushing', '30', 'and', 'still', 'live', 'with', 'my', 'parents', ',', 'on', 'the', 'premise', 'that', 'i', 'will', 'go', 'back', 'to', 'school', 'for', 'a', 'high-need', 'job', 'once', 'i', 'have', 'a', 'little', 'money', 'saved', '.', 'spoiler', 'alert', 'i', 'could', 'not', 'even', 'finish', 'the', 'broad-base', 'engineering', 'physics', 'series', 'at', 'the', 'local', 'community', 'college', ',', 'i', 'can', 'not', 'code', 'elementary-school-level', 'java', 'even', 'when', 'i', 'have', 'explicit', 'instructions', ',', 'and', 'even', 'if', 'i', 'suddenly', 'got', 'hit', 'with', 'the', 'social-skills', 'stick', 'over-night', '(', 'i', 'am', 'reasonably', 'sure', 'i', 'have', 'asperger', ')', ',', 'i', 'just', 'failed', 'my', 'state', 'certified', 'nursing', 'assistant', '(', 'cna', ')', 'exam', '.', 'a.k.a.', ',', 'i', 'am', 'too', 'incompetent', 'to', 'get', 'licensed', 'to', 'change', 'adult', 'diapers', '.', 'i', 'did', 'well', 'in', 'and', 'comparatively', 'enjoyed', 'biology', 'classes', 'at', 'school', ',', 'so', 'i', 'thought', 'maybe', 'i', 'could', 'translate', 'that', 'to', 'working', 'in', 'an', 'operating', 'room', ',', 'where', 'i', 'could', 'be', 'useful', 'to', 'the', 'world', 'and', 'make', 'a', 'decent', 'wage', 'even', 'though', 'i', 'have', 'inadequate', 'social', 'skills', '.', 'however', ',', 'if', 'i', 'can', 'not', 'get', 'my', 'cna', ',', 'i', 'can', 'not', 'go', 'to', 'nursing', 'school', ',', 'which', 'seemed', 'by', 'far', 'the', 'best', 'route', 'in', 'terms', 'of', 'being', 'a', 'program', 'i', 'could', 'get', 'into', ',', 'afford', ',', 'and', 'be', 'able', 'to', 'get', 'a', 'job', 'from', '.', '(', 'it', 'seems', 'like', 'a', 'lot', 'of', 'these', 'healthcare', 'specialties', 'get', 'listed', 'as', 'high-need', 'jobs', 'even', 'though', 'there', 'is', 'not', 'very', 'many', 'openings', ',', 'so', 'it', 'comes', 'down', 'again', 'to', 'networking', ',', 'which', 'both', 'i', 'and', 'the', 'four', 'people', 'who', 'are', 'close', 'to', 'me', 'suck', 'at', '.', ')', 'the', 'same', 'difficulty/cost', 'problems', 'apply', 'to', 'veterinary', 'school', ',', 'plus', 'difficulty', 'getting', 'a', 'job', '.', 'i', 'have', 'looked', 'into', 'those', 'government-repayment', 'programs', 'for', 'vets', 'who', 'work', 'in', 'rural', 'areas', ',', 'but', 'it', 'seems', 'even', 'the', 'people', 'who', 'initially', 'take', 'advantage', 'of', 'them', 'leave', ',', 'because', 'there', 'is', 'not', 'enough', 'customers', 'who', 'are', 'able', 'to', 'pay', '--', 'that', 'is', 'why', 'they', 'were', 'under-served', 'in', 'the', 'first', 'place', '.', 'my', 'mental', 'processing', 'and', 'physical', 'moments', 'appear', 'slower', 'than', 'average', ',', 'too', ',', 'so', 'i', 'am', 'not', 'even', 'very', 'good', 'at', 'menial', 'work', '.', 'at', 'my', 'current', 'job', ',', 'i', 'will', 'clock', 'out', 'at', 'the', 'expected', 'time', ',', 'but', 'stay', 'up', 'to', '2', 'hours', 'late', 'because', 'that', 'is', 'just', 'how', 'long', 'it', 'takes', 'me', 'to', 'do', 'all', 'the', 'normal', 'work', 'tasks', '.', 'i', 'know', 'this', 'is', 'illegal', 'and', 'most', 'of', 'the', 'time', 'i', 'do', 'not', 'care', ',', 'because', 'i', 'just', 'want', 'to', 'do', 'a', 'half-way', 'decent', 'job', 'and', 'not', 'get', 'fired', 'for', 'being', '``', 'lazy', '.', \"''\", '(', 'i', 'am', 'aware', 'this', 'technically', 'puts', 'the', 'company', 'at', 'risk', ',', 'but', 'since', 'i', 'am', 'the', 'only', 'one', 'there', 'during', 'those', 'hours', ',', 'there', 'is', 'no', 'cameras', 'to', 'prove', 'anything', ',', 'and', 'i', 'have', 'no', 'intention', 'of', 'outting', 'myself', ',', 'i', 'do', 'not', 'think', 'the', 'broken', 'law', 'would', 'amount', 'to', 'anything', 'serious', 'against', 'the', 'company', '.', ')', '``', 'gee', ',', \"''\", 'you', 'say', ',', '``', 'it', 'sounds', 'like', 'you', 'are', 'putting', 'an', 'awful', 'lot', 'of', 'stock', 'in', 'a', 'job', '.', 'there', 'is', 'more', 'to', 'life', 'than', 'that', '!', \"''\", 'sure', ',', 'i', 'say', ',', 'so', 'long', 'as', 'you', 'have', 'the', 'social', 'skills', 'to', 'connect', 'with', 'people', '.', 'the', 'four', 'people', 'who', 'would', 'be', 'affected', 'for', 'more', 'than', 'a', 'hot', 'minute', 'at', 'my', 'passing', 'are', 'my', 'parents', ',', 'my', 'brother', ',', 'and', 'the', 'friend', 'i', 'have', 'had', 'since', 'i', 'was', '5.', 'i', 'have', 'not', 'managed', 'to', 'make', 'any', 'lasting', ',', 'meaningful', 'connections', 'during', 'the', '23', 'years', 'since', 'then', ';', 'and', 'i', 'have', 'never', 'had', 'anything', 'that', 'could', 'in', 'the', 'vaguest', 'sense', 'be', 'considered', 'a', 'romantic', 'relationship', '.', 'the', 'closest', 'i', 'have', 'come', 'to', 'approximating', 'social', 'connections', 'is', 'people', 'who', 'share', 'an', 'interest', 'or', 'hobby', ',', 'but', 'those', 'connections', 'either', 'are', '(', 'a', ')', 'through', 'the', 'internet', ',', 'or', '(', 'b', ')', 'in', 'classes', 'or', 'at', 'events', 'that', 'require', 'money', '.', 'so', ',', 'if', 'i', 'want', 'to', 'try', 'to', 'connect', 'face-to-face', ',', 'i', 'am', 'back', 'to', 'the', 'money', 'part', 'from', 'the', 'previous', 'paragraph', '.', 'i', 'know', 'i', 'have', 'been', 'really', 'privileged', 'in', 'a', 'lot', 'of', 'life', 'circumstances', ',', 'and', 'i', 'am', 'incredibly', 'lucky', 'to', 'have', 'those', 'four', 'people', '.', 'i', 'try', 'to', 'contribute', 'what', 'i', 'can', 'through', 'doing', 'volunteer', 'work', ',', 'random', 'acts', 'of', 'kindness', ',', 'and', 'occasional', 'monetary', 'donations', '(', 'after', 'all', ',', 'at', 'least', 'i', 'have', 'a', 'safe', ',', 'dry', 'place', 'to', 'sleep', 'at', 'night', ',', 'which', 'is', 'more', 'than', 'some', 'people', ')', '.', 'but', 'my', 'conclusion', 'is', 'that', 'existence', 'is', 'not', 'really', 'worth', 'it', 'for', 'me', ';', 'i', 'do', 'not', 'enjoy', 'it', 'and', 'i', 'can', 'not', 'see', 'how', 'i', 'can', '``', 'make', 'things', 'better', '.', \"''\", 'the', 'idea', 'of', 'planning', 'out', 'an', 'effective', 'suicide', ',', 'then', 'spending', 'the', 'rest', 'of', 'my', 'pathetic', 'savings', 'on', 'a', 'weekend', 'of', 'fun', 'before', 'i', 'tap', 'out', 'is', 'really', ',', 'really', 'appealing', '.', 'my', 'family', 'managed', 'to', 'make', 'me', 'understand', ',', 'though', ',', 'that', 'even', 'though', 'i', 'think', 'i', 'am', 'a', 'waste', 'of', 'resources', 'and', 'life', 'is', 'not', 'something', 'i', 'feel', 'is', 'worth', 'continuing', ',', 'they', 'are', 'desperate', 'for', 'me', 'to', 'stick', 'around', ',', 'and', 'much', 'as', 'i', 'suck', ',', 'it', 'would', 'be', 'worse', 'for', 'them', 'if', 'i', 'committed', 'suicide', '.', 'i', 'am', 'a', 'little', 'frustrated', 'with', 'them', ',', 'a', 'lot', 'frustrated', 'with', 'and', 'hating', 'myself', ',', 'and', 'just', 'want', 'to', 'lose', 'consciousness', 'and', 'not', 'regain', 'it', '.']\n",
            "-------------------------------\n",
            "After translate -->  No hope, but don't want to hurt my familyMy desire to die is, to me, pretty rational. I have nothing to contribute to the world don't anticipate being able to enjoy life for myself at any time in the future. There are only 4 people in the world who would be noticeably saddened at my passing, and I'm certain 3 of them would be tangibly better off without me, but they all want me to stick around.\n",
            "\n",
            "When I say I'm not worth the space I take up, it's not a passing moment of angst. I have no particular practical skills, and zero social skills. I can hold down a \"warm body\" job, but don't have any abilities or passions that would translate into a job that paid enough that I'd be financially stable. I already have a [worthless, liberal arts] Bachelor's, so going back to school to re-train means racking up serious debt, as there's little to no aid for students who already have a B.A. I'm pushing 30 and still live with my parents, on the premise that I'll go back to school for a high-need job once I have a little money saved. Spoiler alert I couldn't even finish the broad-base engineering physics series at the local community college, I can't code elementary-school-level Java even when I have explicit instructions,  and even if I suddenly got hit with the social-skills stick over-night (I'm reasonably sure I have Asperger's), I just failed my state Certified Nursing Assistant (CNA) exam. A.K.A., I'm too incompetent to get licensed to change adult diapers. I did well in and comparatively enjoyed biology classes at school, so I thought maybe I could translate that to working in an operating room, where I could be useful to the world and make a decent wage even though I have inadequate social skills. However, if I can't get my CNA, I can't go to nursing school, which seemed by far the best route in terms of being a program I could get into, afford, and be able to get a job from. (It seems like a lot of these healthcare specialties get listed as high-need jobs even though there's not very many openings, so it comes down again to networking, which both I and the four people who are close to me suck at.) The same difficulty/cost problems apply to veterinary school, plus difficulty getting a job. I've looked into those government-repayment programs for vets who work in rural areas, but it seems even the people who initially take advantage of them leave, because there's not enough customers who are able to pay -- that's why they were under-served in the first place. My mental processing and physical moments appear slower than average, too, so I'm not even very good at menial work. At my current job, I'll clock out at the expected time, but stay up to 2 hours late because that's just how long it takes me to do all the normal work tasks. I know this is illegal and most of the time I don't care, because I just want to do a half-way decent job and not get fired for being \"lazy.\" (I'm aware this technically puts the company at risk, but since I'm the only one there during those hours, there's no cameras to prove anything, and I have no intention of outting myself, I don't think the broken law would amount to anything serious against the company.)\n",
            "\n",
            "\"Gee,\" you say, \"it sounds like you're putting an awful lot of stock in a job. There's more to life than that!\" Sure, I say, so long as you have the social skills to connect with people. The four people who would be affected for more than a hot minute at my passing are my parents, my brother, and the friend I've had since I was 5. I have not managed to make any lasting, meaningful connections during the 23 years since then; and I've never had anything that could in the vaguest sense be considered a romantic relationship. The closest I've come to approximating social connections is people who share an interest or hobby, but those connections either are (a) through the internet, or (b) in classes or at events that require money. So, if I want to try to connect face-to-face, I'm back to the money part from the previous paragraph.\n",
            "\n",
            "I know I've been really privileged in a lot of life circumstances, and I'm incredibly lucky to have those four people. I try to contribute what I can through doing volunteer work, random acts of kindness, and occasional monetary donations (after all, at least I have a safe, dry place to sleep at night, which is more than some people). But my conclusion is that existence isn't really worth it for me; I don't enjoy it and I can't see how I can \"make things better.\" The idea of planning out an effective suicide, then spending the rest of my pathetic savings on a weekend of fun before I tap out is really, really appealing. My family's managed to make me understand, though, that even though I think I'm a waste of resources and life is not something I feel is worth continuing, they are desperate for me to stick around, and much as I suck, it'd be worse for them if I committed suicide. I'm a little frustrated with them, a lot frustrated with and hating myself, and just want to lose consciousness and not regain it.I'm absolutely nothing but an inconvenience to everyoneFirst of all, I'm 98% sure I am autistic. Yes, I know, nowadays, seemingly **everyone** self-\"diagnoses\" themselves with ASD or whatever else, but hear me out\n",
            "\n",
            "I have had 3 adults in the past, all of whom have had previous experience working with autistic people, that they strongly suspect that I am on the spectrum. My motor skills are so poor that I can barely even work retail jobs. Whenever I'm told to mop the floor, fix a machine, change something, or do basically **anything** that involves coordination, I'm completely hopeless despite giving my absolute best effort (an then there's the whole customer service thing). It took me until age 13, age fucking 13, to be able to sufficiently tie a shoe. Believe me, I try so damn hard at all of those things -- all of them, but I just can't ever, ever, ever get it.\n",
            "\n",
            "In the past 3 years, I have had **one** friend, and by \"friend\", I mean acquaintance that I spoke to every time I saw him between classes. I can't interact with anyone, I can't perform my job correctly, I can't make friends, I can't give out social cues, I can't do shit. However, I have never been officially diagnosed because whenever I talked to my parents about it when I was younger, they assured me that I was not \"different\" or \"odd\" in anyway.\n",
            "\n",
            "And as the title says, I'm just starting to feel like I'm nothing but an inconvenient waste of space to everyone around me. I'm absolutely useless at performing tasks, I have to rely on others to do them for me, I always accidentally say the wrong things to people, I always chase away potential friends with my apparent (but nonexistent) \"lack of empathy\", I have no independence, and I just feel like I do nothing but make the lives of everyone around me worse. I compared myself to a mosquito; nobody wants to have me around, and I'm just an annoyance. I feel like I'm that person that they roll their eyes when they see or that they want to avoid, and frankly, I don't even see the purpose of even being around at all if that's all my entire existence is.\n",
            "\n",
            "I've tried to put these thoughts behind me, and for a while, I was doing good. But recently, I was curious so started to browse the internet for what non-autistic people think about those on the spectrum, and it really confirmed my belief that it would just be better if I disappeared. The responses I found right here on Reddit\n",
            "\n",
            "&gt;It's an entitlement thing, imho. Autistic people are often praised for their intelligence (real or imagined) so they don't feel too bad about themselves, but it can also make them really full of themselves. Yeah, maybe I don't know shit about trains, but at least I can figure out how put on deodorant. [+11]\n",
            "\n",
            ".\n",
            "\n",
            "&gt;TBH, I've never met an autistic guy that wasn't a giant fucking weirdo with awful hygiene. [+14]\n",
            "\n",
            ".\n",
            "\n",
            "&gt;My brother is on the spectrum and I don't think I have the patience for a romantic relationship with a man who was. I would get so irritated so quickly at his outbursts, I'd get embarrassed when he'd act out in front of my friends (he has twitches/compulsive moment and he will still sometimes throw tantrums.) [+15]\n",
            "\n",
            ".\n",
            "\n",
            "&gt;Difficulty is not inability, and I find most men on the spectrum are not, actually, hopelessly incapable - they just throw their hands up and quit when things are hard instead of knuckling down and working on their social skills as skills. [+41]\n",
            "\n",
            "So there you have it. It was back to feeling like a mosquito again. I honestly don't know how I'm supposed to go on anymore, and I feel truly, sincerely feel more and more helpless each day.\n",
            "After lower -->  no hope, but don't want to hurt my familymy desire to die is, to me, pretty rational. i have nothing to contribute to the world don't anticipate being able to enjoy life for myself at any time in the future. there are only 4 people in the world who would be noticeably saddened at my passing, and i'm certain 3 of them would be tangibly better off without me, but they all want me to stick around.\n",
            "\n",
            "when i say i'm not worth the space i take up, it's not a passing moment of angst. i have no particular practical skills, and zero social skills. i can hold down a \"warm body\" job, but don't have any abilities or passions that would translate into a job that paid enough that i'd be financially stable. i already have a [worthless, liberal arts] bachelor's, so going back to school to re-train means racking up serious debt, as there's little to no aid for students who already have a b.a. i'm pushing 30 and still live with my parents, on the premise that i'll go back to school for a high-need job once i have a little money saved. spoiler alert i couldn't even finish the broad-base engineering physics series at the local community college, i can't code elementary-school-level java even when i have explicit instructions,  and even if i suddenly got hit with the social-skills stick over-night (i'm reasonably sure i have asperger's), i just failed my state certified nursing assistant (cna) exam. a.k.a., i'm too incompetent to get licensed to change adult diapers. i did well in and comparatively enjoyed biology classes at school, so i thought maybe i could translate that to working in an operating room, where i could be useful to the world and make a decent wage even though i have inadequate social skills. however, if i can't get my cna, i can't go to nursing school, which seemed by far the best route in terms of being a program i could get into, afford, and be able to get a job from. (it seems like a lot of these healthcare specialties get listed as high-need jobs even though there's not very many openings, so it comes down again to networking, which both i and the four people who are close to me suck at.) the same difficulty/cost problems apply to veterinary school, plus difficulty getting a job. i've looked into those government-repayment programs for vets who work in rural areas, but it seems even the people who initially take advantage of them leave, because there's not enough customers who are able to pay -- that's why they were under-served in the first place. my mental processing and physical moments appear slower than average, too, so i'm not even very good at menial work. at my current job, i'll clock out at the expected time, but stay up to 2 hours late because that's just how long it takes me to do all the normal work tasks. i know this is illegal and most of the time i don't care, because i just want to do a half-way decent job and not get fired for being \"lazy.\" (i'm aware this technically puts the company at risk, but since i'm the only one there during those hours, there's no cameras to prove anything, and i have no intention of outting myself, i don't think the broken law would amount to anything serious against the company.)\n",
            "\n",
            "\"gee,\" you say, \"it sounds like you're putting an awful lot of stock in a job. there's more to life than that!\" sure, i say, so long as you have the social skills to connect with people. the four people who would be affected for more than a hot minute at my passing are my parents, my brother, and the friend i've had since i was 5. i have not managed to make any lasting, meaningful connections during the 23 years since then; and i've never had anything that could in the vaguest sense be considered a romantic relationship. the closest i've come to approximating social connections is people who share an interest or hobby, but those connections either are (a) through the internet, or (b) in classes or at events that require money. so, if i want to try to connect face-to-face, i'm back to the money part from the previous paragraph.\n",
            "\n",
            "i know i've been really privileged in a lot of life circumstances, and i'm incredibly lucky to have those four people. i try to contribute what i can through doing volunteer work, random acts of kindness, and occasional monetary donations (after all, at least i have a safe, dry place to sleep at night, which is more than some people). but my conclusion is that existence isn't really worth it for me; i don't enjoy it and i can't see how i can \"make things better.\" the idea of planning out an effective suicide, then spending the rest of my pathetic savings on a weekend of fun before i tap out is really, really appealing. my family's managed to make me understand, though, that even though i think i'm a waste of resources and life is not something i feel is worth continuing, they are desperate for me to stick around, and much as i suck, it'd be worse for them if i committed suicide. i'm a little frustrated with them, a lot frustrated with and hating myself, and just want to lose consciousness and not regain it.i'm absolutely nothing but an inconvenience to everyonefirst of all, i'm 98% sure i am autistic. yes, i know, nowadays, seemingly **everyone** self-\"diagnoses\" themselves with asd or whatever else, but hear me out\n",
            "\n",
            "i have had 3 adults in the past, all of whom have had previous experience working with autistic people, that they strongly suspect that i am on the spectrum. my motor skills are so poor that i can barely even work retail jobs. whenever i'm told to mop the floor, fix a machine, change something, or do basically **anything** that involves coordination, i'm completely hopeless despite giving my absolute best effort (an then there's the whole customer service thing). it took me until age 13, age fucking 13, to be able to sufficiently tie a shoe. believe me, i try so damn hard at all of those things -- all of them, but i just can't ever, ever, ever get it.\n",
            "\n",
            "in the past 3 years, i have had **one** friend, and by \"friend\", i mean acquaintance that i spoke to every time i saw him between classes. i can't interact with anyone, i can't perform my job correctly, i can't make friends, i can't give out social cues, i can't do shit. however, i have never been officially diagnosed because whenever i talked to my parents about it when i was younger, they assured me that i was not \"different\" or \"odd\" in anyway.\n",
            "\n",
            "and as the title says, i'm just starting to feel like i'm nothing but an inconvenient waste of space to everyone around me. i'm absolutely useless at performing tasks, i have to rely on others to do them for me, i always accidentally say the wrong things to people, i always chase away potential friends with my apparent (but nonexistent) \"lack of empathy\", i have no independence, and i just feel like i do nothing but make the lives of everyone around me worse. i compared myself to a mosquito; nobody wants to have me around, and i'm just an annoyance. i feel like i'm that person that they roll their eyes when they see or that they want to avoid, and frankly, i don't even see the purpose of even being around at all if that's all my entire existence is.\n",
            "\n",
            "i've tried to put these thoughts behind me, and for a while, i was doing good. but recently, i was curious so started to browse the internet for what non-autistic people think about those on the spectrum, and it really confirmed my belief that it would just be better if i disappeared. the responses i found right here on reddit\n",
            "\n",
            "&gt;it's an entitlement thing, imho. autistic people are often praised for their intelligence (real or imagined) so they don't feel too bad about themselves, but it can also make them really full of themselves. yeah, maybe i don't know shit about trains, but at least i can figure out how put on deodorant. [+11]\n",
            "\n",
            ".\n",
            "\n",
            "&gt;tbh, i've never met an autistic guy that wasn't a giant fucking weirdo with awful hygiene. [+14]\n",
            "\n",
            ".\n",
            "\n",
            "&gt;my brother is on the spectrum and i don't think i have the patience for a romantic relationship with a man who was. i would get so irritated so quickly at his outbursts, i'd get embarrassed when he'd act out in front of my friends (he has twitches/compulsive moment and he will still sometimes throw tantrums.) [+15]\n",
            "\n",
            ".\n",
            "\n",
            "&gt;difficulty is not inability, and i find most men on the spectrum are not, actually, hopelessly incapable - they just throw their hands up and quit when things are hard instead of knuckling down and working on their social skills as skills. [+41]\n",
            "\n",
            "so there you have it. it was back to feeling like a mosquito again. i honestly don't know how i'm supposed to go on anymore, and i feel truly, sincerely feel more and more helpless each day.\n",
            "After remoeve non ascii -->  no hope, but don't want to hurt my familymy desire to die is, to me, pretty rational. i have nothing to contribute to the world don't anticipate being able to enjoy life for myself at any time in the future. there are only 4 people in the world who would be noticeably saddened at my passing, and i'm certain 3 of them would be tangibly better off without me, but they all want me to stick around.\n",
            "\n",
            "when i say i'm not worth the space i take up, it's not a passing moment of angst. i have no particular practical skills, and zero social skills. i can hold down a \"warm body\" job, but don't have any abilities or passions that would translate into a job that paid enough that i'd be financially stable. i already have a [worthless, liberal arts] bachelor's, so going back to school to re-train means racking up serious debt, as there's little to no aid for students who already have a b.a. i'm pushing 30 and still live with my parents, on the premise that i'll go back to school for a high-need job once i have a little money saved. spoiler alert i couldn't even finish the broad-base engineering physics series at the local community college, i can't code elementary-school-level java even when i have explicit instructions,  and even if i suddenly got hit with the social-skills stick over-night (i'm reasonably sure i have asperger's), i just failed my state certified nursing assistant (cna) exam. a.k.a., i'm too incompetent to get licensed to change adult diapers. i did well in and comparatively enjoyed biology classes at school, so i thought maybe i could translate that to working in an operating room, where i could be useful to the world and make a decent wage even though i have inadequate social skills. however, if i can't get my cna, i can't go to nursing school, which seemed by far the best route in terms of being a program i could get into, afford, and be able to get a job from. (it seems like a lot of these healthcare specialties get listed as high-need jobs even though there's not very many openings, so it comes down again to networking, which both i and the four people who are close to me suck at.) the same difficulty/cost problems apply to veterinary school, plus difficulty getting a job. i've looked into those government-repayment programs for vets who work in rural areas, but it seems even the people who initially take advantage of them leave, because there's not enough customers who are able to pay -- that's why they were under-served in the first place. my mental processing and physical moments appear slower than average, too, so i'm not even very good at menial work. at my current job, i'll clock out at the expected time, but stay up to 2 hours late because that's just how long it takes me to do all the normal work tasks. i know this is illegal and most of the time i don't care, because i just want to do a half-way decent job and not get fired for being \"lazy.\" (i'm aware this technically puts the company at risk, but since i'm the only one there during those hours, there's no cameras to prove anything, and i have no intention of outting myself, i don't think the broken law would amount to anything serious against the company.)\n",
            "\n",
            "\"gee,\" you say, \"it sounds like you're putting an awful lot of stock in a job. there's more to life than that!\" sure, i say, so long as you have the social skills to connect with people. the four people who would be affected for more than a hot minute at my passing are my parents, my brother, and the friend i've had since i was 5. i have not managed to make any lasting, meaningful connections during the 23 years since then; and i've never had anything that could in the vaguest sense be considered a romantic relationship. the closest i've come to approximating social connections is people who share an interest or hobby, but those connections either are (a) through the internet, or (b) in classes or at events that require money. so, if i want to try to connect face-to-face, i'm back to the money part from the previous paragraph.\n",
            "\n",
            "i know i've been really privileged in a lot of life circumstances, and i'm incredibly lucky to have those four people. i try to contribute what i can through doing volunteer work, random acts of kindness, and occasional monetary donations (after all, at least i have a safe, dry place to sleep at night, which is more than some people). but my conclusion is that existence isn't really worth it for me; i don't enjoy it and i can't see how i can \"make things better.\" the idea of planning out an effective suicide, then spending the rest of my pathetic savings on a weekend of fun before i tap out is really, really appealing. my family's managed to make me understand, though, that even though i think i'm a waste of resources and life is not something i feel is worth continuing, they are desperate for me to stick around, and much as i suck, it'd be worse for them if i committed suicide. i'm a little frustrated with them, a lot frustrated with and hating myself, and just want to lose consciousness and not regain it.i'm absolutely nothing but an inconvenience to everyonefirst of all, i'm 98% sure i am autistic. yes, i know, nowadays, seemingly **everyone** self-\"diagnoses\" themselves with asd or whatever else, but hear me out\n",
            "\n",
            "i have had 3 adults in the past, all of whom have had previous experience working with autistic people, that they strongly suspect that i am on the spectrum. my motor skills are so poor that i can barely even work retail jobs. whenever i'm told to mop the floor, fix a machine, change something, or do basically **anything** that involves coordination, i'm completely hopeless despite giving my absolute best effort (an then there's the whole customer service thing). it took me until age 13, age fucking 13, to be able to sufficiently tie a shoe. believe me, i try so damn hard at all of those things -- all of them, but i just can't ever, ever, ever get it.\n",
            "\n",
            "in the past 3 years, i have had **one** friend, and by \"friend\", i mean acquaintance that i spoke to every time i saw him between classes. i can't interact with anyone, i can't perform my job correctly, i can't make friends, i can't give out social cues, i can't do shit. however, i have never been officially diagnosed because whenever i talked to my parents about it when i was younger, they assured me that i was not \"different\" or \"odd\" in anyway.\n",
            "\n",
            "and as the title says, i'm just starting to feel like i'm nothing but an inconvenient waste of space to everyone around me. i'm absolutely useless at performing tasks, i have to rely on others to do them for me, i always accidentally say the wrong things to people, i always chase away potential friends with my apparent (but nonexistent) \"lack of empathy\", i have no independence, and i just feel like i do nothing but make the lives of everyone around me worse. i compared myself to a mosquito; nobody wants to have me around, and i'm just an annoyance. i feel like i'm that person that they roll their eyes when they see or that they want to avoid, and frankly, i don't even see the purpose of even being around at all if that's all my entire existence is.\n",
            "\n",
            "i've tried to put these thoughts behind me, and for a while, i was doing good. but recently, i was curious so started to browse the internet for what non-autistic people think about those on the spectrum, and it really confirmed my belief that it would just be better if i disappeared. the responses i found right here on reddit\n",
            "\n",
            "&gt;it's an entitlement thing, imho. autistic people are often praised for their intelligence (real or imagined) so they don't feel too bad about themselves, but it can also make them really full of themselves. yeah, maybe i don't know shit about trains, but at least i can figure out how put on deodorant. [+11]\n",
            "\n",
            ".\n",
            "\n",
            "&gt;tbh, i've never met an autistic guy that wasn't a giant fucking weirdo with awful hygiene. [+14]\n",
            "\n",
            ".\n",
            "\n",
            "&gt;my brother is on the spectrum and i don't think i have the patience for a romantic relationship with a man who was. i would get so irritated so quickly at his outbursts, i'd get embarrassed when he'd act out in front of my friends (he has twitches/compulsive moment and he will still sometimes throw tantrums.) [+15]\n",
            "\n",
            ".\n",
            "\n",
            "&gt;difficulty is not inability, and i find most men on the spectrum are not, actually, hopelessly incapable - they just throw their hands up and quit when things are hard instead of knuckling down and working on their social skills as skills. [+41]\n",
            "\n",
            "so there you have it. it was back to feeling like a mosquito again. i honestly don't know how i'm supposed to go on anymore, and i feel truly, sincerely feel more and more helpless each day.\n",
            "After remove email -->  no hope, but don't want to hurt my familymy desire to die is, to me, pretty rational. i have nothing to contribute to the world don't anticipate being able to enjoy life for myself at any time in the future. there are only 4 people in the world who would be noticeably saddened at my passing, and i'm certain 3 of them would be tangibly better off without me, but they all want me to stick around.\n",
            "\n",
            "when i say i'm not worth the space i take up, it's not a passing moment of angst. i have no particular practical skills, and zero social skills. i can hold down a \"warm body\" job, but don't have any abilities or passions that would translate into a job that paid enough that i'd be financially stable. i already have a [worthless, liberal arts] bachelor's, so going back to school to re-train means racking up serious debt, as there's little to no aid for students who already have a b.a. i'm pushing 30 and still live with my parents, on the premise that i'll go back to school for a high-need job once i have a little money saved. spoiler alert i couldn't even finish the broad-base engineering physics series at the local community college, i can't code elementary-school-level java even when i have explicit instructions,  and even if i suddenly got hit with the social-skills stick over-night (i'm reasonably sure i have asperger's), i just failed my state certified nursing assistant (cna) exam. a.k.a., i'm too incompetent to get licensed to change adult diapers. i did well in and comparatively enjoyed biology classes at school, so i thought maybe i could translate that to working in an operating room, where i could be useful to the world and make a decent wage even though i have inadequate social skills. however, if i can't get my cna, i can't go to nursing school, which seemed by far the best route in terms of being a program i could get into, afford, and be able to get a job from. (it seems like a lot of these healthcare specialties get listed as high-need jobs even though there's not very many openings, so it comes down again to networking, which both i and the four people who are close to me suck at.) the same difficulty/cost problems apply to veterinary school, plus difficulty getting a job. i've looked into those government-repayment programs for vets who work in rural areas, but it seems even the people who initially take advantage of them leave, because there's not enough customers who are able to pay -- that's why they were under-served in the first place. my mental processing and physical moments appear slower than average, too, so i'm not even very good at menial work. at my current job, i'll clock out at the expected time, but stay up to 2 hours late because that's just how long it takes me to do all the normal work tasks. i know this is illegal and most of the time i don't care, because i just want to do a half-way decent job and not get fired for being \"lazy.\" (i'm aware this technically puts the company at risk, but since i'm the only one there during those hours, there's no cameras to prove anything, and i have no intention of outting myself, i don't think the broken law would amount to anything serious against the company.)\n",
            "\n",
            "\"gee,\" you say, \"it sounds like you're putting an awful lot of stock in a job. there's more to life than that!\" sure, i say, so long as you have the social skills to connect with people. the four people who would be affected for more than a hot minute at my passing are my parents, my brother, and the friend i've had since i was 5. i have not managed to make any lasting, meaningful connections during the 23 years since then; and i've never had anything that could in the vaguest sense be considered a romantic relationship. the closest i've come to approximating social connections is people who share an interest or hobby, but those connections either are (a) through the internet, or (b) in classes or at events that require money. so, if i want to try to connect face-to-face, i'm back to the money part from the previous paragraph.\n",
            "\n",
            "i know i've been really privileged in a lot of life circumstances, and i'm incredibly lucky to have those four people. i try to contribute what i can through doing volunteer work, random acts of kindness, and occasional monetary donations (after all, at least i have a safe, dry place to sleep at night, which is more than some people). but my conclusion is that existence isn't really worth it for me; i don't enjoy it and i can't see how i can \"make things better.\" the idea of planning out an effective suicide, then spending the rest of my pathetic savings on a weekend of fun before i tap out is really, really appealing. my family's managed to make me understand, though, that even though i think i'm a waste of resources and life is not something i feel is worth continuing, they are desperate for me to stick around, and much as i suck, it'd be worse for them if i committed suicide. i'm a little frustrated with them, a lot frustrated with and hating myself, and just want to lose consciousness and not regain it.i'm absolutely nothing but an inconvenience to everyonefirst of all, i'm 98% sure i am autistic. yes, i know, nowadays, seemingly **everyone** self-\"diagnoses\" themselves with asd or whatever else, but hear me out\n",
            "\n",
            "i have had 3 adults in the past, all of whom have had previous experience working with autistic people, that they strongly suspect that i am on the spectrum. my motor skills are so poor that i can barely even work retail jobs. whenever i'm told to mop the floor, fix a machine, change something, or do basically **anything** that involves coordination, i'm completely hopeless despite giving my absolute best effort (an then there's the whole customer service thing). it took me until age 13, age fucking 13, to be able to sufficiently tie a shoe. believe me, i try so damn hard at all of those things -- all of them, but i just can't ever, ever, ever get it.\n",
            "\n",
            "in the past 3 years, i have had **one** friend, and by \"friend\", i mean acquaintance that i spoke to every time i saw him between classes. i can't interact with anyone, i can't perform my job correctly, i can't make friends, i can't give out social cues, i can't do shit. however, i have never been officially diagnosed because whenever i talked to my parents about it when i was younger, they assured me that i was not \"different\" or \"odd\" in anyway.\n",
            "\n",
            "and as the title says, i'm just starting to feel like i'm nothing but an inconvenient waste of space to everyone around me. i'm absolutely useless at performing tasks, i have to rely on others to do them for me, i always accidentally say the wrong things to people, i always chase away potential friends with my apparent (but nonexistent) \"lack of empathy\", i have no independence, and i just feel like i do nothing but make the lives of everyone around me worse. i compared myself to a mosquito; nobody wants to have me around, and i'm just an annoyance. i feel like i'm that person that they roll their eyes when they see or that they want to avoid, and frankly, i don't even see the purpose of even being around at all if that's all my entire existence is.\n",
            "\n",
            "i've tried to put these thoughts behind me, and for a while, i was doing good. but recently, i was curious so started to browse the internet for what non-autistic people think about those on the spectrum, and it really confirmed my belief that it would just be better if i disappeared. the responses i found right here on reddit\n",
            "\n",
            "&gt;it's an entitlement thing, imho. autistic people are often praised for their intelligence (real or imagined) so they don't feel too bad about themselves, but it can also make them really full of themselves. yeah, maybe i don't know shit about trains, but at least i can figure out how put on deodorant. [+11]\n",
            "\n",
            ".\n",
            "\n",
            "&gt;tbh, i've never met an autistic guy that wasn't a giant fucking weirdo with awful hygiene. [+14]\n",
            "\n",
            ".\n",
            "\n",
            "&gt;my brother is on the spectrum and i don't think i have the patience for a romantic relationship with a man who was. i would get so irritated so quickly at his outbursts, i'd get embarrassed when he'd act out in front of my friends (he has twitches/compulsive moment and he will still sometimes throw tantrums.) [+15]\n",
            "\n",
            ".\n",
            "\n",
            "&gt;difficulty is not inability, and i find most men on the spectrum are not, actually, hopelessly incapable - they just throw their hands up and quit when things are hard instead of knuckling down and working on their social skills as skills. [+41]\n",
            "\n",
            "so there you have it. it was back to feeling like a mosquito again. i honestly don't know how i'm supposed to go on anymore, and i feel truly, sincerely feel more and more helpless each day.\n",
            "After remove html -->  no hope, but don't want to hurt my familymy desire to die is, to me, pretty rational. i have nothing to contribute to the world don't anticipate being able to enjoy life for myself at any time in the future. there are only 4 people in the world who would be noticeably saddened at my passing, and i'm certain 3 of them would be tangibly better off without me, but they all want me to stick around.\n",
            "\n",
            "when i say i'm not worth the space i take up, it's not a passing moment of angst. i have no particular practical skills, and zero social skills. i can hold down a \"warm body\" job, but don't have any abilities or passions that would translate into a job that paid enough that i'd be financially stable. i already have a [worthless, liberal arts] bachelor's, so going back to school to re-train means racking up serious debt, as there's little to no aid for students who already have a b.a. i'm pushing 30 and still live with my parents, on the premise that i'll go back to school for a high-need job once i have a little money saved. spoiler alert i couldn't even finish the broad-base engineering physics series at the local community college, i can't code elementary-school-level java even when i have explicit instructions,  and even if i suddenly got hit with the social-skills stick over-night (i'm reasonably sure i have asperger's), i just failed my state certified nursing assistant (cna) exam. a.k.a., i'm too incompetent to get licensed to change adult diapers. i did well in and comparatively enjoyed biology classes at school, so i thought maybe i could translate that to working in an operating room, where i could be useful to the world and make a decent wage even though i have inadequate social skills. however, if i can't get my cna, i can't go to nursing school, which seemed by far the best route in terms of being a program i could get into, afford, and be able to get a job from. (it seems like a lot of these healthcare specialties get listed as high-need jobs even though there's not very many openings, so it comes down again to networking, which both i and the four people who are close to me suck at.) the same difficulty/cost problems apply to veterinary school, plus difficulty getting a job. i've looked into those government-repayment programs for vets who work in rural areas, but it seems even the people who initially take advantage of them leave, because there's not enough customers who are able to pay -- that's why they were under-served in the first place. my mental processing and physical moments appear slower than average, too, so i'm not even very good at menial work. at my current job, i'll clock out at the expected time, but stay up to 2 hours late because that's just how long it takes me to do all the normal work tasks. i know this is illegal and most of the time i don't care, because i just want to do a half-way decent job and not get fired for being \"lazy.\" (i'm aware this technically puts the company at risk, but since i'm the only one there during those hours, there's no cameras to prove anything, and i have no intention of outting myself, i don't think the broken law would amount to anything serious against the company.)\n",
            "\n",
            "\"gee,\" you say, \"it sounds like you're putting an awful lot of stock in a job. there's more to life than that!\" sure, i say, so long as you have the social skills to connect with people. the four people who would be affected for more than a hot minute at my passing are my parents, my brother, and the friend i've had since i was 5. i have not managed to make any lasting, meaningful connections during the 23 years since then; and i've never had anything that could in the vaguest sense be considered a romantic relationship. the closest i've come to approximating social connections is people who share an interest or hobby, but those connections either are (a) through the internet, or (b) in classes or at events that require money. so, if i want to try to connect face-to-face, i'm back to the money part from the previous paragraph.\n",
            "\n",
            "i know i've been really privileged in a lot of life circumstances, and i'm incredibly lucky to have those four people. i try to contribute what i can through doing volunteer work, random acts of kindness, and occasional monetary donations (after all, at least i have a safe, dry place to sleep at night, which is more than some people). but my conclusion is that existence isn't really worth it for me; i don't enjoy it and i can't see how i can \"make things better.\" the idea of planning out an effective suicide, then spending the rest of my pathetic savings on a weekend of fun before i tap out is really, really appealing. my family's managed to make me understand, though, that even though i think i'm a waste of resources and life is not something i feel is worth continuing, they are desperate for me to stick around, and much as i suck, it'd be worse for them if i committed suicide. i'm a little frustrated with them, a lot frustrated with and hating myself, and just want to lose consciousness and not regain it.i'm absolutely nothing but an inconvenience to everyonefirst of all, i'm 98% sure i am autistic. yes, i know, nowadays, seemingly **everyone** self-\"diagnoses\" themselves with asd or whatever else, but hear me out\n",
            "\n",
            "i have had 3 adults in the past, all of whom have had previous experience working with autistic people, that they strongly suspect that i am on the spectrum. my motor skills are so poor that i can barely even work retail jobs. whenever i'm told to mop the floor, fix a machine, change something, or do basically **anything** that involves coordination, i'm completely hopeless despite giving my absolute best effort (an then there's the whole customer service thing). it took me until age 13, age fucking 13, to be able to sufficiently tie a shoe. believe me, i try so damn hard at all of those things -- all of them, but i just can't ever, ever, ever get it.\n",
            "\n",
            "in the past 3 years, i have had **one** friend, and by \"friend\", i mean acquaintance that i spoke to every time i saw him between classes. i can't interact with anyone, i can't perform my job correctly, i can't make friends, i can't give out social cues, i can't do shit. however, i have never been officially diagnosed because whenever i talked to my parents about it when i was younger, they assured me that i was not \"different\" or \"odd\" in anyway.\n",
            "\n",
            "and as the title says, i'm just starting to feel like i'm nothing but an inconvenient waste of space to everyone around me. i'm absolutely useless at performing tasks, i have to rely on others to do them for me, i always accidentally say the wrong things to people, i always chase away potential friends with my apparent (but nonexistent) \"lack of empathy\", i have no independence, and i just feel like i do nothing but make the lives of everyone around me worse. i compared myself to a mosquito; nobody wants to have me around, and i'm just an annoyance. i feel like i'm that person that they roll their eyes when they see or that they want to avoid, and frankly, i don't even see the purpose of even being around at all if that's all my entire existence is.\n",
            "\n",
            "i've tried to put these thoughts behind me, and for a while, i was doing good. but recently, i was curious so started to browse the internet for what non-autistic people think about those on the spectrum, and it really confirmed my belief that it would just be better if i disappeared. the responses i found right here on reddit\n",
            "\n",
            ">it's an entitlement thing, imho. autistic people are often praised for their intelligence (real or imagined) so they don't feel too bad about themselves, but it can also make them really full of themselves. yeah, maybe i don't know shit about trains, but at least i can figure out how put on deodorant. [+11]\n",
            "\n",
            ".\n",
            "\n",
            ">tbh, i've never met an autistic guy that wasn't a giant fucking weirdo with awful hygiene. [+14]\n",
            "\n",
            ".\n",
            "\n",
            ">my brother is on the spectrum and i don't think i have the patience for a romantic relationship with a man who was. i would get so irritated so quickly at his outbursts, i'd get embarrassed when he'd act out in front of my friends (he has twitches/compulsive moment and he will still sometimes throw tantrums.) [+15]\n",
            "\n",
            ".\n",
            "\n",
            ">difficulty is not inability, and i find most men on the spectrum are not, actually, hopelessly incapable - they just throw their hands up and quit when things are hard instead of knuckling down and working on their social skills as skills. [+41]\n",
            "\n",
            "so there you have it. it was back to feeling like a mosquito again. i honestly don't know how i'm supposed to go on anymore, and i feel truly, sincerely feel more and more helpless each day.\n",
            "After remove url -->  no hope, but don't want to hurt my familymy desire to die is, to me, pretty rational. i have nothing to contribute to the world don't anticipate being able to enjoy life for myself at any time in the future. there are only 4 people in the world who would be noticeably saddened at my passing, and i'm certain 3 of them would be tangibly better off without me, but they all want me to stick around.\n",
            "\n",
            "when i say i'm not worth the space i take up, it's not a passing moment of angst. i have no particular practical skills, and zero social skills. i can hold down a \"warm body\" job, but don't have any abilities or passions that would translate into a job that paid enough that i'd be financially stable. i already have a [worthless, liberal arts] bachelor's, so going back to school to re-train means racking up serious debt, as there's little to no aid for students who already have a b.a. i'm pushing 30 and still live with my parents, on the premise that i'll go back to school for a high-need job once i have a little money saved. spoiler alert i couldn't even finish the broad-base engineering physics series at the local community college, i can't code elementary-school-level java even when i have explicit instructions,  and even if i suddenly got hit with the social-skills stick over-night (i'm reasonably sure i have asperger's), i just failed my state certified nursing assistant (cna) exam. a.k.a., i'm too incompetent to get licensed to change adult diapers. i did well in and comparatively enjoyed biology classes at school, so i thought maybe i could translate that to working in an operating room, where i could be useful to the world and make a decent wage even though i have inadequate social skills. however, if i can't get my cna, i can't go to nursing school, which seemed by far the best route in terms of being a program i could get into, afford, and be able to get a job from. (it seems like a lot of these healthcare specialties get listed as high-need jobs even though there's not very many openings, so it comes down again to networking, which both i and the four people who are close to me suck at.) the same difficulty/cost problems apply to veterinary school, plus difficulty getting a job. i've looked into those government-repayment programs for vets who work in rural areas, but it seems even the people who initially take advantage of them leave, because there's not enough customers who are able to pay -- that's why they were under-served in the first place. my mental processing and physical moments appear slower than average, too, so i'm not even very good at menial work. at my current job, i'll clock out at the expected time, but stay up to 2 hours late because that's just how long it takes me to do all the normal work tasks. i know this is illegal and most of the time i don't care, because i just want to do a half-way decent job and not get fired for being \"lazy.\" (i'm aware this technically puts the company at risk, but since i'm the only one there during those hours, there's no cameras to prove anything, and i have no intention of outting myself, i don't think the broken law would amount to anything serious against the company.)\n",
            "\n",
            "\"gee,\" you say, \"it sounds like you're putting an awful lot of stock in a job. there's more to life than that!\" sure, i say, so long as you have the social skills to connect with people. the four people who would be affected for more than a hot minute at my passing are my parents, my brother, and the friend i've had since i was 5. i have not managed to make any lasting, meaningful connections during the 23 years since then; and i've never had anything that could in the vaguest sense be considered a romantic relationship. the closest i've come to approximating social connections is people who share an interest or hobby, but those connections either are (a) through the internet, or (b) in classes or at events that require money. so, if i want to try to connect face-to-face, i'm back to the money part from the previous paragraph.\n",
            "\n",
            "i know i've been really privileged in a lot of life circumstances, and i'm incredibly lucky to have those four people. i try to contribute what i can through doing volunteer work, random acts of kindness, and occasional monetary donations (after all, at least i have a safe, dry place to sleep at night, which is more than some people). but my conclusion is that existence isn't really worth it for me; i don't enjoy it and i can't see how i can \"make things better.\" the idea of planning out an effective suicide, then spending the rest of my pathetic savings on a weekend of fun before i tap out is really, really appealing. my family's managed to make me understand, though, that even though i think i'm a waste of resources and life is not something i feel is worth continuing, they are desperate for me to stick around, and much as i suck, it'd be worse for them if i committed suicide. i'm a little frustrated with them, a lot frustrated with and hating myself, and just want to lose consciousness and not regain it.i'm absolutely nothing but an inconvenience to everyonefirst of all, i'm 98% sure i am autistic. yes, i know, nowadays, seemingly **everyone** self-\"diagnoses\" themselves with asd or whatever else, but hear me out\n",
            "\n",
            "i have had 3 adults in the past, all of whom have had previous experience working with autistic people, that they strongly suspect that i am on the spectrum. my motor skills are so poor that i can barely even work retail jobs. whenever i'm told to mop the floor, fix a machine, change something, or do basically **anything** that involves coordination, i'm completely hopeless despite giving my absolute best effort (an then there's the whole customer service thing). it took me until age 13, age fucking 13, to be able to sufficiently tie a shoe. believe me, i try so damn hard at all of those things -- all of them, but i just can't ever, ever, ever get it.\n",
            "\n",
            "in the past 3 years, i have had **one** friend, and by \"friend\", i mean acquaintance that i spoke to every time i saw him between classes. i can't interact with anyone, i can't perform my job correctly, i can't make friends, i can't give out social cues, i can't do shit. however, i have never been officially diagnosed because whenever i talked to my parents about it when i was younger, they assured me that i was not \"different\" or \"odd\" in anyway.\n",
            "\n",
            "and as the title says, i'm just starting to feel like i'm nothing but an inconvenient waste of space to everyone around me. i'm absolutely useless at performing tasks, i have to rely on others to do them for me, i always accidentally say the wrong things to people, i always chase away potential friends with my apparent (but nonexistent) \"lack of empathy\", i have no independence, and i just feel like i do nothing but make the lives of everyone around me worse. i compared myself to a mosquito; nobody wants to have me around, and i'm just an annoyance. i feel like i'm that person that they roll their eyes when they see or that they want to avoid, and frankly, i don't even see the purpose of even being around at all if that's all my entire existence is.\n",
            "\n",
            "i've tried to put these thoughts behind me, and for a while, i was doing good. but recently, i was curious so started to browse the internet for what non-autistic people think about those on the spectrum, and it really confirmed my belief that it would just be better if i disappeared. the responses i found right here on reddit\n",
            "\n",
            ">it's an entitlement thing, imho. autistic people are often praised for their intelligence (real or imagined) so they don't feel too bad about themselves, but it can also make them really full of themselves. yeah, maybe i don't know shit about trains, but at least i can figure out how put on deodorant. [+11]\n",
            "\n",
            ".\n",
            "\n",
            ">tbh, i've never met an autistic guy that wasn't a giant fucking weirdo with awful hygiene. [+14]\n",
            "\n",
            ".\n",
            "\n",
            ">my brother is on the spectrum and i don't think i have the patience for a romantic relationship with a man who was. i would get so irritated so quickly at his outbursts, i'd get embarrassed when he'd act out in front of my friends (he has twitches/compulsive moment and he will still sometimes throw tantrums.) [+15]\n",
            "\n",
            ".\n",
            "\n",
            ">difficulty is not inability, and i find most men on the spectrum are not, actually, hopelessly incapable - they just throw their hands up and quit when things are hard instead of knuckling down and working on their social skills as skills. [+41]\n",
            "\n",
            "so there you have it. it was back to feeling like a mosquito again. i honestly don't know how i'm supposed to go on anymore, and i feel truly, sincerely feel more and more helpless each day.\n",
            "replace repeated chars -->  no hope, but don't want to hurt my familymy desire to die is, to me, pretty rational. i have nothing to contribute to the world don't anticipate being able to enjoy life for myself at any time in the future. there are only 4 people in the world who would be noticeably saddened at my passing, and i'm certain 3 of them would be tangibly better off without me, but they all want me to stick around.\n",
            "\n",
            "when i say i'm not worth the space i take up, it's not a passing moment of angst. i have no particular practical skills, and zero social skills. i can hold down a \"warm body\" job, but don't have any abilities or passions that would translate into a job that paid enough that i'd be financially stable. i already have a [worthless, liberal arts] bachelor's, so going back to school to re-train means racking up serious debt, as there's little to no aid for students who already have a b.a. i'm pushing 30 and still live with my parents, on the premise that i'll go back to school for a high-need job once i have a little money saved. spoiler alert i couldn't even finish the broad-base engineering physics series at the local community college, i can't code elementary-school-level java even when i have explicit instructions,  and even if i suddenly got hit with the social-skills stick over-night (i'm reasonably sure i have asperger's), i just failed my state certified nursing assistant (cna) exam. a.k.a., i'm too incompetent to get licensed to change adult diapers. i did well in and comparatively enjoyed biology classes at school, so i thought maybe i could translate that to working in an operating room, where i could be useful to the world and make a decent wage even though i have inadequate social skills. however, if i can't get my cna, i can't go to nursing school, which seemed by far the best route in terms of being a program i could get into, afford, and be able to get a job from. (it seems like a lot of these healthcare specialties get listed as high-need jobs even though there's not very many openings, so it comes down again to networking, which both i and the four people who are close to me suck at.) the same difficulty/cost problems apply to veterinary school, plus difficulty getting a job. i've looked into those government-repayment programs for vets who work in rural areas, but it seems even the people who initially take advantage of them leave, because there's not enough customers who are able to pay -- that's why they were under-served in the first place. my mental processing and physical moments appear slower than average, too, so i'm not even very good at menial work. at my current job, i'll clock out at the expected time, but stay up to 2 hours late because that's just how long it takes me to do all the normal work tasks. i know this is illegal and most of the time i don't care, because i just want to do a half-way decent job and not get fired for being \"lazy.\" (i'm aware this technically puts the company at risk, but since i'm the only one there during those hours, there's no cameras to prove anything, and i have no intention of outting myself, i don't think the broken law would amount to anything serious against the company.)\n",
            "\n",
            "\"gee,\" you say, \"it sounds like you're putting an awful lot of stock in a job. there's more to life than that!\" sure, i say, so long as you have the social skills to connect with people. the four people who would be affected for more than a hot minute at my passing are my parents, my brother, and the friend i've had since i was 5. i have not managed to make any lasting, meaningful connections during the 23 years since then; and i've never had anything that could in the vaguest sense be considered a romantic relationship. the closest i've come to approximating social connections is people who share an interest or hobby, but those connections either are (a) through the internet, or (b) in classes or at events that require money. so, if i want to try to connect face-to-face, i'm back to the money part from the previous paragraph.\n",
            "\n",
            "i know i've been really privileged in a lot of life circumstances, and i'm incredibly lucky to have those four people. i try to contribute what i can through doing volunteer work, random acts of kindness, and occasional monetary donations (after all, at least i have a safe, dry place to sleep at night, which is more than some people). but my conclusion is that existence isn't really worth it for me; i don't enjoy it and i can't see how i can \"make things better.\" the idea of planning out an effective suicide, then spending the rest of my pathetic savings on a weekend of fun before i tap out is really, really appealing. my family's managed to make me understand, though, that even though i think i'm a waste of resources and life is not something i feel is worth continuing, they are desperate for me to stick around, and much as i suck, it'd be worse for them if i committed suicide. i'm a little frustrated with them, a lot frustrated with and hating myself, and just want to lose consciousness and not regain it.i'm absolutely nothing but an inconvenience to everyonefirst of all, i'm 98% sure i am autistic. yes, i know, nowadays, seemingly **everyone** self-\"diagnoses\" themselves with asd or whatever else, but hear me out\n",
            "\n",
            "i have had 3 adults in the past, all of whom have had previous experience working with autistic people, that they strongly suspect that i am on the spectrum. my motor skills are so poor that i can barely even work retail jobs. whenever i'm told to mop the floor, fix a machine, change something, or do basically **anything** that involves coordination, i'm completely hopeless despite giving my absolute best effort (an then there's the whole customer service thing). it took me until age 13, age fucking 13, to be able to sufficiently tie a shoe. believe me, i try so damn hard at all of those things -- all of them, but i just can't ever, ever, ever get it.\n",
            "\n",
            "in the past 3 years, i have had **one** friend, and by \"friend\", i mean acquaintance that i spoke to every time i saw him between classes. i can't interact with anyone, i can't perform my job correctly, i can't make friends, i can't give out social cues, i can't do shit. however, i have never been officially diagnosed because whenever i talked to my parents about it when i was younger, they assured me that i was not \"different\" or \"odd\" in anyway.\n",
            "\n",
            "and as the title says, i'm just starting to feel like i'm nothing but an inconvenient waste of space to everyone around me. i'm absolutely useless at performing tasks, i have to rely on others to do them for me, i always accidentally say the wrong things to people, i always chase away potential friends with my apparent (but nonexistent) \"lack of empathy\", i have no independence, and i just feel like i do nothing but make the lives of everyone around me worse. i compared myself to a mosquito; nobody wants to have me around, and i'm just an annoyance. i feel like i'm that person that they roll their eyes when they see or that they want to avoid, and frankly, i don't even see the purpose of even being around at all if that's all my entire existence is.\n",
            "\n",
            "i've tried to put these thoughts behind me, and for a while, i was doing good. but recently, i was curious so started to browse the internet for what non-autistic people think about those on the spectrum, and it really confirmed my belief that it would just be better if i disappeared. the responses i found right here on reddit\n",
            "\n",
            ">it's an entitlement thing, imho. autistic people are often praised for their intelligence (real or imagined) so they don't feel too bad about themselves, but it can also make them really full of themselves. yeah, maybe i don't know shit about trains, but at least i can figure out how put on deodorant. [+11]\n",
            "\n",
            ".\n",
            "\n",
            ">tbh, i've never met an autistic guy that wasn't a giant fucking weirdo with awful hygiene. [+14]\n",
            "\n",
            ".\n",
            "\n",
            ">my brother is on the spectrum and i don't think i have the patience for a romantic relationship with a man who was. i would get so irritated so quickly at his outbursts, i'd get embarrassed when he'd act out in front of my friends (he has twitches/compulsive moment and he will still sometimes throw tantrums.) [+15]\n",
            "\n",
            ".\n",
            "\n",
            ">difficulty is not inability, and i find most men on the spectrum are not, actually, hopelessly incapable - they just throw their hands up and quit when things are hard instead of knuckling down and working on their social skills as skills. [+41]\n",
            "\n",
            "so there you have it. it was back to feeling like a mosquito again. i honestly don't know how i'm supposed to go on anymore, and i feel truly, sincerely feel more and more helpless each day.\n",
            "After expand -->  no hope, but do not want to hurt my familymy desire to die is, to me, pretty rational. i have nothing to contribute to the world do not anticipate being able to enjoy life for myself at any time in the future. there are only 4 people in the world who would be noticeably saddened at my passing, and i am certain 3 of them would be tangibly better off without me, but they all want me to stick around.\n",
            "\n",
            "when i say i am not worth the space i take up, it is not a passing moment of angst. i have no particular practical skills, and zero social skills. i can hold down a \"warm body\" job, but do not have any abilities or passions that would translate into a job that paid enough that i would be financially stable. i already have a [worthless, liberal arts] bachelor's, so going back to school to re-train means racking up serious debt, as there is little to no aid for students who already have a b.a. i am pushing 30 and still live with my parents, on the premise that i will go back to school for a high-need job once i have a little money saved. spoiler alert i could not even finish the broad-base engineering physics series at the local community college, i cannot code elementary-school-level java even when i have explicit instructions,  and even if i suddenly got hit with the social-skills stick over-night (i am reasonably sure i have asperger's), i just failed my state certified nursing assistant (cna) exam. a.k.a., i am too incompetent to get licensed to change adult diapers. i did well in and comparatively enjoyed biology classes at school, so i thought maybe i could translate that to working in an operating room, where i could be useful to the world and make a decent wage even though i have inadequate social skills. however, if i cannot get my cna, i cannot go to nursing school, which seemed by far the best route in terms of being a program i could get into, afford, and be able to get a job from. (it seems like a lot of these healthcare specialties get listed as high-need jobs even though there is not very many openings, so it comes down again to networking, which both i and the four people who are close to me suck at.) the same difficulty/cost problems apply to veterinary school, plus difficulty getting a job. i have looked into those government-repayment programs for vets who work in rural areas, but it seems even the people who initially take advantage of them leave, because there is not enough customers who are able to pay -- that is why they were under-served in the first place. my mental processing and physical moments appear slower than average, too, so i am not even very good at menial work. at my current job, i will clock out at the expected time, but stay up to 2 hours late because that is just how long it takes me to do all the normal work tasks. i know this is illegal and most of the time i do not care, because i just want to do a half-way decent job and not get fired for being \"lazy.\" (i am aware this technically puts the company at risk, but since i am the only one there during those hours, there is no cameras to prove anything, and i have no intention of outting myself, i do not think the broken law would amount to anything serious against the company.)\n",
            "\n",
            "\"gee,\" you say, \"it sounds like you are putting an awful lot of stock in a job. there is more to life than that!\" sure, i say, so long as you have the social skills to connect with people. the four people who would be affected for more than a hot minute at my passing are my parents, my brother, and the friend i have had since i was 5. i have not managed to make any lasting, meaningful connections during the 23 years since then; and i have never had anything that could in the vaguest sense be considered a romantic relationship. the closest i have come to approximating social connections is people who share an interest or hobby, but those connections either are (a) through the internet, or (b) in classes or at events that require money. so, if i want to try to connect face-to-face, i am back to the money part from the previous paragraph.\n",
            "\n",
            "i know i have been really privileged in a lot of life circumstances, and i am incredibly lucky to have those four people. i try to contribute what i can through doing volunteer work, random acts of kindness, and occasional monetary donations (after all, at least i have a safe, dry place to sleep at night, which is more than some people). but my conclusion is that existence is not really worth it for me; i do not enjoy it and i cannot see how i can \"make things better.\" the idea of planning out an effective suicide, then spending the rest of my pathetic savings on a weekend of fun before i tap out is really, really appealing. my family's managed to make me understand, though, that even though i think i am a waste of resources and life is not something i feel is worth continuing, they are desperate for me to stick around, and much as i suck, it would be worse for them if i committed suicide. i am a little frustrated with them, a lot frustrated with and hating myself, and just want to lose consciousness and not regain it.i am absolutely nothing but an inconvenience to everyonefirst of all, i am 98% sure i am autistic. yes, i know, nowadays, seemingly **everyone** self-\"diagnoses\" themselves with asd or whatever else, but hear me out\n",
            "\n",
            "i have had 3 adults in the past, all of whom have had previous experience working with autistic people, that they strongly suspect that i am on the spectrum. my motor skills are so poor that i can barely even work retail jobs. whenever i am told to mop the floor, fix a machine, change something, or do basically **anything** that involves coordination, i am completely hopeless despite giving my absolute best effort (an then there is the whole customer service thing). it took me until age 13, age fucking 13, to be able to sufficiently tie a shoe. believe me, i try so damn hard at all of those things -- all of them, but i just cannot ever, ever, ever get it.\n",
            "\n",
            "in the past 3 years, i have had **one** friend, and by \"friend\", i mean acquaintance that i spoke to every time i saw him between classes. i cannot interact with anyone, i cannot perform my job correctly, i cannot make friends, i cannot give out social cues, i cannot do shit. however, i have never been officially diagnosed because whenever i talked to my parents about it when i was younger, they assured me that i was not \"different\" or \"odd\" in anyway.\n",
            "\n",
            "and as the title says, i am just starting to feel like i am nothing but an inconvenient waste of space to everyone around me. i am absolutely useless at performing tasks, i have to rely on others to do them for me, i always accidentally say the wrong things to people, i always chase away potential friends with my apparent (but nonexistent) \"lack of empathy\", i have no independence, and i just feel like i do nothing but make the lives of everyone around me worse. i compared myself to a mosquito; nobody wants to have me around, and i am just an annoyance. i feel like i am that person that they roll their eyes when they see or that they want to avoid, and frankly, i do not even see the purpose of even being around at all if that is all my entire existence is.\n",
            "\n",
            "i have tried to put these thoughts behind me, and for a while, i was doing good. but recently, i was curious so started to browse the internet for what non-autistic people think about those on the spectrum, and it really confirmed my belief that it would just be better if i disappeared. the responses i found right here on reddit\n",
            "\n",
            ">it is an entitlement thing, imho. autistic people are often praised for their intelligence (real or imagined) so they do not feel too bad about themselves, but it can also make them really full of themselves. yeah, maybe i do not know shit about trains, but at least i can figure out how put on deodorant. [+11]\n",
            "\n",
            ".\n",
            "\n",
            ">to be honest, i have never met an autistic guy that was not a giant fucking weirdo with awful hygiene. [+14]\n",
            "\n",
            ".\n",
            "\n",
            ">my brother is on the spectrum and i do not think i have the patience for a romantic relationship with a man who was. i would get so irritated so quickly at his outbursts, i would get embarrassed when he would act out in front of my friends (he has twitches/compulsive moment and he will still sometimes throw tantrums.) [+15]\n",
            "\n",
            ".\n",
            "\n",
            ">difficulty is not inability, and i find most men on the spectrum are not, actually, hopelessly incapable - they just throw their hands up and quit when things are hard instead of knuckling down and working on their social skills as skills. [+41]\n",
            "\n",
            "so there you have it. it was back to feeling like a mosquito again. i honestly do not know how i am supposed to go on anymore, and i feel truly, sincerely feel more and more helpless each day.\n",
            "After remove possessives -->  no hope, but do not want to hurt my familymy desire to die is, to me, pretty rational. i have nothing to contribute to the world do not anticipate being able to enjoy life for myself at any time in the future. there are only 4 people in the world who would be noticeably saddened at my passing, and i am certain 3 of them would be tangibly better off without me, but they all want me to stick around.\n",
            "\n",
            "when i say i am not worth the space i take up, it is not a passing moment of angst. i have no particular practical skills, and zero social skills. i can hold down a \"warm body\" job, but do not have any abilities or passions that would translate into a job that paid enough that i would be financially stable. i already have a [worthless, liberal arts] bachelor, so going back to school to re-train means racking up serious debt, as there is little to no aid for students who already have a b.a. i am pushing 30 and still live with my parents, on the premise that i will go back to school for a high-need job once i have a little money saved. spoiler alert i could not even finish the broad-base engineering physics series at the local community college, i cannot code elementary-school-level java even when i have explicit instructions,  and even if i suddenly got hit with the social-skills stick over-night (i am reasonably sure i have asperger), i just failed my state certified nursing assistant (cna) exam. a.k.a., i am too incompetent to get licensed to change adult diapers. i did well in and comparatively enjoyed biology classes at school, so i thought maybe i could translate that to working in an operating room, where i could be useful to the world and make a decent wage even though i have inadequate social skills. however, if i cannot get my cna, i cannot go to nursing school, which seemed by far the best route in terms of being a program i could get into, afford, and be able to get a job from. (it seems like a lot of these healthcare specialties get listed as high-need jobs even though there is not very many openings, so it comes down again to networking, which both i and the four people who are close to me suck at.) the same difficulty/cost problems apply to veterinary school, plus difficulty getting a job. i have looked into those government-repayment programs for vets who work in rural areas, but it seems even the people who initially take advantage of them leave, because there is not enough customers who are able to pay -- that is why they were under-served in the first place. my mental processing and physical moments appear slower than average, too, so i am not even very good at menial work. at my current job, i will clock out at the expected time, but stay up to 2 hours late because that is just how long it takes me to do all the normal work tasks. i know this is illegal and most of the time i do not care, because i just want to do a half-way decent job and not get fired for being \"lazy.\" (i am aware this technically puts the company at risk, but since i am the only one there during those hours, there is no cameras to prove anything, and i have no intention of outting myself, i do not think the broken law would amount to anything serious against the company.)\n",
            "\n",
            "\"gee,\" you say, \"it sounds like you are putting an awful lot of stock in a job. there is more to life than that!\" sure, i say, so long as you have the social skills to connect with people. the four people who would be affected for more than a hot minute at my passing are my parents, my brother, and the friend i have had since i was 5. i have not managed to make any lasting, meaningful connections during the 23 years since then; and i have never had anything that could in the vaguest sense be considered a romantic relationship. the closest i have come to approximating social connections is people who share an interest or hobby, but those connections either are (a) through the internet, or (b) in classes or at events that require money. so, if i want to try to connect face-to-face, i am back to the money part from the previous paragraph.\n",
            "\n",
            "i know i have been really privileged in a lot of life circumstances, and i am incredibly lucky to have those four people. i try to contribute what i can through doing volunteer work, random acts of kindness, and occasional monetary donations (after all, at least i have a safe, dry place to sleep at night, which is more than some people). but my conclusion is that existence is not really worth it for me; i do not enjoy it and i cannot see how i can \"make things better.\" the idea of planning out an effective suicide, then spending the rest of my pathetic savings on a weekend of fun before i tap out is really, really appealing. my family managed to make me understand, though, that even though i think i am a waste of resources and life is not something i feel is worth continuing, they are desperate for me to stick around, and much as i suck, it would be worse for them if i committed suicide. i am a little frustrated with them, a lot frustrated with and hating myself, and just want to lose consciousness and not regain it.i am absolutely nothing but an inconvenience to everyonefirst of all, i am 98% sure i am autistic. yes, i know, nowadays, seemingly **everyone** self-\"diagnoses\" themselves with asd or whatever else, but hear me out\n",
            "\n",
            "i have had 3 adults in the past, all of whom have had previous experience working with autistic people, that they strongly suspect that i am on the spectrum. my motor skills are so poor that i can barely even work retail jobs. whenever i am told to mop the floor, fix a machine, change something, or do basically **anything** that involves coordination, i am completely hopeless despite giving my absolute best effort (an then there is the whole customer service thing). it took me until age 13, age fucking 13, to be able to sufficiently tie a shoe. believe me, i try so damn hard at all of those things -- all of them, but i just cannot ever, ever, ever get it.\n",
            "\n",
            "in the past 3 years, i have had **one** friend, and by \"friend\", i mean acquaintance that i spoke to every time i saw him between classes. i cannot interact with anyone, i cannot perform my job correctly, i cannot make friends, i cannot give out social cues, i cannot do shit. however, i have never been officially diagnosed because whenever i talked to my parents about it when i was younger, they assured me that i was not \"different\" or \"odd\" in anyway.\n",
            "\n",
            "and as the title says, i am just starting to feel like i am nothing but an inconvenient waste of space to everyone around me. i am absolutely useless at performing tasks, i have to rely on others to do them for me, i always accidentally say the wrong things to people, i always chase away potential friends with my apparent (but nonexistent) \"lack of empathy\", i have no independence, and i just feel like i do nothing but make the lives of everyone around me worse. i compared myself to a mosquito; nobody wants to have me around, and i am just an annoyance. i feel like i am that person that they roll their eyes when they see or that they want to avoid, and frankly, i do not even see the purpose of even being around at all if that is all my entire existence is.\n",
            "\n",
            "i have tried to put these thoughts behind me, and for a while, i was doing good. but recently, i was curious so started to browse the internet for what non-autistic people think about those on the spectrum, and it really confirmed my belief that it would just be better if i disappeared. the responses i found right here on reddit\n",
            "\n",
            ">it is an entitlement thing, imho. autistic people are often praised for their intelligence (real or imagined) so they do not feel too bad about themselves, but it can also make them really full of themselves. yeah, maybe i do not know shit about trains, but at least i can figure out how put on deodorant. [+11]\n",
            "\n",
            ".\n",
            "\n",
            ">to be honest, i have never met an autistic guy that was not a giant fucking weirdo with awful hygiene. [+14]\n",
            "\n",
            ".\n",
            "\n",
            ">my brother is on the spectrum and i do not think i have the patience for a romantic relationship with a man who was. i would get so irritated so quickly at his outbursts, i would get embarrassed when he would act out in front of my friends (he has twitches/compulsive moment and he will still sometimes throw tantrums.) [+15]\n",
            "\n",
            ".\n",
            "\n",
            ">difficulty is not inability, and i find most men on the spectrum are not, actually, hopelessly incapable - they just throw their hands up and quit when things are hard instead of knuckling down and working on their social skills as skills. [+41]\n",
            "\n",
            "so there you have it. it was back to feeling like a mosquito again. i honestly do not know how i am supposed to go on anymore, and i feel truly, sincerely feel more and more helpless each day.\n",
            "After remove extra space -->  no hope, but do not want to hurt my familymy desire to die is, to me, pretty rational. i have nothing to contribute to the world do not anticipate being able to enjoy life for myself at any time in the future. there are only 4 people in the world who would be noticeably saddened at my passing, and i am certain 3 of them would be tangibly better off without me, but they all want me to stick around. when i say i am not worth the space i take up, it is not a passing moment of angst. i have no particular practical skills, and zero social skills. i can hold down a \"warm body\" job, but do not have any abilities or passions that would translate into a job that paid enough that i would be financially stable. i already have a [worthless, liberal arts] bachelor, so going back to school to re-train means racking up serious debt, as there is little to no aid for students who already have a b.a. i am pushing 30 and still live with my parents, on the premise that i will go back to school for a high-need job once i have a little money saved. spoiler alert i could not even finish the broad-base engineering physics series at the local community college, i cannot code elementary-school-level java even when i have explicit instructions, and even if i suddenly got hit with the social-skills stick over-night (i am reasonably sure i have asperger), i just failed my state certified nursing assistant (cna) exam. a.k.a., i am too incompetent to get licensed to change adult diapers. i did well in and comparatively enjoyed biology classes at school, so i thought maybe i could translate that to working in an operating room, where i could be useful to the world and make a decent wage even though i have inadequate social skills. however, if i cannot get my cna, i cannot go to nursing school, which seemed by far the best route in terms of being a program i could get into, afford, and be able to get a job from. (it seems like a lot of these healthcare specialties get listed as high-need jobs even though there is not very many openings, so it comes down again to networking, which both i and the four people who are close to me suck at.) the same difficulty/cost problems apply to veterinary school, plus difficulty getting a job. i have looked into those government-repayment programs for vets who work in rural areas, but it seems even the people who initially take advantage of them leave, because there is not enough customers who are able to pay -- that is why they were under-served in the first place. my mental processing and physical moments appear slower than average, too, so i am not even very good at menial work. at my current job, i will clock out at the expected time, but stay up to 2 hours late because that is just how long it takes me to do all the normal work tasks. i know this is illegal and most of the time i do not care, because i just want to do a half-way decent job and not get fired for being \"lazy.\" (i am aware this technically puts the company at risk, but since i am the only one there during those hours, there is no cameras to prove anything, and i have no intention of outting myself, i do not think the broken law would amount to anything serious against the company.) \"gee,\" you say, \"it sounds like you are putting an awful lot of stock in a job. there is more to life than that!\" sure, i say, so long as you have the social skills to connect with people. the four people who would be affected for more than a hot minute at my passing are my parents, my brother, and the friend i have had since i was 5. i have not managed to make any lasting, meaningful connections during the 23 years since then; and i have never had anything that could in the vaguest sense be considered a romantic relationship. the closest i have come to approximating social connections is people who share an interest or hobby, but those connections either are (a) through the internet, or (b) in classes or at events that require money. so, if i want to try to connect face-to-face, i am back to the money part from the previous paragraph. i know i have been really privileged in a lot of life circumstances, and i am incredibly lucky to have those four people. i try to contribute what i can through doing volunteer work, random acts of kindness, and occasional monetary donations (after all, at least i have a safe, dry place to sleep at night, which is more than some people). but my conclusion is that existence is not really worth it for me; i do not enjoy it and i cannot see how i can \"make things better.\" the idea of planning out an effective suicide, then spending the rest of my pathetic savings on a weekend of fun before i tap out is really, really appealing. my family managed to make me understand, though, that even though i think i am a waste of resources and life is not something i feel is worth continuing, they are desperate for me to stick around, and much as i suck, it would be worse for them if i committed suicide. i am a little frustrated with them, a lot frustrated with and hating myself, and just want to lose consciousness and not regain it.i am absolutely nothing but an inconvenience to everyonefirst of all, i am 98% sure i am autistic. yes, i know, nowadays, seemingly **everyone** self-\"diagnoses\" themselves with asd or whatever else, but hear me out i have had 3 adults in the past, all of whom have had previous experience working with autistic people, that they strongly suspect that i am on the spectrum. my motor skills are so poor that i can barely even work retail jobs. whenever i am told to mop the floor, fix a machine, change something, or do basically **anything** that involves coordination, i am completely hopeless despite giving my absolute best effort (an then there is the whole customer service thing). it took me until age 13, age fucking 13, to be able to sufficiently tie a shoe. believe me, i try so damn hard at all of those things -- all of them, but i just cannot ever, ever, ever get it. in the past 3 years, i have had **one** friend, and by \"friend\", i mean acquaintance that i spoke to every time i saw him between classes. i cannot interact with anyone, i cannot perform my job correctly, i cannot make friends, i cannot give out social cues, i cannot do shit. however, i have never been officially diagnosed because whenever i talked to my parents about it when i was younger, they assured me that i was not \"different\" or \"odd\" in anyway. and as the title says, i am just starting to feel like i am nothing but an inconvenient waste of space to everyone around me. i am absolutely useless at performing tasks, i have to rely on others to do them for me, i always accidentally say the wrong things to people, i always chase away potential friends with my apparent (but nonexistent) \"lack of empathy\", i have no independence, and i just feel like i do nothing but make the lives of everyone around me worse. i compared myself to a mosquito; nobody wants to have me around, and i am just an annoyance. i feel like i am that person that they roll their eyes when they see or that they want to avoid, and frankly, i do not even see the purpose of even being around at all if that is all my entire existence is. i have tried to put these thoughts behind me, and for a while, i was doing good. but recently, i was curious so started to browse the internet for what non-autistic people think about those on the spectrum, and it really confirmed my belief that it would just be better if i disappeared. the responses i found right here on reddit >it is an entitlement thing, imho. autistic people are often praised for their intelligence (real or imagined) so they do not feel too bad about themselves, but it can also make them really full of themselves. yeah, maybe i do not know shit about trains, but at least i can figure out how put on deodorant. [+11] . >to be honest, i have never met an autistic guy that was not a giant fucking weirdo with awful hygiene. [+14] . >my brother is on the spectrum and i do not think i have the patience for a romantic relationship with a man who was. i would get so irritated so quickly at his outbursts, i would get embarrassed when he would act out in front of my friends (he has twitches/compulsive moment and he will still sometimes throw tantrums.) [+15] . >difficulty is not inability, and i find most men on the spectrum are not, actually, hopelessly incapable - they just throw their hands up and quit when things are hard instead of knuckling down and working on their social skills as skills. [+41] so there you have it. it was back to feeling like a mosquito again. i honestly do not know how i am supposed to go on anymore, and i feel truly, sincerely feel more and more helpless each day.\n",
            "After tokenize -->  ['no', 'hope', ',', 'but', 'do', 'not', 'want', 'to', 'hurt', 'my', 'familymy', 'desire', 'to', 'die', 'is', ',', 'to', 'me', ',', 'pretty', 'rational', '.', 'i', 'have', 'nothing', 'to', 'contribute', 'to', 'the', 'world', 'do', 'not', 'anticipate', 'being', 'able', 'to', 'enjoy', 'life', 'for', 'myself', 'at', 'any', 'time', 'in', 'the', 'future', '.', 'there', 'are', 'only', '4', 'people', 'in', 'the', 'world', 'who', 'would', 'be', 'noticeably', 'saddened', 'at', 'my', 'passing', ',', 'and', 'i', 'am', 'certain', '3', 'of', 'them', 'would', 'be', 'tangibly', 'better', 'off', 'without', 'me', ',', 'but', 'they', 'all', 'want', 'me', 'to', 'stick', 'around', '.', 'when', 'i', 'say', 'i', 'am', 'not', 'worth', 'the', 'space', 'i', 'take', 'up', ',', 'it', 'is', 'not', 'a', 'passing', 'moment', 'of', 'angst', '.', 'i', 'have', 'no', 'particular', 'practical', 'skills', ',', 'and', 'zero', 'social', 'skills', '.', 'i', 'can', 'hold', 'down', 'a', '``', 'warm', 'body', \"''\", 'job', ',', 'but', 'do', 'not', 'have', 'any', 'abilities', 'or', 'passions', 'that', 'would', 'translate', 'into', 'a', 'job', 'that', 'paid', 'enough', 'that', 'i', 'would', 'be', 'financially', 'stable', '.', 'i', 'already', 'have', 'a', '[', 'worthless', ',', 'liberal', 'arts', ']', 'bachelor', ',', 'so', 'going', 'back', 'to', 'school', 'to', 're-train', 'means', 'racking', 'up', 'serious', 'debt', ',', 'as', 'there', 'is', 'little', 'to', 'no', 'aid', 'for', 'students', 'who', 'already', 'have', 'a', 'b.a', '.', 'i', 'am', 'pushing', '30', 'and', 'still', 'live', 'with', 'my', 'parents', ',', 'on', 'the', 'premise', 'that', 'i', 'will', 'go', 'back', 'to', 'school', 'for', 'a', 'high-need', 'job', 'once', 'i', 'have', 'a', 'little', 'money', 'saved', '.', 'spoiler', 'alert', 'i', 'could', 'not', 'even', 'finish', 'the', 'broad-base', 'engineering', 'physics', 'series', 'at', 'the', 'local', 'community', 'college', ',', 'i', 'can', 'not', 'code', 'elementary-school-level', 'java', 'even', 'when', 'i', 'have', 'explicit', 'instructions', ',', 'and', 'even', 'if', 'i', 'suddenly', 'got', 'hit', 'with', 'the', 'social-skills', 'stick', 'over-night', '(', 'i', 'am', 'reasonably', 'sure', 'i', 'have', 'asperger', ')', ',', 'i', 'just', 'failed', 'my', 'state', 'certified', 'nursing', 'assistant', '(', 'cna', ')', 'exam', '.', 'a.k.a.', ',', 'i', 'am', 'too', 'incompetent', 'to', 'get', 'licensed', 'to', 'change', 'adult', 'diapers', '.', 'i', 'did', 'well', 'in', 'and', 'comparatively', 'enjoyed', 'biology', 'classes', 'at', 'school', ',', 'so', 'i', 'thought', 'maybe', 'i', 'could', 'translate', 'that', 'to', 'working', 'in', 'an', 'operating', 'room', ',', 'where', 'i', 'could', 'be', 'useful', 'to', 'the', 'world', 'and', 'make', 'a', 'decent', 'wage', 'even', 'though', 'i', 'have', 'inadequate', 'social', 'skills', '.', 'however', ',', 'if', 'i', 'can', 'not', 'get', 'my', 'cna', ',', 'i', 'can', 'not', 'go', 'to', 'nursing', 'school', ',', 'which', 'seemed', 'by', 'far', 'the', 'best', 'route', 'in', 'terms', 'of', 'being', 'a', 'program', 'i', 'could', 'get', 'into', ',', 'afford', ',', 'and', 'be', 'able', 'to', 'get', 'a', 'job', 'from', '.', '(', 'it', 'seems', 'like', 'a', 'lot', 'of', 'these', 'healthcare', 'specialties', 'get', 'listed', 'as', 'high-need', 'jobs', 'even', 'though', 'there', 'is', 'not', 'very', 'many', 'openings', ',', 'so', 'it', 'comes', 'down', 'again', 'to', 'networking', ',', 'which', 'both', 'i', 'and', 'the', 'four', 'people', 'who', 'are', 'close', 'to', 'me', 'suck', 'at', '.', ')', 'the', 'same', 'difficulty/cost', 'problems', 'apply', 'to', 'veterinary', 'school', ',', 'plus', 'difficulty', 'getting', 'a', 'job', '.', 'i', 'have', 'looked', 'into', 'those', 'government-repayment', 'programs', 'for', 'vets', 'who', 'work', 'in', 'rural', 'areas', ',', 'but', 'it', 'seems', 'even', 'the', 'people', 'who', 'initially', 'take', 'advantage', 'of', 'them', 'leave', ',', 'because', 'there', 'is', 'not', 'enough', 'customers', 'who', 'are', 'able', 'to', 'pay', '--', 'that', 'is', 'why', 'they', 'were', 'under-served', 'in', 'the', 'first', 'place', '.', 'my', 'mental', 'processing', 'and', 'physical', 'moments', 'appear', 'slower', 'than', 'average', ',', 'too', ',', 'so', 'i', 'am', 'not', 'even', 'very', 'good', 'at', 'menial', 'work', '.', 'at', 'my', 'current', 'job', ',', 'i', 'will', 'clock', 'out', 'at', 'the', 'expected', 'time', ',', 'but', 'stay', 'up', 'to', '2', 'hours', 'late', 'because', 'that', 'is', 'just', 'how', 'long', 'it', 'takes', 'me', 'to', 'do', 'all', 'the', 'normal', 'work', 'tasks', '.', 'i', 'know', 'this', 'is', 'illegal', 'and', 'most', 'of', 'the', 'time', 'i', 'do', 'not', 'care', ',', 'because', 'i', 'just', 'want', 'to', 'do', 'a', 'half-way', 'decent', 'job', 'and', 'not', 'get', 'fired', 'for', 'being', '``', 'lazy', '.', \"''\", '(', 'i', 'am', 'aware', 'this', 'technically', 'puts', 'the', 'company', 'at', 'risk', ',', 'but', 'since', 'i', 'am', 'the', 'only', 'one', 'there', 'during', 'those', 'hours', ',', 'there', 'is', 'no', 'cameras', 'to', 'prove', 'anything', ',', 'and', 'i', 'have', 'no', 'intention', 'of', 'outting', 'myself', ',', 'i', 'do', 'not', 'think', 'the', 'broken', 'law', 'would', 'amount', 'to', 'anything', 'serious', 'against', 'the', 'company', '.', ')', '``', 'gee', ',', \"''\", 'you', 'say', ',', '``', 'it', 'sounds', 'like', 'you', 'are', 'putting', 'an', 'awful', 'lot', 'of', 'stock', 'in', 'a', 'job', '.', 'there', 'is', 'more', 'to', 'life', 'than', 'that', '!', \"''\", 'sure', ',', 'i', 'say', ',', 'so', 'long', 'as', 'you', 'have', 'the', 'social', 'skills', 'to', 'connect', 'with', 'people', '.', 'the', 'four', 'people', 'who', 'would', 'be', 'affected', 'for', 'more', 'than', 'a', 'hot', 'minute', 'at', 'my', 'passing', 'are', 'my', 'parents', ',', 'my', 'brother', ',', 'and', 'the', 'friend', 'i', 'have', 'had', 'since', 'i', 'was', '5.', 'i', 'have', 'not', 'managed', 'to', 'make', 'any', 'lasting', ',', 'meaningful', 'connections', 'during', 'the', '23', 'years', 'since', 'then', ';', 'and', 'i', 'have', 'never', 'had', 'anything', 'that', 'could', 'in', 'the', 'vaguest', 'sense', 'be', 'considered', 'a', 'romantic', 'relationship', '.', 'the', 'closest', 'i', 'have', 'come', 'to', 'approximating', 'social', 'connections', 'is', 'people', 'who', 'share', 'an', 'interest', 'or', 'hobby', ',', 'but', 'those', 'connections', 'either', 'are', '(', 'a', ')', 'through', 'the', 'internet', ',', 'or', '(', 'b', ')', 'in', 'classes', 'or', 'at', 'events', 'that', 'require', 'money', '.', 'so', ',', 'if', 'i', 'want', 'to', 'try', 'to', 'connect', 'face-to-face', ',', 'i', 'am', 'back', 'to', 'the', 'money', 'part', 'from', 'the', 'previous', 'paragraph', '.', 'i', 'know', 'i', 'have', 'been', 'really', 'privileged', 'in', 'a', 'lot', 'of', 'life', 'circumstances', ',', 'and', 'i', 'am', 'incredibly', 'lucky', 'to', 'have', 'those', 'four', 'people', '.', 'i', 'try', 'to', 'contribute', 'what', 'i', 'can', 'through', 'doing', 'volunteer', 'work', ',', 'random', 'acts', 'of', 'kindness', ',', 'and', 'occasional', 'monetary', 'donations', '(', 'after', 'all', ',', 'at', 'least', 'i', 'have', 'a', 'safe', ',', 'dry', 'place', 'to', 'sleep', 'at', 'night', ',', 'which', 'is', 'more', 'than', 'some', 'people', ')', '.', 'but', 'my', 'conclusion', 'is', 'that', 'existence', 'is', 'not', 'really', 'worth', 'it', 'for', 'me', ';', 'i', 'do', 'not', 'enjoy', 'it', 'and', 'i', 'can', 'not', 'see', 'how', 'i', 'can', '``', 'make', 'things', 'better', '.', \"''\", 'the', 'idea', 'of', 'planning', 'out', 'an', 'effective', 'suicide', ',', 'then', 'spending', 'the', 'rest', 'of', 'my', 'pathetic', 'savings', 'on', 'a', 'weekend', 'of', 'fun', 'before', 'i', 'tap', 'out', 'is', 'really', ',', 'really', 'appealing', '.', 'my', 'family', 'managed', 'to', 'make', 'me', 'understand', ',', 'though', ',', 'that', 'even', 'though', 'i', 'think', 'i', 'am', 'a', 'waste', 'of', 'resources', 'and', 'life', 'is', 'not', 'something', 'i', 'feel', 'is', 'worth', 'continuing', ',', 'they', 'are', 'desperate', 'for', 'me', 'to', 'stick', 'around', ',', 'and', 'much', 'as', 'i', 'suck', ',', 'it', 'would', 'be', 'worse', 'for', 'them', 'if', 'i', 'committed', 'suicide', '.', 'i', 'am', 'a', 'little', 'frustrated', 'with', 'them', ',', 'a', 'lot', 'frustrated', 'with', 'and', 'hating', 'myself', ',', 'and', 'just', 'want', 'to', 'lose', 'consciousness', 'and', 'not', 'regain', 'it.i', 'am', 'absolutely', 'nothing', 'but', 'an', 'inconvenience', 'to', 'everyonefirst', 'of', 'all', ',', 'i', 'am', '98', '%', 'sure', 'i', 'am', 'autistic', '.', 'yes', ',', 'i', 'know', ',', 'nowadays', ',', 'seemingly', '*', '*', 'everyone', '*', '*', 'self-', \"''\", 'diagnoses', \"''\", 'themselves', 'with', 'asd', 'or', 'whatever', 'else', ',', 'but', 'hear', 'me', 'out', 'i', 'have', 'had', '3', 'adults', 'in', 'the', 'past', ',', 'all', 'of', 'whom', 'have', 'had', 'previous', 'experience', 'working', 'with', 'autistic', 'people', ',', 'that', 'they', 'strongly', 'suspect', 'that', 'i', 'am', 'on', 'the', 'spectrum', '.', 'my', 'motor', 'skills', 'are', 'so', 'poor', 'that', 'i', 'can', 'barely', 'even', 'work', 'retail', 'jobs', '.', 'whenever', 'i', 'am', 'told', 'to', 'mop', 'the', 'floor', ',', 'fix', 'a', 'machine', ',', 'change', 'something', ',', 'or', 'do', 'basically', '*', '*', 'anything', '*', '*', 'that', 'involves', 'coordination', ',', 'i', 'am', 'completely', 'hopeless', 'despite', 'giving', 'my', 'absolute', 'best', 'effort', '(', 'an', 'then', 'there', 'is', 'the', 'whole', 'customer', 'service', 'thing', ')', '.', 'it', 'took', 'me', 'until', 'age', '13', ',', 'age', 'fucking', '13', ',', 'to', 'be', 'able', 'to', 'sufficiently', 'tie', 'a', 'shoe', '.', 'believe', 'me', ',', 'i', 'try', 'so', 'damn', 'hard', 'at', 'all', 'of', 'those', 'things', '--', 'all', 'of', 'them', ',', 'but', 'i', 'just', 'can', 'not', 'ever', ',', 'ever', ',', 'ever', 'get', 'it', '.', 'in', 'the', 'past', '3', 'years', ',', 'i', 'have', 'had', '*', '*', 'one', '*', '*', 'friend', ',', 'and', 'by', '``', 'friend', \"''\", ',', 'i', 'mean', 'acquaintance', 'that', 'i', 'spoke', 'to', 'every', 'time', 'i', 'saw', 'him', 'between', 'classes', '.', 'i', 'can', 'not', 'interact', 'with', 'anyone', ',', 'i', 'can', 'not', 'perform', 'my', 'job', 'correctly', ',', 'i', 'can', 'not', 'make', 'friends', ',', 'i', 'can', 'not', 'give', 'out', 'social', 'cues', ',', 'i', 'can', 'not', 'do', 'shit', '.', 'however', ',', 'i', 'have', 'never', 'been', 'officially', 'diagnosed', 'because', 'whenever', 'i', 'talked', 'to', 'my', 'parents', 'about', 'it', 'when', 'i', 'was', 'younger', ',', 'they', 'assured', 'me', 'that', 'i', 'was', 'not', '``', 'different', \"''\", 'or', '``', 'odd', \"''\", 'in', 'anyway', '.', 'and', 'as', 'the', 'title', 'says', ',', 'i', 'am', 'just', 'starting', 'to', 'feel', 'like', 'i', 'am', 'nothing', 'but', 'an', 'inconvenient', 'waste', 'of', 'space', 'to', 'everyone', 'around', 'me', '.', 'i', 'am', 'absolutely', 'useless', 'at', 'performing', 'tasks', ',', 'i', 'have', 'to', 'rely', 'on', 'others', 'to', 'do', 'them', 'for', 'me', ',', 'i', 'always', 'accidentally', 'say', 'the', 'wrong', 'things', 'to', 'people', ',', 'i', 'always', 'chase', 'away', 'potential', 'friends', 'with', 'my', 'apparent', '(', 'but', 'nonexistent', ')', '``', 'lack', 'of', 'empathy', \"''\", ',', 'i', 'have', 'no', 'independence', ',', 'and', 'i', 'just', 'feel', 'like', 'i', 'do', 'nothing', 'but', 'make', 'the', 'lives', 'of', 'everyone', 'around', 'me', 'worse', '.', 'i', 'compared', 'myself', 'to', 'a', 'mosquito', ';', 'nobody', 'wants', 'to', 'have', 'me', 'around', ',', 'and', 'i', 'am', 'just', 'an', 'annoyance', '.', 'i', 'feel', 'like', 'i', 'am', 'that', 'person', 'that', 'they', 'roll', 'their', 'eyes', 'when', 'they', 'see', 'or', 'that', 'they', 'want', 'to', 'avoid', ',', 'and', 'frankly', ',', 'i', 'do', 'not', 'even', 'see', 'the', 'purpose', 'of', 'even', 'being', 'around', 'at', 'all', 'if', 'that', 'is', 'all', 'my', 'entire', 'existence', 'is', '.', 'i', 'have', 'tried', 'to', 'put', 'these', 'thoughts', 'behind', 'me', ',', 'and', 'for', 'a', 'while', ',', 'i', 'was', 'doing', 'good', '.', 'but', 'recently', ',', 'i', 'was', 'curious', 'so', 'started', 'to', 'browse', 'the', 'internet', 'for', 'what', 'non-autistic', 'people', 'think', 'about', 'those', 'on', 'the', 'spectrum', ',', 'and', 'it', 'really', 'confirmed', 'my', 'belief', 'that', 'it', 'would', 'just', 'be', 'better', 'if', 'i', 'disappeared', '.', 'the', 'responses', 'i', 'found', 'right', 'here', 'on', 'reddit', '>', 'it', 'is', 'an', 'entitlement', 'thing', ',', 'imho', '.', 'autistic', 'people', 'are', 'often', 'praised', 'for', 'their', 'intelligence', '(', 'real', 'or', 'imagined', ')', 'so', 'they', 'do', 'not', 'feel', 'too', 'bad', 'about', 'themselves', ',', 'but', 'it', 'can', 'also', 'make', 'them', 'really', 'full', 'of', 'themselves', '.', 'yeah', ',', 'maybe', 'i', 'do', 'not', 'know', 'shit', 'about', 'trains', ',', 'but', 'at', 'least', 'i', 'can', 'figure', 'out', 'how', 'put', 'on', 'deodorant', '.', '[', '+11', ']', '.', '>', 'to', 'be', 'honest', ',', 'i', 'have', 'never', 'met', 'an', 'autistic', 'guy', 'that', 'was', 'not', 'a', 'giant', 'fucking', 'weirdo', 'with', 'awful', 'hygiene', '.', '[', '+14', ']', '.', '>', 'my', 'brother', 'is', 'on', 'the', 'spectrum', 'and', 'i', 'do', 'not', 'think', 'i', 'have', 'the', 'patience', 'for', 'a', 'romantic', 'relationship', 'with', 'a', 'man', 'who', 'was', '.', 'i', 'would', 'get', 'so', 'irritated', 'so', 'quickly', 'at', 'his', 'outbursts', ',', 'i', 'would', 'get', 'embarrassed', 'when', 'he', 'would', 'act', 'out', 'in', 'front', 'of', 'my', 'friends', '(', 'he', 'has', 'twitches/compulsive', 'moment', 'and', 'he', 'will', 'still', 'sometimes', 'throw', 'tantrums', '.', ')', '[', '+15', ']', '.', '>', 'difficulty', 'is', 'not', 'inability', ',', 'and', 'i', 'find', 'most', 'men', 'on', 'the', 'spectrum', 'are', 'not', ',', 'actually', ',', 'hopelessly', 'incapable', '-', 'they', 'just', 'throw', 'their', 'hands', 'up', 'and', 'quit', 'when', 'things', 'are', 'hard', 'instead', 'of', 'knuckling', 'down', 'and', 'working', 'on', 'their', 'social', 'skills', 'as', 'skills', '.', '[', '+41', ']', 'so', 'there', 'you', 'have', 'it', '.', 'it', 'was', 'back', 'to', 'feeling', 'like', 'a', 'mosquito', 'again', '.', 'i', 'honestly', 'do', 'not', 'know', 'how', 'i', 'am', 'supposed', 'to', 'go', 'on', 'anymore', ',', 'and', 'i', 'feel', 'truly', ',', 'sincerely', 'feel', 'more', 'and', 'more', 'helpless', 'each', 'day', '.']\n",
            "-------------------------------\n",
            "Example from cleaned val set:\n",
            "no\n"
          ]
        }
      ],
      "source": [
        "\n",
        "if isTrain:\n",
        "    # test clean data\n",
        "    cleaned_train = clean_data(dialogues_val[0:2])\n",
        "    print('Example from cleaned val set:')\n",
        "    print(cleaned_train[0])\n",
        "\n",
        "    # test clean data\n",
        "    cleaned_train = clean_steps(dialogues_val[0:2])\n",
        "    print('Example from cleaned val set:')\n",
        "    print(cleaned_train[0])"
      ]
    },
    {
      "cell_type": "markdown",
      "metadata": {
        "id": "ZO2140anquGL"
      },
      "source": [
        "# preprocess the data set (Train, Validation, Test) if not preprocessed\n"
      ]
    },
    {
      "cell_type": "code",
      "execution_count": 39,
      "metadata": {
        "id": "DM7DFFHqquGL",
        "colab": {
          "base_uri": "https://localhost:8080/"
        },
        "outputId": "d0b39f9c-62ae-4203-b288-b25abebda978"
      },
      "outputs": [
        {
          "output_type": "stream",
          "name": "stderr",
          "text": [
            "\n"
          ]
        },
        {
          "output_type": "stream",
          "name": "stdout",
          "text": [
            "The preprocessed train data already exists\n"
          ]
        }
      ],
      "source": [
        "if isTrain:\n",
        "    if not os.path.exists(train_preprocess):\n",
        "        print(\"Preprocessing the training data\")\n",
        "        dialogues_train_proccessed = clean_data(dialogues_train)\n",
        "        dump_tuple(train_preprocess,\n",
        "                   (dialogues_train_proccessed, labels_train))\n",
        "    else:\n",
        "        print(\"The preprocessed train data already exists\")"
      ]
    },
    {
      "cell_type": "code",
      "execution_count": 40,
      "metadata": {
        "id": "aD0Sppe1quGL",
        "colab": {
          "base_uri": "https://localhost:8080/"
        },
        "outputId": "c202df76-3fbd-40ae-93e4-c832ecd91e68"
      },
      "outputs": [
        {
          "output_type": "stream",
          "name": "stdout",
          "text": [
            "The preprocessed dev data already exists\n"
          ]
        }
      ],
      "source": [
        "if isTrain:\n",
        "    if not os.path.exists(dev_preprocess):\n",
        "        print(\"Preprocessing the validation data\")\n",
        "        dialogues_val_proccessed = clean_data(dialogues_val)\n",
        "        dump_tuple(dev_preprocess, (dialogues_val_proccessed, labels_val))\n",
        "    else:\n",
        "        print(\"The preprocessed dev data already exists\")"
      ]
    },
    {
      "cell_type": "code",
      "execution_count": 41,
      "metadata": {
        "id": "RDGO--AqquGM",
        "colab": {
          "base_uri": "https://localhost:8080/"
        },
        "outputId": "3b4f1a02-06a7-4ddb-b2a8-7043c1ffcb8c"
      },
      "outputs": [
        {
          "output_type": "stream",
          "name": "stdout",
          "text": [
            "The preprocessed test data already exists\n"
          ]
        }
      ],
      "source": [
        "if not os.path.exists(test_preprocess):\n",
        "    print(\"Preprocessing the testing data\")\n",
        "    dialogues_test_proccessed = clean_data(dialogues_test)\n",
        "    dump_tuple(test_preprocess, (dialogues_test_proccessed, labels_test))\n",
        "else:\n",
        "    print(\"The preprocessed test data already exists\")"
      ]
    },
    {
      "cell_type": "markdown",
      "metadata": {
        "id": "NrH6iNioquGM"
      },
      "source": [
        "# load the data (train, val, test)\n"
      ]
    },
    {
      "cell_type": "code",
      "execution_count": 42,
      "metadata": {
        "id": "dlVMatuZquGM",
        "colab": {
          "base_uri": "https://localhost:8080/"
        },
        "outputId": "a1ae3846-b636-4682-9d6e-855f0823e883"
      },
      "outputs": [
        {
          "output_type": "stream",
          "name": "stdout",
          "text": [
            "train data length:  162451 162451\n",
            "dev data length:  46647 46647\n",
            "test data length:  22976 22976\n"
          ]
        }
      ],
      "source": [
        "if isTrain:\n",
        "    # load data (train, dev, test)\n",
        "    dialogues_train_proccessed, labels_train = load_tuple(train_preprocess)\n",
        "    dialogues_val_proccessed, labels_val = load_tuple(dev_preprocess)\n",
        "dialogues_test_proccessed, labels_test = load_tuple(test_preprocess)\n",
        "if isTrain:\n",
        "    # print length of each\n",
        "    print(\"train data length: \", len(\n",
        "        dialogues_train_proccessed), len(labels_train))\n",
        "    print(\"dev data length: \", len(dialogues_val_proccessed), len(labels_val))\n",
        "print(\"test data length: \", len(dialogues_test_proccessed), len(labels_test))"
      ]
    },
    {
      "cell_type": "markdown",
      "metadata": {
        "id": "k7yIOnwdquGM"
      },
      "source": [
        "# define the dataset\n"
      ]
    },
    {
      "cell_type": "code",
      "execution_count": 43,
      "metadata": {
        "id": "noYfo-UvquGN"
      },
      "outputs": [],
      "source": [
        "def glove(word: str) -> torch.Tensor:\n",
        "    \"\"\"\n",
        "    Retrieves the word embedding vector for a given word.\n",
        "\n",
        "    :param word: The word for which the embedding vector is retrieved.\n",
        "    :type word: str\n",
        "    :return: The word embedding vector for the given word.\n",
        "    :rtype: torch.Tensor\n",
        "    \"\"\"\n",
        "    return pretrained_wv[word]"
      ]
    },
    {
      "cell_type": "code",
      "execution_count": 44,
      "metadata": {
        "id": "uSXLpqoEquGN",
        "colab": {
          "base_uri": "https://localhost:8080/"
        },
        "outputId": "a9794443-442f-4fc7-9df6-31d44b56e4cc"
      },
      "outputs": [
        {
          "output_type": "stream",
          "name": "stdout",
          "text": [
            "tensor([ 0.2523,  0.1018, -0.6748,  0.2112,  0.4349,  0.1654,  0.4826, -0.8122,\n",
            "         0.0413,  0.7850, -0.0779, -0.6632,  0.1464, -0.2929, -0.2549,  0.0193,\n",
            "        -0.2026,  0.9823,  0.0283, -0.0813, -0.1214,  0.1313, -0.1765,  0.1356,\n",
            "        -0.1636, -0.2257,  0.0550, -0.2031,  0.2072,  0.0958,  0.2248,  0.2154,\n",
            "        -0.3298, -0.1224, -0.4003, -0.0794, -0.1996, -0.0151, -0.0791, -0.1813,\n",
            "         0.2068, -0.3620, -0.3074, -0.2442, -0.2311,  0.0980,  0.1463, -0.0627,\n",
            "         0.4293, -0.0780, -0.1963,  0.6509, -0.2281, -0.3031, -0.1248, -0.1757,\n",
            "        -0.1465,  0.1536, -0.2952,  0.1510, -0.5173, -0.0336, -0.2311, -0.7833,\n",
            "         0.0180, -0.1572,  0.0229,  0.4964,  0.0292,  0.0567,  0.1462, -0.1919,\n",
            "         0.1624,  0.2390,  0.3643,  0.4526,  0.2456,  0.2380,  0.3140,  0.3487,\n",
            "        -0.0358,  0.5611, -0.2535,  0.0520, -0.1062, -0.3096,  1.0585, -0.4202,\n",
            "         0.1822, -0.1126,  0.4058,  0.1178, -0.1971, -0.0753,  0.0807, -0.0278,\n",
            "        -0.1562, -0.4468, -0.1516,  0.1692,  0.0983, -0.0319,  0.0871,  0.2608,\n",
            "         0.0027,  0.1319,  0.3444, -0.3789, -0.4114,  0.0816, -0.1167, -0.4371,\n",
            "         0.0111,  0.0994,  0.2661,  0.4002,  0.1890, -0.1844, -0.3036, -0.2725,\n",
            "         0.2247, -0.4061,  0.1562, -0.1604,  0.4715,  0.0080,  0.5686,  0.2193,\n",
            "        -0.1118,  0.7993,  0.1071, -0.5015,  0.0636,  0.0695,  0.1529, -0.2747,\n",
            "        -0.2099,  0.2074, -0.1068,  0.4065, -2.6438, -0.3114, -0.3216, -0.2646,\n",
            "        -0.3562,  0.0700, -0.1884,  0.4877, -0.2617, -0.0208,  0.1782,  0.1576,\n",
            "        -0.1375,  0.0565,  0.3077, -0.0661,  0.4748, -0.2734,  0.0973, -0.2083,\n",
            "         0.0039,  0.3460, -0.0870, -0.5492, -0.1876, -0.1717,  0.0603, -0.1352,\n",
            "         0.1042,  0.3016,  0.0580,  0.2187, -0.0736, -0.2042, -0.2528, -0.1047,\n",
            "        -0.3216,  0.1252, -0.3128,  0.0097, -0.2678, -0.6112, -0.1109, -0.1365,\n",
            "         0.0351, -0.4939,  0.0849, -0.1549, -0.0635, -0.2394,  0.2827,  0.1085,\n",
            "        -0.3365, -0.6076,  0.3858, -0.0095,  0.1750, -0.5272,  0.6221,  0.1954,\n",
            "        -0.4898,  0.0366, -0.1280, -0.0168,  0.2565, -0.3170,  0.4826, -0.1418,\n",
            "         0.1105, -0.3098, -0.6314, -0.3727,  0.2318, -0.1427, -0.0234,  0.0223,\n",
            "        -0.0447, -0.1640, -0.2585,  0.1629,  0.0248,  0.2335,  0.2793,  0.3900,\n",
            "        -0.0590,  0.1135,  0.1567,  0.1858, -0.1981, -0.4812, -0.0351,  0.0785,\n",
            "        -0.4983,  0.1085, -0.2013,  0.0529, -0.1158, -0.1601,  0.1677,  0.4236,\n",
            "        -0.2311,  0.0825,  0.2430, -0.1679,  0.0080,  0.0859,  0.3803,  0.0730,\n",
            "         0.1633,  0.2470, -0.1109,  0.1512, -0.2207, -0.0619, -0.0371, -0.0879,\n",
            "        -0.2318,  0.1504, -0.1909, -0.1911, -0.1189,  0.0949, -0.0043,  0.1536,\n",
            "        -0.4120, -0.3073,  0.1838,  0.4021, -0.0035, -0.1092, -0.6952,  0.1016,\n",
            "        -0.0793,  0.4033,  0.2228, -0.1937, -0.1331,  0.0732,  0.0998,  0.1169,\n",
            "        -0.2164, -0.1108,  0.1034,  0.0973,  0.1120, -0.3894, -0.0089,  0.2881,\n",
            "        -0.1079,  0.0288,  0.3255,  0.2605, -0.0389,  0.0752,  0.4603, -0.0629,\n",
            "         0.2166,  0.1787, -0.5192,  0.3359])\n",
            "300\n"
          ]
        }
      ],
      "source": [
        "if isTrain:\n",
        "    # test glove\n",
        "    embedding_test = glove('hello')\n",
        "    print(embedding_test)\n",
        "    print(len(embedding_test))"
      ]
    },
    {
      "cell_type": "markdown",
      "metadata": {
        "id": "ZThx5MT1quGN"
      },
      "source": [
        "# Define Dataest\n"
      ]
    },
    {
      "cell_type": "code",
      "execution_count": 45,
      "metadata": {
        "id": "O76cGLkKquGN"
      },
      "outputs": [],
      "source": [
        "class SUIDataset(Dataset):\n",
        "    def __init__(self, inputs: list, targets: list, word2vec: Callable[[str], torch.Tensor]):\n",
        "        '''\n",
        "        Initialize the EDCDataset.\n",
        "\n",
        "        :param inputs: List of conversations, where each conversation is a list of sentences,\n",
        "                       and each sentence is a list of words.\n",
        "        :type inputs: list\n",
        "        :param targets: List of labels for each conversation.\n",
        "        :type targets: list\n",
        "        '''\n",
        "        self.inputs = inputs\n",
        "        self.targets = targets\n",
        "        self.word2vec = word2vec\n",
        "\n",
        "    def __getitem__(self, index: int) -> tuple:\n",
        "        '''\n",
        "        Get the item at the specified index.\n",
        "\n",
        "        :param index: The index of the item to get.\n",
        "        :type index: int\n",
        "        :return: The conversation and its label at the specified index.\n",
        "        :rtype: tuple\n",
        "        '''\n",
        "        return [self.word2vec(word) for word in self.inputs[index]], self.targets[index]\n",
        "\n",
        "    def __len__(self) -> int:\n",
        "        '''\n",
        "        Get the length of the dataset.\n",
        "\n",
        "        :return: The number of samples in the dataset.\n",
        "        :rtype: int\n",
        "        '''\n",
        "        return len(self.inputs)"
      ]
    },
    {
      "cell_type": "code",
      "execution_count": 46,
      "metadata": {
        "id": "iKoT41FjquGN",
        "colab": {
          "base_uri": "https://localhost:8080/"
        },
        "outputId": "558c79f2-d0c9-4f8f-f32e-b2d25f2066cf"
      },
      "outputs": [
        {
          "output_type": "stream",
          "name": "stdout",
          "text": [
            "Inputs: [tensor([ 0.2523,  0.1018, -0.6748,  0.2112,  0.4349,  0.1654,  0.4826, -0.8122,\n",
            "         0.0413,  0.7850, -0.0779, -0.6632,  0.1464, -0.2929, -0.2549,  0.0193,\n",
            "        -0.2026,  0.9823,  0.0283, -0.0813, -0.1214,  0.1313, -0.1765,  0.1356,\n",
            "        -0.1636, -0.2257,  0.0550, -0.2031,  0.2072,  0.0958,  0.2248,  0.2154,\n",
            "        -0.3298, -0.1224, -0.4003, -0.0794, -0.1996, -0.0151, -0.0791, -0.1813,\n",
            "         0.2068, -0.3620, -0.3074, -0.2442, -0.2311,  0.0980,  0.1463, -0.0627,\n",
            "         0.4293, -0.0780, -0.1963,  0.6509, -0.2281, -0.3031, -0.1248, -0.1757,\n",
            "        -0.1465,  0.1536, -0.2952,  0.1510, -0.5173, -0.0336, -0.2311, -0.7833,\n",
            "         0.0180, -0.1572,  0.0229,  0.4964,  0.0292,  0.0567,  0.1462, -0.1919,\n",
            "         0.1624,  0.2390,  0.3643,  0.4526,  0.2456,  0.2380,  0.3140,  0.3487,\n",
            "        -0.0358,  0.5611, -0.2535,  0.0520, -0.1062, -0.3096,  1.0585, -0.4202,\n",
            "         0.1822, -0.1126,  0.4058,  0.1178, -0.1971, -0.0753,  0.0807, -0.0278,\n",
            "        -0.1562, -0.4468, -0.1516,  0.1692,  0.0983, -0.0319,  0.0871,  0.2608,\n",
            "         0.0027,  0.1319,  0.3444, -0.3789, -0.4114,  0.0816, -0.1167, -0.4371,\n",
            "         0.0111,  0.0994,  0.2661,  0.4002,  0.1890, -0.1844, -0.3036, -0.2725,\n",
            "         0.2247, -0.4061,  0.1562, -0.1604,  0.4715,  0.0080,  0.5686,  0.2193,\n",
            "        -0.1118,  0.7993,  0.1071, -0.5015,  0.0636,  0.0695,  0.1529, -0.2747,\n",
            "        -0.2099,  0.2074, -0.1068,  0.4065, -2.6438, -0.3114, -0.3216, -0.2646,\n",
            "        -0.3562,  0.0700, -0.1884,  0.4877, -0.2617, -0.0208,  0.1782,  0.1576,\n",
            "        -0.1375,  0.0565,  0.3077, -0.0661,  0.4748, -0.2734,  0.0973, -0.2083,\n",
            "         0.0039,  0.3460, -0.0870, -0.5492, -0.1876, -0.1717,  0.0603, -0.1352,\n",
            "         0.1042,  0.3016,  0.0580,  0.2187, -0.0736, -0.2042, -0.2528, -0.1047,\n",
            "        -0.3216,  0.1252, -0.3128,  0.0097, -0.2678, -0.6112, -0.1109, -0.1365,\n",
            "         0.0351, -0.4939,  0.0849, -0.1549, -0.0635, -0.2394,  0.2827,  0.1085,\n",
            "        -0.3365, -0.6076,  0.3858, -0.0095,  0.1750, -0.5272,  0.6221,  0.1954,\n",
            "        -0.4898,  0.0366, -0.1280, -0.0168,  0.2565, -0.3170,  0.4826, -0.1418,\n",
            "         0.1105, -0.3098, -0.6314, -0.3727,  0.2318, -0.1427, -0.0234,  0.0223,\n",
            "        -0.0447, -0.1640, -0.2585,  0.1629,  0.0248,  0.2335,  0.2793,  0.3900,\n",
            "        -0.0590,  0.1135,  0.1567,  0.1858, -0.1981, -0.4812, -0.0351,  0.0785,\n",
            "        -0.4983,  0.1085, -0.2013,  0.0529, -0.1158, -0.1601,  0.1677,  0.4236,\n",
            "        -0.2311,  0.0825,  0.2430, -0.1679,  0.0080,  0.0859,  0.3803,  0.0730,\n",
            "         0.1633,  0.2470, -0.1109,  0.1512, -0.2207, -0.0619, -0.0371, -0.0879,\n",
            "        -0.2318,  0.1504, -0.1909, -0.1911, -0.1189,  0.0949, -0.0043,  0.1536,\n",
            "        -0.4120, -0.3073,  0.1838,  0.4021, -0.0035, -0.1092, -0.6952,  0.1016,\n",
            "        -0.0793,  0.4033,  0.2228, -0.1937, -0.1331,  0.0732,  0.0998,  0.1169,\n",
            "        -0.2164, -0.1108,  0.1034,  0.0973,  0.1120, -0.3894, -0.0089,  0.2881,\n",
            "        -0.1079,  0.0288,  0.3255,  0.2605, -0.0389,  0.0752,  0.4603, -0.0629,\n",
            "         0.2166,  0.1787, -0.5192,  0.3359]), tensor([ 5.6092e-02,  3.1474e-02, -3.4864e-01, -3.8571e-01, -1.6293e-01,\n",
            "         1.5308e-01,  1.3734e-01, -3.9205e-01,  1.0636e-01,  2.2199e+00,\n",
            "         1.7040e-01, -2.1442e-01, -2.3341e-01, -2.5225e-01, -3.1974e-01,\n",
            "        -1.9818e-01,  8.5989e-05,  2.9326e-01, -1.3340e-01,  8.2403e-02,\n",
            "        -7.3577e-02, -1.1333e-01, -1.3407e-01, -8.5128e-02, -5.1696e-02,\n",
            "        -9.6711e-02, -9.4822e-02, -6.9858e-01,  5.3655e-01, -3.3401e-01,\n",
            "        -3.9311e-01, -7.1572e-02, -1.4650e-01, -4.6495e-01,  3.4755e-01,\n",
            "         3.0724e-01,  2.2852e-01,  1.0867e-01, -2.1425e-01,  2.4625e-01,\n",
            "        -3.6332e-02, -2.8385e-01, -2.3584e-01,  2.6121e-01, -1.9975e-01,\n",
            "         8.9078e-02,  3.6982e-02,  7.6851e-02, -3.5117e-02,  7.2501e-02,\n",
            "        -3.3588e-01, -5.8660e-02, -5.7270e-02, -1.0544e-01, -3.0504e-01,\n",
            "         3.1350e-01, -3.2516e-01, -4.0009e-01,  2.8284e-01,  8.4439e-02,\n",
            "        -1.1352e-01, -8.0880e-02, -4.6039e-02, -3.5867e-01, -2.0361e-01,\n",
            "        -1.5147e-01,  3.3175e-01, -6.6175e-02,  4.3899e-02,  2.3504e-01,\n",
            "        -8.2496e-02, -3.0432e-02,  4.7158e-01, -6.8322e-03,  5.1975e-01,\n",
            "         5.3812e-01, -4.1739e-03,  4.5349e-01, -2.2538e-01, -7.2995e-02,\n",
            "         6.5999e-02, -6.1472e-02, -4.5848e-03, -2.7590e-01, -1.4415e-01,\n",
            "        -1.4189e-01,  5.2667e-01, -3.5759e-01,  3.0357e-01, -1.0593e-01,\n",
            "        -2.0865e-01,  1.7805e-01, -3.4517e-01,  7.0901e-02,  7.7463e-03,\n",
            "         2.0144e-01, -1.6092e-01,  1.0720e-01, -1.5126e-02, -2.6855e-01,\n",
            "        -4.1289e-02, -3.1814e-01, -3.3603e-01, -6.5097e-01,  4.9753e-01,\n",
            "        -8.4349e-01,  3.3095e-01, -3.8238e-01,  3.8738e-01,  2.8379e-01,\n",
            "         1.9755e-01, -4.8907e-01,  5.4235e-01, -3.7829e-01, -4.8310e-01,\n",
            "        -2.8940e-01, -1.3644e-01, -4.7602e-01,  2.6825e-01, -2.8336e-02,\n",
            "         2.2079e-01,  1.9356e-01, -2.2124e-01,  3.4929e-01, -3.5165e-02,\n",
            "        -1.3824e-01,  2.1024e-01, -1.9618e-02,  3.2100e-01, -6.1261e-02,\n",
            "        -1.3477e-01, -9.2172e-02, -2.1601e-02,  1.1956e-02,  1.8361e-01,\n",
            "        -3.2550e-01, -1.9186e-01, -1.1051e-01, -4.2457e-01, -2.9811e-01,\n",
            "        -2.6431e+00,  1.1522e-01, -3.4640e-01, -3.2786e-01,  1.0788e-01,\n",
            "         4.2170e-01, -2.0061e-01,  2.4027e-01,  5.2349e-02, -2.4346e-01,\n",
            "         2.6873e-01,  4.3233e-01,  1.8950e-01,  8.8914e-02, -1.9916e-01,\n",
            "         2.3118e-01,  4.0364e-01, -9.6912e-02,  5.6473e-02, -3.4168e-01,\n",
            "        -5.1213e-01, -3.5166e-01, -2.9471e-02,  1.8372e-01,  4.4845e-01,\n",
            "        -4.5558e-01,  2.2600e-01,  1.6964e-02, -3.3493e-01, -5.1329e-01,\n",
            "        -3.0006e-01, -3.2479e-01, -3.8836e-01, -3.2749e-01,  1.6472e-01,\n",
            "        -1.1727e-01, -1.7201e-01, -7.5098e-02, -1.3585e-01,  2.4702e-01,\n",
            "        -5.2070e-01, -7.3067e-01, -4.3787e-01,  3.2675e-01,  3.0966e-01,\n",
            "         2.7567e-01,  1.4192e-01, -1.0351e-01,  4.8462e-01,  1.9128e-01,\n",
            "         2.5919e-01, -7.5522e-02, -1.1287e-01,  1.7554e-01,  3.7290e-01,\n",
            "        -2.3517e-02,  2.9849e-01, -2.4291e-01, -5.1923e-01, -1.8171e-01,\n",
            "        -1.7766e-01,  5.4384e-02, -2.3120e-01,  3.4029e-01, -3.7590e-01,\n",
            "         9.4569e-02, -9.7260e-02, -1.3816e-01,  3.1219e-01, -1.6363e-01,\n",
            "         1.0895e-01,  2.0875e-01,  2.7651e-01, -6.1277e-02,  2.2614e-01,\n",
            "        -1.0845e-01,  9.1051e-02, -8.3752e-03, -7.0553e-01, -1.9354e-01,\n",
            "         1.8921e-02, -2.1099e-01, -1.0612e-01,  1.0076e-01,  7.6506e-03,\n",
            "        -1.2689e-01, -7.4790e-02,  2.6766e-01, -1.4584e-01, -3.5127e-01,\n",
            "        -2.9627e-01,  4.9500e-01,  1.5659e-01, -2.0078e-01,  7.1278e-01,\n",
            "         2.6569e-02,  2.1058e-01, -5.8731e-01, -2.8914e-01,  3.5219e-01,\n",
            "        -9.6484e-02, -2.2427e-01, -1.7927e-01,  4.8644e-01, -6.6206e-01,\n",
            "         2.7302e-01, -2.1742e-01, -1.7531e-01,  2.0908e-01,  6.6835e-01,\n",
            "        -1.9391e-01, -1.4431e-01,  1.5426e-01,  1.7694e-01,  3.0727e-01,\n",
            "         5.6812e-02, -1.2533e-01,  1.0250e-01, -1.2361e-01,  5.8475e-01,\n",
            "        -1.6784e-01,  3.8472e-02,  2.3616e-01,  5.0564e-02,  2.5584e-01,\n",
            "         1.7693e-02, -3.6084e-01, -3.2636e-01,  3.6460e-01,  2.7051e-01,\n",
            "         1.0687e-01, -1.4712e-01, -6.8322e-01, -1.6606e-01,  7.0455e-02,\n",
            "        -3.4894e-01,  7.2453e-02, -1.6967e-01, -5.3971e-02,  8.0585e-01,\n",
            "        -1.0221e-01, -1.0289e-01, -9.4785e-03,  1.5739e-01,  1.1497e-01,\n",
            "         2.8789e-01, -9.2302e-02, -5.3496e-01, -5.2407e-02,  6.0821e-01,\n",
            "         2.9065e-01, -1.7153e-01,  1.7786e-01, -2.1605e-01,  2.7505e-01,\n",
            "         2.9199e-01,  1.4067e-01,  3.9613e-01, -1.5076e-01, -1.7061e-01])]\n",
            "Target: 0\n"
          ]
        }
      ],
      "source": [
        "if isTrain:\n",
        "    # test\n",
        "    conversations = [\n",
        "        [\n",
        "            'hello',\n",
        "            'tired'\n",
        "        ],\n",
        "        [\n",
        "            'sad',\n",
        "            'ill'\n",
        "        ]\n",
        "    ]\n",
        "\n",
        "    labels = [\n",
        "        0,\n",
        "        1\n",
        "    ]\n",
        "\n",
        "    dataset = SUIDataset(conversations, labels, glove)\n",
        "\n",
        "    inputs, target = dataset[0]\n",
        "\n",
        "    print(\"Inputs:\", inputs)\n",
        "    print(\"Target:\", target)"
      ]
    },
    {
      "cell_type": "code",
      "execution_count": 47,
      "metadata": {
        "id": "BUf8w_5qquGO"
      },
      "outputs": [],
      "source": [
        "def collate_fn(batch: List[Tuple[torch.Tensor, torch.Tensor]]) -> Tuple[torch.Tensor, torch.Tensor]:\n",
        "    '''\n",
        "    Collate function to be used with DataLoader.\n",
        "    :param batch: The batch to collate.\n",
        "    :type batch: List[Tuple[torch.Tensor, torch.Tensor]]\n",
        "    :return: The padded inputs and targets.\n",
        "    :rtype: Tuple[torch.Tensor, torch.Tensor]\n",
        "    '''\n",
        "    # Unzip the batch\n",
        "    inputs, targets = zip(*batch)\n",
        "\n",
        "    # Convert inputs to tensors and pad them\n",
        "    inputs_padded = pad_sequence([torch.stack(seq)\n",
        "                                 for seq in inputs], batch_first=True)\n",
        "\n",
        "    # Convert targets to tensor\n",
        "    targets = torch.tensor(targets)\n",
        "\n",
        "    return inputs_padded, targets"
      ]
    },
    {
      "cell_type": "code",
      "execution_count": 48,
      "metadata": {
        "id": "aN1mB5S_quGO",
        "colab": {
          "base_uri": "https://localhost:8080/"
        },
        "outputId": "be827d05-7c82-48d9-e997-8762b7587b7e"
      },
      "outputs": [
        {
          "output_type": "stream",
          "name": "stdout",
          "text": [
            "tensor([[[ 0,  0],\n",
            "         [ 0,  0],\n",
            "         [ 0,  0]],\n",
            "\n",
            "        [[ 7,  8],\n",
            "         [ 9, 10],\n",
            "         [11, 12]],\n",
            "\n",
            "        [[13, 14],\n",
            "         [ 0,  0],\n",
            "         [ 0,  0]]])\n",
            "tensor([0, 1, 0])\n"
          ]
        }
      ],
      "source": [
        "if isTrain:\n",
        "    batch = [\n",
        "        # sentence with 2 words, target 0\n",
        "        ([torch.tensor([0, 0]), torch.tensor([0, 0])], 0),\n",
        "        # sentence with 3 words, target 1\n",
        "        ([torch.tensor([7, 8]), torch.tensor([9, 10]), torch.tensor([11, 12])], 1),\n",
        "        ([torch.tensor([13, 14])], 0)  # sentence with 1 word, target 0\n",
        "    ]\n",
        "    inputs_padded, targets = collate_fn(batch)\n",
        "\n",
        "    print(inputs_padded)\n",
        "    # tensor([[[ 1,  2,  3],\n",
        "    #          [ 4,  5,  6],\n",
        "    #          [ 0,  0,  0]],\n",
        "    #\n",
        "    #         [[ 7,  8,  9],\n",
        "    #          [10, 11, 12],\n",
        "    #          [13, 14,  0]],\n",
        "    #\n",
        "    #         [[15, 16,  0],\n",
        "    #          [ 0,  0,  0],\n",
        "    #          [ 0,  0,  0]]])\n",
        "\n",
        "    print(targets)\n",
        "    # tensor([0, 1, 0])"
      ]
    },
    {
      "cell_type": "markdown",
      "metadata": {
        "id": "M3oVSf9iquGO"
      },
      "source": [
        "# Model\n"
      ]
    },
    {
      "cell_type": "code",
      "execution_count": 49,
      "metadata": {
        "id": "-jvZxfqFquGP"
      },
      "outputs": [],
      "source": [
        "class Model(nn.Module):\n",
        "    '''\n",
        "    Improved Model class for Suicidal Detection and Classification.\n",
        "    '''\n",
        "    def __init__(self, embedding_size: int, lstm_hidden_size: int, hidden_layer_size: int, cnn_layer_size: int, class_layer: int, dropout_prob: float = 0.5):\n",
        "        '''\n",
        "        Initialize the Improved Suicidal Detection and Classification model.\n",
        "        :param embedding_size: The size of the word embeddings.\n",
        "        :param lstm_hidden_size: The size of the hidden layer in the LSTM.\n",
        "        :param hidden_layer_size: The size of the hidden layer in the feedforward neural network.\n",
        "        :param cnn_layer_size: The size of the CNN layer.\n",
        "        :param class_layer: The number of classes.\n",
        "        :param dropout_prob: The probability of dropping neurons during training.\n",
        "        '''\n",
        "        super(Model, self).__init__()\n",
        "\n",
        "        self.lstm = nn.LSTM(embedding_size, lstm_hidden_size, batch_first=True, bidirectional=True)\n",
        "        self.attention = nn.Linear(2 * lstm_hidden_size, 1)\n",
        "        self.gmp = nn.AdaptiveMaxPool1d(cnn_layer_size)\n",
        "        self.fc1 = nn.Linear(2 * lstm_hidden_size, hidden_layer_size)\n",
        "        self.fc2 = nn.Linear(hidden_layer_size, class_layer)\n",
        "        self.dropout = nn.Dropout(dropout_prob)\n",
        "\n",
        "    def forward(self, x: torch.Tensor) -> torch.Tensor:\n",
        "        '''\n",
        "        Forward pass of the improved model.\n",
        "        :param x: The input to the model.\n",
        "        :return: The output of the model.\n",
        "        '''\n",
        "        lstm_out, _ = self.lstm(x)\n",
        "\n",
        "        attn_weights = F.softmax(self.attention(lstm_out), dim=1)\n",
        "        attn_out = torch.sum(attn_weights * lstm_out, dim=1)\n",
        "\n",
        "        x = self.gmp(attn_out.unsqueeze(2)).squeeze(2)\n",
        "        x = F.relu(self.fc1(x))\n",
        "        x = self.dropout(x)\n",
        "        x = torch.sigmoid(self.fc2(x))\n",
        "\n",
        "        return x"
      ]
    },
    {
      "cell_type": "code",
      "execution_count": 50,
      "metadata": {
        "id": "mVCDnvGZquGP"
      },
      "outputs": [],
      "source": [
        "def calculate_evaluation_scores(y_true: List[int], y_pred: List[int]) -> Tuple[float, float, float, float, str]:\n",
        "    '''\n",
        "    Evaluate the model using accuracy, precision, recall, and F1 score. NOTE -->  (Macro averaging)\n",
        "    :param y_true: The true labels.\n",
        "    :type y_true: list\n",
        "    :param y_pred: The predicted labels.\n",
        "    :type y_pred: list\n",
        "    :return: A tuple containing the accuracy, precision, recall, F1 score , and a string describing the metrics.\n",
        "    :rtype: tuple\n",
        "    '''\n",
        "    accuracy = accuracy_score(y_true, y_pred)\n",
        "    percision = precision_score(\n",
        "        y_true, y_pred, average=\"macro\", zero_division=1)\n",
        "    recall = recall_score(y_true, y_pred, average=\"macro\", zero_division=1)\n",
        "    f1 = f1_score(y_true, y_pred, average=\"macro\", zero_division=1)\n",
        "    report = classification_report(y_true, y_pred, zero_division=1)\n",
        "    matrix = confusion_matrix(y_true, y_pred)\n",
        "    # format confusion matrix for printing\n",
        "    matrix_str = \"Confusion Matrix:\\n\"\n",
        "    matrix_str += \"      Predicted\\n\"\n",
        "    matrix_str += \"       \" + \" \".join([str(i)\n",
        "                                       for i in range(len(matrix))]) + \"\\n\"\n",
        "    matrix_str += \"True\\n\"\n",
        "    matrix_str += \"\\n\".join([f\"{i:<6} {row}\" for i, row in enumerate(matrix)])\n",
        "\n",
        "    # Append confusion matrix to the report\n",
        "    report_with_matrix = report + \"\\n\\n\" + matrix_str\n",
        "\n",
        "    return (accuracy, percision, recall, f1, report_with_matrix)"
      ]
    },
    {
      "cell_type": "code",
      "execution_count": 51,
      "metadata": {
        "id": "5AFsFn5BquGP",
        "colab": {
          "base_uri": "https://localhost:8080/"
        },
        "outputId": "7523efcd-b736-4106-865b-fad42fc1fe17"
      },
      "outputs": [
        {
          "output_type": "stream",
          "name": "stdout",
          "text": [
            "Accuracy: 0.3333333333333333\n",
            "Precision: 0.2222222222222222\n",
            "Recall: 0.3333333333333333\n",
            "F1 Score: 0.26666666666666666\n",
            "Report:               precision    recall  f1-score   support\n",
            "\n",
            "           0       0.67      1.00      0.80         2\n",
            "           1       0.00      0.00      0.00         2\n",
            "           2       0.00      0.00      0.00         2\n",
            "\n",
            "    accuracy                           0.33         6\n",
            "   macro avg       0.22      0.33      0.27         6\n",
            "weighted avg       0.22      0.33      0.27         6\n",
            "\n",
            "\n",
            "Confusion Matrix:\n",
            "      Predicted\n",
            "       0 1 2\n",
            "True\n",
            "0      [2 0 0]\n",
            "1      [1 0 1]\n",
            "2      [0 2 0]\n"
          ]
        }
      ],
      "source": [
        "if isTrain:\n",
        "    # test\n",
        "    y_true = [0, 1, 2, 0, 1, 2]\n",
        "    y_pred = [0, 2, 1, 0, 0, 1]\n",
        "    accuracy, precision, recall, f1, report = calculate_evaluation_scores(\n",
        "        y_true, y_pred)\n",
        "    print(\"Accuracy:\", accuracy)\n",
        "    print(\"Precision:\", precision)\n",
        "    print(\"Recall:\", recall)\n",
        "    print(\"F1 Score:\", f1)\n",
        "    print(\"Report:\", report)"
      ]
    },
    {
      "cell_type": "code",
      "execution_count": 52,
      "metadata": {
        "id": "z9FkVGExquGP"
      },
      "outputs": [],
      "source": [
        "def train_model(model: nn.Module, train_data_loader: DataLoader, loss_criterion: nn.Module, optimizer: torch.optim.Optimizer) -> Tuple[float, float, float, float, float, str]:\n",
        "    '''\n",
        "    Train the model using the training data.\n",
        "    :param model: The model to train.\n",
        "    :type model: nn.Module\n",
        "    :param train_data_loader: The DataLoader for the training data.\n",
        "    :type train_data_loader: DataLoader\n",
        "    :param loss_criterion: The loss criterion.\n",
        "    :type loss_criterion: nn.Module\n",
        "    :param optimizer: The optimizer.\n",
        "    :type optimizer: torch.optim.Optimizer\n",
        "    :return: A tuple containing the loss, accuracy, precision, recall, F1 score, and the report.\n",
        "    :rtype: tuple\n",
        "    '''\n",
        "    model.train()\n",
        "    loss_values = []\n",
        "    predicted_labels_list = []\n",
        "    true_labels_list = []\n",
        "\n",
        "    for input_data, target_labels in train_data_loader:\n",
        "\n",
        "        # Move data and labels to device\n",
        "        input_data = input_data.to(DEVICE)\n",
        "        target_labels = target_labels.to(DEVICE).float()\n",
        "\n",
        "        optimizer.zero_grad()\n",
        "        model_output = model(input_data)\n",
        "\n",
        "        # Flatten model_output\n",
        "        model_output_flat = model_output.view(-1)\n",
        "        target_labels_flat = target_labels.view(-1)\n",
        "\n",
        "        # Calculate loss\n",
        "        loss = loss_criterion(model_output_flat, target_labels_flat)\n",
        "\n",
        "        # Backpropagation\n",
        "        loss.backward()\n",
        "        optimizer.step()\n",
        "\n",
        "        loss_values.append(loss.item())\n",
        "        predicted_labels_list.append(\n",
        "            (model_output_flat > classification_threshold).float().cpu().numpy())\n",
        "        true_labels_list.append(target_labels_flat.cpu().numpy())\n",
        "\n",
        "    predicted_labels = np.concatenate(predicted_labels_list)\n",
        "    true_labels = np.concatenate(true_labels_list)\n",
        "\n",
        "    average_loss = np.mean(loss_values)\n",
        "    evaluation_scores = calculate_evaluation_scores(\n",
        "        true_labels, predicted_labels)\n",
        "\n",
        "    return (average_loss, *evaluation_scores)"
      ]
    },
    {
      "cell_type": "code",
      "execution_count": 53,
      "metadata": {
        "id": "Pg25ZG42quGQ"
      },
      "outputs": [],
      "source": [
        "def evaluate_model(model: nn.Module, eval_data_loader: DataLoader, loss_criterion: nn.Module) -> Tuple[float, float, float, float, float, str]:\n",
        "    '''\n",
        "    Evaluate the model using the evaluation data.\n",
        "    :param model: The model to evaluate.\n",
        "    :type model: nn.Module\n",
        "    :param eval_data_loader: The DataLoader for the evaluation data.\n",
        "    :type eval_data_loader: DataLoader\n",
        "    :param loss_criterion: The loss criterion.\n",
        "    :type loss_criterion: nn.Module\n",
        "    :return: A tuple containing the loss, accuracy, precision, recall, F1 score, and the report.\n",
        "    :rtype: tuple\n",
        "    '''\n",
        "    model.eval()\n",
        "    loss_values = []\n",
        "    predicted_labels_list = []\n",
        "    true_labels_list = []\n",
        "\n",
        "    with torch.no_grad():\n",
        "        for input_data, target_labels in eval_data_loader:\n",
        "\n",
        "            # Move data and labels to device\n",
        "            input_data = input_data.to(DEVICE)\n",
        "            target_labels = target_labels.to(DEVICE).float()\n",
        "\n",
        "            model_output = model(input_data)\n",
        "\n",
        "            # Flatten model_output\n",
        "            model_output_flat = model_output.view(-1)\n",
        "            target_labels_flat = target_labels.view(-1)\n",
        "\n",
        "            loss = loss_criterion(model_output_flat, target_labels_flat)\n",
        "\n",
        "            loss_values.append(loss.item())\n",
        "            predicted_labels_list.append(\n",
        "                (model_output_flat > classification_threshold).float().cpu().numpy())\n",
        "            true_labels_list.append(target_labels_flat.cpu().numpy())\n",
        "\n",
        "    predicted_labels = np.concatenate(predicted_labels_list)\n",
        "    true_labels = np.concatenate(true_labels_list)\n",
        "\n",
        "    average_loss = np.mean(loss_values)\n",
        "    evaluation_scores = calculate_evaluation_scores(\n",
        "        true_labels, predicted_labels)\n",
        "\n",
        "    return (average_loss, *evaluation_scores)"
      ]
    },
    {
      "cell_type": "code",
      "source": [
        "def test_model(model: nn.Module, eval_data_loader: DataLoader, loss_criterion: nn.Module) -> Tuple[float, float, float, float, float, str]:\n",
        "    '''\n",
        "    Test the model using the test data.\n",
        "    :param model: The model to evaluate.\n",
        "    :type model: nn.Module\n",
        "    :param eval_data_loader: The DataLoader for the evaluation data.\n",
        "    :type eval_data_loader: DataLoader\n",
        "    :param loss_criterion: The loss criterion.\n",
        "    :type loss_criterion: nn.Module\n",
        "    :return: A tuple containing the loss, accuracy, precision, recall, F1 score, percision recall threshould and the report.\n",
        "    :rtype: tuple\n",
        "    '''\n",
        "    model.eval()\n",
        "    loss_values = []\n",
        "    predicted_labels_list = []\n",
        "    true_labels_list = []\n",
        "    prob_list = []\n",
        "\n",
        "    with torch.no_grad():\n",
        "        for input_data, target_labels in eval_data_loader:\n",
        "\n",
        "            # Move data and labels to device\n",
        "            input_data = input_data.to(DEVICE)\n",
        "            target_labels = target_labels.to(DEVICE).float()\n",
        "\n",
        "            model_output = model(input_data)\n",
        "\n",
        "            # Flatten model_output\n",
        "            model_output_flat = model_output.view(-1)\n",
        "            target_labels_flat = target_labels.view(-1)\n",
        "\n",
        "            loss = loss_criterion(model_output_flat, target_labels_flat)\n",
        "\n",
        "            loss_values.append(loss.item())\n",
        "            predicted_labels_list.append(\n",
        "                (model_output_flat > classification_threshold).float().cpu().numpy())\n",
        "            true_labels_list.append(target_labels_flat.cpu().numpy())\n",
        "\n",
        "            prob_list.append(model_output_flat.float().cpu().numpy())\n",
        "\n",
        "    predicted_labels = np.concatenate(predicted_labels_list)\n",
        "    true_labels = np.concatenate(true_labels_list)\n",
        "\n",
        "    average_loss = np.mean(loss_values)\n",
        "    evaluation_scores = calculate_evaluation_scores(\n",
        "        true_labels, predicted_labels)\n",
        "\n",
        "    precision, recall, thresholds = precision_recall_curve(true_labels, predicted_labels)\n",
        "\n",
        "    fpr, tpr, thresholds_2 = roc_curve(true_labels, np.concatenate(prob_list))\n",
        "    roc_au_val = roc_auc_score(true_labels, np.concatenate(prob_list))\n",
        "\n",
        "    return (average_loss, *evaluation_scores, precision, recall, thresholds, fpr, tpr, thresholds_2, roc_au_val)"
      ],
      "metadata": {
        "id": "5KoqH54Sb0pL"
      },
      "execution_count": 54,
      "outputs": []
    },
    {
      "cell_type": "code",
      "execution_count": 55,
      "metadata": {
        "id": "qvI-tEaYquGQ"
      },
      "outputs": [],
      "source": [
        "# fix random seeds\n",
        "random.seed(seed)\n",
        "np.random.seed(seed)\n",
        "torch.manual_seed(seed)\n",
        "torch.cuda.manual_seed(seed)"
      ]
    },
    {
      "cell_type": "code",
      "execution_count": 56,
      "metadata": {
        "id": "14hrW_V3quGQ"
      },
      "outputs": [],
      "source": [
        "# build dataset\n",
        "if isTrain:\n",
        "    # train and dev data set\n",
        "    train_dataset = SUIDataset(dialogues_train_proccessed, labels_train, glove)\n",
        "    dev_dataset = SUIDataset(dialogues_val_proccessed, labels_val, glove)\n",
        "    # train and dev data loader\n",
        "    train_data_loader = DataLoader(\n",
        "        dataset=train_dataset, batch_size=batch_size, collate_fn=collate_fn, shuffle=True)\n",
        "    dev_data_loader = DataLoader(\n",
        "        dataset=dev_dataset, batch_size=batch_size, collate_fn=collate_fn, shuffle=False)\n",
        "\n",
        "# test data set and data loader\n",
        "test_dataset = SUIDataset(dialogues_test_proccessed, labels_test, glove)\n",
        "test_data_loader = DataLoader(\n",
        "    dataset=test_dataset, batch_size=batch_size, collate_fn=collate_fn, shuffle=False)\n",
        "\n",
        "# build model\n",
        "model = Model(embedding_size, lstm_hidden_size, hidden_layer_size,\n",
        "              cnn_layer_size, class_layer).to(DEVICE)\n",
        "\n",
        "# Use binary cross-entropy loss\n",
        "# loss_criterion = nn.BCELoss()\n",
        "# loss_criterion = nn.BCEWithLogitsLoss()\n",
        "loss_criterion = nn.BCELoss()\n",
        "\n",
        "# optimizer = optim.Adam(model.parameters(), learning_rate, momentum=momentum)\n",
        "# Define the optimizer\n",
        "optimizer = torch.optim.SGD(\n",
        "    model.parameters(), lr=learning_rate, momentum=momentum)\n",
        "\n",
        "if isTrain:\n",
        "    best_f1 = 0\n",
        "    for i in range(epochs):\n",
        "        print(f'Epoch: {i}')\n",
        "        train_loss, train_acc, train_p, train_r, train_f1, _ = train_model(\n",
        "            model, train_data_loader, loss_criterion, optimizer)\n",
        "        dev_loss, dev_acc, dev_p, dev_r, dev_f1, _ = evaluate_model(\n",
        "            model, dev_data_loader, loss_criterion)\n",
        "        print(\"Train Loss: {:.4f} Acc: {:.4f} F1: {:.4f}({:.4f}/{:.4f})\".format(\n",
        "            train_loss, train_acc, train_f1, train_p, train_r))\n",
        "        print(\"Dev   Loss: {:.4f} Acc: {:.4f} F1: {:.4f}({:.4f}/{:.4f})\".format(\n",
        "            dev_loss, dev_acc, dev_f1, dev_p, dev_r))\n",
        "        if dev_f1 > best_f1:\n",
        "            print('Found Best :)')\n",
        "            best_f1 = dev_f1\n",
        "            torch.save(model.state_dict(), model_save_path)\n",
        "        print('--------------------------------------------')"
      ]
    },
    {
      "cell_type": "code",
      "source": [
        "model.load_state_dict(torch.load(model_save_path, map_location=DEVICE))\n",
        "model = model.to(DEVICE)"
      ],
      "metadata": {
        "id": "67it9UTTcbkB"
      },
      "execution_count": 57,
      "outputs": []
    },
    {
      "cell_type": "code",
      "source": [
        "test_loss, test_accuracy, test_percision, test_recall, test_f1, result_report, precision, recall, thresholds, fpr, tpr, thresholds_2, roc_au_val = test_model(model, test_data_loader, loss_criterion)\n",
        "print(\"Test   Loss: {:.4f} Acc: {:.4f} F1: {:.4f}({:.4f}/{:.4f})\".format(\n",
        "    test_loss, test_accuracy, test_f1, test_percision, test_recall))\n",
        "print(result_report)"
      ],
      "metadata": {
        "id": "pTpqQQwdgFSQ",
        "colab": {
          "base_uri": "https://localhost:8080/"
        },
        "outputId": "7ddf27e5-3a1a-443c-a753-01fec222ae41"
      },
      "execution_count": 58,
      "outputs": [
        {
          "output_type": "stream",
          "name": "stdout",
          "text": [
            "Test   Loss: 0.1074 Acc: 0.9643 F1: 0.9643(0.9643/0.9643)\n",
            "              precision    recall  f1-score   support\n",
            "\n",
            "         0.0       0.96      0.97      0.96     11499\n",
            "         1.0       0.97      0.96      0.96     11477\n",
            "\n",
            "    accuracy                           0.96     22976\n",
            "   macro avg       0.96      0.96      0.96     22976\n",
            "weighted avg       0.96      0.96      0.96     22976\n",
            "\n",
            "\n",
            "Confusion Matrix:\n",
            "      Predicted\n",
            "       0 1\n",
            "True\n",
            "0      [11129   370]\n",
            "1      [  451 11026]\n"
          ]
        }
      ]
    },
    {
      "cell_type": "code",
      "source": [
        "# Plot precision-recall curve with thresholds\n",
        "plt.plot(thresholds, precision[:-1], label='Precision')\n",
        "plt.plot(thresholds, recall[:-1], label='Recall')\n",
        "plt.xlabel('Threshold')\n",
        "plt.ylabel('Score')\n",
        "plt.title('Precision-Recall Curve with Thresholds')\n",
        "plt.legend()\n",
        "plt.grid(True)\n",
        "plt.show()"
      ],
      "metadata": {
        "id": "_TTVzFnecfnu",
        "colab": {
          "base_uri": "https://localhost:8080/",
          "height": 472
        },
        "outputId": "7bc14288-0053-476b-fb0f-b746010466c4"
      },
      "execution_count": 59,
      "outputs": [
        {
          "output_type": "display_data",
          "data": {
            "text/plain": [
              "<Figure size 640x480 with 1 Axes>"
            ],
            "image/png": "[encoded data removed]"
          },
          "metadata": {}
        }
      ]
    },
    {
      "cell_type": "code",
      "source": [
        "# Plot ROC curve\n",
        "plt.figure()\n",
        "plt.plot(fpr, tpr, color='darkorange', lw=2, label='ROC curve (area = %0.2f)' % roc_au_val)\n",
        "plt.plot([0, 1], [0, 1], color='navy', lw=2, linestyle='--')\n",
        "plt.xlim([0.0, 1.0])\n",
        "plt.ylim([0.0, 1.0])\n",
        "plt.xlabel('False Positive Rate')\n",
        "plt.ylabel('True Positive Rate')\n",
        "plt.title('Receiver Operating Characteristic')\n",
        "plt.legend(loc=\"lower right\")\n",
        "plt.show()"
      ],
      "metadata": {
        "id": "oYoWxruV6ri_",
        "colab": {
          "base_uri": "https://localhost:8080/",
          "height": 472
        },
        "outputId": "3df42ac8-4471-413a-c072-5e0ea534ff33"
      },
      "execution_count": 60,
      "outputs": [
        {
          "output_type": "display_data",
          "data": {
            "text/plain": [
              "<Figure size 640x480 with 1 Axes>"
            ],
            "image/png": "[encoded data removed]"
          },
          "metadata": {}
        }
      ]
    },
    {
      "cell_type": "code",
      "source": [
        "# Find threshold where recall equals precision or is closest to it\n",
        "idx = np.argmin(np.abs(precision[:-1] - recall[:-1]))\n",
        "equal_threshold = thresholds[idx]\n",
        "print(\"Threshold where recall equals precision:\", equal_threshold)"
      ],
      "metadata": {
        "id": "1up1gpIpchKw",
        "colab": {
          "base_uri": "https://localhost:8080/"
        },
        "outputId": "3455a9d6-f09e-4cbd-8732-4116357322ef"
      },
      "execution_count": 61,
      "outputs": [
        {
          "output_type": "stream",
          "name": "stdout",
          "text": [
            "Threshold where recall equals precision: 1.0\n"
          ]
        }
      ]
    },
    {
      "cell_type": "code",
      "execution_count": 62,
      "metadata": {
        "id": "I193ftIVquGQ"
      },
      "outputs": [],
      "source": [
        "# Load the trained model\n",
        "model = Model(embedding_size, lstm_hidden_size, hidden_layer_size,\n",
        "              cnn_layer_size, class_layer)\n",
        "model.load_state_dict(torch.load(model_save_path, map_location=DEVICE))\n",
        "model.eval()\n",
        "model.to(DEVICE)\n",
        "model = model.to(DEVICE)"
      ]
    },
    {
      "cell_type": "code",
      "execution_count": 63,
      "metadata": {
        "id": "o0fZhg9PquGR"
      },
      "outputs": [],
      "source": [
        "def preprocess(sentence: str, clean: Callable[[str], List[str]], word2vec: Callable[[str], torch.Tensor]) -> torch.Tensor:\n",
        "    '''\n",
        "    Preprocess a single sentence.\n",
        "    :param sentence: The sentence to preprocess.\n",
        "    :type sentence: str\n",
        "    :param clean: The cleaning function.\n",
        "    :type clean: Callable[[str], List[str]]\n",
        "    :param word2vec: The word to vector function.\n",
        "    :type word2vec: Callable[[str], torch.Tensor]\n",
        "    :return: The preprocessed sentence.\n",
        "    :rtype: torch.Tensor\n",
        "    '''\n",
        "    # Tokenize the sentence into words and convert to embeddings\n",
        "    words = clean(sentence)\n",
        "    sentence_tokens = [word2vec(word) for word in words]\n",
        "\n",
        "    # Convert to the required format for input to the model\n",
        "    sentence_tensor = torch.stack(sentence_tokens).to(DEVICE)\n",
        "\n",
        "    return sentence_tensor"
      ]
    },
    {
      "cell_type": "code",
      "execution_count": 64,
      "metadata": {
        "id": "EMsB2bhGquGR",
        "colab": {
          "base_uri": "https://localhost:8080/"
        },
        "outputId": "bd44a3dd-b103-40fa-e99c-5b7d39e6b479"
      },
      "outputs": [
        {
          "output_type": "stream",
          "name": "stdout",
          "text": [
            "torch.Size([5, 300])\n"
          ]
        }
      ],
      "source": [
        "# test\n",
        "if isTrain:\n",
        "    sentence = \"I want to kill myself\"\n",
        "    sentence_tensor = preprocess(sentence, clean, glove)\n",
        "    print(sentence_tensor.shape)"
      ]
    },
    {
      "cell_type": "code",
      "execution_count": 65,
      "metadata": {
        "id": "TAOUUDdvquGR"
      },
      "outputs": [],
      "source": [
        "def suicidal_detection(sentence: str, model: nn.Module) -> Tuple[str, Dict[str, float]]:\n",
        "    \"\"\"\n",
        "    Predict the class of the sentence using the model.\n",
        "\n",
        "    Args:\n",
        "        sentence (str): The sentence.\n",
        "        model (nn.Module): The model.\n",
        "\n",
        "    Returns:\n",
        "        Tuple[str, Dict[str, float]]: The name of the class with the highest probability and a dictionary mapping class names to probabilities.\n",
        "    \"\"\"\n",
        "    model.eval()\n",
        "\n",
        "    # Preprocess the sentence to get the input data\n",
        "    input_data = preprocess(sentence, clean, glove)\n",
        "\n",
        "    with torch.no_grad():\n",
        "        output = model(input_data.unsqueeze(0))\n",
        "\n",
        "    # Apply sigmoid to get probabilities\n",
        "    probabilities = output\n",
        "    print(probabilities)\n",
        "\n",
        "    # Threshold probabilities at 0.5 to make binary predictions\n",
        "    predicted_class = (probabilities > classification_threshold).float()\n",
        "\n",
        "    # Map the class index to the class name\n",
        "    predicted_class_name = reverse_label_mapping[int(predicted_class.item())]\n",
        "\n",
        "    # Map the probabilities to the class names\n",
        "    sui_prob = probabilities.tolist()[0][0]\n",
        "    sui_prob = round((sui_prob * 100), 3)\n",
        "    non_prob = 100 - sui_prob\n",
        "    class_probabilities = {\n",
        "        reverse_label_mapping[0]:  non_prob,\n",
        "        reverse_label_mapping[1]:  sui_prob\n",
        "        }\n",
        "\n",
        "    return predicted_class_name, class_probabilities"
      ]
    },
    {
      "cell_type": "code",
      "source": [
        "sentence = '''\n",
        "To my dad, im so sorry, I tried, I really did.To The only person that really cares about and gives a fuck about me, im sorry. I'm sorry dad that it has to be like this. Im sorry my life has to end so tragedicaly. The pain and the regret won't let me take another step. I tell you I look ok, but in my face you can see i look depressed. And its never gonna end. The depression  will never stop. Sorry im such a piece of shit pathetic loser. Sorry I never made you proud or accomplished anything in my life. Sorry I've caused you so much stress and anxiety of putting up with me. Sorry im a horrible son. I just can't live life like this anymore. I know when i was little you never envisioned your little 5 year old boys life would end up like this. That he would take his own life. I know this will devastate you to no end. And maybe im being selfish for that. But I just cant endure the pain no more.  Its unbearable.\n",
        "\n",
        "\n",
        "\n",
        "Dad im so sorry and hope you'll forgive me.\n",
        "'''\n",
        "ran = random.randint(0, len(labels_test))\n",
        "sentence = dialogues_test[ran]\n",
        "reverse_label_mapping[labels_test[ran]]"
      ],
      "metadata": {
        "id": "sI0IUAk3i9Nj",
        "colab": {
          "base_uri": "https://localhost:8080/",
          "height": 35
        },
        "outputId": "5e4fda8d-1e05-4051-8350-a51884a3286b"
      },
      "execution_count": 66,
      "outputs": [
        {
          "output_type": "execute_result",
          "data": {
            "text/plain": [
              "'non-suicide'"
            ],
            "application/vnd.google.colaboratory.intrinsic+json": {
              "type": "string"
            }
          },
          "metadata": {},
          "execution_count": 66
        }
      ]
    },
    {
      "cell_type": "code",
      "source": [
        "ran"
      ],
      "metadata": {
        "id": "B6GcSfHdmoYv",
        "colab": {
          "base_uri": "https://localhost:8080/"
        },
        "outputId": "c2f78869-9700-41a3-d5ae-6263fcf6a7dc"
      },
      "execution_count": 67,
      "outputs": [
        {
          "output_type": "execute_result",
          "data": {
            "text/plain": [
              "1853"
            ]
          },
          "metadata": {},
          "execution_count": 67
        }
      ]
    },
    {
      "cell_type": "code",
      "source": [
        "dialogues_test[ran]"
      ],
      "metadata": {
        "id": "bU8FsaH9mqhG",
        "colab": {
          "base_uri": "https://localhost:8080/",
          "height": 157
        },
        "outputId": "26ff1ed0-a0a2-4d2b-9115-245094aa9ac5"
      },
      "execution_count": 68,
      "outputs": [
        {
          "output_type": "execute_result",
          "data": {
            "text/plain": [
              "'My teacher just told us to say why Hitler was a hero So basically, I\\'m in my history lesson for school at the moment, and we\\'re learning about how the British Parliament formed, and Oliver Cromwell and stuff like that, when we were discussing whether or not he was a hero. And then she said,\\n\\n\"Explain why Hitler was a hero\"\\n\\nOf course, I don\\'t think she meant to say that, but it was hillarious and I feel like everyone was laughing (we don\\'t need our microphones or cameras to be on). I don\\'t think she noticed though, because she continued like nothing happened. Nonetheless, it was the highlight of today.'"
            ],
            "application/vnd.google.colaboratory.intrinsic+json": {
              "type": "string"
            }
          },
          "metadata": {},
          "execution_count": 68
        }
      ]
    },
    {
      "cell_type": "code",
      "source": [
        "clean_steps('I will not kill myself  doing are unlucky investigating.')"
      ],
      "metadata": {
        "id": "NqEOx3wZhlFi",
        "colab": {
          "base_uri": "https://localhost:8080/"
        },
        "outputId": "3e7f17bb-a379-4b49-e299-03f3ba314cac"
      },
      "execution_count": 69,
      "outputs": [
        {
          "output_type": "stream",
          "name": "stdout",
          "text": [
            "-------------------------------\n",
            "After translate -->  I will not kill myself  doing are unlucky investigating.\n",
            "After lower -->  i will not kill myself  doing are unlucky investigating.\n",
            "After remoeve non ascii -->  i will not kill myself  doing are unlucky investigating.\n",
            "After remove email -->  i will not kill myself  doing are unlucky investigating.\n",
            "After remove html -->  i will not kill myself  doing are unlucky investigating.\n",
            "After remove url -->  i will not kill myself  doing are unlucky investigating.\n",
            "replace repeated chars -->  i will not kill myself  doing are unlucky investigating.\n",
            "After expand -->  i will not kill myself  doing are unlucky investigating.\n",
            "After remove possessives -->  i will not kill myself  doing are unlucky investigating.\n",
            "After remove extra space -->  i will not kill myself doing are unlucky investigating.\n",
            "After tokenize -->  ['i', 'will', 'not', 'kill', 'myself', 'doing', 'are', 'unlucky', 'investigating', '.']\n",
            "-------------------------------\n"
          ]
        },
        {
          "output_type": "execute_result",
          "data": {
            "text/plain": [
              "['i',\n",
              " 'will',\n",
              " 'not',\n",
              " 'kill',\n",
              " 'myself',\n",
              " 'doing',\n",
              " 'are',\n",
              " 'unlucky',\n",
              " 'investigating',\n",
              " '.']"
            ]
          },
          "metadata": {},
          "execution_count": 69
        }
      ]
    },
    {
      "cell_type": "code",
      "execution_count": 70,
      "metadata": {
        "id": "BfZteBPMquGR",
        "colab": {
          "base_uri": "https://localhost:8080/"
        },
        "outputId": "bc3c369c-464b-410b-c400-e25afcecc891"
      },
      "outputs": [
        {
          "output_type": "stream",
          "name": "stdout",
          "text": [
            "tensor([[6.0588e-05]], device='cuda:0')\n",
            "Sentence: My teacher just told us to say why Hitler was a hero So basically, I'm in my history lesson for school at the moment, and we're learning about how the British Parliament formed, and Oliver Cromwell and stuff like that, when we were discussing whether or not he was a hero. And then she said,\n",
            "\n",
            "\"Explain why Hitler was a hero\"\n",
            "\n",
            "Of course, I don't think she meant to say that, but it was hillarious and I feel like everyone was laughing (we don't need our microphones or cameras to be on). I don't think she noticed though, because she continued like nothing happened. Nonetheless, it was the highlight of today.\n",
            "Predicted class: non-suicide\n",
            "\n",
            "Class probabilities:\n",
            "non-suicide: 99.994\n",
            "suicide: 0.006\n",
            "----------------------------------------------\n",
            "tensor([[0.9485]], device='cuda:0')\n",
            "Sentence: I do not want to live any more. I will kill myself.\n",
            "Predicted class: suicide\n",
            "\n",
            "Class probabilities:\n",
            "non-suicide: 5.153999999999996\n",
            "suicide: 94.846\n",
            "----------------------------------------------\n",
            "tensor([[0.9618]], device='cuda:0')\n",
            "Sentence: I will kill myself.\n",
            "Predicted class: suicide\n",
            "\n",
            "Class probabilities:\n",
            "non-suicide: 3.825000000000003\n",
            "suicide: 96.175\n",
            "----------------------------------------------\n",
            "tensor([[0.9993]], device='cuda:0')\n",
            "Sentence: The thoughts are getting worse everyday.How do I make them stop.\n",
            "Predicted class: suicide\n",
            "\n",
            "Class probabilities:\n",
            "non-suicide: 0.06799999999999784\n",
            "suicide: 99.932\n",
            "----------------------------------------------\n",
            "tensor([[0.1477]], device='cuda:0')\n",
            "Sentence: Hello, how are you?\n",
            "Predicted class: non-suicide\n",
            "\n",
            "Class probabilities:\n",
            "non-suicide: 85.234\n",
            "suicide: 14.766\n",
            "----------------------------------------------\n",
            "tensor([[0.9665]], device='cuda:0')\n",
            "Sentence: I will suicide.\n",
            "Predicted class: suicide\n",
            "\n",
            "Class probabilities:\n",
            "non-suicide: 3.350999999999999\n",
            "suicide: 96.649\n",
            "----------------------------------------------\n",
            "tensor([[0.0654]], device='cuda:0')\n",
            "Sentence: I thinks my life has no meaning. I thinks my life has no meaning. I thinks my life has no meaning. I thinks my life has no meaning. I thinks my life has no meaning. I thinks my life has no meaning. I thinks my life has no meaning.\n",
            "Predicted class: non-suicide\n",
            "\n",
            "Class probabilities:\n",
            "non-suicide: 93.462\n",
            "suicide: 6.538\n",
            "----------------------------------------------\n",
            "tensor([[0.2673]], device='cuda:0')\n",
            "Sentence: I'm good, thanks! How about you?\n",
            "Predicted class: non-suicide\n",
            "\n",
            "Class probabilities:\n",
            "non-suicide: 73.268\n",
            "suicide: 26.732\n",
            "----------------------------------------------\n",
            "tensor([[0.3363]], device='cuda:0')\n",
            "Sentence: I'm doing well, thank you.\n",
            "Predicted class: non-suicide\n",
            "\n",
            "Class probabilities:\n",
            "non-suicide: 66.37\n",
            "suicide: 33.63\n",
            "----------------------------------------------\n",
            "tensor([[0.0016]], device='cuda:0')\n",
            "Sentence: let me just take a moment to scream into the void because i need to\n",
            "Predicted class: non-suicide\n",
            "\n",
            "Class probabilities:\n",
            "non-suicide: 99.837\n",
            "suicide: 0.163\n",
            "----------------------------------------------\n",
            "non-suicide\n"
          ]
        }
      ],
      "source": [
        "random_num_test = 530\n",
        "dialogue = [sentence,\"I do not want to live any more. I will kill myself.\",'I will kill myself.','The thoughts are getting worse everyday.How do I make them stop.',\"Hello, how are you?\", 'I will suicide.', 'I thinks my life has no meaning. I thinks my life has no meaning. I thinks my life has no meaning. I thinks my life has no meaning. I thinks my life has no meaning. I thinks my life has no meaning. I thinks my life has no meaning.',\n",
        "            \"I'm good, thanks! How about you?\", \"I'm doing well, thank you.\", ' '.join(dialogues_test_proccessed[random_num_test])]\n",
        "for sentence in dialogue:\n",
        "    predicted_class_name, class_probabilities = suicidal_detection(\n",
        "        sentence, model)\n",
        "    print(f\"Sentence: {sentence}\")\n",
        "    print(f\"Predicted class: {predicted_class_name}\")\n",
        "    print()\n",
        "    print(\"Class probabilities:\")\n",
        "    for class_name, probability in class_probabilities.items():\n",
        "        print(f\"{class_name}: {probability}\")\n",
        "    print('----------------------------------------------')\n",
        "\n",
        "print(reverse_label_mapping[labels_test[random_num_test]])"
      ]
    },
    {
      "cell_type": "code",
      "execution_count": 70,
      "metadata": {
        "id": "qYNB7HjRquGS"
      },
      "outputs": [],
      "source": []
    }
  ],
  "metadata": {
    "accelerator": "GPU",
    "colab": {
      "gpuType": "T4",
      "provenance": []
    },
    "kernelspec": {
      "display_name": "Python 3",
      "name": "python3"
    },
    "language_info": {
      "codemirror_mode": {
        "name": "ipython",
        "version": 3
      },
      "file_extension": ".py",
      "mimetype": "text/x-python",
      "name": "python",
      "nbconvert_exporter": "python",
      "pygments_lexer": "ipython3",
      "version": "3.11.4"
    }
  },
  "nbformat": 4,
  "nbformat_minor": 0
}